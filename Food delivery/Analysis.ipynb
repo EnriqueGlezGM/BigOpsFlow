{
 "cells": [
  {
   "cell_type": "markdown",
   "metadata": {},
   "source": [
    "Instalación"
   ]
  },
  {
   "cell_type": "code",
   "execution_count": 1,
   "metadata": {},
   "outputs": [
    {
     "name": "stdout",
     "output_type": "stream",
     "text": [
      "Requirement already satisfied: kagglehub in /opt/conda/lib/python3.9/site-packages (0.3.12)\n",
      "Requirement already satisfied: tqdm in /opt/conda/lib/python3.9/site-packages (from kagglehub) (4.62.3)\n",
      "Requirement already satisfied: packaging in /opt/conda/lib/python3.9/site-packages (from kagglehub) (21.0)\n",
      "Requirement already satisfied: requests in /opt/conda/lib/python3.9/site-packages (from kagglehub) (2.26.0)\n",
      "Requirement already satisfied: pyyaml in /opt/conda/lib/python3.9/site-packages (from kagglehub) (6.0)\n",
      "Requirement already satisfied: pyparsing>=2.0.2 in /opt/conda/lib/python3.9/site-packages (from packaging->kagglehub) (3.0.1)\n",
      "Requirement already satisfied: urllib3<1.27,>=1.21.1 in /opt/conda/lib/python3.9/site-packages (from requests->kagglehub) (1.26.7)\n",
      "Requirement already satisfied: idna<4,>=2.5 in /opt/conda/lib/python3.9/site-packages (from requests->kagglehub) (3.3)\n",
      "Requirement already satisfied: charset-normalizer~=2.0.0 in /opt/conda/lib/python3.9/site-packages (from requests->kagglehub) (2.0.7)\n",
      "Requirement already satisfied: certifi>=2017.4.17 in /opt/conda/lib/python3.9/site-packages (from requests->kagglehub) (2021.10.8)\n",
      "Note: you may need to restart the kernel to use updated packages.\n"
     ]
    }
   ],
   "source": [
    "pip install kagglehub"
   ]
  },
  {
   "cell_type": "code",
   "execution_count": 2,
   "metadata": {
    "id": "DZiXESZ8UiEb"
   },
   "outputs": [
    {
     "name": "stdout",
     "output_type": "stream",
     "text": [
      "Data source import complete.\n",
      "Archivo encontrado en: /home/jovyan/.cache/kagglehub/datasets/romanniki/food-delivery-cost-and-profitability/versions/1/food_orders_new_delhi (1).csv\n"
     ]
    }
   ],
   "source": [
    "import kagglehub\n",
    "import os\n",
    "\n",
    "# Descarga el dataset (o usa el caché)\n",
    "romanniki_food_delivery_cost_and_profitability_path = kagglehub.dataset_download('romanniki/food-delivery-cost-and-profitability')\n",
    "\n",
    "# Buscar el primer archivo dentro del dataset descargado\n",
    "for root, dirs, files in os.walk(romanniki_food_delivery_cost_and_profitability_path):\n",
    "    for file in files:\n",
    "        path_dataset = os.path.abspath(os.path.join(root, file))\n",
    "        break  # solo el primero\n",
    "    else:\n",
    "        continue\n",
    "    break\n",
    "\n",
    "print('Data source import complete.')\n",
    "print(\"Archivo encontrado en:\", path_dataset)"
   ]
  },
  {
   "cell_type": "code",
   "execution_count": 3,
   "metadata": {},
   "outputs": [],
   "source": [
    "import numpy as np\n",
    "import pandas as pd\n",
    "import matplotlib.pyplot as plt\n",
    "import seaborn as sns\n",
    "\n",
    "import warnings\n",
    "warnings.filterwarnings('ignore')"
   ]
  },
  {
   "cell_type": "markdown",
   "metadata": {},
   "source": [
    "EDA"
   ]
  },
  {
   "cell_type": "code",
   "execution_count": 4,
   "metadata": {},
   "outputs": [
    {
     "data": {
      "text/plain": [
       "(1000, 12)"
      ]
     },
     "execution_count": 4,
     "metadata": {},
     "output_type": "execute_result"
    }
   ],
   "source": [
    "df = pd.read_csv(path_dataset)\n",
    "df.shape"
   ]
  },
  {
   "cell_type": "code",
   "execution_count": 5,
   "metadata": {},
   "outputs": [
    {
     "data": {
      "application/vnd.microsoft.datawrangler.viewer.v0+json": {
       "columns": [
        {
         "name": "index",
         "rawType": "int64",
         "type": "integer"
        },
        {
         "name": "Order ID",
         "rawType": "int64",
         "type": "integer"
        },
        {
         "name": "Customer ID",
         "rawType": "object",
         "type": "string"
        },
        {
         "name": "Restaurant ID",
         "rawType": "object",
         "type": "string"
        },
        {
         "name": "Order Date and Time",
         "rawType": "datetime64[ns]",
         "type": "datetime"
        },
        {
         "name": "Delivery Date and Time",
         "rawType": "datetime64[ns]",
         "type": "datetime"
        },
        {
         "name": "Order Value",
         "rawType": "int64",
         "type": "integer"
        },
        {
         "name": "Delivery Fee",
         "rawType": "int64",
         "type": "integer"
        },
        {
         "name": "Payment Method",
         "rawType": "object",
         "type": "string"
        },
        {
         "name": "Discounts and Offers",
         "rawType": "object",
         "type": "string"
        },
        {
         "name": "Commission Fee",
         "rawType": "int64",
         "type": "integer"
        },
        {
         "name": "Payment Processing Fee",
         "rawType": "int64",
         "type": "integer"
        },
        {
         "name": "Refunds/Chargebacks",
         "rawType": "int64",
         "type": "integer"
        },
        {
         "name": "Delivery Duration (min)",
         "rawType": "float64",
         "type": "float"
        },
        {
         "name": "day_of_week",
         "rawType": "object",
         "type": "string"
        },
        {
         "name": "hour_of_day",
         "rawType": "int64",
         "type": "integer"
        },
        {
         "name": "has_discount",
         "rawType": "bool",
         "type": "boolean"
        },
        {
         "name": "refunded",
         "rawType": "bool",
         "type": "boolean"
        }
       ],
       "ref": "d7beaa66-7fe9-4df1-b93c-ecca09c25b41",
       "rows": [
        [
         "0",
         "1",
         "C8270",
         "R2924",
         "2024-02-01 01:11:52",
         "2024-02-01 02:39:52",
         "1914",
         "0",
         "Credit Card",
         "5% on App",
         "150",
         "47",
         "0",
         "88.0",
         "Thursday",
         "1",
         "True",
         "False"
        ],
        [
         "1",
         "2",
         "C1860",
         "R2054",
         "2024-02-02 22:11:04",
         "2024-02-02 22:46:04",
         "986",
         "40",
         "Digital Wallet",
         "10%",
         "198",
         "23",
         "0",
         "35.0",
         "Friday",
         "22",
         "True",
         "False"
        ],
        [
         "2",
         "3",
         "C6390",
         "R2870",
         "2024-01-31 05:54:35",
         "2024-01-31 06:52:35",
         "937",
         "30",
         "Cash on Delivery",
         "15% New User",
         "195",
         "45",
         "0",
         "58.0",
         "Wednesday",
         "5",
         "True",
         "False"
        ],
        [
         "3",
         "4",
         "C6191",
         "R2642",
         "2024-01-16 22:52:49",
         "2024-01-16 23:38:49",
         "1463",
         "50",
         "Cash on Delivery",
         "None",
         "146",
         "27",
         "0",
         "46.0",
         "Tuesday",
         "22",
         "False",
         "False"
        ],
        [
         "4",
         "5",
         "C6734",
         "R2799",
         "2024-01-29 01:19:30",
         "2024-01-29 02:48:30",
         "1992",
         "30",
         "Cash on Delivery",
         "50 off Promo",
         "130",
         "50",
         "0",
         "89.0",
         "Monday",
         "1",
         "True",
         "False"
        ],
        [
         "5",
         "6",
         "C7265",
         "R2777",
         "2024-01-25 04:36:52",
         "2024-01-25 05:27:52",
         "439",
         "20",
         "Cash on Delivery",
         "10%",
         "92",
         "27",
         "150",
         "51.0",
         "Thursday",
         "4",
         "True",
         "True"
        ],
        [
         "6",
         "7",
         "C1466",
         "R2457",
         "2024-01-12 23:55:48",
         "2024-01-13 00:48:48",
         "303",
         "30",
         "Digital Wallet",
         "5% on App",
         "144",
         "12",
         "50",
         "53.0",
         "Friday",
         "23",
         "True",
         "True"
        ],
        [
         "7",
         "8",
         "C5426",
         "R2978",
         "2024-01-26 22:46:24",
         "2024-01-27 00:36:24",
         "260",
         "0",
         "Credit Card",
         "10%",
         "55",
         "19",
         "0",
         "110.0",
         "Friday",
         "22",
         "True",
         "False"
        ],
        [
         "8",
         "9",
         "C6578",
         "R2877",
         "2024-01-02 18:29:59",
         "2024-01-02 20:23:59",
         "1663",
         "40",
         "Cash on Delivery",
         "5% on App",
         "116",
         "48",
         "0",
         "114.0",
         "Tuesday",
         "18",
         "True",
         "False"
        ],
        [
         "9",
         "10",
         "C9322",
         "R2161",
         "2024-01-05 00:50:19",
         "2024-01-05 02:10:19",
         "491",
         "40",
         "Digital Wallet",
         "10%",
         "189",
         "10",
         "0",
         "80.0",
         "Friday",
         "0",
         "True",
         "False"
        ],
        [
         "10",
         "11",
         "C2685",
         "R2379",
         "2024-01-01 17:02:47",
         "2024-01-01 18:21:47",
         "868",
         "0",
         "Cash on Delivery",
         "5% on App",
         "149",
         "36",
         "0",
         "79.0",
         "Monday",
         "17",
         "True",
         "False"
        ],
        [
         "11",
         "12",
         "C1769",
         "R2992",
         "2024-01-09 17:15:15",
         "2024-01-09 17:55:15",
         "1800",
         "20",
         "Credit Card",
         "15% New User",
         "61",
         "36",
         "0",
         "40.0",
         "Tuesday",
         "17",
         "True",
         "False"
        ],
        [
         "12",
         "13",
         "C7949",
         "R2086",
         "2024-01-05 16:43:24",
         "2024-01-05 18:08:24",
         "674",
         "0",
         "Cash on Delivery",
         "None",
         "115",
         "20",
         "0",
         "85.0",
         "Friday",
         "16",
         "False",
         "False"
        ],
        [
         "13",
         "14",
         "C3433",
         "R2054",
         "2024-02-04 18:48:54",
         "2024-02-04 20:28:54",
         "633",
         "30",
         "Digital Wallet",
         "15% New User",
         "51",
         "14",
         "50",
         "100.0",
         "Sunday",
         "18",
         "True",
         "True"
        ],
        [
         "14",
         "15",
         "C6311",
         "R2475",
         "2024-02-03 00:49:50",
         "2024-02-03 02:00:50",
         "1193",
         "0",
         "Credit Card",
         "None",
         "192",
         "16",
         "0",
         "71.0",
         "Saturday",
         "0",
         "False",
         "False"
        ],
        [
         "15",
         "16",
         "C6051",
         "R2799",
         "2024-01-15 20:46:22",
         "2024-01-15 21:54:22",
         "992",
         "0",
         "Digital Wallet",
         "15% New User",
         "200",
         "28",
         "0",
         "68.00000000000001",
         "Monday",
         "20",
         "True",
         "False"
        ],
        [
         "16",
         "17",
         "C7420",
         "R2177",
         "2024-02-04 17:48:58",
         "2024-02-04 19:26:58",
         "504",
         "20",
         "Credit Card",
         "15% New User",
         "130",
         "38",
         "0",
         "98.0",
         "Sunday",
         "17",
         "True",
         "False"
        ],
        [
         "17",
         "18",
         "C2184",
         "R2390",
         "2024-01-13 15:41:54",
         "2024-01-13 16:58:54",
         "707",
         "30",
         "Credit Card",
         "10%",
         "184",
         "24",
         "0",
         "77.0",
         "Saturday",
         "15",
         "True",
         "False"
        ],
        [
         "18",
         "19",
         "C5555",
         "R2348",
         "2024-01-31 17:27:17",
         "2024-01-31 18:53:17",
         "1798",
         "50",
         "Credit Card",
         "50 off Promo",
         "191",
         "44",
         "0",
         "86.0",
         "Wednesday",
         "17",
         "True",
         "False"
        ],
        [
         "19",
         "20",
         "C4385",
         "R2007",
         "2024-01-13 01:32:57",
         "2024-01-13 02:22:57",
         "1714",
         "50",
         "Cash on Delivery",
         "5% on App",
         "119",
         "46",
         "100",
         "50.0",
         "Saturday",
         "1",
         "True",
         "True"
        ],
        [
         "20",
         "21",
         "C7396",
         "R2832",
         "2024-01-27 14:44:44",
         "2024-01-27 16:35:44",
         "1640",
         "40",
         "Digital Wallet",
         "5% on App",
         "164",
         "21",
         "0",
         "111.0",
         "Saturday",
         "14",
         "True",
         "False"
        ],
        [
         "21",
         "22",
         "C9666",
         "R2312",
         "2024-01-05 10:18:49",
         "2024-01-05 11:07:49",
         "927",
         "0",
         "Digital Wallet",
         "5% on App",
         "137",
         "39",
         "0",
         "49.0",
         "Friday",
         "10",
         "True",
         "False"
        ],
        [
         "22",
         "23",
         "C3558",
         "R2758",
         "2024-01-23 03:00:27",
         "2024-01-23 03:44:27",
         "1243",
         "40",
         "Digital Wallet",
         "None",
         "55",
         "29",
         "100",
         "44.0",
         "Tuesday",
         "3",
         "False",
         "True"
        ],
        [
         "23",
         "24",
         "C8849",
         "R2834",
         "2024-02-07 16:46:21",
         "2024-02-07 18:24:21",
         "1937",
         "20",
         "Credit Card",
         "5% on App",
         "76",
         "46",
         "0",
         "98.0",
         "Wednesday",
         "16",
         "True",
         "False"
        ],
        [
         "24",
         "25",
         "C3047",
         "R2983",
         "2024-01-13 08:46:32",
         "2024-01-13 10:32:32",
         "789",
         "50",
         "Cash on Delivery",
         "5% on App",
         "131",
         "12",
         "0",
         "106.0",
         "Saturday",
         "8",
         "True",
         "False"
        ],
        [
         "25",
         "26",
         "C3747",
         "R2982",
         "2024-01-12 02:35:44",
         "2024-01-12 03:55:44",
         "1811",
         "0",
         "Credit Card",
         "10%",
         "137",
         "18",
         "0",
         "80.0",
         "Friday",
         "2",
         "True",
         "False"
        ],
        [
         "26",
         "27",
         "C1189",
         "R2442",
         "2024-01-11 16:36:20",
         "2024-01-11 18:21:20",
         "1001",
         "20",
         "Digital Wallet",
         "15% New User",
         "169",
         "50",
         "0",
         "105.0",
         "Thursday",
         "16",
         "True",
         "False"
        ],
        [
         "27",
         "28",
         "C3734",
         "R2766",
         "2024-02-03 04:14:11",
         "2024-02-03 05:45:11",
         "1340",
         "20",
         "Cash on Delivery",
         "5% on App",
         "73",
         "48",
         "100",
         "91.0",
         "Saturday",
         "4",
         "True",
         "True"
        ],
        [
         "28",
         "29",
         "C4005",
         "R2327",
         "2024-01-17 23:01:31",
         "2024-01-18 00:55:31",
         "155",
         "0",
         "Cash on Delivery",
         "50 off Promo",
         "151",
         "35",
         "0",
         "114.0",
         "Wednesday",
         "23",
         "True",
         "False"
        ],
        [
         "29",
         "30",
         "C5658",
         "R2053",
         "2024-02-05 22:00:32",
         "2024-02-05 23:06:32",
         "465",
         "20",
         "Cash on Delivery",
         "5% on App",
         "83",
         "11",
         "0",
         "66.00000000000001",
         "Monday",
         "22",
         "True",
         "False"
        ],
        [
         "30",
         "31",
         "C2899",
         "R2760",
         "2024-01-29 13:35:52",
         "2024-01-29 14:10:52",
         "1822",
         "0",
         "Digital Wallet",
         "None",
         "96",
         "32",
         "0",
         "35.0",
         "Monday",
         "13",
         "False",
         "False"
        ],
        [
         "31",
         "32",
         "C8734",
         "R2238",
         "2024-01-03 11:19:27",
         "2024-01-03 12:59:27",
         "1627",
         "0",
         "Cash on Delivery",
         "None",
         "73",
         "32",
         "0",
         "100.0",
         "Wednesday",
         "11",
         "False",
         "False"
        ],
        [
         "32",
         "33",
         "C2267",
         "R2228",
         "2024-02-01 04:04:35",
         "2024-02-01 04:59:35",
         "1867",
         "30",
         "Cash on Delivery",
         "None",
         "114",
         "30",
         "50",
         "55.0",
         "Thursday",
         "4",
         "False",
         "True"
        ],
        [
         "33",
         "34",
         "C2528",
         "R2578",
         "2024-01-23 11:40:11",
         "2024-01-23 12:17:11",
         "1890",
         "40",
         "Credit Card",
         "5% on App",
         "67",
         "25",
         "0",
         "37.0",
         "Tuesday",
         "11",
         "True",
         "False"
        ],
        [
         "34",
         "35",
         "C4556",
         "R2050",
         "2024-01-27 18:35:36",
         "2024-01-27 20:17:36",
         "554",
         "20",
         "Credit Card",
         "10%",
         "93",
         "18",
         "0",
         "102.0",
         "Saturday",
         "18",
         "True",
         "False"
        ],
        [
         "35",
         "36",
         "C4890",
         "R2608",
         "2024-01-04 10:48:10",
         "2024-01-04 11:21:10",
         "203",
         "20",
         "Cash on Delivery",
         "50 off Promo",
         "125",
         "22",
         "0",
         "33.00000000000001",
         "Thursday",
         "10",
         "True",
         "False"
        ],
        [
         "36",
         "37",
         "C9838",
         "R2603",
         "2024-01-04 16:09:08",
         "2024-01-04 16:59:08",
         "176",
         "30",
         "Cash on Delivery",
         "5% on App",
         "106",
         "37",
         "0",
         "50.0",
         "Thursday",
         "16",
         "True",
         "False"
        ],
        [
         "37",
         "38",
         "C6393",
         "R2263",
         "2024-01-15 06:05:34",
         "2024-01-15 07:05:34",
         "329",
         "30",
         "Credit Card",
         "10%",
         "156",
         "36",
         "0",
         "60.0",
         "Monday",
         "6",
         "True",
         "False"
        ],
        [
         "38",
         "39",
         "C9792",
         "R2417",
         "2024-02-05 17:18:28",
         "2024-02-05 18:08:28",
         "1381",
         "30",
         "Credit Card",
         "10%",
         "173",
         "26",
         "0",
         "50.0",
         "Monday",
         "17",
         "True",
         "False"
        ],
        [
         "39",
         "40",
         "C9433",
         "R2802",
         "2024-01-16 08:24:43",
         "2024-01-16 09:18:43",
         "1387",
         "50",
         "Credit Card",
         "5% on App",
         "200",
         "47",
         "0",
         "54.0",
         "Tuesday",
         "8",
         "True",
         "False"
        ],
        [
         "40",
         "41",
         "C8513",
         "R2095",
         "2024-01-02 01:38:44",
         "2024-01-02 02:22:44",
         "430",
         "50",
         "Digital Wallet",
         "5% on App",
         "188",
         "45",
         "150",
         "44.0",
         "Tuesday",
         "1",
         "True",
         "True"
        ],
        [
         "41",
         "42",
         "C3612",
         "R2087",
         "2024-01-27 20:38:08",
         "2024-01-27 21:42:08",
         "1305",
         "50",
         "Digital Wallet",
         "10%",
         "165",
         "10",
         "0",
         "64.00000000000001",
         "Saturday",
         "20",
         "True",
         "False"
        ],
        [
         "42",
         "43",
         "C8041",
         "R2077",
         "2024-01-21 21:36:48",
         "2024-01-21 22:54:48",
         "992",
         "0",
         "Credit Card",
         "10%",
         "142",
         "27",
         "0",
         "78.0",
         "Sunday",
         "21",
         "True",
         "False"
        ],
        [
         "43",
         "44",
         "C7235",
         "R2287",
         "2024-01-16 06:49:27",
         "2024-01-16 08:01:27",
         "1891",
         "20",
         "Cash on Delivery",
         "10%",
         "91",
         "18",
         "0",
         "72.0",
         "Tuesday",
         "6",
         "True",
         "False"
        ],
        [
         "44",
         "45",
         "C6486",
         "R2119",
         "2024-01-01 07:15:55",
         "2024-01-01 08:25:55",
         "1673",
         "40",
         "Credit Card",
         "5% on App",
         "77",
         "22",
         "100",
         "70.0",
         "Monday",
         "7",
         "True",
         "True"
        ],
        [
         "45",
         "46",
         "C8099",
         "R2813",
         "2024-01-04 22:56:55",
         "2024-01-05 00:02:55",
         "787",
         "0",
         "Digital Wallet",
         "10%",
         "172",
         "49",
         "0",
         "66.00000000000001",
         "Thursday",
         "22",
         "True",
         "False"
        ],
        [
         "46",
         "47",
         "C1775",
         "R2490",
         "2024-01-20 13:22:35",
         "2024-01-20 14:48:35",
         "126",
         "20",
         "Cash on Delivery",
         "None",
         "73",
         "24",
         "150",
         "86.0",
         "Saturday",
         "13",
         "False",
         "True"
        ],
        [
         "47",
         "48",
         "C9226",
         "R2911",
         "2024-01-06 07:54:54",
         "2024-01-06 09:05:54",
         "1399",
         "20",
         "Digital Wallet",
         "5% on App",
         "185",
         "13",
         "0",
         "71.0",
         "Saturday",
         "7",
         "True",
         "False"
        ],
        [
         "48",
         "49",
         "C4152",
         "R2451",
         "2024-01-27 00:02:13",
         "2024-01-27 01:18:13",
         "1775",
         "30",
         "Cash on Delivery",
         "None",
         "155",
         "42",
         "50",
         "76.0",
         "Saturday",
         "0",
         "False",
         "True"
        ],
        [
         "49",
         "50",
         "C2585",
         "R2499",
         "2024-02-07 22:23:39",
         "2024-02-07 23:53:39",
         "398",
         "30",
         "Digital Wallet",
         "15% New User",
         "167",
         "33",
         "0",
         "90.0",
         "Wednesday",
         "22",
         "True",
         "False"
        ]
       ],
       "shape": {
        "columns": 17,
        "rows": 1000
       }
      },
      "text/html": [
       "<div>\n",
       "<style scoped>\n",
       "    .dataframe tbody tr th:only-of-type {\n",
       "        vertical-align: middle;\n",
       "    }\n",
       "\n",
       "    .dataframe tbody tr th {\n",
       "        vertical-align: top;\n",
       "    }\n",
       "\n",
       "    .dataframe thead th {\n",
       "        text-align: right;\n",
       "    }\n",
       "</style>\n",
       "<table border=\"1\" class=\"dataframe\">\n",
       "  <thead>\n",
       "    <tr style=\"text-align: right;\">\n",
       "      <th></th>\n",
       "      <th>Order ID</th>\n",
       "      <th>Customer ID</th>\n",
       "      <th>Restaurant ID</th>\n",
       "      <th>Order Date and Time</th>\n",
       "      <th>Delivery Date and Time</th>\n",
       "      <th>Order Value</th>\n",
       "      <th>Delivery Fee</th>\n",
       "      <th>Payment Method</th>\n",
       "      <th>Discounts and Offers</th>\n",
       "      <th>Commission Fee</th>\n",
       "      <th>Payment Processing Fee</th>\n",
       "      <th>Refunds/Chargebacks</th>\n",
       "      <th>Delivery Duration (min)</th>\n",
       "      <th>day_of_week</th>\n",
       "      <th>hour_of_day</th>\n",
       "      <th>has_discount</th>\n",
       "      <th>refunded</th>\n",
       "    </tr>\n",
       "  </thead>\n",
       "  <tbody>\n",
       "    <tr>\n",
       "      <th>0</th>\n",
       "      <td>1</td>\n",
       "      <td>C8270</td>\n",
       "      <td>R2924</td>\n",
       "      <td>2024-02-01 01:11:52</td>\n",
       "      <td>2024-02-01 02:39:52</td>\n",
       "      <td>1914</td>\n",
       "      <td>0</td>\n",
       "      <td>Credit Card</td>\n",
       "      <td>5% on App</td>\n",
       "      <td>150</td>\n",
       "      <td>47</td>\n",
       "      <td>0</td>\n",
       "      <td>88.0</td>\n",
       "      <td>Thursday</td>\n",
       "      <td>1</td>\n",
       "      <td>True</td>\n",
       "      <td>False</td>\n",
       "    </tr>\n",
       "    <tr>\n",
       "      <th>1</th>\n",
       "      <td>2</td>\n",
       "      <td>C1860</td>\n",
       "      <td>R2054</td>\n",
       "      <td>2024-02-02 22:11:04</td>\n",
       "      <td>2024-02-02 22:46:04</td>\n",
       "      <td>986</td>\n",
       "      <td>40</td>\n",
       "      <td>Digital Wallet</td>\n",
       "      <td>10%</td>\n",
       "      <td>198</td>\n",
       "      <td>23</td>\n",
       "      <td>0</td>\n",
       "      <td>35.0</td>\n",
       "      <td>Friday</td>\n",
       "      <td>22</td>\n",
       "      <td>True</td>\n",
       "      <td>False</td>\n",
       "    </tr>\n",
       "    <tr>\n",
       "      <th>2</th>\n",
       "      <td>3</td>\n",
       "      <td>C6390</td>\n",
       "      <td>R2870</td>\n",
       "      <td>2024-01-31 05:54:35</td>\n",
       "      <td>2024-01-31 06:52:35</td>\n",
       "      <td>937</td>\n",
       "      <td>30</td>\n",
       "      <td>Cash on Delivery</td>\n",
       "      <td>15% New User</td>\n",
       "      <td>195</td>\n",
       "      <td>45</td>\n",
       "      <td>0</td>\n",
       "      <td>58.0</td>\n",
       "      <td>Wednesday</td>\n",
       "      <td>5</td>\n",
       "      <td>True</td>\n",
       "      <td>False</td>\n",
       "    </tr>\n",
       "    <tr>\n",
       "      <th>3</th>\n",
       "      <td>4</td>\n",
       "      <td>C6191</td>\n",
       "      <td>R2642</td>\n",
       "      <td>2024-01-16 22:52:49</td>\n",
       "      <td>2024-01-16 23:38:49</td>\n",
       "      <td>1463</td>\n",
       "      <td>50</td>\n",
       "      <td>Cash on Delivery</td>\n",
       "      <td>None</td>\n",
       "      <td>146</td>\n",
       "      <td>27</td>\n",
       "      <td>0</td>\n",
       "      <td>46.0</td>\n",
       "      <td>Tuesday</td>\n",
       "      <td>22</td>\n",
       "      <td>False</td>\n",
       "      <td>False</td>\n",
       "    </tr>\n",
       "    <tr>\n",
       "      <th>4</th>\n",
       "      <td>5</td>\n",
       "      <td>C6734</td>\n",
       "      <td>R2799</td>\n",
       "      <td>2024-01-29 01:19:30</td>\n",
       "      <td>2024-01-29 02:48:30</td>\n",
       "      <td>1992</td>\n",
       "      <td>30</td>\n",
       "      <td>Cash on Delivery</td>\n",
       "      <td>50 off Promo</td>\n",
       "      <td>130</td>\n",
       "      <td>50</td>\n",
       "      <td>0</td>\n",
       "      <td>89.0</td>\n",
       "      <td>Monday</td>\n",
       "      <td>1</td>\n",
       "      <td>True</td>\n",
       "      <td>False</td>\n",
       "    </tr>\n",
       "    <tr>\n",
       "      <th>...</th>\n",
       "      <td>...</td>\n",
       "      <td>...</td>\n",
       "      <td>...</td>\n",
       "      <td>...</td>\n",
       "      <td>...</td>\n",
       "      <td>...</td>\n",
       "      <td>...</td>\n",
       "      <td>...</td>\n",
       "      <td>...</td>\n",
       "      <td>...</td>\n",
       "      <td>...</td>\n",
       "      <td>...</td>\n",
       "      <td>...</td>\n",
       "      <td>...</td>\n",
       "      <td>...</td>\n",
       "      <td>...</td>\n",
       "      <td>...</td>\n",
       "    </tr>\n",
       "    <tr>\n",
       "      <th>995</th>\n",
       "      <td>996</td>\n",
       "      <td>C6232</td>\n",
       "      <td>R2129</td>\n",
       "      <td>2024-01-14 05:57:00</td>\n",
       "      <td>2024-01-14 06:39:00</td>\n",
       "      <td>825</td>\n",
       "      <td>0</td>\n",
       "      <td>Digital Wallet</td>\n",
       "      <td>5% on App</td>\n",
       "      <td>165</td>\n",
       "      <td>47</td>\n",
       "      <td>50</td>\n",
       "      <td>42.0</td>\n",
       "      <td>Sunday</td>\n",
       "      <td>5</td>\n",
       "      <td>True</td>\n",
       "      <td>True</td>\n",
       "    </tr>\n",
       "    <tr>\n",
       "      <th>996</th>\n",
       "      <td>997</td>\n",
       "      <td>C6797</td>\n",
       "      <td>R2742</td>\n",
       "      <td>2024-01-28 08:50:43</td>\n",
       "      <td>2024-01-28 10:10:43</td>\n",
       "      <td>1627</td>\n",
       "      <td>50</td>\n",
       "      <td>Cash on Delivery</td>\n",
       "      <td>None</td>\n",
       "      <td>110</td>\n",
       "      <td>42</td>\n",
       "      <td>0</td>\n",
       "      <td>80.0</td>\n",
       "      <td>Sunday</td>\n",
       "      <td>8</td>\n",
       "      <td>False</td>\n",
       "      <td>False</td>\n",
       "    </tr>\n",
       "    <tr>\n",
       "      <th>997</th>\n",
       "      <td>998</td>\n",
       "      <td>C5926</td>\n",
       "      <td>R2837</td>\n",
       "      <td>2024-01-21 09:43:19</td>\n",
       "      <td>2024-01-21 10:44:19</td>\n",
       "      <td>553</td>\n",
       "      <td>20</td>\n",
       "      <td>Cash on Delivery</td>\n",
       "      <td>None</td>\n",
       "      <td>64</td>\n",
       "      <td>31</td>\n",
       "      <td>0</td>\n",
       "      <td>61.0</td>\n",
       "      <td>Sunday</td>\n",
       "      <td>9</td>\n",
       "      <td>False</td>\n",
       "      <td>False</td>\n",
       "    </tr>\n",
       "    <tr>\n",
       "      <th>998</th>\n",
       "      <td>999</td>\n",
       "      <td>C7016</td>\n",
       "      <td>R2144</td>\n",
       "      <td>2024-01-30 22:23:38</td>\n",
       "      <td>2024-01-31 00:07:38</td>\n",
       "      <td>1414</td>\n",
       "      <td>0</td>\n",
       "      <td>Cash on Delivery</td>\n",
       "      <td>15% New User</td>\n",
       "      <td>199</td>\n",
       "      <td>34</td>\n",
       "      <td>0</td>\n",
       "      <td>104.0</td>\n",
       "      <td>Tuesday</td>\n",
       "      <td>22</td>\n",
       "      <td>True</td>\n",
       "      <td>False</td>\n",
       "    </tr>\n",
       "    <tr>\n",
       "      <th>999</th>\n",
       "      <td>1000</td>\n",
       "      <td>C4335</td>\n",
       "      <td>R2890</td>\n",
       "      <td>2024-01-08 14:46:43</td>\n",
       "      <td>2024-01-08 15:39:43</td>\n",
       "      <td>1657</td>\n",
       "      <td>20</td>\n",
       "      <td>Digital Wallet</td>\n",
       "      <td>15% New User</td>\n",
       "      <td>180</td>\n",
       "      <td>27</td>\n",
       "      <td>100</td>\n",
       "      <td>53.0</td>\n",
       "      <td>Monday</td>\n",
       "      <td>14</td>\n",
       "      <td>True</td>\n",
       "      <td>True</td>\n",
       "    </tr>\n",
       "  </tbody>\n",
       "</table>\n",
       "<p>1000 rows × 17 columns</p>\n",
       "</div>"
      ],
      "text/plain": [
       "     Order ID Customer ID Restaurant ID Order Date and Time  \\\n",
       "0           1       C8270         R2924 2024-02-01 01:11:52   \n",
       "1           2       C1860         R2054 2024-02-02 22:11:04   \n",
       "2           3       C6390         R2870 2024-01-31 05:54:35   \n",
       "3           4       C6191         R2642 2024-01-16 22:52:49   \n",
       "4           5       C6734         R2799 2024-01-29 01:19:30   \n",
       "..        ...         ...           ...                 ...   \n",
       "995       996       C6232         R2129 2024-01-14 05:57:00   \n",
       "996       997       C6797         R2742 2024-01-28 08:50:43   \n",
       "997       998       C5926         R2837 2024-01-21 09:43:19   \n",
       "998       999       C7016         R2144 2024-01-30 22:23:38   \n",
       "999      1000       C4335         R2890 2024-01-08 14:46:43   \n",
       "\n",
       "    Delivery Date and Time  Order Value  Delivery Fee    Payment Method  \\\n",
       "0      2024-02-01 02:39:52         1914             0       Credit Card   \n",
       "1      2024-02-02 22:46:04          986            40    Digital Wallet   \n",
       "2      2024-01-31 06:52:35          937            30  Cash on Delivery   \n",
       "3      2024-01-16 23:38:49         1463            50  Cash on Delivery   \n",
       "4      2024-01-29 02:48:30         1992            30  Cash on Delivery   \n",
       "..                     ...          ...           ...               ...   \n",
       "995    2024-01-14 06:39:00          825             0    Digital Wallet   \n",
       "996    2024-01-28 10:10:43         1627            50  Cash on Delivery   \n",
       "997    2024-01-21 10:44:19          553            20  Cash on Delivery   \n",
       "998    2024-01-31 00:07:38         1414             0  Cash on Delivery   \n",
       "999    2024-01-08 15:39:43         1657            20    Digital Wallet   \n",
       "\n",
       "    Discounts and Offers  Commission Fee  Payment Processing Fee  \\\n",
       "0              5% on App             150                      47   \n",
       "1                    10%             198                      23   \n",
       "2           15% New User             195                      45   \n",
       "3                   None             146                      27   \n",
       "4           50 off Promo             130                      50   \n",
       "..                   ...             ...                     ...   \n",
       "995            5% on App             165                      47   \n",
       "996                 None             110                      42   \n",
       "997                 None              64                      31   \n",
       "998         15% New User             199                      34   \n",
       "999         15% New User             180                      27   \n",
       "\n",
       "     Refunds/Chargebacks  Delivery Duration (min) day_of_week  hour_of_day  \\\n",
       "0                      0                     88.0    Thursday            1   \n",
       "1                      0                     35.0      Friday           22   \n",
       "2                      0                     58.0   Wednesday            5   \n",
       "3                      0                     46.0     Tuesday           22   \n",
       "4                      0                     89.0      Monday            1   \n",
       "..                   ...                      ...         ...          ...   \n",
       "995                   50                     42.0      Sunday            5   \n",
       "996                    0                     80.0      Sunday            8   \n",
       "997                    0                     61.0      Sunday            9   \n",
       "998                    0                    104.0     Tuesday           22   \n",
       "999                  100                     53.0      Monday           14   \n",
       "\n",
       "     has_discount  refunded  \n",
       "0            True     False  \n",
       "1            True     False  \n",
       "2            True     False  \n",
       "3           False     False  \n",
       "4            True     False  \n",
       "..            ...       ...  \n",
       "995          True      True  \n",
       "996         False     False  \n",
       "997         False     False  \n",
       "998          True     False  \n",
       "999          True      True  \n",
       "\n",
       "[1000 rows x 17 columns]"
      ]
     },
     "execution_count": 5,
     "metadata": {},
     "output_type": "execute_result"
    }
   ],
   "source": [
    "\n",
    "# Convertir fechas a tipo datetime\n",
    "df['Order Date and Time'] = pd.to_datetime(df['Order Date and Time'])\n",
    "df['Delivery Date and Time'] = pd.to_datetime(df['Delivery Date and Time'])\n",
    "\n",
    "# Crear columna de tiempo de entrega en minutos\n",
    "df['Delivery Duration (min)'] = (df['Delivery Date and Time'] - df['Order Date and Time']).dt.total_seconds() / 60\n",
    "# Extraer día y hora del pedido\n",
    "df['day_of_week'] = df['Order Date and Time'].dt.day_name()\n",
    "df['hour_of_day'] = df['Order Date and Time'].dt.hour\n",
    "# Marcar si hay descuento o no\n",
    "df['has_discount'] = df['Discounts and Offers'].str.lower() != 'none'\n",
    "\n",
    "# Marcar si fue reembolsado\n",
    "df['refunded'] = df['Refunds/Chargebacks'] > 0\n",
    "df"
   ]
  },
  {
   "cell_type": "code",
   "execution_count": 6,
   "metadata": {},
   "outputs": [
    {
     "name": "stdout",
     "output_type": "stream",
     "text": [
      "10%             233\n",
      "50 off Promo    201\n",
      "15% New User    198\n",
      "None            185\n",
      "5% on App       183\n",
      "Name: Discounts and Offers, dtype: int64\n"
     ]
    }
   ],
   "source": [
    "print(df['Discounts and Offers'].value_counts())"
   ]
  },
  {
   "cell_type": "code",
   "execution_count": 7,
   "metadata": {},
   "outputs": [
    {
     "data": {
      "application/vnd.microsoft.datawrangler.viewer.v0+json": {
       "columns": [
        {
         "name": "index",
         "rawType": "int64",
         "type": "integer"
        },
        {
         "name": "Discounts and Offers",
         "rawType": "object",
         "type": "string"
        },
        {
         "name": "Order Value",
         "rawType": "int64",
         "type": "integer"
        },
        {
         "name": "Discount Value",
         "rawType": "float64",
         "type": "float"
        }
       ],
       "ref": "ce2d4c4c-a1bf-4113-ba5e-51c2a9c63d6d",
       "rows": [
        [
         "0",
         "5% on App",
         "1914",
         "95.7"
        ],
        [
         "1",
         "10%",
         "986",
         "98.60000000000001"
        ],
        [
         "2",
         "15% New User",
         "937",
         "140.54999999999998"
        ],
        [
         "3",
         "None",
         "1463",
         "0.0"
        ],
        [
         "4",
         "50 off Promo",
         "1992",
         "50.0"
        ],
        [
         "5",
         "10%",
         "439",
         "43.900000000000006"
        ],
        [
         "6",
         "5% on App",
         "303",
         "15.15"
        ],
        [
         "7",
         "10%",
         "260",
         "26.0"
        ],
        [
         "8",
         "5% on App",
         "1663",
         "83.15"
        ],
        [
         "9",
         "10%",
         "491",
         "49.1"
        ]
       ],
       "shape": {
        "columns": 3,
        "rows": 10
       }
      },
      "text/html": [
       "<div>\n",
       "<style scoped>\n",
       "    .dataframe tbody tr th:only-of-type {\n",
       "        vertical-align: middle;\n",
       "    }\n",
       "\n",
       "    .dataframe tbody tr th {\n",
       "        vertical-align: top;\n",
       "    }\n",
       "\n",
       "    .dataframe thead th {\n",
       "        text-align: right;\n",
       "    }\n",
       "</style>\n",
       "<table border=\"1\" class=\"dataframe\">\n",
       "  <thead>\n",
       "    <tr style=\"text-align: right;\">\n",
       "      <th></th>\n",
       "      <th>Discounts and Offers</th>\n",
       "      <th>Order Value</th>\n",
       "      <th>Discount Value</th>\n",
       "    </tr>\n",
       "  </thead>\n",
       "  <tbody>\n",
       "    <tr>\n",
       "      <th>0</th>\n",
       "      <td>5% on App</td>\n",
       "      <td>1914</td>\n",
       "      <td>95.70</td>\n",
       "    </tr>\n",
       "    <tr>\n",
       "      <th>1</th>\n",
       "      <td>10%</td>\n",
       "      <td>986</td>\n",
       "      <td>98.60</td>\n",
       "    </tr>\n",
       "    <tr>\n",
       "      <th>2</th>\n",
       "      <td>15% New User</td>\n",
       "      <td>937</td>\n",
       "      <td>140.55</td>\n",
       "    </tr>\n",
       "    <tr>\n",
       "      <th>3</th>\n",
       "      <td>None</td>\n",
       "      <td>1463</td>\n",
       "      <td>0.00</td>\n",
       "    </tr>\n",
       "    <tr>\n",
       "      <th>4</th>\n",
       "      <td>50 off Promo</td>\n",
       "      <td>1992</td>\n",
       "      <td>50.00</td>\n",
       "    </tr>\n",
       "    <tr>\n",
       "      <th>5</th>\n",
       "      <td>10%</td>\n",
       "      <td>439</td>\n",
       "      <td>43.90</td>\n",
       "    </tr>\n",
       "    <tr>\n",
       "      <th>6</th>\n",
       "      <td>5% on App</td>\n",
       "      <td>303</td>\n",
       "      <td>15.15</td>\n",
       "    </tr>\n",
       "    <tr>\n",
       "      <th>7</th>\n",
       "      <td>10%</td>\n",
       "      <td>260</td>\n",
       "      <td>26.00</td>\n",
       "    </tr>\n",
       "    <tr>\n",
       "      <th>8</th>\n",
       "      <td>5% on App</td>\n",
       "      <td>1663</td>\n",
       "      <td>83.15</td>\n",
       "    </tr>\n",
       "    <tr>\n",
       "      <th>9</th>\n",
       "      <td>10%</td>\n",
       "      <td>491</td>\n",
       "      <td>49.10</td>\n",
       "    </tr>\n",
       "  </tbody>\n",
       "</table>\n",
       "</div>"
      ],
      "text/plain": [
       "  Discounts and Offers  Order Value  Discount Value\n",
       "0            5% on App         1914           95.70\n",
       "1                  10%          986           98.60\n",
       "2         15% New User          937          140.55\n",
       "3                 None         1463            0.00\n",
       "4         50 off Promo         1992           50.00\n",
       "5                  10%          439           43.90\n",
       "6            5% on App          303           15.15\n",
       "7                  10%          260           26.00\n",
       "8            5% on App         1663           83.15\n",
       "9                  10%          491           49.10"
      ]
     },
     "execution_count": 7,
     "metadata": {},
     "output_type": "execute_result"
    }
   ],
   "source": [
    "def calcular_descuento(row):\n",
    "    valor = str(row['Discounts and Offers']).lower()\n",
    "    pedido = row['Order Value']\n",
    "    \n",
    "    # Si es porcentaje, por ejemplo \"10%\" o \"5% on app\"\n",
    "    if '%' in valor:\n",
    "        try:\n",
    "            porcentaje = float(valor.split('%')[0])\n",
    "            return pedido * (porcentaje / 100)\n",
    "        except:\n",
    "            return 0\n",
    "        \n",
    "    # Si es \"50 off Promo\" u otros con valor fijo\n",
    "    elif 'off' in valor:\n",
    "        for token in valor.split():\n",
    "            try:\n",
    "                return float(token)\n",
    "            except:\n",
    "                continue\n",
    "        return 0\n",
    "\n",
    "    # Si es \"None\" u otra cosa no reconocida\n",
    "    return 0\n",
    "\n",
    "# Aplicar al DataFrame\n",
    "df['Discount Value'] = df.apply(calcular_descuento, axis=1)\n",
    "\n",
    "# Verificar\n",
    "df[['Discounts and Offers', 'Order Value', 'Discount Value']].head(10)"
   ]
  },
  {
   "cell_type": "code",
   "execution_count": 8,
   "metadata": {},
   "outputs": [],
   "source": [
    "df['Total Cost'] = df['Delivery Fee'] + df['Discount Value'] + df['Payment Processing Fee'] + df['Refunds/Chargebacks']"
   ]
  },
  {
   "cell_type": "code",
   "execution_count": 9,
   "metadata": {},
   "outputs": [
    {
     "name": "stdout",
     "output_type": "stream",
     "text": [
      "Ganancia media por pedido: -34.05\n",
      "Pedidos con pérdida: 579\n",
      "Porcentaje con pérdida: 57.9 %\n"
     ]
    }
   ],
   "source": [
    "df['Profit'] = df['Commission Fee'] - df['Total Cost']\n",
    "\n",
    "# Estadísticas generales\n",
    "print(\"Ganancia media por pedido:\", round(df['Profit'].mean(), 2))\n",
    "print(\"Pedidos con pérdida:\", (df['Profit'] < 0).sum())\n",
    "print(\"Porcentaje con pérdida:\", round((df['Profit'] < 0).mean() * 100, 2), '%')"
   ]
  },
  {
   "cell_type": "code",
   "execution_count": 10,
   "metadata": {},
   "outputs": [
    {
     "data": {
      "application/vnd.microsoft.datawrangler.viewer.v0+json": {
       "columns": [
        {
         "name": "index",
         "rawType": "int64",
         "type": "integer"
        },
        {
         "name": "Order Value",
         "rawType": "int64",
         "type": "integer"
        },
        {
         "name": "Commission Fee",
         "rawType": "int64",
         "type": "integer"
        },
        {
         "name": "Total Cost",
         "rawType": "float64",
         "type": "float"
        },
        {
         "name": "Profit",
         "rawType": "float64",
         "type": "float"
        },
        {
         "name": "Discounts and Offers",
         "rawType": "object",
         "type": "string"
        }
       ],
       "ref": "1de6d1c3-c663-4a93-b617-1735e4160bb1",
       "rows": [
        [
         "151",
         "956",
         "188",
         "54.0",
         "134.0",
         "None"
        ],
        [
         "780",
         "990",
         "198",
         "64.0",
         "134.0",
         "50 off Promo"
        ],
        [
         "596",
         "203",
         "198",
         "63.0",
         "135.0",
         "None"
        ],
        [
         "742",
         "1786",
         "197",
         "61.0",
         "136.0",
         "None"
        ],
        [
         "480",
         "1402",
         "198",
         "60.0",
         "138.0",
         "None"
        ],
        [
         "857",
         "125",
         "193",
         "52.25",
         "140.75",
         "5% on App"
        ],
        [
         "684",
         "204",
         "195",
         "51.0",
         "144.0",
         "None"
        ],
        [
         "898",
         "1173",
         "198",
         "42.0",
         "156.0",
         "None"
        ],
        [
         "248",
         "1857",
         "190",
         "33.0",
         "157.0",
         "None"
        ],
        [
         "14",
         "1193",
         "192",
         "16.0",
         "176.0",
         "None"
        ]
       ],
       "shape": {
        "columns": 5,
        "rows": 10
       }
      },
      "text/html": [
       "<div>\n",
       "<style scoped>\n",
       "    .dataframe tbody tr th:only-of-type {\n",
       "        vertical-align: middle;\n",
       "    }\n",
       "\n",
       "    .dataframe tbody tr th {\n",
       "        vertical-align: top;\n",
       "    }\n",
       "\n",
       "    .dataframe thead th {\n",
       "        text-align: right;\n",
       "    }\n",
       "</style>\n",
       "<table border=\"1\" class=\"dataframe\">\n",
       "  <thead>\n",
       "    <tr style=\"text-align: right;\">\n",
       "      <th></th>\n",
       "      <th>Order Value</th>\n",
       "      <th>Commission Fee</th>\n",
       "      <th>Total Cost</th>\n",
       "      <th>Profit</th>\n",
       "      <th>Discounts and Offers</th>\n",
       "    </tr>\n",
       "  </thead>\n",
       "  <tbody>\n",
       "    <tr>\n",
       "      <th>151</th>\n",
       "      <td>956</td>\n",
       "      <td>188</td>\n",
       "      <td>54.00</td>\n",
       "      <td>134.00</td>\n",
       "      <td>None</td>\n",
       "    </tr>\n",
       "    <tr>\n",
       "      <th>780</th>\n",
       "      <td>990</td>\n",
       "      <td>198</td>\n",
       "      <td>64.00</td>\n",
       "      <td>134.00</td>\n",
       "      <td>50 off Promo</td>\n",
       "    </tr>\n",
       "    <tr>\n",
       "      <th>596</th>\n",
       "      <td>203</td>\n",
       "      <td>198</td>\n",
       "      <td>63.00</td>\n",
       "      <td>135.00</td>\n",
       "      <td>None</td>\n",
       "    </tr>\n",
       "    <tr>\n",
       "      <th>742</th>\n",
       "      <td>1786</td>\n",
       "      <td>197</td>\n",
       "      <td>61.00</td>\n",
       "      <td>136.00</td>\n",
       "      <td>None</td>\n",
       "    </tr>\n",
       "    <tr>\n",
       "      <th>480</th>\n",
       "      <td>1402</td>\n",
       "      <td>198</td>\n",
       "      <td>60.00</td>\n",
       "      <td>138.00</td>\n",
       "      <td>None</td>\n",
       "    </tr>\n",
       "    <tr>\n",
       "      <th>857</th>\n",
       "      <td>125</td>\n",
       "      <td>193</td>\n",
       "      <td>52.25</td>\n",
       "      <td>140.75</td>\n",
       "      <td>5% on App</td>\n",
       "    </tr>\n",
       "    <tr>\n",
       "      <th>684</th>\n",
       "      <td>204</td>\n",
       "      <td>195</td>\n",
       "      <td>51.00</td>\n",
       "      <td>144.00</td>\n",
       "      <td>None</td>\n",
       "    </tr>\n",
       "    <tr>\n",
       "      <th>898</th>\n",
       "      <td>1173</td>\n",
       "      <td>198</td>\n",
       "      <td>42.00</td>\n",
       "      <td>156.00</td>\n",
       "      <td>None</td>\n",
       "    </tr>\n",
       "    <tr>\n",
       "      <th>248</th>\n",
       "      <td>1857</td>\n",
       "      <td>190</td>\n",
       "      <td>33.00</td>\n",
       "      <td>157.00</td>\n",
       "      <td>None</td>\n",
       "    </tr>\n",
       "    <tr>\n",
       "      <th>14</th>\n",
       "      <td>1193</td>\n",
       "      <td>192</td>\n",
       "      <td>16.00</td>\n",
       "      <td>176.00</td>\n",
       "      <td>None</td>\n",
       "    </tr>\n",
       "  </tbody>\n",
       "</table>\n",
       "</div>"
      ],
      "text/plain": [
       "     Order Value  Commission Fee  Total Cost  Profit Discounts and Offers\n",
       "151          956             188       54.00  134.00                 None\n",
       "780          990             198       64.00  134.00         50 off Promo\n",
       "596          203             198       63.00  135.00                 None\n",
       "742         1786             197       61.00  136.00                 None\n",
       "480         1402             198       60.00  138.00                 None\n",
       "857          125             193       52.25  140.75            5% on App\n",
       "684          204             195       51.00  144.00                 None\n",
       "898         1173             198       42.00  156.00                 None\n",
       "248         1857             190       33.00  157.00                 None\n",
       "14          1193             192       16.00  176.00                 None"
      ]
     },
     "execution_count": 10,
     "metadata": {},
     "output_type": "execute_result"
    }
   ],
   "source": [
    "# Mostrar los 10 pedidos con mayores pérdidas (menor Profit)\n",
    "top_losses = df.sort_values(by='Profit').tail(10)\n",
    "\n",
    "# Mostrar solo las columnas clave para el análisis\n",
    "top_losses[[ 'Order Value', 'Commission Fee', 'Total Cost', 'Profit', 'Discounts and Offers']]"
   ]
  },
  {
   "cell_type": "code",
   "execution_count": 11,
   "metadata": {},
   "outputs": [
    {
     "name": "stdout",
     "output_type": "stream",
     "text": [
      "     Order ID Customer ID Restaurant ID Order Date and Time  \\\n",
      "0           1       C8270         R2924 2024-02-01 01:11:52   \n",
      "1           2       C1860         R2054 2024-02-02 22:11:04   \n",
      "2           3       C6390         R2870 2024-01-31 05:54:35   \n",
      "3           4       C6191         R2642 2024-01-16 22:52:49   \n",
      "4           5       C6734         R2799 2024-01-29 01:19:30   \n",
      "..        ...         ...           ...                 ...   \n",
      "995       996       C6232         R2129 2024-01-14 05:57:00   \n",
      "996       997       C6797         R2742 2024-01-28 08:50:43   \n",
      "997       998       C5926         R2837 2024-01-21 09:43:19   \n",
      "998       999       C7016         R2144 2024-01-30 22:23:38   \n",
      "999      1000       C4335         R2890 2024-01-08 14:46:43   \n",
      "\n",
      "    Delivery Date and Time  Order Value  Delivery Fee    Payment Method  \\\n",
      "0      2024-02-01 02:39:52         1914             0       Credit Card   \n",
      "1      2024-02-02 22:46:04          986            40    Digital Wallet   \n",
      "2      2024-01-31 06:52:35          937            30  Cash on Delivery   \n",
      "3      2024-01-16 23:38:49         1463            50  Cash on Delivery   \n",
      "4      2024-01-29 02:48:30         1992            30  Cash on Delivery   \n",
      "..                     ...          ...           ...               ...   \n",
      "995    2024-01-14 06:39:00          825             0    Digital Wallet   \n",
      "996    2024-01-28 10:10:43         1627            50  Cash on Delivery   \n",
      "997    2024-01-21 10:44:19          553            20  Cash on Delivery   \n",
      "998    2024-01-31 00:07:38         1414             0  Cash on Delivery   \n",
      "999    2024-01-08 15:39:43         1657            20    Digital Wallet   \n",
      "\n",
      "    Discounts and Offers  Commission Fee  Payment Processing Fee  \\\n",
      "0              5% on App             150                      47   \n",
      "1                    10%             198                      23   \n",
      "2           15% New User             195                      45   \n",
      "3                   None             146                      27   \n",
      "4           50 off Promo             130                      50   \n",
      "..                   ...             ...                     ...   \n",
      "995            5% on App             165                      47   \n",
      "996                 None             110                      42   \n",
      "997                 None              64                      31   \n",
      "998         15% New User             199                      34   \n",
      "999         15% New User             180                      27   \n",
      "\n",
      "     Refunds/Chargebacks  Delivery Duration (min) day_of_week  hour_of_day  \\\n",
      "0                      0                     88.0    Thursday            1   \n",
      "1                      0                     35.0      Friday           22   \n",
      "2                      0                     58.0   Wednesday            5   \n",
      "3                      0                     46.0     Tuesday           22   \n",
      "4                      0                     89.0      Monday            1   \n",
      "..                   ...                      ...         ...          ...   \n",
      "995                   50                     42.0      Sunday            5   \n",
      "996                    0                     80.0      Sunday            8   \n",
      "997                    0                     61.0      Sunday            9   \n",
      "998                    0                    104.0     Tuesday           22   \n",
      "999                  100                     53.0      Monday           14   \n",
      "\n",
      "     has_discount  refunded  Discount Value  Total Cost  Profit  \n",
      "0            True     False           95.70      142.70    7.30  \n",
      "1            True     False           98.60      161.60   36.40  \n",
      "2            True     False          140.55      215.55  -20.55  \n",
      "3           False     False            0.00       77.00   69.00  \n",
      "4            True     False           50.00      130.00    0.00  \n",
      "..            ...       ...             ...         ...     ...  \n",
      "995          True      True           41.25      138.25   26.75  \n",
      "996         False     False            0.00       92.00   18.00  \n",
      "997         False     False            0.00       51.00   13.00  \n",
      "998          True     False          212.10      246.10  -47.10  \n",
      "999          True      True          248.55      395.55 -215.55  \n",
      "\n",
      "[1000 rows x 20 columns]\n"
     ]
    }
   ],
   "source": [
    "print(df)"
   ]
  },
  {
   "cell_type": "markdown",
   "metadata": {},
   "source": [
    "GRAFICOS\n"
   ]
  },
  {
   "cell_type": "code",
   "execution_count": 12,
   "metadata": {},
   "outputs": [
    {
     "data": {
      "text/plain": [
       "<AxesSubplot:>"
      ]
     },
     "execution_count": 12,
     "metadata": {},
     "output_type": "execute_result"
    },
    {
     "data": {
      "image/png": "[encoded data removed]",
      "text/plain": [
       "<Figure size 432x432 with 2 Axes>"
      ]
     },
     "metadata": {
      "needs_background": "light"
     },
     "output_type": "display_data"
    }
   ],
   "source": [
    "plt.figure(figsize=(6,6))\n",
    "sns.heatmap(df.select_dtypes(include=['number']).corr(), annot=True, fmt='.1f')"
   ]
  },
  {
   "cell_type": "code",
   "execution_count": 13,
   "metadata": {},
   "outputs": [
    {
     "data": {
      "image/png": "[encoded data removed]",
      "text/plain": [
       "<Figure size 720x360 with 1 Axes>"
      ]
     },
     "metadata": {
      "needs_background": "light"
     },
     "output_type": "display_data"
    }
   ],
   "source": [
    "import seaborn as sns\n",
    "import matplotlib.pyplot as plt\n",
    "\n",
    "plt.figure(figsize=(10,5))\n",
    "sns.boxplot(data=df, x='day_of_week', y='Delivery Duration (min)', \n",
    "            order=['Monday','Tuesday','Wednesday','Thursday','Friday','Saturday','Sunday'])\n",
    "plt.xticks(rotation=45)\n",
    "plt.title(\"Duración de entrega por día de la semana\")\n",
    "plt.show()"
   ]
  },
  {
   "cell_type": "code",
   "execution_count": 14,
   "metadata": {},
   "outputs": [
    {
     "data": {
      "image/png": "[encoded data removed]",
      "text/plain": [
       "<Figure size 720x360 with 1 Axes>"
      ]
     },
     "metadata": {
      "needs_background": "light"
     },
     "output_type": "display_data"
    }
   ],
   "source": [
    "top_restaurants = df['Restaurant ID'].value_counts().nlargest(10).index\n",
    "\n",
    "plt.figure(figsize=(10,5))\n",
    "sns.boxplot(data=df[df['Restaurant ID'].isin(top_restaurants)],\n",
    "            x='Restaurant ID', y='Delivery Duration (min)')\n",
    "plt.xticks(rotation=45)\n",
    "plt.title(\"Top 10 restaurantes vs duración de entrega\")\n",
    "plt.show()"
   ]
  },
  {
   "cell_type": "code",
   "execution_count": 15,
   "metadata": {},
   "outputs": [
    {
     "data": {
      "image/png": "[encoded data removed]",
      "text/plain": [
       "<Figure size 432x288 with 1 Axes>"
      ]
     },
     "metadata": {
      "needs_background": "light"
     },
     "output_type": "display_data"
    }
   ],
   "source": [
    "plt.figure(figsize=(6,4))\n",
    "sns.boxplot(data=df, x='has_discount', y='Delivery Duration (min)')\n",
    "plt.title(\"Duración con/sin descuento\")\n",
    "plt.xlabel(\"¿Tiene descuento?\")\n",
    "plt.ylabel(\"Duración (min)\")\n",
    "plt.show()"
   ]
  },
  {
   "cell_type": "code",
   "execution_count": 16,
   "metadata": {},
   "outputs": [
    {
     "data": {
      "image/png": "[encoded data removed]",
      "text/plain": [
       "<Figure size 576x288 with 1 Axes>"
      ]
     },
     "metadata": {
      "needs_background": "light"
     },
     "output_type": "display_data"
    }
   ],
   "source": [
    "plt.figure(figsize=(8,4))\n",
    "sns.boxplot(data=df, x='Payment Method', y='Delivery Duration (min)')\n",
    "plt.title(\"Método de pago vs duración de entrega\")\n",
    "plt.xticks(rotation=45)\n",
    "plt.show()"
   ]
  },
  {
   "cell_type": "code",
   "execution_count": 17,
   "metadata": {},
   "outputs": [
    {
     "data": {
      "image/png": "[encoded data removed]",
      "text/plain": [
       "<Figure size 432x288 with 1 Axes>"
      ]
     },
     "metadata": {
      "needs_background": "light"
     },
     "output_type": "display_data"
    }
   ],
   "source": [
    "plt.figure(figsize=(6,4))\n",
    "sns.boxplot(data=df, x='refunded', y='Delivery Duration (min)')\n",
    "plt.title(\"Reembolsos vs duración de entrega\")\n",
    "plt.xlabel(\"¿Fue reembolsado?\")\n",
    "plt.ylabel(\"Duración (min)\")\n",
    "plt.show()"
   ]
  },
  {
   "cell_type": "code",
   "execution_count": 18,
   "metadata": {},
   "outputs": [
    {
     "data": {
      "image/png": "[encoded data removed]",
      "text/plain": [
       "<Figure size 720x288 with 1 Axes>"
      ]
     },
     "metadata": {
      "needs_background": "light"
     },
     "output_type": "display_data"
    }
   ],
   "source": [
    "plt.figure(figsize=(10,4))\n",
    "sns.boxplot(data=df, x='hour_of_day', y='Delivery Duration (min)')\n",
    "plt.title(\"Duración según hora del pedido\")\n",
    "plt.xlabel(\"Hora del día\")\n",
    "plt.ylabel(\"Duración (min)\")\n",
    "plt.show()"
   ]
  },
  {
   "cell_type": "code",
   "execution_count": 19,
   "metadata": {},
   "outputs": [
    {
     "data": {
      "image/png": "[encoded data removed]",
      "text/plain": [
       "<Figure size 720x360 with 1 Axes>"
      ]
     },
     "metadata": {
      "needs_background": "light"
     },
     "output_type": "display_data"
    }
   ],
   "source": [
    "import seaborn as sns\n",
    "import matplotlib.pyplot as plt\n",
    "\n",
    "plt.figure(figsize=(10,5))\n",
    "sns.histplot(df['Profit'], bins=50, kde=True)\n",
    "plt.title(\"Distribución de la ganancia por pedido\")\n",
    "plt.xlabel(\"Ganancia\")\n",
    "plt.ylabel(\"Frecuencia\")\n",
    "plt.show()"
   ]
  },
  {
   "cell_type": "code",
   "execution_count": 20,
   "metadata": {},
   "outputs": [
    {
     "data": {
      "image/png": "[encoded data removed]",
      "text/plain": [
       "<Figure size 720x432 with 1 Axes>"
      ]
     },
     "metadata": {
      "needs_background": "light"
     },
     "output_type": "display_data"
    }
   ],
   "source": [
    "import seaborn as sns\n",
    "import matplotlib.pyplot as plt\n",
    "\n",
    "# Asegurarnos de que la columna tenga un nombre limpio (por si no lo hiciste antes)\n",
    "df['Discounts and Offers'] = df['Discounts and Offers'].astype(str)\n",
    "\n",
    "# Agrupar por tipo de descuento y calcular profit promedio\n",
    "profit_por_descuento = df.groupby('Discounts and Offers')['Profit'].mean().sort_values()\n",
    "\n",
    "# Crear gráfico\n",
    "plt.figure(figsize=(10,6))\n",
    "sns.barplot(x=profit_por_descuento.values, y=profit_por_descuento.index, palette='coolwarm')\n",
    "plt.title(\"Ganancia media por tipo de descuento\")\n",
    "plt.xlabel(\"Ganancia media (Profit)\")\n",
    "plt.ylabel(\"Tipo de descuento\")\n",
    "plt.axvline(0, color='gray', linestyle='--')\n",
    "plt.tight_layout()\n",
    "plt.show()"
   ]
  },
  {
   "cell_type": "code",
   "execution_count": 21,
   "metadata": {},
   "outputs": [
    {
     "data": {
      "image/png": "[encoded data removed]",
      "text/plain": [
       "<Figure size 720x432 with 1 Axes>"
      ]
     },
     "metadata": {
      "needs_background": "light"
     },
     "output_type": "display_data"
    }
   ],
   "source": [
    "import seaborn as sns\n",
    "import matplotlib.pyplot as plt\n",
    "\n",
    "# Asegúrate de que la columna de duración esté creada\n",
    "if 'Delivery Duration (min)' not in df.columns:\n",
    "    df['Order Date and Time'] = pd.to_datetime(df['Order Date and Time'])\n",
    "    df['Delivery Date and Time'] = pd.to_datetime(df['Delivery Date and Time'])\n",
    "    df['Delivery Duration (min)'] = (df['Delivery Date and Time'] - df['Order Date and Time']).dt.total_seconds() / 60\n",
    "\n",
    "# Crear columna binaria: ¿Hubo reembolso?\n",
    "df['Refunded'] = df['Refunds/Chargebacks'] > 0\n",
    "\n",
    "# Gráfico de distribución del tiempo de entrega según haya o no reembolso\n",
    "plt.figure(figsize=(10,6))\n",
    "sns.boxplot(x='Refunded', y='Delivery Duration (min)', data=df)\n",
    "plt.xticks([0,1], ['Sin reembolso', 'Con reembolso'])\n",
    "plt.title(\"Tiempo de entrega según presencia de reembolso\")\n",
    "plt.ylabel(\"Duración de entrega (minutos)\")\n",
    "plt.xlabel(\"¿Hubo reembolso?\")\n",
    "plt.tight_layout()\n",
    "plt.show()"
   ]
  },
  {
   "cell_type": "code",
   "execution_count": 22,
   "metadata": {},
   "outputs": [
    {
     "data": {
      "image/png": "[encoded data removed]",
      "text/plain": [
       "<Figure size 720x432 with 1 Axes>"
      ]
     },
     "metadata": {
      "needs_background": "light"
     },
     "output_type": "display_data"
    }
   ],
   "source": [
    "plt.figure(figsize=(10,6))\n",
    "sns.kdeplot(df[df['Refunded'] == False]['Delivery Duration (min)'], label='Sin reembolso', shade=True)\n",
    "sns.kdeplot(df[df['Refunded'] == True]['Delivery Duration (min)'], label='Con reembolso', shade=True)\n",
    "plt.title(\"Distribución del tiempo de entrega según reembolso\")\n",
    "plt.xlabel(\"Duración de entrega (minutos)\")\n",
    "plt.legend()\n",
    "plt.tight_layout()\n",
    "plt.show()"
   ]
  },
  {
   "cell_type": "code",
   "execution_count": 23,
   "metadata": {},
   "outputs": [
    {
     "data": {
      "image/png": "[encoded data removed]",
      "text/plain": [
       "<Figure size 720x432 with 1 Axes>"
      ]
     },
     "metadata": {
      "needs_background": "light"
     },
     "output_type": "display_data"
    }
   ],
   "source": [
    "plt.figure(figsize=(10,6))\n",
    "sns.kdeplot(df[df['Refunded'] == False]['Order Value'], label='Sin reembolso', shade=True)\n",
    "sns.kdeplot(df[df['Refunded'] == True]['Order Value'], label='Con reembolso', shade=True)\n",
    "plt.title(\"Distribución del Order Value según reembolso\")\n",
    "plt.xlabel(\"Order Value (INR)\")\n",
    "plt.legend()\n",
    "plt.tight_layout()\n",
    "plt.show()"
   ]
  },
  {
   "cell_type": "code",
   "execution_count": 24,
   "metadata": {},
   "outputs": [],
   "source": [
    "# Normalizar columnas en pandas\n",
    "df.columns = df.columns.str.lower().str.replace(' ', '_')\n",
    "# Eliminar espacios y duplicados en nombres de columnas\n",
    "df.columns = pd.io.parsers.ParserBase({'names': df.columns})._maybe_dedup_names(df.columns)"
   ]
  },
  {
   "cell_type": "code",
   "execution_count": 25,
   "metadata": {},
   "outputs": [
    {
     "name": "stdout",
     "output_type": "stream",
     "text": [
      "     order_id customer_id restaurant_id order_date_and_time  \\\n",
      "0           1       C8270         R2924 2024-02-01 01:11:52   \n",
      "1           2       C1860         R2054 2024-02-02 22:11:04   \n",
      "2           3       C6390         R2870 2024-01-31 05:54:35   \n",
      "3           4       C6191         R2642 2024-01-16 22:52:49   \n",
      "4           5       C6734         R2799 2024-01-29 01:19:30   \n",
      "..        ...         ...           ...                 ...   \n",
      "995       996       C6232         R2129 2024-01-14 05:57:00   \n",
      "996       997       C6797         R2742 2024-01-28 08:50:43   \n",
      "997       998       C5926         R2837 2024-01-21 09:43:19   \n",
      "998       999       C7016         R2144 2024-01-30 22:23:38   \n",
      "999      1000       C4335         R2890 2024-01-08 14:46:43   \n",
      "\n",
      "    delivery_date_and_time  order_value  delivery_fee    payment_method  \\\n",
      "0      2024-02-01 02:39:52         1914             0       Credit Card   \n",
      "1      2024-02-02 22:46:04          986            40    Digital Wallet   \n",
      "2      2024-01-31 06:52:35          937            30  Cash on Delivery   \n",
      "3      2024-01-16 23:38:49         1463            50  Cash on Delivery   \n",
      "4      2024-01-29 02:48:30         1992            30  Cash on Delivery   \n",
      "..                     ...          ...           ...               ...   \n",
      "995    2024-01-14 06:39:00          825             0    Digital Wallet   \n",
      "996    2024-01-28 10:10:43         1627            50  Cash on Delivery   \n",
      "997    2024-01-21 10:44:19          553            20  Cash on Delivery   \n",
      "998    2024-01-31 00:07:38         1414             0  Cash on Delivery   \n",
      "999    2024-01-08 15:39:43         1657            20    Digital Wallet   \n",
      "\n",
      "    discounts_and_offers  commission_fee  ...  refunds/chargebacks  \\\n",
      "0              5% on App             150  ...                    0   \n",
      "1                    10%             198  ...                    0   \n",
      "2           15% New User             195  ...                    0   \n",
      "3                   None             146  ...                    0   \n",
      "4           50 off Promo             130  ...                    0   \n",
      "..                   ...             ...  ...                  ...   \n",
      "995            5% on App             165  ...                   50   \n",
      "996                 None             110  ...                    0   \n",
      "997                 None              64  ...                    0   \n",
      "998         15% New User             199  ...                    0   \n",
      "999         15% New User             180  ...                  100   \n",
      "\n",
      "     delivery_duration_(min)  day_of_week hour_of_day  has_discount  refunded  \\\n",
      "0                       88.0     Thursday           1          True     False   \n",
      "1                       35.0       Friday          22          True     False   \n",
      "2                       58.0    Wednesday           5          True     False   \n",
      "3                       46.0      Tuesday          22         False     False   \n",
      "4                       89.0       Monday           1          True     False   \n",
      "..                       ...          ...         ...           ...       ...   \n",
      "995                     42.0       Sunday           5          True      True   \n",
      "996                     80.0       Sunday           8         False     False   \n",
      "997                     61.0       Sunday           9         False     False   \n",
      "998                    104.0      Tuesday          22          True     False   \n",
      "999                     53.0       Monday          14          True      True   \n",
      "\n",
      "     discount_value  total_cost  profit  refunded.1  \n",
      "0             95.70      142.70    7.30       False  \n",
      "1             98.60      161.60   36.40       False  \n",
      "2            140.55      215.55  -20.55       False  \n",
      "3              0.00       77.00   69.00       False  \n",
      "4             50.00      130.00    0.00       False  \n",
      "..              ...         ...     ...         ...  \n",
      "995           41.25      138.25   26.75        True  \n",
      "996            0.00       92.00   18.00       False  \n",
      "997            0.00       51.00   13.00       False  \n",
      "998          212.10      246.10  -47.10       False  \n",
      "999          248.55      395.55 -215.55        True  \n",
      "\n",
      "[1000 rows x 21 columns]\n"
     ]
    }
   ],
   "source": [
    "print (df)"
   ]
  },
  {
   "cell_type": "code",
   "execution_count": 26,
   "metadata": {},
   "outputs": [
    {
     "name": "stderr",
     "output_type": "stream",
     "text": [
      "WARNING: An illegal reflective access operation has occurred\n",
      "WARNING: Illegal reflective access by org.apache.spark.unsafe.Platform (file:/usr/local/spark-3.2.0-bin-hadoop3.2/jars/spark-unsafe_2.12-3.2.0.jar) to constructor java.nio.DirectByteBuffer(long,int)\n",
      "WARNING: Please consider reporting this to the maintainers of org.apache.spark.unsafe.Platform\n",
      "WARNING: Use --illegal-access=warn to enable warnings of further illegal reflective access operations\n",
      "WARNING: All illegal access operations will be denied in a future release\n",
      "Using Spark's default log4j profile: org/apache/spark/log4j-defaults.properties\n",
      "Setting default log level to \"WARN\".\n",
      "To adjust logging level use sc.setLogLevel(newLevel). For SparkR, use setLogLevel(newLevel).\n",
      "25/07/03 15:36:47 WARN NativeCodeLoader: Unable to load native-hadoop library for your platform... using builtin-java classes where applicable\n",
      "[Stage 216:>                                                        (0 + 2) / 2]\r"
     ]
    },
    {
     "name": "stdout",
     "output_type": "stream",
     "text": [
      "✅ Modelo mejorado con TrainValidationSplit\n",
      "📉 RMSE final: 32.99\n"
     ]
    },
    {
     "name": "stderr",
     "output_type": "stream",
     "text": [
      "                                                                                \r"
     ]
    }
   ],
   "source": [
    "from pyspark.sql import SparkSession\n",
    "from pyspark import SparkContext\n",
    "from pyspark.ml.feature import StringIndexer, OneHotEncoder, VectorAssembler\n",
    "from pyspark.ml.regression import GBTRegressor\n",
    "from pyspark.ml import Pipeline\n",
    "from pyspark.ml.evaluation import RegressionEvaluator\n",
    "from pyspark.ml.tuning import ParamGridBuilder, TrainValidationSplit\n",
    "\n",
    "# Cerrar contexto anterior si está activo\n",
    "if SparkContext._active_spark_context:\n",
    "    SparkContext._active_spark_context.stop()\n",
    "\n",
    "# SparkSession apuntando al cluster\n",
    "spark = (\n",
    "    SparkSession.builder.appName(\"DeliveryDurationGBT-Tuned-Light\")\n",
    "    .master(\"spark://agile:7077\")\n",
    "    .config(\"spark.driver.bindAddress\", \"0.0.0.0\")\n",
    "    .getOrCreate()\n",
    ")\n",
    "\n",
    "sc = spark.sparkContext\n",
    "sc.setLogLevel(\"ERROR\")\n",
    "\n",
    "# Añadir columnas derivadas en pandas antes de pasar a Spark\n",
    "df[\"es_fin_de_semana\"] = df[\"day_of_week\"].isin([\"Saturday\", \"Sunday\"]).astype(int)\n",
    "df[\"es_hora_punta\"] = df[\"hour_of_day\"].between(13, 15) | df[\"hour_of_day\"].between(20, 22)\n",
    "df[\"es_hora_punta\"] = df[\"es_hora_punta\"].astype(int)\n",
    "\n",
    "# Crear DataFrame en Spark\n",
    "df_spark = spark.createDataFrame(df)\n",
    "\n",
    "# Variables\n",
    "categorical_cols = ['payment_method', 'discounts_and_offers', 'day_of_week', 'hour_of_day']\n",
    "numeric_cols = [\n",
    "    'order_value', 'delivery_fee', 'commission_fee', 'payment_processing_fee',\n",
    "    'refunds/chargebacks', 'discount_value', 'has_discount', 'refunded',\n",
    "    'es_fin_de_semana', 'es_hora_punta'\n",
    "]\n",
    "target = 'delivery_duration_(min)'\n",
    "\n",
    "# Indexado y one-hot\n",
    "indexers = [StringIndexer(inputCol=col, outputCol=col + \"_idx\", handleInvalid=\"keep\") for col in categorical_cols]\n",
    "encoders = [OneHotEncoder(inputCol=col + \"_idx\", outputCol=col + \"_vec\") for col in categorical_cols]\n",
    "\n",
    "# Vector de features\n",
    "assembler = VectorAssembler(\n",
    "    inputCols=numeric_cols + [col + \"_vec\" for col in categorical_cols],\n",
    "    outputCol=\"features\"\n",
    ")\n",
    "\n",
    "# Modelo\n",
    "regressor = GBTRegressor(featuresCol=\"features\", labelCol=target)\n",
    "\n",
    "# Pipeline\n",
    "pipeline = Pipeline(stages=indexers + encoders + [assembler, regressor])\n",
    "\n",
    "# Grid de hiperparámetros ligera\n",
    "paramGrid = ParamGridBuilder() \\\n",
    "    .addGrid(regressor.maxDepth, [5]) \\\n",
    "    .addGrid(regressor.maxIter, [20, 40]) \\\n",
    "    .build()\n",
    "\n",
    "# Train-validation split\n",
    "tvs = TrainValidationSplit(\n",
    "    estimator=pipeline,\n",
    "    estimatorParamMaps=paramGrid,\n",
    "    evaluator=RegressionEvaluator(labelCol=target, predictionCol=\"prediction\", metricName=\"rmse\"),\n",
    "    trainRatio=0.8\n",
    ")\n",
    "\n",
    "# Split de datos\n",
    "train_data, test_data = df_spark.randomSplit([0.8, 0.2], seed=42)\n",
    "\n",
    "# Entrenamiento\n",
    "# tvs_model = tvs.fit(train_data)\n",
    "tvs_model = pipeline.fit(train_data)\n",
    "\n",
    "# Evaluación\n",
    "predictions = tvs_model.transform(test_data)\n",
    "rmse = RegressionEvaluator(labelCol=target, predictionCol=\"prediction\", metricName=\"rmse\").evaluate(predictions)\n",
    "\n",
    "print(\"✅ Modelo mejorado con TrainValidationSplit\")\n",
    "print(f\"📉 RMSE final: {rmse:.2f}\")"
   ]
  },
  {
   "cell_type": "code",
   "execution_count": 27,
   "metadata": {},
   "outputs": [
    {
     "data": {
      "image/png": "[encoded data removed]",
      "text/plain": [
       "<Figure size 432x432 with 1 Axes>"
      ]
     },
     "metadata": {
      "needs_background": "light"
     },
     "output_type": "display_data"
    }
   ],
   "source": [
    "import pandas as pd\n",
    "import matplotlib.pyplot as plt\n",
    "\n",
    "# Convertimos a Pandas para visualización\n",
    "preds_pd = predictions.select(\"delivery_duration_(min)\", \"prediction\").toPandas()\n",
    "\n",
    "# Plot real vs predicho\n",
    "plt.figure(figsize=(6,6))\n",
    "plt.scatter(preds_pd[\"delivery_duration_(min)\"], preds_pd[\"prediction\"], alpha=0.5)\n",
    "plt.plot([0, preds_pd.max().max()], [0, preds_pd.max().max()], 'r--')\n",
    "plt.xlabel(\"Valor real\")\n",
    "plt.ylabel(\"Predicción\")\n",
    "plt.title(\"Predicción vs Real (Duración en minutos)\")\n",
    "plt.grid(True)\n",
    "plt.show()"
   ]
  },
  {
   "cell_type": "code",
   "execution_count": 28,
   "metadata": {},
   "outputs": [
    {
     "name": "stdout",
     "output_type": "stream",
     "text": [
      "+-----------------------+-----------------+\n",
      "|delivery_duration_(min)|       prediction|\n",
      "+-----------------------+-----------------+\n",
      "|                   58.0|59.76082828530326|\n",
      "|                   53.0|65.53867440988391|\n",
      "|                  114.0| 74.9488632985992|\n",
      "|                  100.0|66.88452785590404|\n",
      "|                   50.0|101.1379954650942|\n",
      "|                   98.0|69.67426253032023|\n",
      "|      66.00000000000001| 76.4174852018139|\n",
      "|      33.00000000000001|81.19250306420832|\n",
      "|      66.00000000000001|76.62536639154865|\n",
      "|                   86.0|66.71454503266844|\n",
      "+-----------------------+-----------------+\n",
      "only showing top 10 rows\n",
      "\n"
     ]
    }
   ],
   "source": [
    "# Mostrar predicciones reales vs. predichas\n",
    "predictions.select('delivery_duration_(min)', 'prediction').show(10)"
   ]
  },
  {
   "cell_type": "code",
   "execution_count": null,
   "metadata": {},
   "outputs": [],
   "source": []
  }
 ],
 "metadata": {
  "colab": {
   "name": "Food Delivery: Timing is everything",
   "provenance": []
  },
  "kaggle": {
   "accelerator": "none",
   "dataSources": [
    {
     "datasetId": 5072200,
     "sourceId": 8499662,
     "sourceType": "datasetVersion"
    }
   ],
   "dockerImageVersionId": 30698,
   "isGpuEnabled": false,
   "isInternetEnabled": true,
   "language": "python",
   "sourceType": "notebook"
  },
  "kernelspec": {
   "display_name": "Python 3 (ipykernel)",
   "language": "python",
   "name": "python3"
  },
  "language_info": {
   "codemirror_mode": {
    "name": "ipython",
    "version": 3
   },
   "file_extension": ".py",
   "mimetype": "text/x-python",
   "name": "python",
   "nbconvert_exporter": "python",
   "pygments_lexer": "ipython3",
   "version": "3.9.7"
  }
 },
 "nbformat": 4,
 "nbformat_minor": 4
}
