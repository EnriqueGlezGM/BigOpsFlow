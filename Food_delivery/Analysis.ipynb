{
 "cells": [
  {
   "cell_type": "markdown",
   "id": "7784514e",
   "metadata": {
    "papermill": {
     "duration": 0.016838,
     "end_time": "2025-08-28T18:09:46.009512",
     "exception": false,
     "start_time": "2025-08-28T18:09:45.992674",
     "status": "completed"
    },
    "tags": []
   },
   "source": [
    "# Instalación de dependencias"
   ]
  },
  {
   "cell_type": "code",
   "execution_count": null,
   "id": "f8e18825",
   "metadata": {
    "ExecuteTime": {
     "end_time": "2025-07-19T14:33:05.760043Z",
     "start_time": "2025-07-19T14:33:04.143086Z"
    },
    "execution": {
     "iopub.execute_input": "2025-08-28T18:09:46.032417Z",
     "iopub.status.busy": "2025-08-28T18:09:46.032076Z",
     "iopub.status.idle": "2025-08-28T18:09:47.856783Z",
     "shell.execute_reply": "2025-08-28T18:09:47.857269Z"
    },
    "papermill": {
     "duration": 1.837734,
     "end_time": "2025-08-28T18:09:47.858349",
     "exception": false,
     "start_time": "2025-08-28T18:09:46.020615",
     "status": "completed"
    },
    "tags": []
   },
   "outputs": [],
   "source": [
    "pip install kagglehub"
   ]
  },
  {
   "cell_type": "code",
   "execution_count": null,
   "id": "26274433",
   "metadata": {
    "execution": {
     "iopub.execute_input": "2025-08-28T18:09:47.901857Z",
     "iopub.status.busy": "2025-08-28T18:09:47.899753Z",
     "iopub.status.idle": "2025-08-28T18:09:53.575805Z",
     "shell.execute_reply": "2025-08-28T18:09:53.576204Z"
    },
    "papermill": {
     "duration": 5.707994,
     "end_time": "2025-08-28T18:09:53.576489",
     "exception": false,
     "start_time": "2025-08-28T18:09:47.868495",
     "status": "completed"
    },
    "tags": []
   },
   "outputs": [],
   "source": [
    "pip install --upgrade pandas"
   ]
  },
  {
   "cell_type": "markdown",
   "id": "09b82e54",
   "metadata": {
    "papermill": {
     "duration": 0.008994,
     "end_time": "2025-08-28T18:09:53.595389",
     "exception": false,
     "start_time": "2025-08-28T18:09:53.586395",
     "status": "completed"
    },
    "tags": []
   },
   "source": [
    "# Descarga del dataset"
   ]
  },
  {
   "cell_type": "code",
   "execution_count": null,
   "id": "4abbc559",
   "metadata": {
    "execution": {
     "iopub.execute_input": "2025-08-28T18:09:53.641102Z",
     "iopub.status.busy": "2025-08-28T18:09:53.640517Z",
     "iopub.status.idle": "2025-08-28T18:09:54.218312Z",
     "shell.execute_reply": "2025-08-28T18:09:54.218647Z"
    },
    "papermill": {
     "duration": 0.610403,
     "end_time": "2025-08-28T18:09:54.218803",
     "exception": false,
     "start_time": "2025-08-28T18:09:53.608400",
     "status": "completed"
    },
    "tags": []
   },
   "outputs": [],
   "source": [
    "import os\n",
    "import kagglehub\n",
    "\n",
    "dataset_path = kagglehub.dataset_download(\"romanniki/food-delivery-cost-and-profitability\")\n",
    "\n",
    "# Mostrar todos los archivos encontrados\n",
    "for root, dirs, files in os.walk(dataset_path):\n",
    "    for file in files:\n",
    "        print(\"Archivo encontrado:\", os.path.join(root, file))"
   ]
  },
  {
   "cell_type": "code",
   "execution_count": null,
   "id": "4a5ebaea",
   "metadata": {
    "ExecuteTime": {
     "end_time": "2025-07-19T14:33:06.366181Z",
     "start_time": "2025-07-19T14:33:05.839196Z"
    },
    "execution": {
     "iopub.execute_input": "2025-08-28T18:09:54.240698Z",
     "iopub.status.busy": "2025-08-28T18:09:54.240108Z",
     "iopub.status.idle": "2025-08-28T18:09:54.517280Z",
     "shell.execute_reply": "2025-08-28T18:09:54.518307Z"
    },
    "id": "DZiXESZ8UiEb",
    "papermill": {
     "duration": 0.29127,
     "end_time": "2025-08-28T18:09:54.518450",
     "exception": false,
     "start_time": "2025-08-28T18:09:54.227180",
     "status": "completed"
    },
    "tags": []
   },
   "outputs": [],
   "source": [
    "import kagglehub\n",
    "import os\n",
    "\n",
    "# Descarga el dataset (o usa el caché)\n",
    "romanniki_food_delivery_cost_and_profitability_path = kagglehub.dataset_download('romanniki/food-delivery-cost-and-profitability')\n",
    "\n",
    "# Buscar el primer archivo dentro del dataset descargado\n",
    "for root, dirs, files in os.walk(romanniki_food_delivery_cost_and_profitability_path):\n",
    "    for file in files:\n",
    "        path_dataset = os.path.abspath(os.path.join(root, file))\n",
    "        break  # solo el primero\n",
    "    else:\n",
    "        continue\n",
    "    break\n",
    "\n",
    "print('Data source import complete.')\n",
    "print(\"Archivo encontrado en:\", path_dataset)"
   ]
  },
  {
   "cell_type": "markdown",
   "id": "664711c0",
   "metadata": {
    "papermill": {
     "duration": 0.014803,
     "end_time": "2025-08-28T18:09:54.540307",
     "exception": false,
     "start_time": "2025-08-28T18:09:54.525504",
     "status": "completed"
    },
    "tags": []
   },
   "source": [
    "# Librerías necesarias"
   ]
  },
  {
   "cell_type": "code",
   "execution_count": null,
   "id": "29ccb55a",
   "metadata": {
    "ExecuteTime": {
     "end_time": "2025-07-19T14:33:06.391946Z",
     "start_time": "2025-07-19T14:33:06.388433Z"
    },
    "execution": {
     "iopub.execute_input": "2025-08-28T18:09:54.558187Z",
     "iopub.status.busy": "2025-08-28T18:09:54.557734Z",
     "iopub.status.idle": "2025-08-28T18:09:55.727758Z",
     "shell.execute_reply": "2025-08-28T18:09:55.728068Z"
    },
    "papermill": {
     "duration": 1.181876,
     "end_time": "2025-08-28T18:09:55.728287",
     "exception": false,
     "start_time": "2025-08-28T18:09:54.546411",
     "status": "completed"
    },
    "tags": []
   },
   "outputs": [],
   "source": [
    "import numpy as np\n",
    "import pandas as pd\n",
    "import matplotlib.pyplot as plt\n",
    "import seaborn as sns\n",
    "\n",
    "import warnings\n",
    "warnings.filterwarnings('ignore')"
   ]
  },
  {
   "cell_type": "markdown",
   "id": "c567da77",
   "metadata": {
    "papermill": {
     "duration": 0.006563,
     "end_time": "2025-08-28T18:09:55.741716",
     "exception": false,
     "start_time": "2025-08-28T18:09:55.735153",
     "status": "completed"
    },
    "tags": []
   },
   "source": [
    "# Exploración Inicial (EDA)"
   ]
  },
  {
   "cell_type": "code",
   "execution_count": null,
   "id": "50c79229",
   "metadata": {
    "ExecuteTime": {
     "end_time": "2025-07-19T14:33:06.440900Z",
     "start_time": "2025-07-19T14:33:06.406096Z"
    },
    "execution": {
     "iopub.execute_input": "2025-08-28T18:09:55.757855Z",
     "iopub.status.busy": "2025-08-28T18:09:55.757503Z",
     "iopub.status.idle": "2025-08-28T18:09:55.785398Z",
     "shell.execute_reply": "2025-08-28T18:09:55.785133Z"
    },
    "papermill": {
     "duration": 0.037684,
     "end_time": "2025-08-28T18:09:55.785466",
     "exception": false,
     "start_time": "2025-08-28T18:09:55.747782",
     "status": "completed"
    },
    "tags": []
   },
   "outputs": [],
   "source": [
    "df = pd.read_csv(path_dataset)\n",
    "df.shape"
   ]
  },
  {
   "cell_type": "code",
   "execution_count": null,
   "id": "781b4e0c",
   "metadata": {
    "ExecuteTime": {
     "end_time": "2025-07-19T14:33:06.519151Z",
     "start_time": "2025-07-19T14:33:06.456124Z"
    },
    "execution": {
     "iopub.execute_input": "2025-08-28T18:09:55.818002Z",
     "iopub.status.busy": "2025-08-28T18:09:55.815607Z",
     "iopub.status.idle": "2025-08-28T18:09:55.872058Z",
     "shell.execute_reply": "2025-08-28T18:09:55.872345Z"
    },
    "papermill": {
     "duration": 0.081195,
     "end_time": "2025-08-28T18:09:55.872465",
     "exception": false,
     "start_time": "2025-08-28T18:09:55.791270",
     "status": "completed"
    },
    "tags": []
   },
   "outputs": [],
   "source": [
    "\n",
    "# Convertir fechas a tipo datetime\n",
    "df['Order Date and Time'] = pd.to_datetime(df['Order Date and Time'])\n",
    "df['Delivery Date and Time'] = pd.to_datetime(df['Delivery Date and Time'])\n",
    "\n",
    "# Crear columna de tiempo de entrega en minutos\n",
    "df['Delivery Duration (min)'] = (df['Delivery Date and Time'] - df['Order Date and Time']).dt.total_seconds() / 60\n",
    "# Extraer día y hora del pedido\n",
    "df['day_of_week'] = df['Order Date and Time'].dt.day_name()\n",
    "df['hour_of_day'] = df['Order Date and Time'].dt.hour\n",
    "# Marcar si hay descuento o no\n",
    "df['has_discount'] = df['Discounts and Offers'].str.lower() != 'none'\n",
    "\n",
    "# Marcar si fue reembolsado\n",
    "df['refunded'] = df['Refunds/Chargebacks'] > 0\n",
    "df"
   ]
  },
  {
   "cell_type": "code",
   "execution_count": null,
   "id": "d12cdd8c",
   "metadata": {
    "ExecuteTime": {
     "end_time": "2025-07-19T14:33:06.604977Z",
     "start_time": "2025-07-19T14:33:06.599652Z"
    },
    "execution": {
     "iopub.execute_input": "2025-08-28T18:09:55.894284Z",
     "iopub.status.busy": "2025-08-28T18:09:55.888163Z",
     "iopub.status.idle": "2025-08-28T18:09:55.896317Z",
     "shell.execute_reply": "2025-08-28T18:09:55.896011Z"
    },
    "papermill": {
     "duration": 0.016961,
     "end_time": "2025-08-28T18:09:55.896395",
     "exception": false,
     "start_time": "2025-08-28T18:09:55.879434",
     "status": "completed"
    },
    "tags": []
   },
   "outputs": [],
   "source": [
    "print(df['Discounts and Offers'].value_counts())"
   ]
  },
  {
   "cell_type": "markdown",
   "id": "0a89081c",
   "metadata": {
    "papermill": {
     "duration": 0.006508,
     "end_time": "2025-08-28T18:09:55.909587",
     "exception": false,
     "start_time": "2025-08-28T18:09:55.903079",
     "status": "completed"
    },
    "tags": []
   },
   "source": [
    "### Cálculo del valor del descuento"
   ]
  },
  {
   "cell_type": "code",
   "execution_count": null,
   "id": "b6a70b78",
   "metadata": {
    "ExecuteTime": {
     "end_time": "2025-07-19T14:33:06.686032Z",
     "start_time": "2025-07-19T14:33:06.658804Z"
    },
    "execution": {
     "iopub.execute_input": "2025-08-28T18:09:55.939932Z",
     "iopub.status.busy": "2025-08-28T18:09:55.928627Z",
     "iopub.status.idle": "2025-08-28T18:09:55.953608Z",
     "shell.execute_reply": "2025-08-28T18:09:55.953988Z"
    },
    "papermill": {
     "duration": 0.038127,
     "end_time": "2025-08-28T18:09:55.954102",
     "exception": false,
     "start_time": "2025-08-28T18:09:55.915975",
     "status": "completed"
    },
    "tags": []
   },
   "outputs": [],
   "source": [
    "def calcular_descuento(row):\n",
    "    valor = str(row['Discounts and Offers']).lower()\n",
    "    pedido = row['Order Value']\n",
    "    \n",
    "    # Si es porcentaje, por ejemplo \"10%\" o \"5% on app\"\n",
    "    if '%' in valor:\n",
    "        try:\n",
    "            porcentaje = float(valor.split('%')[0])\n",
    "            return pedido * (porcentaje / 100)\n",
    "        except:\n",
    "            return 0\n",
    "        \n",
    "    # Si es \"50 off Promo\" u otros con valor fijo\n",
    "    elif 'off' in valor:\n",
    "        for token in valor.split():\n",
    "            try:\n",
    "                return float(token)\n",
    "            except:\n",
    "                continue\n",
    "        return 0\n",
    "\n",
    "    # Si es \"None\" u otra cosa no reconocida\n",
    "    return 0\n",
    "\n",
    "# Aplicar al DataFrame\n",
    "df['Discount Value'] = df.apply(calcular_descuento, axis=1)\n",
    "\n",
    "# Verificar\n",
    "df[['Discounts and Offers', 'Order Value', 'Discount Value']].head(10)"
   ]
  },
  {
   "cell_type": "markdown",
   "id": "820676f7",
   "metadata": {
    "papermill": {
     "duration": 0.010829,
     "end_time": "2025-08-28T18:09:55.971955",
     "exception": false,
     "start_time": "2025-08-28T18:09:55.961126",
     "status": "completed"
    },
    "tags": []
   },
   "source": [
    "### Cálculo del coste total y beneficio"
   ]
  },
  {
   "cell_type": "code",
   "execution_count": null,
   "id": "2d4ee3f1",
   "metadata": {
    "ExecuteTime": {
     "end_time": "2025-07-19T14:33:06.744183Z",
     "start_time": "2025-07-19T14:33:06.738421Z"
    },
    "execution": {
     "iopub.execute_input": "2025-08-28T18:09:55.991987Z",
     "iopub.status.busy": "2025-08-28T18:09:55.991615Z",
     "iopub.status.idle": "2025-08-28T18:09:55.994667Z",
     "shell.execute_reply": "2025-08-28T18:09:55.994357Z"
    },
    "papermill": {
     "duration": 0.015009,
     "end_time": "2025-08-28T18:09:55.994744",
     "exception": false,
     "start_time": "2025-08-28T18:09:55.979735",
     "status": "completed"
    },
    "tags": []
   },
   "outputs": [],
   "source": [
    "df['Total Cost'] = df['Delivery Fee'] + df['Discount Value'] + df['Payment Processing Fee'] + df['Refunds/Chargebacks']"
   ]
  },
  {
   "cell_type": "code",
   "execution_count": null,
   "id": "d94fd72f",
   "metadata": {
    "ExecuteTime": {
     "end_time": "2025-07-19T14:33:06.793022Z",
     "start_time": "2025-07-19T14:33:06.784037Z"
    },
    "execution": {
     "iopub.execute_input": "2025-08-28T18:09:56.013860Z",
     "iopub.status.busy": "2025-08-28T18:09:56.011469Z",
     "iopub.status.idle": "2025-08-28T18:09:56.016441Z",
     "shell.execute_reply": "2025-08-28T18:09:56.016167Z"
    },
    "papermill": {
     "duration": 0.015203,
     "end_time": "2025-08-28T18:09:56.016518",
     "exception": false,
     "start_time": "2025-08-28T18:09:56.001315",
     "status": "completed"
    },
    "tags": []
   },
   "outputs": [],
   "source": [
    "df['Profit'] = df['Commission Fee'] - df['Total Cost']\n",
    "\n",
    "# Estadísticas generales\n",
    "print(\"Ganancia media por pedido:\", round(df['Profit'].mean(), 2))\n",
    "print(\"Pedidos con pérdida:\", (df['Profit'] < 0).sum())\n",
    "print(\"Porcentaje con pérdida:\", round((df['Profit'] < 0).mean() * 100, 2), '%')"
   ]
  },
  {
   "cell_type": "markdown",
   "id": "e092532d",
   "metadata": {
    "papermill": {
     "duration": 0.006506,
     "end_time": "2025-08-28T18:09:56.029244",
     "exception": false,
     "start_time": "2025-08-28T18:09:56.022738",
     "status": "completed"
    },
    "tags": []
   },
   "source": [
    "### Análisis de pérdidas"
   ]
  },
  {
   "cell_type": "code",
   "execution_count": null,
   "id": "f2c35889",
   "metadata": {
    "ExecuteTime": {
     "end_time": "2025-07-19T14:33:06.827019Z",
     "start_time": "2025-07-19T14:33:06.815908Z"
    },
    "execution": {
     "iopub.execute_input": "2025-08-28T18:09:56.045886Z",
     "iopub.status.busy": "2025-08-28T18:09:56.045514Z",
     "iopub.status.idle": "2025-08-28T18:09:56.054490Z",
     "shell.execute_reply": "2025-08-28T18:09:56.054159Z"
    },
    "papermill": {
     "duration": 0.018846,
     "end_time": "2025-08-28T18:09:56.054576",
     "exception": false,
     "start_time": "2025-08-28T18:09:56.035730",
     "status": "completed"
    },
    "tags": []
   },
   "outputs": [],
   "source": [
    "# Mostrar los 10 pedidos con mayores pérdidas (menor Profit)\n",
    "top_losses = df.sort_values(by='Profit').tail(10)\n",
    "\n",
    "# Mostrar solo las columnas clave para el análisis\n",
    "top_losses[[ 'Order Value', 'Commission Fee', 'Total Cost', 'Profit', 'Discounts and Offers']]"
   ]
  },
  {
   "cell_type": "code",
   "execution_count": null,
   "id": "f413b9d6",
   "metadata": {
    "ExecuteTime": {
     "end_time": "2025-07-19T14:33:06.874830Z",
     "start_time": "2025-07-19T14:33:06.862986Z"
    },
    "execution": {
     "iopub.execute_input": "2025-08-28T18:09:56.075710Z",
     "iopub.status.busy": "2025-08-28T18:09:56.075370Z",
     "iopub.status.idle": "2025-08-28T18:09:56.078368Z",
     "shell.execute_reply": "2025-08-28T18:09:56.078044Z"
    },
    "papermill": {
     "duration": 0.016796,
     "end_time": "2025-08-28T18:09:56.078446",
     "exception": false,
     "start_time": "2025-08-28T18:09:56.061650",
     "status": "completed"
    },
    "tags": []
   },
   "outputs": [],
   "source": [
    "print(df)"
   ]
  },
  {
   "cell_type": "markdown",
   "id": "e0519711",
   "metadata": {
    "papermill": {
     "duration": 0.007723,
     "end_time": "2025-08-28T18:09:56.093621",
     "exception": false,
     "start_time": "2025-08-28T18:09:56.085898",
     "status": "completed"
    },
    "tags": []
   },
   "source": [
    "## Visualización de correlaciones numéricas"
   ]
  },
  {
   "cell_type": "code",
   "execution_count": null,
   "id": "aee642c4",
   "metadata": {
    "ExecuteTime": {
     "end_time": "2025-07-19T14:33:07.403158Z",
     "start_time": "2025-07-19T14:33:06.925091Z"
    },
    "execution": {
     "iopub.execute_input": "2025-08-28T18:09:56.118943Z",
     "iopub.status.busy": "2025-08-28T18:09:56.118570Z",
     "iopub.status.idle": "2025-08-28T18:09:56.732810Z",
     "shell.execute_reply": "2025-08-28T18:09:56.732248Z"
    },
    "papermill": {
     "duration": 0.63188,
     "end_time": "2025-08-28T18:09:56.733035",
     "exception": false,
     "start_time": "2025-08-28T18:09:56.101155",
     "status": "completed"
    },
    "tags": []
   },
   "outputs": [],
   "source": [
    "plt.figure(figsize=(6,6))\n",
    "sns.heatmap(df.select_dtypes(include=['number']).corr(), annot=True, fmt='.1f')"
   ]
  },
  {
   "cell_type": "code",
   "execution_count": null,
   "id": "93956860",
   "metadata": {
    "ExecuteTime": {
     "end_time": "2025-07-19T14:33:07.560809Z",
     "start_time": "2025-07-19T14:33:07.423773Z"
    },
    "execution": {
     "iopub.execute_input": "2025-08-28T18:09:56.763697Z",
     "iopub.status.busy": "2025-08-28T18:09:56.763346Z",
     "iopub.status.idle": "2025-08-28T18:09:56.893807Z",
     "shell.execute_reply": "2025-08-28T18:09:56.893489Z"
    },
    "papermill": {
     "duration": 0.14838,
     "end_time": "2025-08-28T18:09:56.893894",
     "exception": false,
     "start_time": "2025-08-28T18:09:56.745514",
     "status": "completed"
    },
    "tags": []
   },
   "outputs": [],
   "source": [
    "import seaborn as sns\n",
    "import matplotlib.pyplot as plt\n",
    "\n",
    "plt.figure(figsize=(10,5))\n",
    "sns.boxplot(data=df, x='day_of_week', y='Delivery Duration (min)', \n",
    "            order=['Monday','Tuesday','Wednesday','Thursday','Friday','Saturday','Sunday'])\n",
    "plt.xticks(rotation=45)\n",
    "plt.title(\"Duración de entrega por día de la semana\")\n",
    "plt.show()"
   ]
  },
  {
   "cell_type": "code",
   "execution_count": null,
   "id": "fe2c2028",
   "metadata": {
    "ExecuteTime": {
     "end_time": "2025-07-19T14:33:07.763033Z",
     "start_time": "2025-07-19T14:33:07.578110Z"
    },
    "execution": {
     "iopub.execute_input": "2025-08-28T18:09:56.916607Z",
     "iopub.status.busy": "2025-08-28T18:09:56.916272Z",
     "iopub.status.idle": "2025-08-28T18:09:57.064835Z",
     "shell.execute_reply": "2025-08-28T18:09:57.065104Z"
    },
    "papermill": {
     "duration": 0.162821,
     "end_time": "2025-08-28T18:09:57.065214",
     "exception": false,
     "start_time": "2025-08-28T18:09:56.902393",
     "status": "completed"
    },
    "tags": []
   },
   "outputs": [],
   "source": [
    "top_restaurants = df['Restaurant ID'].value_counts().nlargest(10).index\n",
    "\n",
    "plt.figure(figsize=(10,5))\n",
    "sns.boxplot(data=df[df['Restaurant ID'].isin(top_restaurants)],\n",
    "            x='Restaurant ID', y='Delivery Duration (min)')\n",
    "plt.xticks(rotation=45)\n",
    "plt.title(\"Top 10 restaurantes vs duración de entrega\")\n",
    "plt.show()"
   ]
  },
  {
   "cell_type": "code",
   "execution_count": null,
   "id": "a33fe924",
   "metadata": {
    "ExecuteTime": {
     "end_time": "2025-07-19T14:33:07.849801Z",
     "start_time": "2025-07-19T14:33:07.778800Z"
    },
    "execution": {
     "iopub.execute_input": "2025-08-28T18:09:57.088116Z",
     "iopub.status.busy": "2025-08-28T18:09:57.086767Z",
     "iopub.status.idle": "2025-08-28T18:09:57.147924Z",
     "shell.execute_reply": "2025-08-28T18:09:57.147562Z"
    },
    "papermill": {
     "duration": 0.074249,
     "end_time": "2025-08-28T18:09:57.148001",
     "exception": false,
     "start_time": "2025-08-28T18:09:57.073752",
     "status": "completed"
    },
    "tags": []
   },
   "outputs": [],
   "source": [
    "plt.figure(figsize=(6,4))\n",
    "sns.boxplot(data=df, x='has_discount', y='Delivery Duration (min)')\n",
    "plt.title(\"Duración con/sin descuento\")\n",
    "plt.xlabel(\"¿Tiene descuento?\")\n",
    "plt.ylabel(\"Duración (min)\")\n",
    "plt.show()"
   ]
  },
  {
   "cell_type": "code",
   "execution_count": null,
   "id": "02f59786",
   "metadata": {
    "ExecuteTime": {
     "end_time": "2025-07-19T14:33:07.954801Z",
     "start_time": "2025-07-19T14:33:07.865268Z"
    },
    "execution": {
     "iopub.execute_input": "2025-08-28T18:09:57.170213Z",
     "iopub.status.busy": "2025-08-28T18:09:57.169862Z",
     "iopub.status.idle": "2025-08-28T18:09:57.254931Z",
     "shell.execute_reply": "2025-08-28T18:09:57.254625Z"
    },
    "papermill": {
     "duration": 0.098221,
     "end_time": "2025-08-28T18:09:57.255028",
     "exception": false,
     "start_time": "2025-08-28T18:09:57.156807",
     "status": "completed"
    },
    "tags": []
   },
   "outputs": [],
   "source": [
    "plt.figure(figsize=(8,4))\n",
    "sns.boxplot(data=df, x='Payment Method', y='Delivery Duration (min)')\n",
    "plt.title(\"Método de pago vs duración de entrega\")\n",
    "plt.xticks(rotation=45)\n",
    "plt.show()"
   ]
  },
  {
   "cell_type": "code",
   "execution_count": null,
   "id": "2bf12976",
   "metadata": {
    "ExecuteTime": {
     "end_time": "2025-07-19T14:33:08.050806Z",
     "start_time": "2025-07-19T14:33:07.970379Z"
    },
    "execution": {
     "iopub.execute_input": "2025-08-28T18:09:57.281063Z",
     "iopub.status.busy": "2025-08-28T18:09:57.280468Z",
     "iopub.status.idle": "2025-08-28T18:09:57.419841Z",
     "shell.execute_reply": "2025-08-28T18:09:57.419466Z"
    },
    "papermill": {
     "duration": 0.156236,
     "end_time": "2025-08-28T18:09:57.419934",
     "exception": false,
     "start_time": "2025-08-28T18:09:57.263698",
     "status": "completed"
    },
    "tags": []
   },
   "outputs": [],
   "source": [
    "plt.figure(figsize=(6,4))\n",
    "sns.boxplot(data=df, x='refunded', y='Delivery Duration (min)')\n",
    "plt.title(\"Reembolsos vs duración de entrega\")\n",
    "plt.xlabel(\"¿Fue reembolsado?\")\n",
    "plt.ylabel(\"Duración (min)\")\n",
    "plt.show()"
   ]
  },
  {
   "cell_type": "code",
   "execution_count": null,
   "id": "4e015845",
   "metadata": {
    "ExecuteTime": {
     "end_time": "2025-07-19T14:33:08.332802Z",
     "start_time": "2025-07-19T14:33:08.065785Z"
    },
    "execution": {
     "iopub.execute_input": "2025-08-28T18:09:57.443659Z",
     "iopub.status.busy": "2025-08-28T18:09:57.443351Z",
     "iopub.status.idle": "2025-08-28T18:09:57.712113Z",
     "shell.execute_reply": "2025-08-28T18:09:57.711765Z"
    },
    "papermill": {
     "duration": 0.283222,
     "end_time": "2025-08-28T18:09:57.712204",
     "exception": false,
     "start_time": "2025-08-28T18:09:57.428982",
     "status": "completed"
    },
    "tags": []
   },
   "outputs": [],
   "source": [
    "plt.figure(figsize=(10,4))\n",
    "sns.boxplot(data=df, x='hour_of_day', y='Delivery Duration (min)')\n",
    "plt.title(\"Duración según hora del pedido\")\n",
    "plt.xlabel(\"Hora del día\")\n",
    "plt.ylabel(\"Duración (min)\")\n",
    "plt.show()"
   ]
  },
  {
   "cell_type": "code",
   "execution_count": null,
   "id": "fade27a2",
   "metadata": {
    "ExecuteTime": {
     "end_time": "2025-07-19T14:33:08.674807Z",
     "start_time": "2025-07-19T14:33:08.531825Z"
    },
    "execution": {
     "iopub.execute_input": "2025-08-28T18:09:57.738967Z",
     "iopub.status.busy": "2025-08-28T18:09:57.735265Z",
     "iopub.status.idle": "2025-08-28T18:09:57.844170Z",
     "shell.execute_reply": "2025-08-28T18:09:57.844405Z"
    },
    "papermill": {
     "duration": 0.123374,
     "end_time": "2025-08-28T18:09:57.844509",
     "exception": false,
     "start_time": "2025-08-28T18:09:57.721135",
     "status": "completed"
    },
    "tags": []
   },
   "outputs": [],
   "source": [
    "import seaborn as sns\n",
    "import matplotlib.pyplot as plt\n",
    "\n",
    "# Asegurarnos de que la columna tenga un nombre limpio (por si no lo hiciste antes)\n",
    "df['Discounts and Offers'] = df['Discounts and Offers'].astype(str)\n",
    "\n",
    "# Agrupar por tipo de descuento y calcular profit promedio\n",
    "profit_por_descuento = df.groupby('Discounts and Offers')['Profit'].mean().sort_values()\n",
    "\n",
    "# Crear gráfico\n",
    "plt.figure(figsize=(10,6))\n",
    "sns.barplot(x=profit_por_descuento.values, y=profit_por_descuento.index, palette='coolwarm')\n",
    "plt.title(\"Ganancia media por tipo de descuento\")\n",
    "plt.xlabel(\"Ganancia media (Profit)\")\n",
    "plt.ylabel(\"Tipo de descuento\")\n",
    "plt.axvline(0, color='gray', linestyle='--')\n",
    "plt.tight_layout()\n",
    "plt.show()"
   ]
  },
  {
   "cell_type": "code",
   "execution_count": null,
   "id": "18fbefd2",
   "metadata": {
    "ExecuteTime": {
     "end_time": "2025-07-19T14:33:08.795803Z",
     "start_time": "2025-07-19T14:33:08.688932Z"
    },
    "execution": {
     "iopub.execute_input": "2025-08-28T18:09:57.880775Z",
     "iopub.status.busy": "2025-08-28T18:09:57.880363Z",
     "iopub.status.idle": "2025-08-28T18:09:57.969191Z",
     "shell.execute_reply": "2025-08-28T18:09:57.969442Z"
    },
    "papermill": {
     "duration": 0.115606,
     "end_time": "2025-08-28T18:09:57.969543",
     "exception": false,
     "start_time": "2025-08-28T18:09:57.853937",
     "status": "completed"
    },
    "tags": []
   },
   "outputs": [],
   "source": [
    "import seaborn as sns\n",
    "import matplotlib.pyplot as plt\n",
    "\n",
    "# Asegúrate de que la columna de duración esté creada\n",
    "if 'Delivery Duration (min)' not in df.columns:\n",
    "    df['Order Date and Time'] = pd.to_datetime(df['Order Date and Time'])\n",
    "    df['Delivery Date and Time'] = pd.to_datetime(df['Delivery Date and Time'])\n",
    "    df['Delivery Duration (min)'] = (df['Delivery Date and Time'] - df['Order Date and Time']).dt.total_seconds() / 60\n",
    "\n",
    "# Crear columna binaria: ¿Hubo reembolso?\n",
    "df['Refunded'] = df['Refunds/Chargebacks'] > 0\n",
    "\n",
    "# Gráfico de distribución del tiempo de entrega según haya o no reembolso\n",
    "plt.figure(figsize=(10,6))\n",
    "sns.boxplot(x='Refunded', y='Delivery Duration (min)', data=df)\n",
    "plt.xticks([0,1], ['Sin reembolso', 'Con reembolso'])\n",
    "plt.title(\"Tiempo de entrega según presencia de reembolso\")\n",
    "plt.ylabel(\"Duración de entrega (minutos)\")\n",
    "plt.xlabel(\"¿Hubo reembolso?\")\n",
    "plt.tight_layout()\n",
    "plt.show()"
   ]
  },
  {
   "cell_type": "code",
   "execution_count": null,
   "id": "604017fa",
   "metadata": {
    "ExecuteTime": {
     "end_time": "2025-07-19T14:33:09.210824Z",
     "start_time": "2025-07-19T14:33:09.207015Z"
    },
    "execution": {
     "iopub.execute_input": "2025-08-28T18:09:57.994305Z",
     "iopub.status.busy": "2025-08-28T18:09:57.993837Z",
     "iopub.status.idle": "2025-08-28T18:09:57.996529Z",
     "shell.execute_reply": "2025-08-28T18:09:57.996153Z"
    },
    "papermill": {
     "duration": 0.017634,
     "end_time": "2025-08-28T18:09:57.996887",
     "exception": false,
     "start_time": "2025-08-28T18:09:57.979253",
     "status": "completed"
    },
    "tags": []
   },
   "outputs": [],
   "source": [
    "# Normalizar y deduplicar nombres de columnas en pandas (compatible 1.x/2.x)\n",
    "from collections import defaultdict\n",
    "df.columns = (\n",
    "    df.columns\n",
    "      .map(str)\n",
    "      .str.strip()\n",
    "      .str.lower()\n",
    "      .str.replace(' ', '_', regex=False)\n",
    ")\n",
    "counts = defaultdict(int)\n",
    "new_cols = []\n",
    "for c in df.columns:\n",
    "    if counts[c]:\n",
    "        new_cols.append(f\"{c}.{counts[c]}\")\n",
    "    else:\n",
    "        new_cols.append(c)\n",
    "    counts[c] += 1\n",
    "df.columns = new_cols\n"
   ]
  },
  {
   "cell_type": "code",
   "execution_count": null,
   "id": "af20c38b",
   "metadata": {
    "ExecuteTime": {
     "end_time": "2025-07-19T14:33:09.235823Z",
     "start_time": "2025-07-19T14:33:09.222952Z"
    },
    "execution": {
     "iopub.execute_input": "2025-08-28T18:09:58.024309Z",
     "iopub.status.busy": "2025-08-28T18:09:58.021941Z",
     "iopub.status.idle": "2025-08-28T18:09:58.035419Z",
     "shell.execute_reply": "2025-08-28T18:09:58.035159Z"
    },
    "papermill": {
     "duration": 0.028241,
     "end_time": "2025-08-28T18:09:58.035493",
     "exception": false,
     "start_time": "2025-08-28T18:09:58.007252",
     "status": "completed"
    },
    "tags": []
   },
   "outputs": [],
   "source": [
    "print (df)"
   ]
  },
  {
   "cell_type": "markdown",
   "id": "a9143581",
   "metadata": {
    "papermill": {
     "duration": 0.00921,
     "end_time": "2025-08-28T18:09:58.054444",
     "exception": false,
     "start_time": "2025-08-28T18:09:58.045234",
     "status": "completed"
    },
    "tags": []
   },
   "source": [
    "# Configuración de Spark y preparación de datos"
   ]
  },
  {
   "cell_type": "code",
   "execution_count": null,
   "id": "436f33f5",
   "metadata": {
    "ExecuteTime": {
     "end_time": "2025-07-19T14:34:40.666100Z",
     "start_time": "2025-07-19T14:33:09.261662Z"
    },
    "execution": {
     "iopub.execute_input": "2025-08-28T18:09:58.083972Z",
     "iopub.status.busy": "2025-08-28T18:09:58.082617Z",
     "iopub.status.idle": "2025-08-28T18:10:58.674353Z",
     "shell.execute_reply": "2025-08-28T18:10:58.674883Z"
    },
    "papermill": {
     "duration": 60.611272,
     "end_time": "2025-08-28T18:10:58.675313",
     "exception": false,
     "start_time": "2025-08-28T18:09:58.064041",
     "status": "completed"
    },
    "tags": []
   },
   "outputs": [],
   "source": [
    "from pyspark.sql import SparkSession\n",
    "from pyspark import SparkContext\n",
    "from pyspark.ml.feature import StringIndexer, OneHotEncoder, VectorAssembler\n",
    "from pyspark.ml.regression import GBTRegressor\n",
    "from pyspark.ml import Pipeline\n",
    "from pyspark.ml.evaluation import RegressionEvaluator\n",
    "from pyspark.ml.tuning import ParamGridBuilder, TrainValidationSplit\n",
    "\n",
    "# Cerrar contexto anterior si está activo\n",
    "if SparkContext._active_spark_context:\n",
    "    SparkContext._active_spark_context.stop()\n",
    "\n",
    "# SparkSession apuntando al cluster\n",
    "spark = (\n",
    "    SparkSession.builder.appName(\"DeliveryDurationGBT-Tuned-Light\")\n",
    "    .master(\"spark://agile:7077\")\n",
    "    .config(\"spark.driver.bindAddress\", \"0.0.0.0\")\n",
    "    .getOrCreate()\n",
    ")\n",
    "\n",
    "sc = spark.sparkContext\n",
    "sc.setLogLevel(\"ERROR\")\n",
    "\n",
    "# Añadir columnas derivadas en pandas antes de pasar a Spark\n",
    "df[\"es_fin_de_semana\"] = df[\"day_of_week\"].isin([\"Saturday\", \"Sunday\"]).astype(int)\n",
    "df[\"es_hora_punta\"] = df[\"hour_of_day\"].between(13, 15) | df[\"hour_of_day\"].between(20, 22)\n",
    "df[\"es_hora_punta\"] = df[\"es_hora_punta\"].astype(int)\n",
    "\n",
    "# Crear DataFrame en Spark\n",
    "df_spark = spark.createDataFrame(df)\n",
    "\n",
    "# Variables\n",
    "categorical_cols = ['payment_method', 'discounts_and_offers', 'day_of_week', 'hour_of_day']\n",
    "numeric_cols = [\n",
    "    'order_value', 'delivery_fee', 'commission_fee', 'payment_processing_fee',\n",
    "    'refunds/chargebacks', 'discount_value', 'has_discount', 'refunded',\n",
    "    'es_fin_de_semana', 'es_hora_punta'\n",
    "]\n",
    "target = 'delivery_duration_(min)'\n",
    "\n",
    "# Indexado y one-hot\n",
    "indexers = [StringIndexer(inputCol=col, outputCol=col + \"_idx\", handleInvalid=\"keep\") for col in categorical_cols]\n",
    "encoders = [OneHotEncoder(inputCol=col + \"_idx\", outputCol=col + \"_vec\") for col in categorical_cols]\n",
    "\n",
    "# Vector de features\n",
    "assembler = VectorAssembler(\n",
    "    inputCols=numeric_cols + [col + \"_vec\" for col in categorical_cols],\n",
    "    outputCol=\"features\"\n",
    ")\n",
    "\n",
    "# Modelo\n",
    "regressor = GBTRegressor(featuresCol=\"features\", labelCol=target)\n",
    "\n",
    "# Pipeline\n",
    "pipeline = Pipeline(stages=indexers + encoders + [assembler, regressor])\n",
    "\n",
    "# Grid de hiperparámetros ligera\n",
    "paramGrid = ParamGridBuilder() \\\n",
    "    .addGrid(regressor.maxDepth, [5]) \\\n",
    "    .addGrid(regressor.maxIter, [20, 40]) \\\n",
    "    .build()\n",
    "\n",
    "# Train-validation split\n",
    "tvs = TrainValidationSplit(\n",
    "    estimator=pipeline,\n",
    "    estimatorParamMaps=paramGrid,\n",
    "    evaluator=RegressionEvaluator(labelCol=target, predictionCol=\"prediction\", metricName=\"rmse\"),\n",
    "    trainRatio=0.8\n",
    ")\n",
    "\n",
    "# Split de datos\n",
    "train_data, test_data = df_spark.randomSplit([0.8, 0.2], seed=42)\n",
    "\n",
    "# Entrenamiento\n",
    "# tvs_model = tvs.fit(train_data)\n",
    "tvs_model = pipeline.fit(train_data)\n",
    "\n",
    "# Evaluación\n",
    "predictions = tvs_model.transform(test_data)\n",
    "rmse = RegressionEvaluator(labelCol=target, predictionCol=\"prediction\", metricName=\"rmse\").evaluate(predictions)\n",
    "\n",
    "print(\"✅ Modelo mejorado con TrainValidationSplit\")\n",
    "print(f\"📉 RMSE final: {rmse:.2f}\")"
   ]
  },
  {
   "cell_type": "code",
   "execution_count": null,
   "id": "a016f7ac",
   "metadata": {
    "execution": {
     "iopub.execute_input": "2025-08-28T18:10:58.717503Z",
     "iopub.status.busy": "2025-08-28T18:10:58.717051Z",
     "iopub.status.idle": "2025-08-28T18:10:58.724627Z",
     "shell.execute_reply": "2025-08-28T18:10:58.724300Z"
    },
    "papermill": {
     "duration": 0.025685,
     "end_time": "2025-08-28T18:10:58.724707",
     "exception": false,
     "start_time": "2025-08-28T18:10:58.699022",
     "status": "completed"
    },
    "tags": []
   },
   "outputs": [],
   "source": [
    "df_spark.printSchema()"
   ]
  },
  {
   "cell_type": "markdown",
   "id": "7259939a",
   "metadata": {
    "papermill": {
     "duration": 0.010602,
     "end_time": "2025-08-28T18:10:58.746371",
     "exception": false,
     "start_time": "2025-08-28T18:10:58.735769",
     "status": "completed"
    },
    "tags": []
   },
   "source": [
    "### Evaluación del modelo"
   ]
  },
  {
   "cell_type": "code",
   "execution_count": null,
   "id": "fe748dca",
   "metadata": {
    "ExecuteTime": {
     "end_time": "2025-07-19T14:36:29.489847Z",
     "start_time": "2025-07-19T14:36:26.618289Z"
    },
    "execution": {
     "iopub.execute_input": "2025-08-28T18:10:58.772077Z",
     "iopub.status.busy": "2025-08-28T18:10:58.771647Z",
     "iopub.status.idle": "2025-08-28T18:10:59.886229Z",
     "shell.execute_reply": "2025-08-28T18:10:59.886917Z"
    },
    "papermill": {
     "duration": 1.130822,
     "end_time": "2025-08-28T18:10:59.887169",
     "exception": false,
     "start_time": "2025-08-28T18:10:58.756347",
     "status": "completed"
    },
    "tags": []
   },
   "outputs": [],
   "source": [
    "import pandas as pd\n",
    "import matplotlib.pyplot as plt\n",
    "\n",
    "# Convertimos a Pandas para visualización\n",
    "preds_pd = predictions.select(\"delivery_duration_(min)\", \"prediction\").toPandas()\n",
    "\n",
    "# Plot real vs predicho\n",
    "plt.figure(figsize=(6,6))\n",
    "plt.scatter(preds_pd[\"delivery_duration_(min)\"], preds_pd[\"prediction\"], alpha=0.5)\n",
    "plt.plot([0, preds_pd.max().max()], [0, preds_pd.max().max()], 'r--')\n",
    "plt.xlabel(\"Valor real\")\n",
    "plt.ylabel(\"Predicción\")\n",
    "plt.title(\"Predicción vs Real (Duración en minutos)\")\n",
    "plt.grid(True)\n",
    "plt.show()"
   ]
  },
  {
   "cell_type": "code",
   "execution_count": null,
   "id": "4339fac5",
   "metadata": {
    "ExecuteTime": {
     "end_time": "2025-07-19T14:36:30.651045Z",
     "start_time": "2025-07-19T14:36:29.555718Z"
    },
    "execution": {
     "iopub.execute_input": "2025-08-28T18:10:59.941060Z",
     "iopub.status.busy": "2025-08-28T18:10:59.940549Z",
     "iopub.status.idle": "2025-08-28T18:11:00.887186Z",
     "shell.execute_reply": "2025-08-28T18:11:00.887480Z"
    },
    "papermill": {
     "duration": 0.983563,
     "end_time": "2025-08-28T18:11:00.887676",
     "exception": false,
     "start_time": "2025-08-28T18:10:59.904113",
     "status": "completed"
    },
    "tags": []
   },
   "outputs": [],
   "source": [
    "# Mostrar predicciones reales vs. predichas\n",
    "predictions.select('delivery_duration_(min)', 'prediction').show(10)"
   ]
  },
  {
   "cell_type": "markdown",
   "id": "20d47d3e",
   "metadata": {
    "papermill": {
     "duration": 0.011756,
     "end_time": "2025-08-28T18:11:00.912503",
     "exception": false,
     "start_time": "2025-08-28T18:11:00.900747",
     "status": "completed"
    },
    "tags": []
   },
   "source": [
    "### Guardado del modelo y transformadores"
   ]
  },
  {
   "cell_type": "code",
   "execution_count": null,
   "id": "c1fd0f16",
   "metadata": {
    "execution": {
     "iopub.execute_input": "2025-08-28T18:11:00.939092Z",
     "iopub.status.busy": "2025-08-28T18:11:00.938707Z",
     "iopub.status.idle": "2025-08-28T18:11:25.728204Z",
     "shell.execute_reply": "2025-08-28T18:11:25.728964Z"
    },
    "papermill": {
     "duration": 24.806671,
     "end_time": "2025-08-28T18:11:25.729656",
     "exception": false,
     "start_time": "2025-08-28T18:11:00.922985",
     "status": "completed"
    },
    "tags": []
   },
   "outputs": [],
   "source": [
    "import os\n",
    "base_path = \"./models\"\n",
    "os.makedirs(base_path, exist_ok=True)\n",
    "\n",
    "# Guarda el VectorAssembler\n",
    "assembler.write().overwrite().save(f\"{base_path}/vector_assembler.bin\")\n",
    "\n",
    "# Guarda todos los StringIndexer\n",
    "for idx, indexer_model in enumerate(indexers):\n",
    "    indexer_model.write().overwrite().save(f\"{base_path}/string_indexer_{idx}.bin\")\n",
    "\n",
    "# Guarda todos los OneHotEncoder\n",
    "for idx, encoder_model in enumerate(encoders):\n",
    "    encoder_model.write().overwrite().save(f\"{base_path}/one_hot_encoder_{idx}.bin\")\n",
    "\n",
    "# Guarda el modelo entrenado\n",
    "tvs_model.write().overwrite().save(f\"{base_path}/pipeline_model.bin\")"
   ]
  }
 ],
 "metadata": {
  "colab": {
   "name": "Food Delivery: Timing is everything",
   "provenance": []
  },
  "kaggle": {
   "accelerator": "none",
   "dataSources": [
    {
     "datasetId": 5072200,
     "sourceId": 8499662,
     "sourceType": "datasetVersion"
    }
   ],
   "dockerImageVersionId": 30698,
   "isGpuEnabled": false,
   "isInternetEnabled": true,
   "language": "python",
   "sourceType": "notebook"
  },
  "kernelspec": {
   "display_name": "Python 3 (ipykernel)",
   "language": "python",
   "name": "python3"
  },
  "language_info": {
   "codemirror_mode": {
    "name": "ipython",
    "version": 3
   },
   "file_extension": ".py",
   "mimetype": "text/x-python",
   "name": "python",
   "nbconvert_exporter": "python",
   "pygments_lexer": "ipython3",
   "version": "3.9.7"
  },
  "papermill": {
   "default_parameters": {},
   "duration": 102.138978,
   "end_time": "2025-08-28T18:11:26.492865",
   "environment_variables": {},
   "exception": null,
   "input_path": "/home/jovyan/Food_delivery/Analysis.ipynb",
   "output_path": "/home/jovyan/Food_delivery/Analysis.ipynb",
   "parameters": {},
   "start_time": "2025-08-28T18:09:44.353887",
   "version": "2.6.0"
  }
 },
 "nbformat": 4,
 "nbformat_minor": 5
}
