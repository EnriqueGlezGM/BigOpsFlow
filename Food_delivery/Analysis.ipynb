{
 "cells": [
  {
   "cell_type": "markdown",
   "id": "7784514e",
   "metadata": {
    "papermill": {
     "duration": 0.006992,
     "end_time": "2025-09-22T18:21:54.283298",
     "exception": false,
     "start_time": "2025-09-22T18:21:54.276306",
     "status": "completed"
    },
    "tags": []
   },
   "source": [
    "# Instalación de dependencias"
   ]
  },
  {
   "cell_type": "code",
   "execution_count": null,
   "id": "f8e18825",
   "metadata": {
    "ExecuteTime": {
     "end_time": "2025-07-19T14:33:05.760043Z",
     "start_time": "2025-07-19T14:33:04.143086Z"
    },
    "execution": {
     "iopub.execute_input": "2025-09-22T18:21:54.301416Z",
     "iopub.status.busy": "2025-09-22T18:21:54.301103Z",
     "iopub.status.idle": "2025-09-22T18:21:56.666376Z",
     "shell.execute_reply": "2025-09-22T18:21:56.665630Z"
    },
    "papermill": {
     "duration": 2.377538,
     "end_time": "2025-09-22T18:21:56.667342",
     "exception": false,
     "start_time": "2025-09-22T18:21:54.289804",
     "status": "completed"
    },
    "tags": []
   },
   "outputs": [],
   "source": [
    "pip install kagglehub"
   ]
  },
  {
   "cell_type": "code",
   "execution_count": null,
   "id": "26274433",
   "metadata": {
    "execution": {
     "iopub.execute_input": "2025-09-22T18:21:56.689205Z",
     "iopub.status.busy": "2025-09-22T18:21:56.688722Z",
     "iopub.status.idle": "2025-09-22T18:22:03.962127Z",
     "shell.execute_reply": "2025-09-22T18:22:03.957925Z"
    },
    "papermill": {
     "duration": 7.28681,
     "end_time": "2025-09-22T18:22:03.962426",
     "exception": false,
     "start_time": "2025-09-22T18:21:56.675616",
     "status": "completed"
    },
    "tags": []
   },
   "outputs": [],
   "source": [
    "pip install --upgrade pandas"
   ]
  },
  {
   "cell_type": "markdown",
   "id": "09b82e54",
   "metadata": {
    "papermill": {
     "duration": 0.005439,
     "end_time": "2025-09-22T18:22:04.025843",
     "exception": false,
     "start_time": "2025-09-22T18:22:04.020404",
     "status": "completed"
    },
    "tags": []
   },
   "source": [
    "# Descarga del dataset"
   ]
  },
  {
   "cell_type": "code",
   "execution_count": null,
   "id": "4abbc559",
   "metadata": {
    "execution": {
     "iopub.execute_input": "2025-09-22T18:22:04.053300Z",
     "iopub.status.busy": "2025-09-22T18:22:04.052825Z",
     "iopub.status.idle": "2025-09-22T18:22:04.593603Z",
     "shell.execute_reply": "2025-09-22T18:22:04.593117Z"
    },
    "papermill": {
     "duration": 0.562638,
     "end_time": "2025-09-22T18:22:04.593735",
     "exception": false,
     "start_time": "2025-09-22T18:22:04.031097",
     "status": "completed"
    },
    "tags": []
   },
   "outputs": [],
   "source": [
    "import os\n",
    "import kagglehub\n",
    "\n",
    "dataset_path = kagglehub.dataset_download(\"romanniki/food-delivery-cost-and-profitability\")\n",
    "\n",
    "# Mostrar todos los archivos encontrados\n",
    "for root, dirs, files in os.walk(dataset_path):\n",
    "    for file in files:\n",
    "        print(\"Archivo encontrado:\", os.path.join(root, file))"
   ]
  },
  {
   "cell_type": "code",
   "execution_count": null,
   "id": "4a5ebaea",
   "metadata": {
    "ExecuteTime": {
     "end_time": "2025-07-19T14:33:06.366181Z",
     "start_time": "2025-07-19T14:33:05.839196Z"
    },
    "execution": {
     "iopub.execute_input": "2025-09-22T18:22:04.617841Z",
     "iopub.status.busy": "2025-09-22T18:22:04.612489Z",
     "iopub.status.idle": "2025-09-22T18:22:04.876688Z",
     "shell.execute_reply": "2025-09-22T18:22:04.876993Z"
    },
    "id": "DZiXESZ8UiEb",
    "papermill": {
     "duration": 0.274544,
     "end_time": "2025-09-22T18:22:04.877108",
     "exception": false,
     "start_time": "2025-09-22T18:22:04.602564",
     "status": "completed"
    },
    "tags": []
   },
   "outputs": [],
   "source": [
    "import kagglehub\n",
    "import os\n",
    "\n",
    "# Descarga el dataset (o usa el caché)\n",
    "romanniki_food_delivery_cost_and_profitability_path = kagglehub.dataset_download('romanniki/food-delivery-cost-and-profitability')\n",
    "\n",
    "# Buscar el primer archivo dentro del dataset descargado\n",
    "for root, dirs, files in os.walk(romanniki_food_delivery_cost_and_profitability_path):\n",
    "    for file in files:\n",
    "        path_dataset = os.path.abspath(os.path.join(root, file))\n",
    "        break  # solo el primero\n",
    "    else:\n",
    "        continue\n",
    "    break\n",
    "\n",
    "print('Data source import complete.')\n",
    "print(\"Archivo encontrado en:\", path_dataset)"
   ]
  },
  {
   "cell_type": "markdown",
   "id": "664711c0",
   "metadata": {
    "papermill": {
     "duration": 0.008388,
     "end_time": "2025-09-22T18:22:04.892748",
     "exception": false,
     "start_time": "2025-09-22T18:22:04.884360",
     "status": "completed"
    },
    "tags": []
   },
   "source": [
    "# Librerías necesarias"
   ]
  },
  {
   "cell_type": "code",
   "execution_count": null,
   "id": "29ccb55a",
   "metadata": {
    "ExecuteTime": {
     "end_time": "2025-07-19T14:33:06.391946Z",
     "start_time": "2025-07-19T14:33:06.388433Z"
    },
    "execution": {
     "iopub.execute_input": "2025-09-22T18:22:04.912325Z",
     "iopub.status.busy": "2025-09-22T18:22:04.911849Z",
     "iopub.status.idle": "2025-09-22T18:22:06.716597Z",
     "shell.execute_reply": "2025-09-22T18:22:06.716964Z"
    },
    "papermill": {
     "duration": 1.816783,
     "end_time": "2025-09-22T18:22:06.717296",
     "exception": false,
     "start_time": "2025-09-22T18:22:04.900513",
     "status": "completed"
    },
    "tags": []
   },
   "outputs": [],
   "source": [
    "import numpy as np\n",
    "import pandas as pd\n",
    "import matplotlib.pyplot as plt\n",
    "import seaborn as sns\n",
    "\n",
    "import warnings\n",
    "warnings.filterwarnings('ignore')"
   ]
  },
  {
   "cell_type": "markdown",
   "id": "c567da77",
   "metadata": {
    "papermill": {
     "duration": 0.005697,
     "end_time": "2025-09-22T18:22:06.730538",
     "exception": false,
     "start_time": "2025-09-22T18:22:06.724841",
     "status": "completed"
    },
    "tags": []
   },
   "source": [
    "# Exploración Inicial (EDA)"
   ]
  },
  {
   "cell_type": "code",
   "execution_count": null,
   "id": "50c79229",
   "metadata": {
    "ExecuteTime": {
     "end_time": "2025-07-19T14:33:06.440900Z",
     "start_time": "2025-07-19T14:33:06.406096Z"
    },
    "execution": {
     "iopub.execute_input": "2025-09-22T18:22:06.746070Z",
     "iopub.status.busy": "2025-09-22T18:22:06.745715Z",
     "iopub.status.idle": "2025-09-22T18:22:06.775644Z",
     "shell.execute_reply": "2025-09-22T18:22:06.775865Z"
    },
    "papermill": {
     "duration": 0.039894,
     "end_time": "2025-09-22T18:22:06.775952",
     "exception": false,
     "start_time": "2025-09-22T18:22:06.736058",
     "status": "completed"
    },
    "tags": []
   },
   "outputs": [],
   "source": [
    "df = pd.read_csv(path_dataset)\n",
    "df.shape"
   ]
  },
  {
   "cell_type": "code",
   "execution_count": null,
   "id": "781b4e0c",
   "metadata": {
    "ExecuteTime": {
     "end_time": "2025-07-19T14:33:06.519151Z",
     "start_time": "2025-07-19T14:33:06.456124Z"
    },
    "execution": {
     "iopub.execute_input": "2025-09-22T18:22:06.806799Z",
     "iopub.status.busy": "2025-09-22T18:22:06.802839Z",
     "iopub.status.idle": "2025-09-22T18:22:06.853440Z",
     "shell.execute_reply": "2025-09-22T18:22:06.853112Z"
    },
    "papermill": {
     "duration": 0.071701,
     "end_time": "2025-09-22T18:22:06.853530",
     "exception": false,
     "start_time": "2025-09-22T18:22:06.781829",
     "status": "completed"
    },
    "tags": []
   },
   "outputs": [],
   "source": [
    "\n",
    "# Convertir fechas a tipo datetime\n",
    "df['Order Date and Time'] = pd.to_datetime(df['Order Date and Time'])\n",
    "df['Delivery Date and Time'] = pd.to_datetime(df['Delivery Date and Time'])\n",
    "\n",
    "# Crear columna de tiempo de entrega en minutos\n",
    "df['Delivery Duration (min)'] = (df['Delivery Date and Time'] - df['Order Date and Time']).dt.total_seconds() / 60\n",
    "# Extraer día y hora del pedido\n",
    "df['day_of_week'] = df['Order Date and Time'].dt.day_name()\n",
    "df['hour_of_day'] = df['Order Date and Time'].dt.hour\n",
    "# Marcar si hay descuento o no\n",
    "df['has_discount'] = df['Discounts and Offers'].str.lower() != 'none'\n",
    "\n",
    "# Marcar si fue reembolsado\n",
    "df['refunded'] = df['Refunds/Chargebacks'] > 0\n",
    "df"
   ]
  },
  {
   "cell_type": "code",
   "execution_count": null,
   "id": "d12cdd8c",
   "metadata": {
    "ExecuteTime": {
     "end_time": "2025-07-19T14:33:06.604977Z",
     "start_time": "2025-07-19T14:33:06.599652Z"
    },
    "execution": {
     "iopub.execute_input": "2025-09-22T18:22:06.877821Z",
     "iopub.status.busy": "2025-09-22T18:22:06.876568Z",
     "iopub.status.idle": "2025-09-22T18:22:06.880812Z",
     "shell.execute_reply": "2025-09-22T18:22:06.880563Z"
    },
    "papermill": {
     "duration": 0.020158,
     "end_time": "2025-09-22T18:22:06.880890",
     "exception": false,
     "start_time": "2025-09-22T18:22:06.860732",
     "status": "completed"
    },
    "tags": []
   },
   "outputs": [],
   "source": [
    "print(df['Discounts and Offers'].value_counts())"
   ]
  },
  {
   "cell_type": "markdown",
   "id": "0a89081c",
   "metadata": {
    "papermill": {
     "duration": 0.009745,
     "end_time": "2025-09-22T18:22:06.898101",
     "exception": false,
     "start_time": "2025-09-22T18:22:06.888356",
     "status": "completed"
    },
    "tags": []
   },
   "source": [
    "### Cálculo del valor del descuento"
   ]
  },
  {
   "cell_type": "code",
   "execution_count": null,
   "id": "b6a70b78",
   "metadata": {
    "ExecuteTime": {
     "end_time": "2025-07-19T14:33:06.686032Z",
     "start_time": "2025-07-19T14:33:06.658804Z"
    },
    "execution": {
     "iopub.execute_input": "2025-09-22T18:22:06.922864Z",
     "iopub.status.busy": "2025-09-22T18:22:06.916109Z",
     "iopub.status.idle": "2025-09-22T18:22:06.948547Z",
     "shell.execute_reply": "2025-09-22T18:22:06.948220Z"
    },
    "papermill": {
     "duration": 0.041616,
     "end_time": "2025-09-22T18:22:06.948668",
     "exception": false,
     "start_time": "2025-09-22T18:22:06.907052",
     "status": "completed"
    },
    "tags": []
   },
   "outputs": [],
   "source": [
    "def calcular_descuento(row):\n",
    "    valor = str(row['Discounts and Offers']).lower()\n",
    "    pedido = row['Order Value']\n",
    "    \n",
    "    # Si es porcentaje, por ejemplo \"10%\" o \"5% on app\"\n",
    "    if '%' in valor:\n",
    "        try:\n",
    "            porcentaje = float(valor.split('%')[0])\n",
    "            return pedido * (porcentaje / 100)\n",
    "        except:\n",
    "            return 0\n",
    "        \n",
    "    # Si es \"50 off Promo\" u otros con valor fijo\n",
    "    elif 'off' in valor:\n",
    "        for token in valor.split():\n",
    "            try:\n",
    "                return float(token)\n",
    "            except:\n",
    "                continue\n",
    "        return 0\n",
    "\n",
    "    # Si es \"None\" u otra cosa no reconocida\n",
    "    return 0\n",
    "\n",
    "# Aplicar al DataFrame\n",
    "df['Discount Value'] = df.apply(calcular_descuento, axis=1)\n",
    "\n",
    "# Verificar\n",
    "df[['Discounts and Offers', 'Order Value', 'Discount Value']].head(10)"
   ]
  },
  {
   "cell_type": "markdown",
   "id": "820676f7",
   "metadata": {
    "papermill": {
     "duration": 0.007317,
     "end_time": "2025-09-22T18:22:06.963909",
     "exception": false,
     "start_time": "2025-09-22T18:22:06.956592",
     "status": "completed"
    },
    "tags": []
   },
   "source": [
    "### Cálculo del coste total y beneficio"
   ]
  },
  {
   "cell_type": "code",
   "execution_count": null,
   "id": "2d4ee3f1",
   "metadata": {
    "ExecuteTime": {
     "end_time": "2025-07-19T14:33:06.744183Z",
     "start_time": "2025-07-19T14:33:06.738421Z"
    },
    "execution": {
     "iopub.execute_input": "2025-09-22T18:22:06.984662Z",
     "iopub.status.busy": "2025-09-22T18:22:06.984324Z",
     "iopub.status.idle": "2025-09-22T18:22:06.987781Z",
     "shell.execute_reply": "2025-09-22T18:22:06.987488Z"
    },
    "papermill": {
     "duration": 0.015649,
     "end_time": "2025-09-22T18:22:06.987850",
     "exception": false,
     "start_time": "2025-09-22T18:22:06.972201",
     "status": "completed"
    },
    "tags": []
   },
   "outputs": [],
   "source": [
    "df['Total Cost'] = df['Delivery Fee'] + df['Discount Value'] + df['Payment Processing Fee'] + df['Refunds/Chargebacks']"
   ]
  },
  {
   "cell_type": "code",
   "execution_count": null,
   "id": "d94fd72f",
   "metadata": {
    "ExecuteTime": {
     "end_time": "2025-07-19T14:33:06.793022Z",
     "start_time": "2025-07-19T14:33:06.784037Z"
    },
    "execution": {
     "iopub.execute_input": "2025-09-22T18:22:07.014238Z",
     "iopub.status.busy": "2025-09-22T18:22:07.013783Z",
     "iopub.status.idle": "2025-09-22T18:22:07.020398Z",
     "shell.execute_reply": "2025-09-22T18:22:07.019342Z"
    },
    "papermill": {
     "duration": 0.026462,
     "end_time": "2025-09-22T18:22:07.020505",
     "exception": false,
     "start_time": "2025-09-22T18:22:06.994043",
     "status": "completed"
    },
    "tags": []
   },
   "outputs": [],
   "source": [
    "df['Profit'] = df['Commission Fee'] - df['Total Cost']\n",
    "\n",
    "# Estadísticas generales\n",
    "print(\"Ganancia media por pedido:\", round(df['Profit'].mean(), 2))\n",
    "print(\"Pedidos con pérdida:\", (df['Profit'] < 0).sum())\n",
    "print(\"Porcentaje con pérdida:\", round((df['Profit'] < 0).mean() * 100, 2), '%')"
   ]
  },
  {
   "cell_type": "markdown",
   "id": "e092532d",
   "metadata": {
    "papermill": {
     "duration": 0.007525,
     "end_time": "2025-09-22T18:22:07.035567",
     "exception": false,
     "start_time": "2025-09-22T18:22:07.028042",
     "status": "completed"
    },
    "tags": []
   },
   "source": [
    "### Análisis de pérdidas"
   ]
  },
  {
   "cell_type": "code",
   "execution_count": null,
   "id": "f2c35889",
   "metadata": {
    "ExecuteTime": {
     "end_time": "2025-07-19T14:33:06.827019Z",
     "start_time": "2025-07-19T14:33:06.815908Z"
    },
    "execution": {
     "iopub.execute_input": "2025-09-22T18:22:07.059707Z",
     "iopub.status.busy": "2025-09-22T18:22:07.059250Z",
     "iopub.status.idle": "2025-09-22T18:22:07.067080Z",
     "shell.execute_reply": "2025-09-22T18:22:07.066325Z"
    },
    "papermill": {
     "duration": 0.024453,
     "end_time": "2025-09-22T18:22:07.067274",
     "exception": false,
     "start_time": "2025-09-22T18:22:07.042821",
     "status": "completed"
    },
    "tags": []
   },
   "outputs": [],
   "source": [
    "# Mostrar los 10 pedidos con mayores pérdidas (menor Profit)\n",
    "top_losses = df.sort_values(by='Profit').tail(10)\n",
    "\n",
    "# Mostrar solo las columnas clave para el análisis\n",
    "top_losses[[ 'Order Value', 'Commission Fee', 'Total Cost', 'Profit', 'Discounts and Offers']]"
   ]
  },
  {
   "cell_type": "code",
   "execution_count": null,
   "id": "f413b9d6",
   "metadata": {
    "ExecuteTime": {
     "end_time": "2025-07-19T14:33:06.874830Z",
     "start_time": "2025-07-19T14:33:06.862986Z"
    },
    "execution": {
     "iopub.execute_input": "2025-09-22T18:22:07.089315Z",
     "iopub.status.busy": "2025-09-22T18:22:07.088961Z",
     "iopub.status.idle": "2025-09-22T18:22:07.091908Z",
     "shell.execute_reply": "2025-09-22T18:22:07.091531Z"
    },
    "papermill": {
     "duration": 0.017837,
     "end_time": "2025-09-22T18:22:07.092001",
     "exception": false,
     "start_time": "2025-09-22T18:22:07.074164",
     "status": "completed"
    },
    "tags": []
   },
   "outputs": [],
   "source": [
    "print(df)"
   ]
  },
  {
   "cell_type": "markdown",
   "id": "e0519711",
   "metadata": {
    "papermill": {
     "duration": 0.006889,
     "end_time": "2025-09-22T18:22:07.107637",
     "exception": false,
     "start_time": "2025-09-22T18:22:07.100748",
     "status": "completed"
    },
    "tags": []
   },
   "source": [
    "## Visualización de correlaciones numéricas"
   ]
  },
  {
   "cell_type": "code",
   "execution_count": null,
   "id": "aee642c4",
   "metadata": {
    "ExecuteTime": {
     "end_time": "2025-07-19T14:33:07.403158Z",
     "start_time": "2025-07-19T14:33:06.925091Z"
    },
    "execution": {
     "iopub.execute_input": "2025-09-22T18:22:07.131602Z",
     "iopub.status.busy": "2025-09-22T18:22:07.131104Z",
     "iopub.status.idle": "2025-09-22T18:22:07.616856Z",
     "shell.execute_reply": "2025-09-22T18:22:07.617295Z"
    },
    "papermill": {
     "duration": 0.503223,
     "end_time": "2025-09-22T18:22:07.617463",
     "exception": false,
     "start_time": "2025-09-22T18:22:07.114240",
     "status": "completed"
    },
    "tags": []
   },
   "outputs": [],
   "source": [
    "plt.figure(figsize=(6,6))\n",
    "sns.heatmap(df.select_dtypes(include=['number']).corr(), annot=True, fmt='.1f')"
   ]
  },
  {
   "cell_type": "code",
   "execution_count": null,
   "id": "93956860",
   "metadata": {
    "ExecuteTime": {
     "end_time": "2025-07-19T14:33:07.560809Z",
     "start_time": "2025-07-19T14:33:07.423773Z"
    },
    "execution": {
     "iopub.execute_input": "2025-09-22T18:22:07.641560Z",
     "iopub.status.busy": "2025-09-22T18:22:07.637162Z",
     "iopub.status.idle": "2025-09-22T18:22:07.760877Z",
     "shell.execute_reply": "2025-09-22T18:22:07.760620Z"
    },
    "papermill": {
     "duration": 0.135489,
     "end_time": "2025-09-22T18:22:07.760959",
     "exception": false,
     "start_time": "2025-09-22T18:22:07.625470",
     "status": "completed"
    },
    "tags": []
   },
   "outputs": [],
   "source": [
    "import seaborn as sns\n",
    "import matplotlib.pyplot as plt\n",
    "\n",
    "plt.figure(figsize=(10,5))\n",
    "sns.boxplot(data=df, x='day_of_week', y='Delivery Duration (min)', \n",
    "            order=['Monday','Tuesday','Wednesday','Thursday','Friday','Saturday','Sunday'])\n",
    "plt.xticks(rotation=45)\n",
    "plt.title(\"Duración de entrega por día de la semana\")\n",
    "plt.show()"
   ]
  },
  {
   "cell_type": "code",
   "execution_count": null,
   "id": "fe2c2028",
   "metadata": {
    "ExecuteTime": {
     "end_time": "2025-07-19T14:33:07.763033Z",
     "start_time": "2025-07-19T14:33:07.578110Z"
    },
    "execution": {
     "iopub.execute_input": "2025-09-22T18:22:07.780557Z",
     "iopub.status.busy": "2025-09-22T18:22:07.780225Z",
     "iopub.status.idle": "2025-09-22T18:22:07.972400Z",
     "shell.execute_reply": "2025-09-22T18:22:07.972891Z"
    },
    "papermill": {
     "duration": 0.204514,
     "end_time": "2025-09-22T18:22:07.973069",
     "exception": false,
     "start_time": "2025-09-22T18:22:07.768555",
     "status": "completed"
    },
    "tags": []
   },
   "outputs": [],
   "source": [
    "top_restaurants = df['Restaurant ID'].value_counts().nlargest(10).index\n",
    "\n",
    "plt.figure(figsize=(10,5))\n",
    "sns.boxplot(data=df[df['Restaurant ID'].isin(top_restaurants)],\n",
    "            x='Restaurant ID', y='Delivery Duration (min)')\n",
    "plt.xticks(rotation=45)\n",
    "plt.title(\"Top 10 restaurantes vs duración de entrega\")\n",
    "plt.show()"
   ]
  },
  {
   "cell_type": "code",
   "execution_count": null,
   "id": "a33fe924",
   "metadata": {
    "ExecuteTime": {
     "end_time": "2025-07-19T14:33:07.849801Z",
     "start_time": "2025-07-19T14:33:07.778800Z"
    },
    "execution": {
     "iopub.execute_input": "2025-09-22T18:22:07.996687Z",
     "iopub.status.busy": "2025-09-22T18:22:07.993819Z",
     "iopub.status.idle": "2025-09-22T18:22:08.061844Z",
     "shell.execute_reply": "2025-09-22T18:22:08.061543Z"
    },
    "papermill": {
     "duration": 0.079411,
     "end_time": "2025-09-22T18:22:08.061922",
     "exception": false,
     "start_time": "2025-09-22T18:22:07.982511",
     "status": "completed"
    },
    "tags": []
   },
   "outputs": [],
   "source": [
    "plt.figure(figsize=(6,4))\n",
    "sns.boxplot(data=df, x='has_discount', y='Delivery Duration (min)')\n",
    "plt.title(\"Duración con/sin descuento\")\n",
    "plt.xlabel(\"¿Tiene descuento?\")\n",
    "plt.ylabel(\"Duración (min)\")\n",
    "plt.show()"
   ]
  },
  {
   "cell_type": "code",
   "execution_count": null,
   "id": "02f59786",
   "metadata": {
    "ExecuteTime": {
     "end_time": "2025-07-19T14:33:07.954801Z",
     "start_time": "2025-07-19T14:33:07.865268Z"
    },
    "execution": {
     "iopub.execute_input": "2025-09-22T18:22:08.083442Z",
     "iopub.status.busy": "2025-09-22T18:22:08.083108Z",
     "iopub.status.idle": "2025-09-22T18:22:08.243509Z",
     "shell.execute_reply": "2025-09-22T18:22:08.243752Z"
    },
    "papermill": {
     "duration": 0.17345,
     "end_time": "2025-09-22T18:22:08.243856",
     "exception": false,
     "start_time": "2025-09-22T18:22:08.070406",
     "status": "completed"
    },
    "tags": []
   },
   "outputs": [],
   "source": [
    "plt.figure(figsize=(8,4))\n",
    "sns.boxplot(data=df, x='Payment Method', y='Delivery Duration (min)')\n",
    "plt.title(\"Método de pago vs duración de entrega\")\n",
    "plt.xticks(rotation=45)\n",
    "plt.show()"
   ]
  },
  {
   "cell_type": "code",
   "execution_count": null,
   "id": "2bf12976",
   "metadata": {
    "ExecuteTime": {
     "end_time": "2025-07-19T14:33:08.050806Z",
     "start_time": "2025-07-19T14:33:07.970379Z"
    },
    "execution": {
     "iopub.execute_input": "2025-09-22T18:22:08.266819Z",
     "iopub.status.busy": "2025-09-22T18:22:08.265976Z",
     "iopub.status.idle": "2025-09-22T18:22:08.389984Z",
     "shell.execute_reply": "2025-09-22T18:22:08.389483Z"
    },
    "papermill": {
     "duration": 0.137405,
     "end_time": "2025-09-22T18:22:08.390104",
     "exception": false,
     "start_time": "2025-09-22T18:22:08.252699",
     "status": "completed"
    },
    "tags": []
   },
   "outputs": [],
   "source": [
    "plt.figure(figsize=(6,4))\n",
    "sns.boxplot(data=df, x='refunded', y='Delivery Duration (min)')\n",
    "plt.title(\"Reembolsos vs duración de entrega\")\n",
    "plt.xlabel(\"¿Fue reembolsado?\")\n",
    "plt.ylabel(\"Duración (min)\")\n",
    "plt.show()"
   ]
  },
  {
   "cell_type": "code",
   "execution_count": null,
   "id": "4e015845",
   "metadata": {
    "ExecuteTime": {
     "end_time": "2025-07-19T14:33:08.332802Z",
     "start_time": "2025-07-19T14:33:08.065785Z"
    },
    "execution": {
     "iopub.execute_input": "2025-09-22T18:22:08.439409Z",
     "iopub.status.busy": "2025-09-22T18:22:08.438500Z",
     "iopub.status.idle": "2025-09-22T18:22:08.685890Z",
     "shell.execute_reply": "2025-09-22T18:22:08.685604Z"
    },
    "papermill": {
     "duration": 0.274746,
     "end_time": "2025-09-22T18:22:08.685975",
     "exception": false,
     "start_time": "2025-09-22T18:22:08.411229",
     "status": "completed"
    },
    "tags": []
   },
   "outputs": [],
   "source": [
    "plt.figure(figsize=(10,4))\n",
    "sns.boxplot(data=df, x='hour_of_day', y='Delivery Duration (min)')\n",
    "plt.title(\"Duración según hora del pedido\")\n",
    "plt.xlabel(\"Hora del día\")\n",
    "plt.ylabel(\"Duración (min)\")\n",
    "plt.show()"
   ]
  },
  {
   "cell_type": "code",
   "execution_count": null,
   "id": "fade27a2",
   "metadata": {
    "ExecuteTime": {
     "end_time": "2025-07-19T14:33:08.674807Z",
     "start_time": "2025-07-19T14:33:08.531825Z"
    },
    "execution": {
     "iopub.execute_input": "2025-09-22T18:22:08.713825Z",
     "iopub.status.busy": "2025-09-22T18:22:08.711460Z",
     "iopub.status.idle": "2025-09-22T18:22:08.814392Z",
     "shell.execute_reply": "2025-09-22T18:22:08.814607Z"
    },
    "papermill": {
     "duration": 0.11986,
     "end_time": "2025-09-22T18:22:08.814689",
     "exception": false,
     "start_time": "2025-09-22T18:22:08.694829",
     "status": "completed"
    },
    "tags": []
   },
   "outputs": [],
   "source": [
    "import seaborn as sns\n",
    "import matplotlib.pyplot as plt\n",
    "\n",
    "# Asegurarnos de que la columna tenga un nombre limpio (por si no lo hiciste antes)\n",
    "df['Discounts and Offers'] = df['Discounts and Offers'].astype(str)\n",
    "\n",
    "# Agrupar por tipo de descuento y calcular profit promedio\n",
    "profit_por_descuento = df.groupby('Discounts and Offers')['Profit'].mean().sort_values()\n",
    "\n",
    "# Crear gráfico\n",
    "plt.figure(figsize=(10,6))\n",
    "sns.barplot(x=profit_por_descuento.values, y=profit_por_descuento.index, palette='coolwarm')\n",
    "plt.title(\"Ganancia media por tipo de descuento\")\n",
    "plt.xlabel(\"Ganancia media (Profit)\")\n",
    "plt.ylabel(\"Tipo de descuento\")\n",
    "plt.axvline(0, color='gray', linestyle='--')\n",
    "plt.tight_layout()\n",
    "plt.show()"
   ]
  },
  {
   "cell_type": "code",
   "execution_count": null,
   "id": "18fbefd2",
   "metadata": {
    "ExecuteTime": {
     "end_time": "2025-07-19T14:33:08.795803Z",
     "start_time": "2025-07-19T14:33:08.688932Z"
    },
    "execution": {
     "iopub.execute_input": "2025-09-22T18:22:08.837047Z",
     "iopub.status.busy": "2025-09-22T18:22:08.836697Z",
     "iopub.status.idle": "2025-09-22T18:22:09.013919Z",
     "shell.execute_reply": "2025-09-22T18:22:09.014174Z"
    },
    "papermill": {
     "duration": 0.191074,
     "end_time": "2025-09-22T18:22:09.014275",
     "exception": false,
     "start_time": "2025-09-22T18:22:08.823201",
     "status": "completed"
    },
    "tags": []
   },
   "outputs": [],
   "source": [
    "import seaborn as sns\n",
    "import matplotlib.pyplot as plt\n",
    "\n",
    "# Asegurar de que la columna de duración esté creada\n",
    "if 'Delivery Duration (min)' not in df.columns:\n",
    "    df['Order Date and Time'] = pd.to_datetime(df['Order Date and Time'])\n",
    "    df['Delivery Date and Time'] = pd.to_datetime(df['Delivery Date and Time'])\n",
    "    df['Delivery Duration (min)'] = (df['Delivery Date and Time'] - df['Order Date and Time']).dt.total_seconds() / 60\n",
    "\n",
    "# Crear columna binaria: ¿Hubo reembolso?\n",
    "df['Refunded'] = df['Refunds/Chargebacks'] > 0\n",
    "\n",
    "# Gráfico de distribución del tiempo de entrega según haya o no reembolso\n",
    "plt.figure(figsize=(10,6))\n",
    "sns.boxplot(x='Refunded', y='Delivery Duration (min)', data=df)\n",
    "plt.xticks([0,1], ['Sin reembolso', 'Con reembolso'])\n",
    "plt.title(\"Tiempo de entrega según presencia de reembolso\")\n",
    "plt.ylabel(\"Duración de entrega (minutos)\")\n",
    "plt.xlabel(\"¿Hubo reembolso?\")\n",
    "plt.tight_layout()\n",
    "plt.show()"
   ]
  },
  {
   "cell_type": "code",
   "execution_count": null,
   "id": "604017fa",
   "metadata": {
    "ExecuteTime": {
     "end_time": "2025-07-19T14:33:09.210824Z",
     "start_time": "2025-07-19T14:33:09.207015Z"
    },
    "execution": {
     "iopub.execute_input": "2025-09-22T18:22:09.045098Z",
     "iopub.status.busy": "2025-09-22T18:22:09.044761Z",
     "iopub.status.idle": "2025-09-22T18:22:09.047625Z",
     "shell.execute_reply": "2025-09-22T18:22:09.047844Z"
    },
    "papermill": {
     "duration": 0.019225,
     "end_time": "2025-09-22T18:22:09.047933",
     "exception": false,
     "start_time": "2025-09-22T18:22:09.028708",
     "status": "completed"
    },
    "tags": []
   },
   "outputs": [],
   "source": [
    "# Normalizar y deduplicar nombres de columnas en pandas (compatible 1.x/2.x)\n",
    "from collections import defaultdict\n",
    "df.columns = (\n",
    "    df.columns\n",
    "      .map(str)\n",
    "      .str.strip()\n",
    "      .str.lower()\n",
    "      .str.replace(' ', '_', regex=False)\n",
    ")\n",
    "counts = defaultdict(int)\n",
    "new_cols = []\n",
    "for c in df.columns:\n",
    "    if counts[c]:\n",
    "        new_cols.append(f\"{c}.{counts[c]}\")\n",
    "    else:\n",
    "        new_cols.append(c)\n",
    "    counts[c] += 1\n",
    "df.columns = new_cols\n"
   ]
  },
  {
   "cell_type": "code",
   "execution_count": null,
   "id": "af20c38b",
   "metadata": {
    "ExecuteTime": {
     "end_time": "2025-07-19T14:33:09.235823Z",
     "start_time": "2025-07-19T14:33:09.222952Z"
    },
    "execution": {
     "iopub.execute_input": "2025-09-22T18:22:09.069882Z",
     "iopub.status.busy": "2025-09-22T18:22:09.069586Z",
     "iopub.status.idle": "2025-09-22T18:22:09.080418Z",
     "shell.execute_reply": "2025-09-22T18:22:09.080126Z"
    },
    "papermill": {
     "duration": 0.023157,
     "end_time": "2025-09-22T18:22:09.080489",
     "exception": false,
     "start_time": "2025-09-22T18:22:09.057332",
     "status": "completed"
    },
    "tags": []
   },
   "outputs": [],
   "source": [
    "print (df)"
   ]
  },
  {
   "cell_type": "markdown",
   "id": "a9143581",
   "metadata": {
    "papermill": {
     "duration": 0.012158,
     "end_time": "2025-09-22T18:22:09.101849",
     "exception": false,
     "start_time": "2025-09-22T18:22:09.089691",
     "status": "completed"
    },
    "tags": []
   },
   "source": [
    "# Configuración de Spark y preparación de datos"
   ]
  },
  {
   "cell_type": "code",
   "execution_count": null,
   "id": "436f33f5",
   "metadata": {
    "ExecuteTime": {
     "end_time": "2025-07-19T14:34:40.666100Z",
     "start_time": "2025-07-19T14:33:09.261662Z"
    },
    "execution": {
     "iopub.execute_input": "2025-09-22T18:22:09.151685Z",
     "iopub.status.busy": "2025-09-22T18:22:09.148750Z",
     "iopub.status.idle": "2025-09-22T18:23:11.090788Z",
     "shell.execute_reply": "2025-09-22T18:23:11.092172Z"
    },
    "papermill": {
     "duration": 61.980414,
     "end_time": "2025-09-22T18:23:11.092897",
     "exception": false,
     "start_time": "2025-09-22T18:22:09.112483",
     "status": "completed"
    },
    "tags": []
   },
   "outputs": [],
   "source": [
    "from pyspark.sql import SparkSession\n",
    "from pyspark import SparkContext\n",
    "from pyspark.ml.feature import StringIndexer, OneHotEncoder, VectorAssembler\n",
    "from pyspark.ml.regression import GBTRegressor\n",
    "from pyspark.ml import Pipeline\n",
    "from pyspark.ml.evaluation import RegressionEvaluator\n",
    "from pyspark.ml.tuning import ParamGridBuilder, TrainValidationSplit\n",
    "\n",
    "# Cerrar contexto anterior si está activo\n",
    "if SparkContext._active_spark_context:\n",
    "    SparkContext._active_spark_context.stop()\n",
    "\n",
    "# SparkSession apuntando al cluster\n",
    "spark = (\n",
    "    SparkSession.builder.appName(\"Create-model-DeliveryDurationGBT-Tuned-Light\")\n",
    "    .master(\"spark://agile:7077\")\n",
    "    .config(\"spark.driver.bindAddress\", \"0.0.0.0\")\n",
    "    .getOrCreate()\n",
    ")\n",
    "\n",
    "sc = spark.sparkContext\n",
    "sc.setLogLevel(\"ERROR\")\n",
    "\n",
    "# Añadir columnas derivadas en pandas antes de pasar a Spark\n",
    "df[\"es_fin_de_semana\"] = df[\"day_of_week\"].isin([\"Saturday\", \"Sunday\"]).astype(int)\n",
    "df[\"es_hora_punta\"] = df[\"hour_of_day\"].between(13, 15) | df[\"hour_of_day\"].between(20, 22)\n",
    "df[\"es_hora_punta\"] = df[\"es_hora_punta\"].astype(int)\n",
    "\n",
    "# Crear DataFrame en Spark\n",
    "df_spark = spark.createDataFrame(df)\n",
    "\n",
    "# Variables\n",
    "categorical_cols = ['payment_method', 'discounts_and_offers', 'day_of_week', 'hour_of_day']\n",
    "numeric_cols = [\n",
    "    'order_value', 'delivery_fee', 'commission_fee', 'payment_processing_fee',\n",
    "    'refunds/chargebacks', 'discount_value', 'has_discount', 'refunded',\n",
    "    'es_fin_de_semana', 'es_hora_punta'\n",
    "]\n",
    "target = 'delivery_duration_(min)'\n",
    "\n",
    "# Indexado y one-hot\n",
    "indexers = [StringIndexer(inputCol=col, outputCol=col + \"_idx\", handleInvalid=\"keep\") for col in categorical_cols]\n",
    "encoders = [OneHotEncoder(inputCol=col + \"_idx\", outputCol=col + \"_vec\") for col in categorical_cols]\n",
    "\n",
    "# Vector de features\n",
    "assembler = VectorAssembler(\n",
    "    inputCols=numeric_cols + [col + \"_vec\" for col in categorical_cols],\n",
    "    outputCol=\"features\"\n",
    ")\n",
    "\n",
    "# Modelo\n",
    "regressor = GBTRegressor(featuresCol=\"features\", labelCol=target)\n",
    "\n",
    "# Pipeline\n",
    "pipeline = Pipeline(stages=indexers + encoders + [assembler, regressor])\n",
    "\n",
    "# Grid de hiperparámetros ligera\n",
    "paramGrid = ParamGridBuilder() \\\n",
    "    .addGrid(regressor.maxDepth, [5]) \\\n",
    "    .addGrid(regressor.maxIter, [20, 40]) \\\n",
    "    .build()\n",
    "\n",
    "# Train-validation split\n",
    "tvs = TrainValidationSplit(\n",
    "    estimator=pipeline,\n",
    "    estimatorParamMaps=paramGrid,\n",
    "    evaluator=RegressionEvaluator(labelCol=target, predictionCol=\"prediction\", metricName=\"rmse\"),\n",
    "    trainRatio=0.8\n",
    ")\n",
    "\n",
    "# Split de datos\n",
    "train_data, test_data = df_spark.randomSplit([0.8, 0.2], seed=42)\n",
    "\n",
    "# Entrenamiento\n",
    "# tvs_model = tvs.fit(train_data)\n",
    "tvs_model = pipeline.fit(train_data)\n",
    "\n",
    "# Evaluación\n",
    "predictions = tvs_model.transform(test_data)\n",
    "rmse = RegressionEvaluator(labelCol=target, predictionCol=\"prediction\", metricName=\"rmse\").evaluate(predictions)\n",
    "\n",
    "print(\"✅ Modelo mejorado con TrainValidationSplit\")\n",
    "print(f\"📉 RMSE final: {rmse:.2f}\")"
   ]
  },
  {
   "cell_type": "code",
   "execution_count": null,
   "id": "a016f7ac",
   "metadata": {
    "execution": {
     "iopub.execute_input": "2025-09-22T18:23:11.128567Z",
     "iopub.status.busy": "2025-09-22T18:23:11.121977Z",
     "iopub.status.idle": "2025-09-22T18:23:11.145142Z",
     "shell.execute_reply": "2025-09-22T18:23:11.144127Z"
    },
    "papermill": {
     "duration": 0.038436,
     "end_time": "2025-09-22T18:23:11.145547",
     "exception": false,
     "start_time": "2025-09-22T18:23:11.107111",
     "status": "completed"
    },
    "tags": []
   },
   "outputs": [],
   "source": [
    "df_spark.printSchema()"
   ]
  },
  {
   "cell_type": "markdown",
   "id": "7259939a",
   "metadata": {
    "papermill": {
     "duration": 0.009743,
     "end_time": "2025-09-22T18:23:11.171701",
     "exception": false,
     "start_time": "2025-09-22T18:23:11.161958",
     "status": "completed"
    },
    "tags": []
   },
   "source": [
    "### Evaluación del modelo"
   ]
  },
  {
   "cell_type": "code",
   "execution_count": null,
   "id": "fe748dca",
   "metadata": {
    "ExecuteTime": {
     "end_time": "2025-07-19T14:36:29.489847Z",
     "start_time": "2025-07-19T14:36:26.618289Z"
    },
    "execution": {
     "iopub.execute_input": "2025-09-22T18:23:11.205195Z",
     "iopub.status.busy": "2025-09-22T18:23:11.203951Z",
     "iopub.status.idle": "2025-09-22T18:23:12.657587Z",
     "shell.execute_reply": "2025-09-22T18:23:12.656590Z"
    },
    "papermill": {
     "duration": 1.475736,
     "end_time": "2025-09-22T18:23:12.657793",
     "exception": false,
     "start_time": "2025-09-22T18:23:11.182057",
     "status": "completed"
    },
    "tags": []
   },
   "outputs": [],
   "source": [
    "import pandas as pd\n",
    "import matplotlib.pyplot as plt\n",
    "\n",
    "# Convertir a Pandas para visualización\n",
    "preds_pd = predictions.select(\"delivery_duration_(min)\", \"prediction\").toPandas()\n",
    "\n",
    "# Graficar real vs. predicho\n",
    "plt.figure(figsize=(6,6))\n",
    "plt.scatter(preds_pd[\"delivery_duration_(min)\"], preds_pd[\"prediction\"], alpha=0.5)\n",
    "plt.plot([0, preds_pd.max().max()], [0, preds_pd.max().max()], 'r--')\n",
    "plt.xlabel(\"Valor real\")\n",
    "plt.ylabel(\"Predicción\")\n",
    "plt.title(\"Predicción vs Real (Duración en minutos)\")\n",
    "plt.grid(True)\n",
    "plt.show()"
   ]
  },
  {
   "cell_type": "code",
   "execution_count": null,
   "id": "4339fac5",
   "metadata": {
    "ExecuteTime": {
     "end_time": "2025-07-19T14:36:30.651045Z",
     "start_time": "2025-07-19T14:36:29.555718Z"
    },
    "execution": {
     "iopub.execute_input": "2025-09-22T18:23:12.716234Z",
     "iopub.status.busy": "2025-09-22T18:23:12.706768Z",
     "iopub.status.idle": "2025-09-22T18:23:13.440368Z",
     "shell.execute_reply": "2025-09-22T18:23:13.440792Z"
    },
    "papermill": {
     "duration": 0.765503,
     "end_time": "2025-09-22T18:23:13.441196",
     "exception": false,
     "start_time": "2025-09-22T18:23:12.675693",
     "status": "completed"
    },
    "tags": []
   },
   "outputs": [],
   "source": [
    "# Mostrar predicciones reales vs. predichas\n",
    "predictions.select('delivery_duration_(min)', 'prediction').show(10)"
   ]
  },
  {
   "cell_type": "markdown",
   "id": "20d47d3e",
   "metadata": {
    "papermill": {
     "duration": 0.013158,
     "end_time": "2025-09-22T18:23:13.470255",
     "exception": false,
     "start_time": "2025-09-22T18:23:13.457097",
     "status": "completed"
    },
    "tags": []
   },
   "source": [
    "### Guardado del modelo y transformadores"
   ]
  },
  {
   "cell_type": "code",
   "execution_count": null,
   "id": "c1fd0f16",
   "metadata": {
    "execution": {
     "iopub.execute_input": "2025-09-22T18:23:13.500093Z",
     "iopub.status.busy": "2025-09-22T18:23:13.499695Z",
     "iopub.status.idle": "2025-09-22T18:23:38.673948Z",
     "shell.execute_reply": "2025-09-22T18:23:38.673072Z"
    },
    "papermill": {
     "duration": 25.19331,
     "end_time": "2025-09-22T18:23:38.674270",
     "exception": false,
     "start_time": "2025-09-22T18:23:13.480960",
     "status": "completed"
    },
    "tags": []
   },
   "outputs": [],
   "source": [
    "import os\n",
    "base_path = \"./models\"\n",
    "os.makedirs(base_path, exist_ok=True)\n",
    "\n",
    "# Guardar el VectorAssembler\n",
    "assembler.write().overwrite().save(f\"{base_path}/vector_assembler.bin\")\n",
    "\n",
    "# Guardar todos los StringIndexer\n",
    "for idx, indexer_model in enumerate(indexers):\n",
    "    indexer_model.write().overwrite().save(f\"{base_path}/string_indexer_{idx}.bin\")\n",
    "\n",
    "# Guardar todos los OneHotEncoder\n",
    "for idx, encoder_model in enumerate(encoders):\n",
    "    encoder_model.write().overwrite().save(f\"{base_path}/one_hot_encoder_{idx}.bin\")\n",
    "\n",
    "# Guardar el modelo entrenado\n",
    "tvs_model.write().overwrite().save(f\"{base_path}/pipeline_model.bin\")"
   ]
  }
 ],
 "metadata": {
  "colab": {
   "name": "Food Delivery: Timing is everything",
   "provenance": []
  },
  "kaggle": {
   "accelerator": "none",
   "dataSources": [
    {
     "datasetId": 5072200,
     "sourceId": 8499662,
     "sourceType": "datasetVersion"
    }
   ],
   "dockerImageVersionId": 30698,
   "isGpuEnabled": false,
   "isInternetEnabled": true,
   "language": "python",
   "sourceType": "notebook"
  },
  "kernelspec": {
   "display_name": "Python 3 (ipykernel)",
   "language": "python",
   "name": "python3"
  },
  "language_info": {
   "codemirror_mode": {
    "name": "ipython",
    "version": 3
   },
   "file_extension": ".py",
   "mimetype": "text/x-python",
   "name": "python",
   "nbconvert_exporter": "python",
   "pygments_lexer": "ipython3",
   "version": "3.9.7"
  },
  "papermill": {
   "default_parameters": {},
   "duration": 106.784915,
   "end_time": "2025-09-22T18:23:39.544829",
   "environment_variables": {},
   "exception": null,
   "input_path": "/home/jovyan/Food_delivery/Analysis.ipynb",
   "output_path": "/home/jovyan/Food_delivery/Analysis.ipynb",
   "parameters": {},
   "start_time": "2025-09-22T18:21:52.759914",
   "version": "2.6.0"
  }
 },
 "nbformat": 4,
 "nbformat_minor": 5
}
