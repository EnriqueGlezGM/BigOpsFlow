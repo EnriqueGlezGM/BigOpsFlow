{
 "cells": [
  {
   "cell_type": "markdown",
   "id": "7784514e",
   "metadata": {
    "papermill": {
     "duration": 0.020838,
     "end_time": "2025-08-29T16:17:19.075464",
     "exception": false,
     "start_time": "2025-08-29T16:17:19.054626",
     "status": "completed"
    },
    "tags": []
   },
   "source": [
    "# Instalación de dependencias"
   ]
  },
  {
   "cell_type": "code",
   "execution_count": null,
   "id": "f8e18825",
   "metadata": {
    "ExecuteTime": {
     "end_time": "2025-07-19T14:33:05.760043Z",
     "start_time": "2025-07-19T14:33:04.143086Z"
    },
    "execution": {
     "iopub.execute_input": "2025-08-29T16:17:19.126180Z",
     "iopub.status.busy": "2025-08-29T16:17:19.125751Z",
     "iopub.status.idle": "2025-08-29T16:17:21.305109Z",
     "shell.execute_reply": "2025-08-29T16:17:21.305547Z"
    },
    "papermill": {
     "duration": 2.205172,
     "end_time": "2025-08-29T16:17:21.306725",
     "exception": false,
     "start_time": "2025-08-29T16:17:19.101553",
     "status": "completed"
    },
    "tags": []
   },
   "outputs": [],
   "source": [
    "pip install kagglehub"
   ]
  },
  {
   "cell_type": "code",
   "execution_count": null,
   "id": "26274433",
   "metadata": {
    "execution": {
     "iopub.execute_input": "2025-08-29T16:17:21.394050Z",
     "iopub.status.busy": "2025-08-29T16:17:21.393488Z",
     "iopub.status.idle": "2025-08-29T16:17:27.963725Z",
     "shell.execute_reply": "2025-08-29T16:17:27.964396Z"
    },
    "papermill": {
     "duration": 6.64778,
     "end_time": "2025-08-29T16:17:27.964813",
     "exception": false,
     "start_time": "2025-08-29T16:17:21.317033",
     "status": "completed"
    },
    "tags": []
   },
   "outputs": [],
   "source": [
    "pip install --upgrade pandas"
   ]
  },
  {
   "cell_type": "markdown",
   "id": "09b82e54",
   "metadata": {
    "papermill": {
     "duration": 0.00714,
     "end_time": "2025-08-29T16:17:27.988231",
     "exception": false,
     "start_time": "2025-08-29T16:17:27.981091",
     "status": "completed"
    },
    "tags": []
   },
   "source": [
    "# Descarga del dataset"
   ]
  },
  {
   "cell_type": "code",
   "execution_count": null,
   "id": "4abbc559",
   "metadata": {
    "execution": {
     "iopub.execute_input": "2025-08-29T16:17:28.012660Z",
     "iopub.status.busy": "2025-08-29T16:17:28.012163Z",
     "iopub.status.idle": "2025-08-29T16:17:28.477072Z",
     "shell.execute_reply": "2025-08-29T16:17:28.476534Z"
    },
    "papermill": {
     "duration": 0.482109,
     "end_time": "2025-08-29T16:17:28.477231",
     "exception": false,
     "start_time": "2025-08-29T16:17:27.995122",
     "status": "completed"
    },
    "tags": []
   },
   "outputs": [],
   "source": [
    "import os\n",
    "import kagglehub\n",
    "\n",
    "dataset_path = kagglehub.dataset_download(\"romanniki/food-delivery-cost-and-profitability\")\n",
    "\n",
    "# Mostrar todos los archivos encontrados\n",
    "for root, dirs, files in os.walk(dataset_path):\n",
    "    for file in files:\n",
    "        print(\"Archivo encontrado:\", os.path.join(root, file))"
   ]
  },
  {
   "cell_type": "code",
   "execution_count": null,
   "id": "4a5ebaea",
   "metadata": {
    "ExecuteTime": {
     "end_time": "2025-07-19T14:33:06.366181Z",
     "start_time": "2025-07-19T14:33:05.839196Z"
    },
    "execution": {
     "iopub.execute_input": "2025-08-29T16:17:28.506451Z",
     "iopub.status.busy": "2025-08-29T16:17:28.502305Z",
     "iopub.status.idle": "2025-08-29T16:17:28.741878Z",
     "shell.execute_reply": "2025-08-29T16:17:28.741222Z"
    },
    "id": "DZiXESZ8UiEb",
    "papermill": {
     "duration": 0.256115,
     "end_time": "2025-08-29T16:17:28.742040",
     "exception": false,
     "start_time": "2025-08-29T16:17:28.485925",
     "status": "completed"
    },
    "tags": []
   },
   "outputs": [],
   "source": [
    "import kagglehub\n",
    "import os\n",
    "\n",
    "# Descarga el dataset (o usa el caché)\n",
    "romanniki_food_delivery_cost_and_profitability_path = kagglehub.dataset_download('romanniki/food-delivery-cost-and-profitability')\n",
    "\n",
    "# Buscar el primer archivo dentro del dataset descargado\n",
    "for root, dirs, files in os.walk(romanniki_food_delivery_cost_and_profitability_path):\n",
    "    for file in files:\n",
    "        path_dataset = os.path.abspath(os.path.join(root, file))\n",
    "        break  # solo el primero\n",
    "    else:\n",
    "        continue\n",
    "    break\n",
    "\n",
    "print('Data source import complete.')\n",
    "print(\"Archivo encontrado en:\", path_dataset)"
   ]
  },
  {
   "cell_type": "markdown",
   "id": "664711c0",
   "metadata": {
    "papermill": {
     "duration": 0.009163,
     "end_time": "2025-08-29T16:17:28.761756",
     "exception": false,
     "start_time": "2025-08-29T16:17:28.752593",
     "status": "completed"
    },
    "tags": []
   },
   "source": [
    "# Librerías necesarias"
   ]
  },
  {
   "cell_type": "code",
   "execution_count": null,
   "id": "29ccb55a",
   "metadata": {
    "ExecuteTime": {
     "end_time": "2025-07-19T14:33:06.391946Z",
     "start_time": "2025-07-19T14:33:06.388433Z"
    },
    "execution": {
     "iopub.execute_input": "2025-08-29T16:17:28.779068Z",
     "iopub.status.busy": "2025-08-29T16:17:28.778680Z",
     "iopub.status.idle": "2025-08-29T16:17:29.864431Z",
     "shell.execute_reply": "2025-08-29T16:17:29.864719Z"
    },
    "papermill": {
     "duration": 1.0955,
     "end_time": "2025-08-29T16:17:29.864815",
     "exception": false,
     "start_time": "2025-08-29T16:17:28.769315",
     "status": "completed"
    },
    "tags": []
   },
   "outputs": [],
   "source": [
    "import numpy as np\n",
    "import pandas as pd\n",
    "import matplotlib.pyplot as plt\n",
    "import seaborn as sns\n",
    "\n",
    "import warnings\n",
    "warnings.filterwarnings('ignore')"
   ]
  },
  {
   "cell_type": "markdown",
   "id": "c567da77",
   "metadata": {
    "papermill": {
     "duration": 0.005942,
     "end_time": "2025-08-29T16:17:29.877498",
     "exception": false,
     "start_time": "2025-08-29T16:17:29.871556",
     "status": "completed"
    },
    "tags": []
   },
   "source": [
    "# Exploración Inicial (EDA)"
   ]
  },
  {
   "cell_type": "code",
   "execution_count": null,
   "id": "50c79229",
   "metadata": {
    "ExecuteTime": {
     "end_time": "2025-07-19T14:33:06.440900Z",
     "start_time": "2025-07-19T14:33:06.406096Z"
    },
    "execution": {
     "iopub.execute_input": "2025-08-29T16:17:29.892838Z",
     "iopub.status.busy": "2025-08-29T16:17:29.892482Z",
     "iopub.status.idle": "2025-08-29T16:17:29.919233Z",
     "shell.execute_reply": "2025-08-29T16:17:29.918952Z"
    },
    "papermill": {
     "duration": 0.036188,
     "end_time": "2025-08-29T16:17:29.919322",
     "exception": false,
     "start_time": "2025-08-29T16:17:29.883134",
     "status": "completed"
    },
    "tags": []
   },
   "outputs": [],
   "source": [
    "df = pd.read_csv(path_dataset)\n",
    "df.shape"
   ]
  },
  {
   "cell_type": "code",
   "execution_count": null,
   "id": "781b4e0c",
   "metadata": {
    "ExecuteTime": {
     "end_time": "2025-07-19T14:33:06.519151Z",
     "start_time": "2025-07-19T14:33:06.456124Z"
    },
    "execution": {
     "iopub.execute_input": "2025-08-29T16:17:29.949356Z",
     "iopub.status.busy": "2025-08-29T16:17:29.943842Z",
     "iopub.status.idle": "2025-08-29T16:17:29.986583Z",
     "shell.execute_reply": "2025-08-29T16:17:29.986222Z"
    },
    "papermill": {
     "duration": 0.061382,
     "end_time": "2025-08-29T16:17:29.986689",
     "exception": false,
     "start_time": "2025-08-29T16:17:29.925307",
     "status": "completed"
    },
    "tags": []
   },
   "outputs": [],
   "source": [
    "\n",
    "# Convertir fechas a tipo datetime\n",
    "df['Order Date and Time'] = pd.to_datetime(df['Order Date and Time'])\n",
    "df['Delivery Date and Time'] = pd.to_datetime(df['Delivery Date and Time'])\n",
    "\n",
    "# Crear columna de tiempo de entrega en minutos\n",
    "df['Delivery Duration (min)'] = (df['Delivery Date and Time'] - df['Order Date and Time']).dt.total_seconds() / 60\n",
    "# Extraer día y hora del pedido\n",
    "df['day_of_week'] = df['Order Date and Time'].dt.day_name()\n",
    "df['hour_of_day'] = df['Order Date and Time'].dt.hour\n",
    "# Marcar si hay descuento o no\n",
    "df['has_discount'] = df['Discounts and Offers'].str.lower() != 'none'\n",
    "\n",
    "# Marcar si fue reembolsado\n",
    "df['refunded'] = df['Refunds/Chargebacks'] > 0\n",
    "df"
   ]
  },
  {
   "cell_type": "code",
   "execution_count": null,
   "id": "d12cdd8c",
   "metadata": {
    "ExecuteTime": {
     "end_time": "2025-07-19T14:33:06.604977Z",
     "start_time": "2025-07-19T14:33:06.599652Z"
    },
    "execution": {
     "iopub.execute_input": "2025-08-29T16:17:30.007685Z",
     "iopub.status.busy": "2025-08-29T16:17:30.006080Z",
     "iopub.status.idle": "2025-08-29T16:17:30.010413Z",
     "shell.execute_reply": "2025-08-29T16:17:30.010102Z"
    },
    "papermill": {
     "duration": 0.017028,
     "end_time": "2025-08-29T16:17:30.010502",
     "exception": false,
     "start_time": "2025-08-29T16:17:29.993474",
     "status": "completed"
    },
    "tags": []
   },
   "outputs": [],
   "source": [
    "print(df['Discounts and Offers'].value_counts())"
   ]
  },
  {
   "cell_type": "markdown",
   "id": "0a89081c",
   "metadata": {
    "papermill": {
     "duration": 0.005847,
     "end_time": "2025-08-29T16:17:30.023144",
     "exception": false,
     "start_time": "2025-08-29T16:17:30.017297",
     "status": "completed"
    },
    "tags": []
   },
   "source": [
    "### Cálculo del valor del descuento"
   ]
  },
  {
   "cell_type": "code",
   "execution_count": null,
   "id": "b6a70b78",
   "metadata": {
    "ExecuteTime": {
     "end_time": "2025-07-19T14:33:06.686032Z",
     "start_time": "2025-07-19T14:33:06.658804Z"
    },
    "execution": {
     "iopub.execute_input": "2025-08-29T16:17:30.058450Z",
     "iopub.status.busy": "2025-08-29T16:17:30.050031Z",
     "iopub.status.idle": "2025-08-29T16:17:30.061447Z",
     "shell.execute_reply": "2025-08-29T16:17:30.060985Z"
    },
    "papermill": {
     "duration": 0.032615,
     "end_time": "2025-08-29T16:17:30.061550",
     "exception": false,
     "start_time": "2025-08-29T16:17:30.028935",
     "status": "completed"
    },
    "tags": []
   },
   "outputs": [],
   "source": [
    "def calcular_descuento(row):\n",
    "    valor = str(row['Discounts and Offers']).lower()\n",
    "    pedido = row['Order Value']\n",
    "    \n",
    "    # Si es porcentaje, por ejemplo \"10%\" o \"5% on app\"\n",
    "    if '%' in valor:\n",
    "        try:\n",
    "            porcentaje = float(valor.split('%')[0])\n",
    "            return pedido * (porcentaje / 100)\n",
    "        except:\n",
    "            return 0\n",
    "        \n",
    "    # Si es \"50 off Promo\" u otros con valor fijo\n",
    "    elif 'off' in valor:\n",
    "        for token in valor.split():\n",
    "            try:\n",
    "                return float(token)\n",
    "            except:\n",
    "                continue\n",
    "        return 0\n",
    "\n",
    "    # Si es \"None\" u otra cosa no reconocida\n",
    "    return 0\n",
    "\n",
    "# Aplicar al DataFrame\n",
    "df['Discount Value'] = df.apply(calcular_descuento, axis=1)\n",
    "\n",
    "# Verificar\n",
    "df[['Discounts and Offers', 'Order Value', 'Discount Value']].head(10)"
   ]
  },
  {
   "cell_type": "markdown",
   "id": "820676f7",
   "metadata": {
    "papermill": {
     "duration": 0.005943,
     "end_time": "2025-08-29T16:17:30.074302",
     "exception": false,
     "start_time": "2025-08-29T16:17:30.068359",
     "status": "completed"
    },
    "tags": []
   },
   "source": [
    "### Cálculo del coste total y beneficio"
   ]
  },
  {
   "cell_type": "code",
   "execution_count": null,
   "id": "2d4ee3f1",
   "metadata": {
    "ExecuteTime": {
     "end_time": "2025-07-19T14:33:06.744183Z",
     "start_time": "2025-07-19T14:33:06.738421Z"
    },
    "execution": {
     "iopub.execute_input": "2025-08-29T16:17:30.096658Z",
     "iopub.status.busy": "2025-08-29T16:17:30.096311Z",
     "iopub.status.idle": "2025-08-29T16:17:30.100125Z",
     "shell.execute_reply": "2025-08-29T16:17:30.099828Z"
    },
    "papermill": {
     "duration": 0.019202,
     "end_time": "2025-08-29T16:17:30.100233",
     "exception": false,
     "start_time": "2025-08-29T16:17:30.081031",
     "status": "completed"
    },
    "tags": []
   },
   "outputs": [],
   "source": [
    "df['Total Cost'] = df['Delivery Fee'] + df['Discount Value'] + df['Payment Processing Fee'] + df['Refunds/Chargebacks']"
   ]
  },
  {
   "cell_type": "code",
   "execution_count": null,
   "id": "d94fd72f",
   "metadata": {
    "ExecuteTime": {
     "end_time": "2025-07-19T14:33:06.793022Z",
     "start_time": "2025-07-19T14:33:06.784037Z"
    },
    "execution": {
     "iopub.execute_input": "2025-08-29T16:17:30.119606Z",
     "iopub.status.busy": "2025-08-29T16:17:30.119304Z",
     "iopub.status.idle": "2025-08-29T16:17:30.122196Z",
     "shell.execute_reply": "2025-08-29T16:17:30.121972Z"
    },
    "papermill": {
     "duration": 0.015186,
     "end_time": "2025-08-29T16:17:30.122261",
     "exception": false,
     "start_time": "2025-08-29T16:17:30.107075",
     "status": "completed"
    },
    "tags": []
   },
   "outputs": [],
   "source": [
    "df['Profit'] = df['Commission Fee'] - df['Total Cost']\n",
    "\n",
    "# Estadísticas generales\n",
    "print(\"Ganancia media por pedido:\", round(df['Profit'].mean(), 2))\n",
    "print(\"Pedidos con pérdida:\", (df['Profit'] < 0).sum())\n",
    "print(\"Porcentaje con pérdida:\", round((df['Profit'] < 0).mean() * 100, 2), '%')"
   ]
  },
  {
   "cell_type": "markdown",
   "id": "e092532d",
   "metadata": {
    "papermill": {
     "duration": 0.00628,
     "end_time": "2025-08-29T16:17:30.134772",
     "exception": false,
     "start_time": "2025-08-29T16:17:30.128492",
     "status": "completed"
    },
    "tags": []
   },
   "source": [
    "### Análisis de pérdidas"
   ]
  },
  {
   "cell_type": "code",
   "execution_count": null,
   "id": "f2c35889",
   "metadata": {
    "ExecuteTime": {
     "end_time": "2025-07-19T14:33:06.827019Z",
     "start_time": "2025-07-19T14:33:06.815908Z"
    },
    "execution": {
     "iopub.execute_input": "2025-08-29T16:17:30.151162Z",
     "iopub.status.busy": "2025-08-29T16:17:30.150790Z",
     "iopub.status.idle": "2025-08-29T16:17:30.159825Z",
     "shell.execute_reply": "2025-08-29T16:17:30.159462Z"
    },
    "papermill": {
     "duration": 0.018538,
     "end_time": "2025-08-29T16:17:30.159939",
     "exception": false,
     "start_time": "2025-08-29T16:17:30.141401",
     "status": "completed"
    },
    "tags": []
   },
   "outputs": [],
   "source": [
    "# Mostrar los 10 pedidos con mayores pérdidas (menor Profit)\n",
    "top_losses = df.sort_values(by='Profit').tail(10)\n",
    "\n",
    "# Mostrar solo las columnas clave para el análisis\n",
    "top_losses[[ 'Order Value', 'Commission Fee', 'Total Cost', 'Profit', 'Discounts and Offers']]"
   ]
  },
  {
   "cell_type": "code",
   "execution_count": null,
   "id": "f413b9d6",
   "metadata": {
    "ExecuteTime": {
     "end_time": "2025-07-19T14:33:06.874830Z",
     "start_time": "2025-07-19T14:33:06.862986Z"
    },
    "execution": {
     "iopub.execute_input": "2025-08-29T16:17:30.181439Z",
     "iopub.status.busy": "2025-08-29T16:17:30.176992Z",
     "iopub.status.idle": "2025-08-29T16:17:30.184379Z",
     "shell.execute_reply": "2025-08-29T16:17:30.184064Z"
    },
    "papermill": {
     "duration": 0.017115,
     "end_time": "2025-08-29T16:17:30.184447",
     "exception": false,
     "start_time": "2025-08-29T16:17:30.167332",
     "status": "completed"
    },
    "tags": []
   },
   "outputs": [],
   "source": [
    "print(df)"
   ]
  },
  {
   "cell_type": "markdown",
   "id": "e0519711",
   "metadata": {
    "papermill": {
     "duration": 0.006532,
     "end_time": "2025-08-29T16:17:30.197572",
     "exception": false,
     "start_time": "2025-08-29T16:17:30.191040",
     "status": "completed"
    },
    "tags": []
   },
   "source": [
    "## Visualización de correlaciones numéricas"
   ]
  },
  {
   "cell_type": "code",
   "execution_count": null,
   "id": "aee642c4",
   "metadata": {
    "ExecuteTime": {
     "end_time": "2025-07-19T14:33:07.403158Z",
     "start_time": "2025-07-19T14:33:06.925091Z"
    },
    "execution": {
     "iopub.execute_input": "2025-08-29T16:17:30.221240Z",
     "iopub.status.busy": "2025-08-29T16:17:30.220921Z",
     "iopub.status.idle": "2025-08-29T16:17:30.750600Z",
     "shell.execute_reply": "2025-08-29T16:17:30.750855Z"
    },
    "papermill": {
     "duration": 0.546576,
     "end_time": "2025-08-29T16:17:30.750979",
     "exception": false,
     "start_time": "2025-08-29T16:17:30.204403",
     "status": "completed"
    },
    "tags": []
   },
   "outputs": [],
   "source": [
    "plt.figure(figsize=(6,6))\n",
    "sns.heatmap(df.select_dtypes(include=['number']).corr(), annot=True, fmt='.1f')"
   ]
  },
  {
   "cell_type": "code",
   "execution_count": null,
   "id": "93956860",
   "metadata": {
    "ExecuteTime": {
     "end_time": "2025-07-19T14:33:07.560809Z",
     "start_time": "2025-07-19T14:33:07.423773Z"
    },
    "execution": {
     "iopub.execute_input": "2025-08-29T16:17:30.774774Z",
     "iopub.status.busy": "2025-08-29T16:17:30.774390Z",
     "iopub.status.idle": "2025-08-29T16:17:30.946493Z",
     "shell.execute_reply": "2025-08-29T16:17:30.946218Z"
    },
    "papermill": {
     "duration": 0.187299,
     "end_time": "2025-08-29T16:17:30.946577",
     "exception": false,
     "start_time": "2025-08-29T16:17:30.759278",
     "status": "completed"
    },
    "tags": []
   },
   "outputs": [],
   "source": [
    "import seaborn as sns\n",
    "import matplotlib.pyplot as plt\n",
    "\n",
    "plt.figure(figsize=(10,5))\n",
    "sns.boxplot(data=df, x='day_of_week', y='Delivery Duration (min)', \n",
    "            order=['Monday','Tuesday','Wednesday','Thursday','Friday','Saturday','Sunday'])\n",
    "plt.xticks(rotation=45)\n",
    "plt.title(\"Duración de entrega por día de la semana\")\n",
    "plt.show()"
   ]
  },
  {
   "cell_type": "code",
   "execution_count": null,
   "id": "fe2c2028",
   "metadata": {
    "ExecuteTime": {
     "end_time": "2025-07-19T14:33:07.763033Z",
     "start_time": "2025-07-19T14:33:07.578110Z"
    },
    "execution": {
     "iopub.execute_input": "2025-08-29T16:17:30.967255Z",
     "iopub.status.busy": "2025-08-29T16:17:30.966933Z",
     "iopub.status.idle": "2025-08-29T16:17:31.114478Z",
     "shell.execute_reply": "2025-08-29T16:17:31.114025Z"
    },
    "papermill": {
     "duration": 0.160205,
     "end_time": "2025-08-29T16:17:31.114575",
     "exception": false,
     "start_time": "2025-08-29T16:17:30.954370",
     "status": "completed"
    },
    "tags": []
   },
   "outputs": [],
   "source": [
    "top_restaurants = df['Restaurant ID'].value_counts().nlargest(10).index\n",
    "\n",
    "plt.figure(figsize=(10,5))\n",
    "sns.boxplot(data=df[df['Restaurant ID'].isin(top_restaurants)],\n",
    "            x='Restaurant ID', y='Delivery Duration (min)')\n",
    "plt.xticks(rotation=45)\n",
    "plt.title(\"Top 10 restaurantes vs duración de entrega\")\n",
    "plt.show()"
   ]
  },
  {
   "cell_type": "code",
   "execution_count": null,
   "id": "a33fe924",
   "metadata": {
    "ExecuteTime": {
     "end_time": "2025-07-19T14:33:07.849801Z",
     "start_time": "2025-07-19T14:33:07.778800Z"
    },
    "execution": {
     "iopub.execute_input": "2025-08-29T16:17:31.135762Z",
     "iopub.status.busy": "2025-08-29T16:17:31.133590Z",
     "iopub.status.idle": "2025-08-29T16:17:31.195473Z",
     "shell.execute_reply": "2025-08-29T16:17:31.195181Z"
    },
    "papermill": {
     "duration": 0.072203,
     "end_time": "2025-08-29T16:17:31.195556",
     "exception": false,
     "start_time": "2025-08-29T16:17:31.123353",
     "status": "completed"
    },
    "tags": []
   },
   "outputs": [],
   "source": [
    "plt.figure(figsize=(6,4))\n",
    "sns.boxplot(data=df, x='has_discount', y='Delivery Duration (min)')\n",
    "plt.title(\"Duración con/sin descuento\")\n",
    "plt.xlabel(\"¿Tiene descuento?\")\n",
    "plt.ylabel(\"Duración (min)\")\n",
    "plt.show()"
   ]
  },
  {
   "cell_type": "code",
   "execution_count": null,
   "id": "02f59786",
   "metadata": {
    "ExecuteTime": {
     "end_time": "2025-07-19T14:33:07.954801Z",
     "start_time": "2025-07-19T14:33:07.865268Z"
    },
    "execution": {
     "iopub.execute_input": "2025-08-29T16:17:31.217108Z",
     "iopub.status.busy": "2025-08-29T16:17:31.216749Z",
     "iopub.status.idle": "2025-08-29T16:17:31.296155Z",
     "shell.execute_reply": "2025-08-29T16:17:31.295850Z"
    },
    "papermill": {
     "duration": 0.092748,
     "end_time": "2025-08-29T16:17:31.296231",
     "exception": false,
     "start_time": "2025-08-29T16:17:31.203483",
     "status": "completed"
    },
    "tags": []
   },
   "outputs": [],
   "source": [
    "plt.figure(figsize=(8,4))\n",
    "sns.boxplot(data=df, x='Payment Method', y='Delivery Duration (min)')\n",
    "plt.title(\"Método de pago vs duración de entrega\")\n",
    "plt.xticks(rotation=45)\n",
    "plt.show()"
   ]
  },
  {
   "cell_type": "code",
   "execution_count": null,
   "id": "2bf12976",
   "metadata": {
    "ExecuteTime": {
     "end_time": "2025-07-19T14:33:08.050806Z",
     "start_time": "2025-07-19T14:33:07.970379Z"
    },
    "execution": {
     "iopub.execute_input": "2025-08-29T16:17:31.319600Z",
     "iopub.status.busy": "2025-08-29T16:17:31.319288Z",
     "iopub.status.idle": "2025-08-29T16:17:31.420191Z",
     "shell.execute_reply": "2025-08-29T16:17:31.419859Z"
    },
    "papermill": {
     "duration": 0.114546,
     "end_time": "2025-08-29T16:17:31.420280",
     "exception": false,
     "start_time": "2025-08-29T16:17:31.305734",
     "status": "completed"
    },
    "tags": []
   },
   "outputs": [],
   "source": [
    "plt.figure(figsize=(6,4))\n",
    "sns.boxplot(data=df, x='refunded', y='Delivery Duration (min)')\n",
    "plt.title(\"Reembolsos vs duración de entrega\")\n",
    "plt.xlabel(\"¿Fue reembolsado?\")\n",
    "plt.ylabel(\"Duración (min)\")\n",
    "plt.show()"
   ]
  },
  {
   "cell_type": "code",
   "execution_count": null,
   "id": "4e015845",
   "metadata": {
    "ExecuteTime": {
     "end_time": "2025-07-19T14:33:08.332802Z",
     "start_time": "2025-07-19T14:33:08.065785Z"
    },
    "execution": {
     "iopub.execute_input": "2025-08-29T16:17:31.443969Z",
     "iopub.status.busy": "2025-08-29T16:17:31.443612Z",
     "iopub.status.idle": "2025-08-29T16:17:31.663172Z",
     "shell.execute_reply": "2025-08-29T16:17:31.662924Z"
    },
    "papermill": {
     "duration": 0.23357,
     "end_time": "2025-08-29T16:17:31.663246",
     "exception": false,
     "start_time": "2025-08-29T16:17:31.429676",
     "status": "completed"
    },
    "tags": []
   },
   "outputs": [],
   "source": [
    "plt.figure(figsize=(10,4))\n",
    "sns.boxplot(data=df, x='hour_of_day', y='Delivery Duration (min)')\n",
    "plt.title(\"Duración según hora del pedido\")\n",
    "plt.xlabel(\"Hora del día\")\n",
    "plt.ylabel(\"Duración (min)\")\n",
    "plt.show()"
   ]
  },
  {
   "cell_type": "code",
   "execution_count": null,
   "id": "fade27a2",
   "metadata": {
    "ExecuteTime": {
     "end_time": "2025-07-19T14:33:08.674807Z",
     "start_time": "2025-07-19T14:33:08.531825Z"
    },
    "execution": {
     "iopub.execute_input": "2025-08-29T16:17:31.688620Z",
     "iopub.status.busy": "2025-08-29T16:17:31.688277Z",
     "iopub.status.idle": "2025-08-29T16:17:31.805019Z",
     "shell.execute_reply": "2025-08-29T16:17:31.802678Z"
    },
    "papermill": {
     "duration": 0.133279,
     "end_time": "2025-08-29T16:17:31.805298",
     "exception": false,
     "start_time": "2025-08-29T16:17:31.672019",
     "status": "completed"
    },
    "tags": []
   },
   "outputs": [],
   "source": [
    "import seaborn as sns\n",
    "import matplotlib.pyplot as plt\n",
    "\n",
    "# Asegurarnos de que la columna tenga un nombre limpio (por si no lo hiciste antes)\n",
    "df['Discounts and Offers'] = df['Discounts and Offers'].astype(str)\n",
    "\n",
    "# Agrupar por tipo de descuento y calcular profit promedio\n",
    "profit_por_descuento = df.groupby('Discounts and Offers')['Profit'].mean().sort_values()\n",
    "\n",
    "# Crear gráfico\n",
    "plt.figure(figsize=(10,6))\n",
    "sns.barplot(x=profit_por_descuento.values, y=profit_por_descuento.index, palette='coolwarm')\n",
    "plt.title(\"Ganancia media por tipo de descuento\")\n",
    "plt.xlabel(\"Ganancia media (Profit)\")\n",
    "plt.ylabel(\"Tipo de descuento\")\n",
    "plt.axvline(0, color='gray', linestyle='--')\n",
    "plt.tight_layout()\n",
    "plt.show()"
   ]
  },
  {
   "cell_type": "code",
   "execution_count": null,
   "id": "18fbefd2",
   "metadata": {
    "ExecuteTime": {
     "end_time": "2025-07-19T14:33:08.795803Z",
     "start_time": "2025-07-19T14:33:08.688932Z"
    },
    "execution": {
     "iopub.execute_input": "2025-08-29T16:17:31.847332Z",
     "iopub.status.busy": "2025-08-29T16:17:31.846975Z",
     "iopub.status.idle": "2025-08-29T16:17:31.948094Z",
     "shell.execute_reply": "2025-08-29T16:17:31.948351Z"
    },
    "papermill": {
     "duration": 0.126414,
     "end_time": "2025-08-29T16:17:31.948458",
     "exception": false,
     "start_time": "2025-08-29T16:17:31.822044",
     "status": "completed"
    },
    "tags": []
   },
   "outputs": [],
   "source": [
    "import seaborn as sns\n",
    "import matplotlib.pyplot as plt\n",
    "\n",
    "# Asegúrate de que la columna de duración esté creada\n",
    "if 'Delivery Duration (min)' not in df.columns:\n",
    "    df['Order Date and Time'] = pd.to_datetime(df['Order Date and Time'])\n",
    "    df['Delivery Date and Time'] = pd.to_datetime(df['Delivery Date and Time'])\n",
    "    df['Delivery Duration (min)'] = (df['Delivery Date and Time'] - df['Order Date and Time']).dt.total_seconds() / 60\n",
    "\n",
    "# Crear columna binaria: ¿Hubo reembolso?\n",
    "df['Refunded'] = df['Refunds/Chargebacks'] > 0\n",
    "\n",
    "# Gráfico de distribución del tiempo de entrega según haya o no reembolso\n",
    "plt.figure(figsize=(10,6))\n",
    "sns.boxplot(x='Refunded', y='Delivery Duration (min)', data=df)\n",
    "plt.xticks([0,1], ['Sin reembolso', 'Con reembolso'])\n",
    "plt.title(\"Tiempo de entrega según presencia de reembolso\")\n",
    "plt.ylabel(\"Duración de entrega (minutos)\")\n",
    "plt.xlabel(\"¿Hubo reembolso?\")\n",
    "plt.tight_layout()\n",
    "plt.show()"
   ]
  },
  {
   "cell_type": "code",
   "execution_count": null,
   "id": "604017fa",
   "metadata": {
    "ExecuteTime": {
     "end_time": "2025-07-19T14:33:09.210824Z",
     "start_time": "2025-07-19T14:33:09.207015Z"
    },
    "execution": {
     "iopub.execute_input": "2025-08-29T16:17:31.973184Z",
     "iopub.status.busy": "2025-08-29T16:17:31.972831Z",
     "iopub.status.idle": "2025-08-29T16:17:31.975033Z",
     "shell.execute_reply": "2025-08-29T16:17:31.974726Z"
    },
    "papermill": {
     "duration": 0.016348,
     "end_time": "2025-08-29T16:17:31.975103",
     "exception": false,
     "start_time": "2025-08-29T16:17:31.958755",
     "status": "completed"
    },
    "tags": []
   },
   "outputs": [],
   "source": [
    "# Normalizar y deduplicar nombres de columnas en pandas (compatible 1.x/2.x)\n",
    "from collections import defaultdict\n",
    "df.columns = (\n",
    "    df.columns\n",
    "      .map(str)\n",
    "      .str.strip()\n",
    "      .str.lower()\n",
    "      .str.replace(' ', '_', regex=False)\n",
    ")\n",
    "counts = defaultdict(int)\n",
    "new_cols = []\n",
    "for c in df.columns:\n",
    "    if counts[c]:\n",
    "        new_cols.append(f\"{c}.{counts[c]}\")\n",
    "    else:\n",
    "        new_cols.append(c)\n",
    "    counts[c] += 1\n",
    "df.columns = new_cols\n"
   ]
  },
  {
   "cell_type": "code",
   "execution_count": null,
   "id": "af20c38b",
   "metadata": {
    "ExecuteTime": {
     "end_time": "2025-07-19T14:33:09.235823Z",
     "start_time": "2025-07-19T14:33:09.222952Z"
    },
    "execution": {
     "iopub.execute_input": "2025-08-29T16:17:32.000154Z",
     "iopub.status.busy": "2025-08-29T16:17:31.999818Z",
     "iopub.status.idle": "2025-08-29T16:17:32.008393Z",
     "shell.execute_reply": "2025-08-29T16:17:32.008115Z"
    },
    "papermill": {
     "duration": 0.023769,
     "end_time": "2025-08-29T16:17:32.008458",
     "exception": false,
     "start_time": "2025-08-29T16:17:31.984689",
     "status": "completed"
    },
    "tags": []
   },
   "outputs": [],
   "source": [
    "print (df)"
   ]
  },
  {
   "cell_type": "markdown",
   "id": "a9143581",
   "metadata": {
    "papermill": {
     "duration": 0.00845,
     "end_time": "2025-08-29T16:17:32.025830",
     "exception": false,
     "start_time": "2025-08-29T16:17:32.017380",
     "status": "completed"
    },
    "tags": []
   },
   "source": [
    "# Configuración de Spark y preparación de datos"
   ]
  },
  {
   "cell_type": "code",
   "execution_count": null,
   "id": "436f33f5",
   "metadata": {
    "ExecuteTime": {
     "end_time": "2025-07-19T14:34:40.666100Z",
     "start_time": "2025-07-19T14:33:09.261662Z"
    },
    "execution": {
     "iopub.execute_input": "2025-08-29T16:17:32.054753Z",
     "iopub.status.busy": "2025-08-29T16:17:32.054362Z",
     "iopub.status.idle": "2025-08-29T16:18:32.581447Z",
     "shell.execute_reply": "2025-08-29T16:18:32.581969Z"
    },
    "papermill": {
     "duration": 60.547691,
     "end_time": "2025-08-29T16:18:32.582324",
     "exception": false,
     "start_time": "2025-08-29T16:17:32.034633",
     "status": "completed"
    },
    "tags": []
   },
   "outputs": [],
   "source": [
    "from pyspark.sql import SparkSession\n",
    "from pyspark import SparkContext\n",
    "from pyspark.ml.feature import StringIndexer, OneHotEncoder, VectorAssembler\n",
    "from pyspark.ml.regression import GBTRegressor\n",
    "from pyspark.ml import Pipeline\n",
    "from pyspark.ml.evaluation import RegressionEvaluator\n",
    "from pyspark.ml.tuning import ParamGridBuilder, TrainValidationSplit\n",
    "\n",
    "# Cerrar contexto anterior si está activo\n",
    "if SparkContext._active_spark_context:\n",
    "    SparkContext._active_spark_context.stop()\n",
    "\n",
    "# SparkSession apuntando al cluster\n",
    "spark = (\n",
    "    SparkSession.builder.appName(\"Create-model-DeliveryDurationGBT-Tuned-Light\")\n",
    "    .master(\"spark://agile:7077\")\n",
    "    .config(\"spark.driver.bindAddress\", \"0.0.0.0\")\n",
    "    .getOrCreate()\n",
    ")\n",
    "\n",
    "sc = spark.sparkContext\n",
    "sc.setLogLevel(\"ERROR\")\n",
    "\n",
    "# Añadir columnas derivadas en pandas antes de pasar a Spark\n",
    "df[\"es_fin_de_semana\"] = df[\"day_of_week\"].isin([\"Saturday\", \"Sunday\"]).astype(int)\n",
    "df[\"es_hora_punta\"] = df[\"hour_of_day\"].between(13, 15) | df[\"hour_of_day\"].between(20, 22)\n",
    "df[\"es_hora_punta\"] = df[\"es_hora_punta\"].astype(int)\n",
    "\n",
    "# Crear DataFrame en Spark\n",
    "df_spark = spark.createDataFrame(df)\n",
    "\n",
    "# Variables\n",
    "categorical_cols = ['payment_method', 'discounts_and_offers', 'day_of_week', 'hour_of_day']\n",
    "numeric_cols = [\n",
    "    'order_value', 'delivery_fee', 'commission_fee', 'payment_processing_fee',\n",
    "    'refunds/chargebacks', 'discount_value', 'has_discount', 'refunded',\n",
    "    'es_fin_de_semana', 'es_hora_punta'\n",
    "]\n",
    "target = 'delivery_duration_(min)'\n",
    "\n",
    "# Indexado y one-hot\n",
    "indexers = [StringIndexer(inputCol=col, outputCol=col + \"_idx\", handleInvalid=\"keep\") for col in categorical_cols]\n",
    "encoders = [OneHotEncoder(inputCol=col + \"_idx\", outputCol=col + \"_vec\") for col in categorical_cols]\n",
    "\n",
    "# Vector de features\n",
    "assembler = VectorAssembler(\n",
    "    inputCols=numeric_cols + [col + \"_vec\" for col in categorical_cols],\n",
    "    outputCol=\"features\"\n",
    ")\n",
    "\n",
    "# Modelo\n",
    "regressor = GBTRegressor(featuresCol=\"features\", labelCol=target)\n",
    "\n",
    "# Pipeline\n",
    "pipeline = Pipeline(stages=indexers + encoders + [assembler, regressor])\n",
    "\n",
    "# Grid de hiperparámetros ligera\n",
    "paramGrid = ParamGridBuilder() \\\n",
    "    .addGrid(regressor.maxDepth, [5]) \\\n",
    "    .addGrid(regressor.maxIter, [20, 40]) \\\n",
    "    .build()\n",
    "\n",
    "# Train-validation split\n",
    "tvs = TrainValidationSplit(\n",
    "    estimator=pipeline,\n",
    "    estimatorParamMaps=paramGrid,\n",
    "    evaluator=RegressionEvaluator(labelCol=target, predictionCol=\"prediction\", metricName=\"rmse\"),\n",
    "    trainRatio=0.8\n",
    ")\n",
    "\n",
    "# Split de datos\n",
    "train_data, test_data = df_spark.randomSplit([0.8, 0.2], seed=42)\n",
    "\n",
    "# Entrenamiento\n",
    "# tvs_model = tvs.fit(train_data)\n",
    "tvs_model = pipeline.fit(train_data)\n",
    "\n",
    "# Evaluación\n",
    "predictions = tvs_model.transform(test_data)\n",
    "rmse = RegressionEvaluator(labelCol=target, predictionCol=\"prediction\", metricName=\"rmse\").evaluate(predictions)\n",
    "\n",
    "print(\"✅ Modelo mejorado con TrainValidationSplit\")\n",
    "print(f\"📉 RMSE final: {rmse:.2f}\")"
   ]
  },
  {
   "cell_type": "code",
   "execution_count": null,
   "id": "a016f7ac",
   "metadata": {
    "execution": {
     "iopub.execute_input": "2025-08-29T16:18:32.614723Z",
     "iopub.status.busy": "2025-08-29T16:18:32.614331Z",
     "iopub.status.idle": "2025-08-29T16:18:32.619751Z",
     "shell.execute_reply": "2025-08-29T16:18:32.619500Z"
    },
    "papermill": {
     "duration": 0.022319,
     "end_time": "2025-08-29T16:18:32.619841",
     "exception": false,
     "start_time": "2025-08-29T16:18:32.597522",
     "status": "completed"
    },
    "tags": []
   },
   "outputs": [],
   "source": [
    "df_spark.printSchema()"
   ]
  },
  {
   "cell_type": "markdown",
   "id": "7259939a",
   "metadata": {
    "papermill": {
     "duration": 0.011099,
     "end_time": "2025-08-29T16:18:32.644108",
     "exception": false,
     "start_time": "2025-08-29T16:18:32.633009",
     "status": "completed"
    },
    "tags": []
   },
   "source": [
    "### Evaluación del modelo"
   ]
  },
  {
   "cell_type": "code",
   "execution_count": null,
   "id": "fe748dca",
   "metadata": {
    "ExecuteTime": {
     "end_time": "2025-07-19T14:36:29.489847Z",
     "start_time": "2025-07-19T14:36:26.618289Z"
    },
    "execution": {
     "iopub.execute_input": "2025-08-29T16:18:32.670344Z",
     "iopub.status.busy": "2025-08-29T16:18:32.669897Z",
     "iopub.status.idle": "2025-08-29T16:18:33.836084Z",
     "shell.execute_reply": "2025-08-29T16:18:33.836728Z"
    },
    "papermill": {
     "duration": 1.184479,
     "end_time": "2025-08-29T16:18:33.838752",
     "exception": false,
     "start_time": "2025-08-29T16:18:32.654273",
     "status": "completed"
    },
    "tags": []
   },
   "outputs": [],
   "source": [
    "import pandas as pd\n",
    "import matplotlib.pyplot as plt\n",
    "\n",
    "# Convertimos a Pandas para visualización\n",
    "preds_pd = predictions.select(\"delivery_duration_(min)\", \"prediction\").toPandas()\n",
    "\n",
    "# Plot real vs predicho\n",
    "plt.figure(figsize=(6,6))\n",
    "plt.scatter(preds_pd[\"delivery_duration_(min)\"], preds_pd[\"prediction\"], alpha=0.5)\n",
    "plt.plot([0, preds_pd.max().max()], [0, preds_pd.max().max()], 'r--')\n",
    "plt.xlabel(\"Valor real\")\n",
    "plt.ylabel(\"Predicción\")\n",
    "plt.title(\"Predicción vs Real (Duración en minutos)\")\n",
    "plt.grid(True)\n",
    "plt.show()"
   ]
  },
  {
   "cell_type": "code",
   "execution_count": null,
   "id": "4339fac5",
   "metadata": {
    "ExecuteTime": {
     "end_time": "2025-07-19T14:36:30.651045Z",
     "start_time": "2025-07-19T14:36:29.555718Z"
    },
    "execution": {
     "iopub.execute_input": "2025-08-29T16:18:33.925397Z",
     "iopub.status.busy": "2025-08-29T16:18:33.924817Z",
     "iopub.status.idle": "2025-08-29T16:18:34.906322Z",
     "shell.execute_reply": "2025-08-29T16:18:34.905953Z"
    },
    "papermill": {
     "duration": 1.050859,
     "end_time": "2025-08-29T16:18:34.906421",
     "exception": false,
     "start_time": "2025-08-29T16:18:33.855562",
     "status": "completed"
    },
    "tags": []
   },
   "outputs": [],
   "source": [
    "# Mostrar predicciones reales vs. predichas\n",
    "predictions.select('delivery_duration_(min)', 'prediction').show(10)"
   ]
  },
  {
   "cell_type": "markdown",
   "id": "20d47d3e",
   "metadata": {
    "papermill": {
     "duration": 0.009983,
     "end_time": "2025-08-29T16:18:34.927652",
     "exception": false,
     "start_time": "2025-08-29T16:18:34.917669",
     "status": "completed"
    },
    "tags": []
   },
   "source": [
    "### Guardado del modelo y transformadores"
   ]
  },
  {
   "cell_type": "code",
   "execution_count": null,
   "id": "c1fd0f16",
   "metadata": {
    "execution": {
     "iopub.execute_input": "2025-08-29T16:18:34.961104Z",
     "iopub.status.busy": "2025-08-29T16:18:34.960582Z",
     "iopub.status.idle": "2025-08-29T16:19:00.381407Z",
     "shell.execute_reply": "2025-08-29T16:19:00.382304Z"
    },
    "papermill": {
     "duration": 25.445028,
     "end_time": "2025-08-29T16:19:00.383132",
     "exception": false,
     "start_time": "2025-08-29T16:18:34.938104",
     "status": "completed"
    },
    "tags": []
   },
   "outputs": [],
   "source": [
    "import os\n",
    "base_path = \"./models\"\n",
    "os.makedirs(base_path, exist_ok=True)\n",
    "\n",
    "# Guarda el VectorAssembler\n",
    "assembler.write().overwrite().save(f\"{base_path}/vector_assembler.bin\")\n",
    "\n",
    "# Guarda todos los StringIndexer\n",
    "for idx, indexer_model in enumerate(indexers):\n",
    "    indexer_model.write().overwrite().save(f\"{base_path}/string_indexer_{idx}.bin\")\n",
    "\n",
    "# Guarda todos los OneHotEncoder\n",
    "for idx, encoder_model in enumerate(encoders):\n",
    "    encoder_model.write().overwrite().save(f\"{base_path}/one_hot_encoder_{idx}.bin\")\n",
    "\n",
    "# Guarda el modelo entrenado\n",
    "tvs_model.write().overwrite().save(f\"{base_path}/pipeline_model.bin\")"
   ]
  }
 ],
 "metadata": {
  "colab": {
   "name": "Food Delivery: Timing is everything",
   "provenance": []
  },
  "kaggle": {
   "accelerator": "none",
   "dataSources": [
    {
     "datasetId": 5072200,
     "sourceId": 8499662,
     "sourceType": "datasetVersion"
    }
   ],
   "dockerImageVersionId": 30698,
   "isGpuEnabled": false,
   "isInternetEnabled": true,
   "language": "python",
   "sourceType": "notebook"
  },
  "kernelspec": {
   "display_name": "Python 3 (ipykernel)",
   "language": "python",
   "name": "python3"
  },
  "language_info": {
   "codemirror_mode": {
    "name": "ipython",
    "version": 3
   },
   "file_extension": ".py",
   "mimetype": "text/x-python",
   "name": "python",
   "nbconvert_exporter": "python",
   "pygments_lexer": "ipython3",
   "version": "3.9.7"
  },
  "papermill": {
   "default_parameters": {},
   "duration": 103.653574,
   "end_time": "2025-08-29T16:19:00.953262",
   "environment_variables": {},
   "exception": null,
   "input_path": "/home/jovyan/Food_delivery/Analysis.ipynb",
   "output_path": "/home/jovyan/Food_delivery/Analysis.ipynb",
   "parameters": {},
   "start_time": "2025-08-29T16:17:17.299688",
   "version": "2.6.0"
  }
 },
 "nbformat": 4,
 "nbformat_minor": 5
}
