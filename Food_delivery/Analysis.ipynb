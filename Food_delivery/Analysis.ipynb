{
 "cells": [
  {
   "cell_type": "markdown",
   "id": "7784514e",
   "metadata": {
    "papermill": {
     "duration": 0.014979,
     "end_time": "2025-08-27T17:51:54.170260",
     "exception": false,
     "start_time": "2025-08-27T17:51:54.155281",
     "status": "completed"
    },
    "tags": []
   },
   "source": [
    "# Instalación de dependencias"
   ]
  },
  {
   "cell_type": "code",
   "execution_count": null,
   "id": "f8e18825",
   "metadata": {
    "ExecuteTime": {
     "end_time": "2025-07-19T14:33:05.760043Z",
     "start_time": "2025-07-19T14:33:04.143086Z"
    },
    "execution": {
     "iopub.execute_input": "2025-08-27T17:51:54.195868Z",
     "iopub.status.busy": "2025-08-27T17:51:54.195428Z",
     "iopub.status.idle": "2025-08-27T17:51:55.869540Z",
     "shell.execute_reply": "2025-08-27T17:51:55.869005Z"
    },
    "papermill": {
     "duration": 1.689953,
     "end_time": "2025-08-27T17:51:55.870379",
     "exception": false,
     "start_time": "2025-08-27T17:51:54.180426",
     "status": "completed"
    },
    "tags": []
   },
   "outputs": [],
   "source": [
    "pip install kagglehub"
   ]
  },
  {
   "cell_type": "code",
   "execution_count": null,
   "id": "26274433",
   "metadata": {
    "execution": {
     "iopub.execute_input": "2025-08-27T17:51:55.891971Z",
     "iopub.status.busy": "2025-08-27T17:51:55.888443Z",
     "iopub.status.idle": "2025-08-27T17:51:59.281577Z",
     "shell.execute_reply": "2025-08-27T17:51:59.281061Z"
    },
    "papermill": {
     "duration": 3.402028,
     "end_time": "2025-08-27T17:51:59.281801",
     "exception": false,
     "start_time": "2025-08-27T17:51:55.879773",
     "status": "completed"
    },
    "tags": []
   },
   "outputs": [],
   "source": [
    "pip install --upgrade pandas"
   ]
  },
  {
   "cell_type": "markdown",
   "id": "09b82e54",
   "metadata": {
    "papermill": {
     "duration": 0.035763,
     "end_time": "2025-08-27T17:51:59.329187",
     "exception": false,
     "start_time": "2025-08-27T17:51:59.293424",
     "status": "completed"
    },
    "tags": []
   },
   "source": [
    "# Descarga del dataset"
   ]
  },
  {
   "cell_type": "code",
   "execution_count": null,
   "id": "4abbc559",
   "metadata": {
    "execution": {
     "iopub.execute_input": "2025-08-27T17:51:59.346796Z",
     "iopub.status.busy": "2025-08-27T17:51:59.346434Z",
     "iopub.status.idle": "2025-08-27T17:51:59.901835Z",
     "shell.execute_reply": "2025-08-27T17:51:59.901220Z"
    },
    "papermill": {
     "duration": 0.566658,
     "end_time": "2025-08-27T17:51:59.902007",
     "exception": false,
     "start_time": "2025-08-27T17:51:59.335349",
     "status": "completed"
    },
    "tags": []
   },
   "outputs": [],
   "source": [
    "import os\n",
    "import kagglehub\n",
    "\n",
    "dataset_path = kagglehub.dataset_download(\"romanniki/food-delivery-cost-and-profitability\")\n",
    "\n",
    "# Mostrar todos los archivos encontrados\n",
    "for root, dirs, files in os.walk(dataset_path):\n",
    "    for file in files:\n",
    "        print(\"Archivo encontrado:\", os.path.join(root, file))"
   ]
  },
  {
   "cell_type": "code",
   "execution_count": null,
   "id": "4a5ebaea",
   "metadata": {
    "ExecuteTime": {
     "end_time": "2025-07-19T14:33:06.366181Z",
     "start_time": "2025-07-19T14:33:05.839196Z"
    },
    "execution": {
     "iopub.execute_input": "2025-08-27T17:51:59.927415Z",
     "iopub.status.busy": "2025-08-27T17:51:59.926830Z",
     "iopub.status.idle": "2025-08-27T17:52:00.322938Z",
     "shell.execute_reply": "2025-08-27T17:52:00.322258Z"
    },
    "id": "DZiXESZ8UiEb",
    "papermill": {
     "duration": 0.410027,
     "end_time": "2025-08-27T17:52:00.323123",
     "exception": false,
     "start_time": "2025-08-27T17:51:59.913096",
     "status": "completed"
    },
    "tags": []
   },
   "outputs": [],
   "source": [
    "import kagglehub\n",
    "import os\n",
    "\n",
    "# Descarga el dataset (o usa el caché)\n",
    "romanniki_food_delivery_cost_and_profitability_path = kagglehub.dataset_download('romanniki/food-delivery-cost-and-profitability')\n",
    "\n",
    "# Buscar el primer archivo dentro del dataset descargado\n",
    "for root, dirs, files in os.walk(romanniki_food_delivery_cost_and_profitability_path):\n",
    "    for file in files:\n",
    "        path_dataset = os.path.abspath(os.path.join(root, file))\n",
    "        break  # solo el primero\n",
    "    else:\n",
    "        continue\n",
    "    break\n",
    "\n",
    "print('Data source import complete.')\n",
    "print(\"Archivo encontrado en:\", path_dataset)"
   ]
  },
  {
   "cell_type": "markdown",
   "id": "664711c0",
   "metadata": {
    "papermill": {
     "duration": 0.00771,
     "end_time": "2025-08-27T17:52:00.341235",
     "exception": false,
     "start_time": "2025-08-27T17:52:00.333525",
     "status": "completed"
    },
    "tags": []
   },
   "source": [
    "# Librerías necesarias"
   ]
  },
  {
   "cell_type": "code",
   "execution_count": null,
   "id": "29ccb55a",
   "metadata": {
    "ExecuteTime": {
     "end_time": "2025-07-19T14:33:06.391946Z",
     "start_time": "2025-07-19T14:33:06.388433Z"
    },
    "execution": {
     "iopub.execute_input": "2025-08-27T17:52:00.361984Z",
     "iopub.status.busy": "2025-08-27T17:52:00.361562Z",
     "iopub.status.idle": "2025-08-27T17:52:01.409109Z",
     "shell.execute_reply": "2025-08-27T17:52:01.408731Z"
    },
    "papermill": {
     "duration": 1.060529,
     "end_time": "2025-08-27T17:52:01.409243",
     "exception": false,
     "start_time": "2025-08-27T17:52:00.348714",
     "status": "completed"
    },
    "tags": []
   },
   "outputs": [],
   "source": [
    "import numpy as np\n",
    "import pandas as pd\n",
    "import matplotlib.pyplot as plt\n",
    "import seaborn as sns\n",
    "\n",
    "import warnings\n",
    "warnings.filterwarnings('ignore')"
   ]
  },
  {
   "cell_type": "markdown",
   "id": "c567da77",
   "metadata": {
    "papermill": {
     "duration": 0.005833,
     "end_time": "2025-08-27T17:52:01.422045",
     "exception": false,
     "start_time": "2025-08-27T17:52:01.416212",
     "status": "completed"
    },
    "tags": []
   },
   "source": [
    "# Exploración Inicial (EDA)"
   ]
  },
  {
   "cell_type": "code",
   "execution_count": null,
   "id": "50c79229",
   "metadata": {
    "ExecuteTime": {
     "end_time": "2025-07-19T14:33:06.440900Z",
     "start_time": "2025-07-19T14:33:06.406096Z"
    },
    "execution": {
     "iopub.execute_input": "2025-08-27T17:52:01.441170Z",
     "iopub.status.busy": "2025-08-27T17:52:01.440866Z",
     "iopub.status.idle": "2025-08-27T17:52:01.463291Z",
     "shell.execute_reply": "2025-08-27T17:52:01.463000Z"
    },
    "papermill": {
     "duration": 0.035213,
     "end_time": "2025-08-27T17:52:01.463357",
     "exception": false,
     "start_time": "2025-08-27T17:52:01.428144",
     "status": "completed"
    },
    "tags": []
   },
   "outputs": [],
   "source": [
    "df = pd.read_csv(path_dataset)\n",
    "df.shape"
   ]
  },
  {
   "cell_type": "code",
   "execution_count": null,
   "id": "781b4e0c",
   "metadata": {
    "ExecuteTime": {
     "end_time": "2025-07-19T14:33:06.519151Z",
     "start_time": "2025-07-19T14:33:06.456124Z"
    },
    "execution": {
     "iopub.execute_input": "2025-08-27T17:52:01.492282Z",
     "iopub.status.busy": "2025-08-27T17:52:01.490342Z",
     "iopub.status.idle": "2025-08-27T17:52:01.534952Z",
     "shell.execute_reply": "2025-08-27T17:52:01.534578Z"
    },
    "papermill": {
     "duration": 0.064873,
     "end_time": "2025-08-27T17:52:01.535037",
     "exception": false,
     "start_time": "2025-08-27T17:52:01.470164",
     "status": "completed"
    },
    "tags": []
   },
   "outputs": [],
   "source": [
    "\n",
    "# Convertir fechas a tipo datetime\n",
    "df['Order Date and Time'] = pd.to_datetime(df['Order Date and Time'])\n",
    "df['Delivery Date and Time'] = pd.to_datetime(df['Delivery Date and Time'])\n",
    "\n",
    "# Crear columna de tiempo de entrega en minutos\n",
    "df['Delivery Duration (min)'] = (df['Delivery Date and Time'] - df['Order Date and Time']).dt.total_seconds() / 60\n",
    "# Extraer día y hora del pedido\n",
    "df['day_of_week'] = df['Order Date and Time'].dt.day_name()\n",
    "df['hour_of_day'] = df['Order Date and Time'].dt.hour\n",
    "# Marcar si hay descuento o no\n",
    "df['has_discount'] = df['Discounts and Offers'].str.lower() != 'none'\n",
    "\n",
    "# Marcar si fue reembolsado\n",
    "df['refunded'] = df['Refunds/Chargebacks'] > 0\n",
    "df"
   ]
  },
  {
   "cell_type": "code",
   "execution_count": null,
   "id": "d12cdd8c",
   "metadata": {
    "ExecuteTime": {
     "end_time": "2025-07-19T14:33:06.604977Z",
     "start_time": "2025-07-19T14:33:06.599652Z"
    },
    "execution": {
     "iopub.execute_input": "2025-08-27T17:52:01.555246Z",
     "iopub.status.busy": "2025-08-27T17:52:01.551702Z",
     "iopub.status.idle": "2025-08-27T17:52:01.559282Z",
     "shell.execute_reply": "2025-08-27T17:52:01.559022Z"
    },
    "papermill": {
     "duration": 0.016477,
     "end_time": "2025-08-27T17:52:01.559373",
     "exception": false,
     "start_time": "2025-08-27T17:52:01.542896",
     "status": "completed"
    },
    "tags": []
   },
   "outputs": [],
   "source": [
    "print(df['Discounts and Offers'].value_counts())"
   ]
  },
  {
   "cell_type": "markdown",
   "id": "0a89081c",
   "metadata": {
    "papermill": {
     "duration": 0.006799,
     "end_time": "2025-08-27T17:52:01.573111",
     "exception": false,
     "start_time": "2025-08-27T17:52:01.566312",
     "status": "completed"
    },
    "tags": []
   },
   "source": [
    "### Cálculo del valor del descuento"
   ]
  },
  {
   "cell_type": "code",
   "execution_count": null,
   "id": "b6a70b78",
   "metadata": {
    "ExecuteTime": {
     "end_time": "2025-07-19T14:33:06.686032Z",
     "start_time": "2025-07-19T14:33:06.658804Z"
    },
    "execution": {
     "iopub.execute_input": "2025-08-27T17:52:01.593720Z",
     "iopub.status.busy": "2025-08-27T17:52:01.593334Z",
     "iopub.status.idle": "2025-08-27T17:52:01.618094Z",
     "shell.execute_reply": "2025-08-27T17:52:01.618328Z"
    },
    "papermill": {
     "duration": 0.038295,
     "end_time": "2025-08-27T17:52:01.618427",
     "exception": false,
     "start_time": "2025-08-27T17:52:01.580132",
     "status": "completed"
    },
    "tags": []
   },
   "outputs": [],
   "source": [
    "def calcular_descuento(row):\n",
    "    valor = str(row['Discounts and Offers']).lower()\n",
    "    pedido = row['Order Value']\n",
    "    \n",
    "    # Si es porcentaje, por ejemplo \"10%\" o \"5% on app\"\n",
    "    if '%' in valor:\n",
    "        try:\n",
    "            porcentaje = float(valor.split('%')[0])\n",
    "            return pedido * (porcentaje / 100)\n",
    "        except:\n",
    "            return 0\n",
    "        \n",
    "    # Si es \"50 off Promo\" u otros con valor fijo\n",
    "    elif 'off' in valor:\n",
    "        for token in valor.split():\n",
    "            try:\n",
    "                return float(token)\n",
    "            except:\n",
    "                continue\n",
    "        return 0\n",
    "\n",
    "    # Si es \"None\" u otra cosa no reconocida\n",
    "    return 0\n",
    "\n",
    "# Aplicar al DataFrame\n",
    "df['Discount Value'] = df.apply(calcular_descuento, axis=1)\n",
    "\n",
    "# Verificar\n",
    "df[['Discounts and Offers', 'Order Value', 'Discount Value']].head(10)"
   ]
  },
  {
   "cell_type": "markdown",
   "id": "820676f7",
   "metadata": {
    "papermill": {
     "duration": 0.007599,
     "end_time": "2025-08-27T17:52:01.633812",
     "exception": false,
     "start_time": "2025-08-27T17:52:01.626213",
     "status": "completed"
    },
    "tags": []
   },
   "source": [
    "### Cálculo del coste total y beneficio"
   ]
  },
  {
   "cell_type": "code",
   "execution_count": null,
   "id": "2d4ee3f1",
   "metadata": {
    "ExecuteTime": {
     "end_time": "2025-07-19T14:33:06.744183Z",
     "start_time": "2025-07-19T14:33:06.738421Z"
    },
    "execution": {
     "iopub.execute_input": "2025-08-27T17:52:01.652234Z",
     "iopub.status.busy": "2025-08-27T17:52:01.650106Z",
     "iopub.status.idle": "2025-08-27T17:52:01.655635Z",
     "shell.execute_reply": "2025-08-27T17:52:01.655369Z"
    },
    "papermill": {
     "duration": 0.01477,
     "end_time": "2025-08-27T17:52:01.655718",
     "exception": false,
     "start_time": "2025-08-27T17:52:01.640948",
     "status": "completed"
    },
    "tags": []
   },
   "outputs": [],
   "source": [
    "df['Total Cost'] = df['Delivery Fee'] + df['Discount Value'] + df['Payment Processing Fee'] + df['Refunds/Chargebacks']"
   ]
  },
  {
   "cell_type": "code",
   "execution_count": null,
   "id": "d94fd72f",
   "metadata": {
    "ExecuteTime": {
     "end_time": "2025-07-19T14:33:06.793022Z",
     "start_time": "2025-07-19T14:33:06.784037Z"
    },
    "execution": {
     "iopub.execute_input": "2025-08-27T17:52:01.676066Z",
     "iopub.status.busy": "2025-08-27T17:52:01.675739Z",
     "iopub.status.idle": "2025-08-27T17:52:01.679003Z",
     "shell.execute_reply": "2025-08-27T17:52:01.679246Z"
    },
    "papermill": {
     "duration": 0.016358,
     "end_time": "2025-08-27T17:52:01.679370",
     "exception": false,
     "start_time": "2025-08-27T17:52:01.663012",
     "status": "completed"
    },
    "tags": []
   },
   "outputs": [],
   "source": [
    "df['Profit'] = df['Commission Fee'] - df['Total Cost']\n",
    "\n",
    "# Estadísticas generales\n",
    "print(\"Ganancia media por pedido:\", round(df['Profit'].mean(), 2))\n",
    "print(\"Pedidos con pérdida:\", (df['Profit'] < 0).sum())\n",
    "print(\"Porcentaje con pérdida:\", round((df['Profit'] < 0).mean() * 100, 2), '%')"
   ]
  },
  {
   "cell_type": "markdown",
   "id": "e092532d",
   "metadata": {
    "papermill": {
     "duration": 0.007655,
     "end_time": "2025-08-27T17:52:01.693985",
     "exception": false,
     "start_time": "2025-08-27T17:52:01.686330",
     "status": "completed"
    },
    "tags": []
   },
   "source": [
    "### Análisis de pérdidas"
   ]
  },
  {
   "cell_type": "code",
   "execution_count": null,
   "id": "f2c35889",
   "metadata": {
    "ExecuteTime": {
     "end_time": "2025-07-19T14:33:06.827019Z",
     "start_time": "2025-07-19T14:33:06.815908Z"
    },
    "execution": {
     "iopub.execute_input": "2025-08-27T17:52:01.711832Z",
     "iopub.status.busy": "2025-08-27T17:52:01.711428Z",
     "iopub.status.idle": "2025-08-27T17:52:01.720947Z",
     "shell.execute_reply": "2025-08-27T17:52:01.721166Z"
    },
    "papermill": {
     "duration": 0.020323,
     "end_time": "2025-08-27T17:52:01.721290",
     "exception": false,
     "start_time": "2025-08-27T17:52:01.700967",
     "status": "completed"
    },
    "tags": []
   },
   "outputs": [],
   "source": [
    "# Mostrar los 10 pedidos con mayores pérdidas (menor Profit)\n",
    "top_losses = df.sort_values(by='Profit').tail(10)\n",
    "\n",
    "# Mostrar solo las columnas clave para el análisis\n",
    "top_losses[[ 'Order Value', 'Commission Fee', 'Total Cost', 'Profit', 'Discounts and Offers']]"
   ]
  },
  {
   "cell_type": "code",
   "execution_count": null,
   "id": "f413b9d6",
   "metadata": {
    "ExecuteTime": {
     "end_time": "2025-07-19T14:33:06.874830Z",
     "start_time": "2025-07-19T14:33:06.862986Z"
    },
    "execution": {
     "iopub.execute_input": "2025-08-27T17:52:01.745382Z",
     "iopub.status.busy": "2025-08-27T17:52:01.741508Z",
     "iopub.status.idle": "2025-08-27T17:52:01.748016Z",
     "shell.execute_reply": "2025-08-27T17:52:01.748223Z"
    },
    "papermill": {
     "duration": 0.019876,
     "end_time": "2025-08-27T17:52:01.748308",
     "exception": false,
     "start_time": "2025-08-27T17:52:01.728432",
     "status": "completed"
    },
    "tags": []
   },
   "outputs": [],
   "source": [
    "print(df)"
   ]
  },
  {
   "cell_type": "markdown",
   "id": "e0519711",
   "metadata": {
    "papermill": {
     "duration": 0.006919,
     "end_time": "2025-08-27T17:52:01.762604",
     "exception": false,
     "start_time": "2025-08-27T17:52:01.755685",
     "status": "completed"
    },
    "tags": []
   },
   "source": [
    "## Visualización de correlaciones numéricas"
   ]
  },
  {
   "cell_type": "code",
   "execution_count": null,
   "id": "aee642c4",
   "metadata": {
    "ExecuteTime": {
     "end_time": "2025-07-19T14:33:07.403158Z",
     "start_time": "2025-07-19T14:33:06.925091Z"
    },
    "execution": {
     "iopub.execute_input": "2025-08-27T17:52:01.788481Z",
     "iopub.status.busy": "2025-08-27T17:52:01.784426Z",
     "iopub.status.idle": "2025-08-27T17:52:02.208335Z",
     "shell.execute_reply": "2025-08-27T17:52:02.208067Z"
    },
    "papermill": {
     "duration": 0.438524,
     "end_time": "2025-08-27T17:52:02.208426",
     "exception": false,
     "start_time": "2025-08-27T17:52:01.769902",
     "status": "completed"
    },
    "tags": []
   },
   "outputs": [],
   "source": [
    "plt.figure(figsize=(6,6))\n",
    "sns.heatmap(df.select_dtypes(include=['number']).corr(), annot=True, fmt='.1f')"
   ]
  },
  {
   "cell_type": "code",
   "execution_count": null,
   "id": "93956860",
   "metadata": {
    "ExecuteTime": {
     "end_time": "2025-07-19T14:33:07.560809Z",
     "start_time": "2025-07-19T14:33:07.423773Z"
    },
    "execution": {
     "iopub.execute_input": "2025-08-27T17:52:02.233176Z",
     "iopub.status.busy": "2025-08-27T17:52:02.232746Z",
     "iopub.status.idle": "2025-08-27T17:52:02.377855Z",
     "shell.execute_reply": "2025-08-27T17:52:02.378136Z"
    },
    "papermill": {
     "duration": 0.16045,
     "end_time": "2025-08-27T17:52:02.378253",
     "exception": false,
     "start_time": "2025-08-27T17:52:02.217803",
     "status": "completed"
    },
    "tags": []
   },
   "outputs": [],
   "source": [
    "import seaborn as sns\n",
    "import matplotlib.pyplot as plt\n",
    "\n",
    "plt.figure(figsize=(10,5))\n",
    "sns.boxplot(data=df, x='day_of_week', y='Delivery Duration (min)', \n",
    "            order=['Monday','Tuesday','Wednesday','Thursday','Friday','Saturday','Sunday'])\n",
    "plt.xticks(rotation=45)\n",
    "plt.title(\"Duración de entrega por día de la semana\")\n",
    "plt.show()"
   ]
  },
  {
   "cell_type": "code",
   "execution_count": null,
   "id": "fe2c2028",
   "metadata": {
    "ExecuteTime": {
     "end_time": "2025-07-19T14:33:07.763033Z",
     "start_time": "2025-07-19T14:33:07.578110Z"
    },
    "execution": {
     "iopub.execute_input": "2025-08-27T17:52:02.403124Z",
     "iopub.status.busy": "2025-08-27T17:52:02.402743Z",
     "iopub.status.idle": "2025-08-27T17:52:02.548362Z",
     "shell.execute_reply": "2025-08-27T17:52:02.548602Z"
    },
    "papermill": {
     "duration": 0.159842,
     "end_time": "2025-08-27T17:52:02.548727",
     "exception": false,
     "start_time": "2025-08-27T17:52:02.388885",
     "status": "completed"
    },
    "tags": []
   },
   "outputs": [],
   "source": [
    "top_restaurants = df['Restaurant ID'].value_counts().nlargest(10).index\n",
    "\n",
    "plt.figure(figsize=(10,5))\n",
    "sns.boxplot(data=df[df['Restaurant ID'].isin(top_restaurants)],\n",
    "            x='Restaurant ID', y='Delivery Duration (min)')\n",
    "plt.xticks(rotation=45)\n",
    "plt.title(\"Top 10 restaurantes vs duración de entrega\")\n",
    "plt.show()"
   ]
  },
  {
   "cell_type": "code",
   "execution_count": null,
   "id": "a33fe924",
   "metadata": {
    "ExecuteTime": {
     "end_time": "2025-07-19T14:33:07.849801Z",
     "start_time": "2025-07-19T14:33:07.778800Z"
    },
    "execution": {
     "iopub.execute_input": "2025-08-27T17:52:02.570716Z",
     "iopub.status.busy": "2025-08-27T17:52:02.570338Z",
     "iopub.status.idle": "2025-08-27T17:52:02.648317Z",
     "shell.execute_reply": "2025-08-27T17:52:02.648055Z"
    },
    "papermill": {
     "duration": 0.090858,
     "end_time": "2025-08-27T17:52:02.648392",
     "exception": false,
     "start_time": "2025-08-27T17:52:02.557534",
     "status": "completed"
    },
    "tags": []
   },
   "outputs": [],
   "source": [
    "plt.figure(figsize=(6,4))\n",
    "sns.boxplot(data=df, x='has_discount', y='Delivery Duration (min)')\n",
    "plt.title(\"Duración con/sin descuento\")\n",
    "plt.xlabel(\"¿Tiene descuento?\")\n",
    "plt.ylabel(\"Duración (min)\")\n",
    "plt.show()"
   ]
  },
  {
   "cell_type": "code",
   "execution_count": null,
   "id": "02f59786",
   "metadata": {
    "ExecuteTime": {
     "end_time": "2025-07-19T14:33:07.954801Z",
     "start_time": "2025-07-19T14:33:07.865268Z"
    },
    "execution": {
     "iopub.execute_input": "2025-08-27T17:52:02.672068Z",
     "iopub.status.busy": "2025-08-27T17:52:02.671738Z",
     "iopub.status.idle": "2025-08-27T17:52:02.757193Z",
     "shell.execute_reply": "2025-08-27T17:52:02.756931Z"
    },
    "papermill": {
     "duration": 0.100122,
     "end_time": "2025-08-27T17:52:02.757276",
     "exception": false,
     "start_time": "2025-08-27T17:52:02.657154",
     "status": "completed"
    },
    "tags": []
   },
   "outputs": [],
   "source": [
    "plt.figure(figsize=(8,4))\n",
    "sns.boxplot(data=df, x='Payment Method', y='Delivery Duration (min)')\n",
    "plt.title(\"Método de pago vs duración de entrega\")\n",
    "plt.xticks(rotation=45)\n",
    "plt.show()"
   ]
  },
  {
   "cell_type": "code",
   "execution_count": null,
   "id": "2bf12976",
   "metadata": {
    "ExecuteTime": {
     "end_time": "2025-07-19T14:33:08.050806Z",
     "start_time": "2025-07-19T14:33:07.970379Z"
    },
    "execution": {
     "iopub.execute_input": "2025-08-27T17:52:02.780613Z",
     "iopub.status.busy": "2025-08-27T17:52:02.780214Z",
     "iopub.status.idle": "2025-08-27T17:52:02.847354Z",
     "shell.execute_reply": "2025-08-27T17:52:02.847638Z"
    },
    "papermill": {
     "duration": 0.081326,
     "end_time": "2025-08-27T17:52:02.847750",
     "exception": false,
     "start_time": "2025-08-27T17:52:02.766424",
     "status": "completed"
    },
    "tags": []
   },
   "outputs": [],
   "source": [
    "plt.figure(figsize=(6,4))\n",
    "sns.boxplot(data=df, x='refunded', y='Delivery Duration (min)')\n",
    "plt.title(\"Reembolsos vs duración de entrega\")\n",
    "plt.xlabel(\"¿Fue reembolsado?\")\n",
    "plt.ylabel(\"Duración (min)\")\n",
    "plt.show()"
   ]
  },
  {
   "cell_type": "code",
   "execution_count": null,
   "id": "4e015845",
   "metadata": {
    "ExecuteTime": {
     "end_time": "2025-07-19T14:33:08.332802Z",
     "start_time": "2025-07-19T14:33:08.065785Z"
    },
    "execution": {
     "iopub.execute_input": "2025-08-27T17:52:02.872547Z",
     "iopub.status.busy": "2025-08-27T17:52:02.870967Z",
     "iopub.status.idle": "2025-08-27T17:52:03.155563Z",
     "shell.execute_reply": "2025-08-27T17:52:03.155256Z"
    },
    "papermill": {
     "duration": 0.298609,
     "end_time": "2025-08-27T17:52:03.155638",
     "exception": false,
     "start_time": "2025-08-27T17:52:02.857029",
     "status": "completed"
    },
    "tags": []
   },
   "outputs": [],
   "source": [
    "plt.figure(figsize=(10,4))\n",
    "sns.boxplot(data=df, x='hour_of_day', y='Delivery Duration (min)')\n",
    "plt.title(\"Duración según hora del pedido\")\n",
    "plt.xlabel(\"Hora del día\")\n",
    "plt.ylabel(\"Duración (min)\")\n",
    "plt.show()"
   ]
  },
  {
   "cell_type": "code",
   "execution_count": null,
   "id": "fb6bcc6a",
   "metadata": {
    "ExecuteTime": {
     "end_time": "2025-07-19T14:33:08.517808Z",
     "start_time": "2025-07-19T14:33:08.347830Z"
    },
    "execution": {
     "iopub.execute_input": "2025-08-27T17:52:03.189290Z",
     "iopub.status.busy": "2025-08-27T17:52:03.187604Z",
     "iopub.status.idle": "2025-08-27T17:52:03.330042Z",
     "shell.execute_reply": "2025-08-27T17:52:03.329741Z"
    },
    "papermill": {
     "duration": 0.165437,
     "end_time": "2025-08-27T17:52:03.330130",
     "exception": false,
     "start_time": "2025-08-27T17:52:03.164693",
     "status": "completed"
    },
    "tags": []
   },
   "outputs": [],
   "source": [
    "import seaborn as sns\n",
    "import matplotlib.pyplot as plt\n",
    "\n",
    "plt.figure(figsize=(10,5))\n",
    "sns.histplot(df['Profit'], bins=50, kde=True)\n",
    "plt.title(\"Distribución de la ganancia por pedido\")\n",
    "plt.xlabel(\"Ganancia\")\n",
    "plt.ylabel(\"Frecuencia\")\n",
    "plt.show()"
   ]
  },
  {
   "cell_type": "code",
   "execution_count": null,
   "id": "fade27a2",
   "metadata": {
    "ExecuteTime": {
     "end_time": "2025-07-19T14:33:08.674807Z",
     "start_time": "2025-07-19T14:33:08.531825Z"
    },
    "execution": {
     "iopub.execute_input": "2025-08-27T17:52:03.360120Z",
     "iopub.status.busy": "2025-08-27T17:52:03.359025Z",
     "iopub.status.idle": "2025-08-27T17:52:03.469809Z",
     "shell.execute_reply": "2025-08-27T17:52:03.469481Z"
    },
    "papermill": {
     "duration": 0.129813,
     "end_time": "2025-08-27T17:52:03.469907",
     "exception": false,
     "start_time": "2025-08-27T17:52:03.340094",
     "status": "completed"
    },
    "tags": []
   },
   "outputs": [],
   "source": [
    "import seaborn as sns\n",
    "import matplotlib.pyplot as plt\n",
    "\n",
    "# Asegurarnos de que la columna tenga un nombre limpio (por si no lo hiciste antes)\n",
    "df['Discounts and Offers'] = df['Discounts and Offers'].astype(str)\n",
    "\n",
    "# Agrupar por tipo de descuento y calcular profit promedio\n",
    "profit_por_descuento = df.groupby('Discounts and Offers')['Profit'].mean().sort_values()\n",
    "\n",
    "# Crear gráfico\n",
    "plt.figure(figsize=(10,6))\n",
    "sns.barplot(x=profit_por_descuento.values, y=profit_por_descuento.index, palette='coolwarm')\n",
    "plt.title(\"Ganancia media por tipo de descuento\")\n",
    "plt.xlabel(\"Ganancia media (Profit)\")\n",
    "plt.ylabel(\"Tipo de descuento\")\n",
    "plt.axvline(0, color='gray', linestyle='--')\n",
    "plt.tight_layout()\n",
    "plt.show()"
   ]
  },
  {
   "cell_type": "code",
   "execution_count": null,
   "id": "18fbefd2",
   "metadata": {
    "ExecuteTime": {
     "end_time": "2025-07-19T14:33:08.795803Z",
     "start_time": "2025-07-19T14:33:08.688932Z"
    },
    "execution": {
     "iopub.execute_input": "2025-08-27T17:52:03.582067Z",
     "iopub.status.busy": "2025-08-27T17:52:03.581531Z",
     "iopub.status.idle": "2025-08-27T17:52:03.685693Z",
     "shell.execute_reply": "2025-08-27T17:52:03.685428Z"
    },
    "papermill": {
     "duration": 0.198273,
     "end_time": "2025-08-27T17:52:03.685781",
     "exception": false,
     "start_time": "2025-08-27T17:52:03.487508",
     "status": "completed"
    },
    "tags": []
   },
   "outputs": [],
   "source": [
    "import seaborn as sns\n",
    "import matplotlib.pyplot as plt\n",
    "\n",
    "# Asegúrate de que la columna de duración esté creada\n",
    "if 'Delivery Duration (min)' not in df.columns:\n",
    "    df['Order Date and Time'] = pd.to_datetime(df['Order Date and Time'])\n",
    "    df['Delivery Date and Time'] = pd.to_datetime(df['Delivery Date and Time'])\n",
    "    df['Delivery Duration (min)'] = (df['Delivery Date and Time'] - df['Order Date and Time']).dt.total_seconds() / 60\n",
    "\n",
    "# Crear columna binaria: ¿Hubo reembolso?\n",
    "df['Refunded'] = df['Refunds/Chargebacks'] > 0\n",
    "\n",
    "# Gráfico de distribución del tiempo de entrega según haya o no reembolso\n",
    "plt.figure(figsize=(10,6))\n",
    "sns.boxplot(x='Refunded', y='Delivery Duration (min)', data=df)\n",
    "plt.xticks([0,1], ['Sin reembolso', 'Con reembolso'])\n",
    "plt.title(\"Tiempo de entrega según presencia de reembolso\")\n",
    "plt.ylabel(\"Duración de entrega (minutos)\")\n",
    "plt.xlabel(\"¿Hubo reembolso?\")\n",
    "plt.tight_layout()\n",
    "plt.show()"
   ]
  },
  {
   "cell_type": "code",
   "execution_count": null,
   "id": "c209678f",
   "metadata": {
    "ExecuteTime": {
     "end_time": "2025-07-19T14:33:08.976938Z",
     "start_time": "2025-07-19T14:33:08.810855Z"
    },
    "execution": {
     "iopub.execute_input": "2025-08-27T17:52:03.725284Z",
     "iopub.status.busy": "2025-08-27T17:52:03.714737Z",
     "iopub.status.idle": "2025-08-27T17:52:03.853770Z",
     "shell.execute_reply": "2025-08-27T17:52:03.853345Z"
    },
    "papermill": {
     "duration": 0.156336,
     "end_time": "2025-08-27T17:52:03.853869",
     "exception": false,
     "start_time": "2025-08-27T17:52:03.697533",
     "status": "completed"
    },
    "tags": []
   },
   "outputs": [],
   "source": [
    "plt.figure(figsize=(10,6))\n",
    "sns.kdeplot(df[df['Refunded'] == False]['Delivery Duration (min)'], label='Sin reembolso', shade=True)\n",
    "sns.kdeplot(df[df['Refunded'] == True]['Delivery Duration (min)'], label='Con reembolso', shade=True)\n",
    "plt.title(\"Distribución del tiempo de entrega según reembolso\")\n",
    "plt.xlabel(\"Duración de entrega (minutos)\")\n",
    "plt.legend()\n",
    "plt.tight_layout()\n",
    "plt.show()"
   ]
  },
  {
   "cell_type": "code",
   "execution_count": null,
   "id": "ae47e646",
   "metadata": {
    "ExecuteTime": {
     "end_time": "2025-07-19T14:33:09.190808Z",
     "start_time": "2025-07-19T14:33:08.993746Z"
    },
    "execution": {
     "iopub.execute_input": "2025-08-27T17:52:03.890125Z",
     "iopub.status.busy": "2025-08-27T17:52:03.887640Z",
     "iopub.status.idle": "2025-08-27T17:52:04.014296Z",
     "shell.execute_reply": "2025-08-27T17:52:04.013979Z"
    },
    "papermill": {
     "duration": 0.147954,
     "end_time": "2025-08-27T17:52:04.014375",
     "exception": false,
     "start_time": "2025-08-27T17:52:03.866421",
     "status": "completed"
    },
    "tags": []
   },
   "outputs": [],
   "source": [
    "plt.figure(figsize=(10,6))\n",
    "sns.kdeplot(df[df['Refunded'] == False]['Order Value'], label='Sin reembolso', shade=True)\n",
    "sns.kdeplot(df[df['Refunded'] == True]['Order Value'], label='Con reembolso', shade=True)\n",
    "plt.title(\"Distribución del Order Value según reembolso\")\n",
    "plt.xlabel(\"Order Value (INR)\")\n",
    "plt.legend()\n",
    "plt.tight_layout()\n",
    "plt.show()"
   ]
  },
  {
   "cell_type": "code",
   "execution_count": null,
   "id": "604017fa",
   "metadata": {
    "ExecuteTime": {
     "end_time": "2025-07-19T14:33:09.210824Z",
     "start_time": "2025-07-19T14:33:09.207015Z"
    },
    "execution": {
     "iopub.execute_input": "2025-08-27T17:52:04.058810Z",
     "iopub.status.busy": "2025-08-27T17:52:04.056644Z",
     "iopub.status.idle": "2025-08-27T17:52:04.064452Z",
     "shell.execute_reply": "2025-08-27T17:52:04.063852Z"
    },
    "papermill": {
     "duration": 0.027264,
     "end_time": "2025-08-27T17:52:04.064568",
     "exception": false,
     "start_time": "2025-08-27T17:52:04.037304",
     "status": "completed"
    },
    "tags": []
   },
   "outputs": [],
   "source": [
    "# Normalizar columnas en pandas\n",
    "df.columns = df.columns.str.lower().str.replace(' ', '_')\n",
    "# Eliminar espacios y duplicados en nombres de columnas\n",
    "df.columns = pd.io.parsers.ParserBase({'names': df.columns})._maybe_dedup_names(df.columns)"
   ]
  },
  {
   "cell_type": "code",
   "execution_count": null,
   "id": "af20c38b",
   "metadata": {
    "ExecuteTime": {
     "end_time": "2025-07-19T14:33:09.235823Z",
     "start_time": "2025-07-19T14:33:09.222952Z"
    },
    "execution": {
     "iopub.execute_input": "2025-08-27T17:52:04.104869Z",
     "iopub.status.busy": "2025-08-27T17:52:04.103789Z",
     "iopub.status.idle": "2025-08-27T17:52:04.120837Z",
     "shell.execute_reply": "2025-08-27T17:52:04.120465Z"
    },
    "papermill": {
     "duration": 0.043372,
     "end_time": "2025-08-27T17:52:04.120940",
     "exception": false,
     "start_time": "2025-08-27T17:52:04.077568",
     "status": "completed"
    },
    "tags": []
   },
   "outputs": [],
   "source": [
    "print (df)"
   ]
  },
  {
   "cell_type": "markdown",
   "id": "a9143581",
   "metadata": {
    "papermill": {
     "duration": 0.010391,
     "end_time": "2025-08-27T17:52:04.144421",
     "exception": false,
     "start_time": "2025-08-27T17:52:04.134030",
     "status": "completed"
    },
    "tags": []
   },
   "source": [
    "# Configuración de Spark y preparación de datos"
   ]
  },
  {
   "cell_type": "code",
   "execution_count": null,
   "id": "436f33f5",
   "metadata": {
    "ExecuteTime": {
     "end_time": "2025-07-19T14:34:40.666100Z",
     "start_time": "2025-07-19T14:33:09.261662Z"
    },
    "execution": {
     "iopub.execute_input": "2025-08-27T17:52:04.176619Z",
     "iopub.status.busy": "2025-08-27T17:52:04.175242Z",
     "iopub.status.idle": "2025-08-27T17:53:03.338364Z",
     "shell.execute_reply": "2025-08-27T17:53:03.337851Z"
    },
    "papermill": {
     "duration": 59.183724,
     "end_time": "2025-08-27T17:53:03.338673",
     "exception": false,
     "start_time": "2025-08-27T17:52:04.154949",
     "status": "completed"
    },
    "tags": []
   },
   "outputs": [],
   "source": [
    "from pyspark.sql import SparkSession\n",
    "from pyspark import SparkContext\n",
    "from pyspark.ml.feature import StringIndexer, OneHotEncoder, VectorAssembler\n",
    "from pyspark.ml.regression import GBTRegressor\n",
    "from pyspark.ml import Pipeline\n",
    "from pyspark.ml.evaluation import RegressionEvaluator\n",
    "from pyspark.ml.tuning import ParamGridBuilder, TrainValidationSplit\n",
    "\n",
    "# Cerrar contexto anterior si está activo\n",
    "if SparkContext._active_spark_context:\n",
    "    SparkContext._active_spark_context.stop()\n",
    "\n",
    "# SparkSession apuntando al cluster\n",
    "spark = (\n",
    "    SparkSession.builder.appName(\"DeliveryDurationGBT-Tuned-Light\")\n",
    "    .master(\"spark://agile:7077\")\n",
    "    .config(\"spark.driver.bindAddress\", \"0.0.0.0\")\n",
    "    .getOrCreate()\n",
    ")\n",
    "\n",
    "sc = spark.sparkContext\n",
    "sc.setLogLevel(\"ERROR\")\n",
    "\n",
    "# Añadir columnas derivadas en pandas antes de pasar a Spark\n",
    "df[\"es_fin_de_semana\"] = df[\"day_of_week\"].isin([\"Saturday\", \"Sunday\"]).astype(int)\n",
    "df[\"es_hora_punta\"] = df[\"hour_of_day\"].between(13, 15) | df[\"hour_of_day\"].between(20, 22)\n",
    "df[\"es_hora_punta\"] = df[\"es_hora_punta\"].astype(int)\n",
    "\n",
    "# Crear DataFrame en Spark\n",
    "df_spark = spark.createDataFrame(df)\n",
    "\n",
    "# Variables\n",
    "categorical_cols = ['payment_method', 'discounts_and_offers', 'day_of_week', 'hour_of_day']\n",
    "numeric_cols = [\n",
    "    'order_value', 'delivery_fee', 'commission_fee', 'payment_processing_fee',\n",
    "    'refunds/chargebacks', 'discount_value', 'has_discount', 'refunded',\n",
    "    'es_fin_de_semana', 'es_hora_punta'\n",
    "]\n",
    "target = 'delivery_duration_(min)'\n",
    "\n",
    "# Indexado y one-hot\n",
    "indexers = [StringIndexer(inputCol=col, outputCol=col + \"_idx\", handleInvalid=\"keep\") for col in categorical_cols]\n",
    "encoders = [OneHotEncoder(inputCol=col + \"_idx\", outputCol=col + \"_vec\") for col in categorical_cols]\n",
    "\n",
    "# Vector de features\n",
    "assembler = VectorAssembler(\n",
    "    inputCols=numeric_cols + [col + \"_vec\" for col in categorical_cols],\n",
    "    outputCol=\"features\"\n",
    ")\n",
    "\n",
    "# Modelo\n",
    "regressor = GBTRegressor(featuresCol=\"features\", labelCol=target)\n",
    "\n",
    "# Pipeline\n",
    "pipeline = Pipeline(stages=indexers + encoders + [assembler, regressor])\n",
    "\n",
    "# Grid de hiperparámetros ligera\n",
    "paramGrid = ParamGridBuilder() \\\n",
    "    .addGrid(regressor.maxDepth, [5]) \\\n",
    "    .addGrid(regressor.maxIter, [20, 40]) \\\n",
    "    .build()\n",
    "\n",
    "# Train-validation split\n",
    "tvs = TrainValidationSplit(\n",
    "    estimator=pipeline,\n",
    "    estimatorParamMaps=paramGrid,\n",
    "    evaluator=RegressionEvaluator(labelCol=target, predictionCol=\"prediction\", metricName=\"rmse\"),\n",
    "    trainRatio=0.8\n",
    ")\n",
    "\n",
    "# Split de datos\n",
    "train_data, test_data = df_spark.randomSplit([0.8, 0.2], seed=42)\n",
    "\n",
    "# Entrenamiento\n",
    "# tvs_model = tvs.fit(train_data)\n",
    "tvs_model = pipeline.fit(train_data)\n",
    "\n",
    "# Evaluación\n",
    "predictions = tvs_model.transform(test_data)\n",
    "rmse = RegressionEvaluator(labelCol=target, predictionCol=\"prediction\", metricName=\"rmse\").evaluate(predictions)\n",
    "\n",
    "print(\"✅ Modelo mejorado con TrainValidationSplit\")\n",
    "print(f\"📉 RMSE final: {rmse:.2f}\")"
   ]
  },
  {
   "cell_type": "code",
   "execution_count": null,
   "id": "a016f7ac",
   "metadata": {
    "execution": {
     "iopub.execute_input": "2025-08-27T17:53:03.387489Z",
     "iopub.status.busy": "2025-08-27T17:53:03.386725Z",
     "iopub.status.idle": "2025-08-27T17:53:03.394284Z",
     "shell.execute_reply": "2025-08-27T17:53:03.394602Z"
    },
    "papermill": {
     "duration": 0.033915,
     "end_time": "2025-08-27T17:53:03.394719",
     "exception": false,
     "start_time": "2025-08-27T17:53:03.360804",
     "status": "completed"
    },
    "tags": []
   },
   "outputs": [],
   "source": [
    "df_spark.printSchema()"
   ]
  },
  {
   "cell_type": "markdown",
   "id": "7259939a",
   "metadata": {
    "papermill": {
     "duration": 0.013232,
     "end_time": "2025-08-27T17:53:03.420571",
     "exception": false,
     "start_time": "2025-08-27T17:53:03.407339",
     "status": "completed"
    },
    "tags": []
   },
   "source": [
    "### Evaluación del modelo"
   ]
  },
  {
   "cell_type": "code",
   "execution_count": null,
   "id": "fe748dca",
   "metadata": {
    "ExecuteTime": {
     "end_time": "2025-07-19T14:36:29.489847Z",
     "start_time": "2025-07-19T14:36:26.618289Z"
    },
    "execution": {
     "iopub.execute_input": "2025-08-27T17:53:03.482728Z",
     "iopub.status.busy": "2025-08-27T17:53:03.480747Z",
     "iopub.status.idle": "2025-08-27T17:53:04.750152Z",
     "shell.execute_reply": "2025-08-27T17:53:04.750946Z"
    },
    "papermill": {
     "duration": 1.311791,
     "end_time": "2025-08-27T17:53:04.751243",
     "exception": false,
     "start_time": "2025-08-27T17:53:03.439452",
     "status": "completed"
    },
    "tags": []
   },
   "outputs": [],
   "source": [
    "import pandas as pd\n",
    "import matplotlib.pyplot as plt\n",
    "\n",
    "# Convertimos a Pandas para visualización\n",
    "preds_pd = predictions.select(\"delivery_duration_(min)\", \"prediction\").toPandas()\n",
    "\n",
    "# Plot real vs predicho\n",
    "plt.figure(figsize=(6,6))\n",
    "plt.scatter(preds_pd[\"delivery_duration_(min)\"], preds_pd[\"prediction\"], alpha=0.5)\n",
    "plt.plot([0, preds_pd.max().max()], [0, preds_pd.max().max()], 'r--')\n",
    "plt.xlabel(\"Valor real\")\n",
    "plt.ylabel(\"Predicción\")\n",
    "plt.title(\"Predicción vs Real (Duración en minutos)\")\n",
    "plt.grid(True)\n",
    "plt.show()"
   ]
  },
  {
   "cell_type": "code",
   "execution_count": null,
   "id": "4339fac5",
   "metadata": {
    "ExecuteTime": {
     "end_time": "2025-07-19T14:36:30.651045Z",
     "start_time": "2025-07-19T14:36:29.555718Z"
    },
    "execution": {
     "iopub.execute_input": "2025-08-27T17:53:04.809756Z",
     "iopub.status.busy": "2025-08-27T17:53:04.809152Z",
     "iopub.status.idle": "2025-08-27T17:53:05.543289Z",
     "shell.execute_reply": "2025-08-27T17:53:05.543924Z"
    },
    "papermill": {
     "duration": 0.771881,
     "end_time": "2025-08-27T17:53:05.544217",
     "exception": false,
     "start_time": "2025-08-27T17:53:04.772336",
     "status": "completed"
    },
    "tags": []
   },
   "outputs": [],
   "source": [
    "# Mostrar predicciones reales vs. predichas\n",
    "predictions.select('delivery_duration_(min)', 'prediction').show(10)"
   ]
  },
  {
   "cell_type": "markdown",
   "id": "20d47d3e",
   "metadata": {
    "papermill": {
     "duration": 0.015112,
     "end_time": "2025-08-27T17:53:05.576594",
     "exception": false,
     "start_time": "2025-08-27T17:53:05.561482",
     "status": "completed"
    },
    "tags": []
   },
   "source": [
    "### Guardado del modelo y transformadores"
   ]
  },
  {
   "cell_type": "code",
   "execution_count": null,
   "id": "c1fd0f16",
   "metadata": {
    "execution": {
     "iopub.execute_input": "2025-08-27T17:53:05.619064Z",
     "iopub.status.busy": "2025-08-27T17:53:05.617388Z",
     "iopub.status.idle": "2025-08-27T17:53:32.417220Z",
     "shell.execute_reply": "2025-08-27T17:53:32.417805Z"
    },
    "papermill": {
     "duration": 26.827748,
     "end_time": "2025-08-27T17:53:32.418317",
     "exception": false,
     "start_time": "2025-08-27T17:53:05.590569",
     "status": "completed"
    },
    "tags": []
   },
   "outputs": [],
   "source": [
    "import os\n",
    "base_path = \"./models\"\n",
    "os.makedirs(base_path, exist_ok=True)\n",
    "\n",
    "# Guarda el VectorAssembler\n",
    "assembler.write().overwrite().save(f\"{base_path}/vector_assembler.bin\")\n",
    "\n",
    "# Guarda todos los StringIndexer\n",
    "for idx, indexer_model in enumerate(indexers):\n",
    "    indexer_model.write().overwrite().save(f\"{base_path}/string_indexer_{idx}.bin\")\n",
    "\n",
    "# Guarda todos los OneHotEncoder\n",
    "for idx, encoder_model in enumerate(encoders):\n",
    "    encoder_model.write().overwrite().save(f\"{base_path}/one_hot_encoder_{idx}.bin\")\n",
    "\n",
    "# Guarda el modelo entrenado\n",
    "tvs_model.write().overwrite().save(f\"{base_path}/pipeline_model.bin\")"
   ]
  }
 ],
 "metadata": {
  "colab": {
   "name": "Food Delivery: Timing is everything",
   "provenance": []
  },
  "kaggle": {
   "accelerator": "none",
   "dataSources": [
    {
     "datasetId": 5072200,
     "sourceId": 8499662,
     "sourceType": "datasetVersion"
    }
   ],
   "dockerImageVersionId": 30698,
   "isGpuEnabled": false,
   "isInternetEnabled": true,
   "language": "python",
   "sourceType": "notebook"
  },
  "kernelspec": {
   "display_name": "Python 3 (ipykernel)",
   "language": "python",
   "name": "python3"
  },
  "language_info": {
   "codemirror_mode": {
    "name": "ipython",
    "version": 3
   },
   "file_extension": ".py",
   "mimetype": "text/x-python",
   "name": "python",
   "nbconvert_exporter": "python",
   "pygments_lexer": "ipython3",
   "version": "3.9.7"
  },
  "papermill": {
   "default_parameters": {},
   "duration": 100.722644,
   "end_time": "2025-08-27T17:53:33.180759",
   "environment_variables": {},
   "exception": null,
   "input_path": "/home/jovyan/Food_delivery/Analysis.ipynb",
   "output_path": "/home/jovyan/Food_delivery/Analysis.ipynb",
   "parameters": {},
   "start_time": "2025-08-27T17:51:52.458115",
   "version": "2.6.0"
  }
 },
 "nbformat": 4,
 "nbformat_minor": 5
}
