{
 "cells": [
  {
   "cell_type": "markdown",
   "id": "7784514e",
   "metadata": {
    "papermill": {
     "duration": 0.006493,
     "end_time": "2025-08-29T15:09:07.056588",
     "exception": false,
     "start_time": "2025-08-29T15:09:07.050095",
     "status": "completed"
    },
    "tags": []
   },
   "source": [
    "# Instalación de dependencias"
   ]
  },
  {
   "cell_type": "code",
   "execution_count": 1,
   "id": "f8e18825",
   "metadata": {
    "ExecuteTime": {
     "end_time": "2025-07-19T14:33:05.760043Z",
     "start_time": "2025-07-19T14:33:04.143086Z"
    },
    "execution": {
     "iopub.execute_input": "2025-08-29T15:09:07.079438Z",
     "iopub.status.busy": "2025-08-29T15:09:07.078897Z",
     "iopub.status.idle": "2025-08-29T15:09:08.844442Z",
     "shell.execute_reply": "2025-08-29T15:09:08.844143Z"
    },
    "papermill": {
     "duration": 1.780374,
     "end_time": "2025-08-29T15:09:08.845018",
     "exception": false,
     "start_time": "2025-08-29T15:09:07.064644",
     "status": "completed"
    },
    "tags": []
   },
   "outputs": [],
   "source": [
    "pip install kagglehub"
   ]
  },
  {
   "cell_type": "code",
   "execution_count": 2,
   "id": "26274433",
   "metadata": {
    "execution": {
     "iopub.execute_input": "2025-08-29T15:09:08.861319Z",
     "iopub.status.busy": "2025-08-29T15:09:08.861005Z",
     "iopub.status.idle": "2025-08-29T15:09:14.486433Z",
     "shell.execute_reply": "2025-08-29T15:09:14.486183Z"
    },
    "papermill": {
     "duration": 5.635484,
     "end_time": "2025-08-29T15:09:14.486509",
     "exception": false,
     "start_time": "2025-08-29T15:09:08.851025",
     "status": "completed"
    },
    "tags": []
   },
   "outputs": [],
   "source": [
    "pip install --upgrade pandas"
   ]
  },
  {
   "cell_type": "markdown",
   "id": "09b82e54",
   "metadata": {
    "papermill": {
     "duration": 0.006348,
     "end_time": "2025-08-29T15:09:14.522601",
     "exception": false,
     "start_time": "2025-08-29T15:09:14.516253",
     "status": "completed"
    },
    "tags": []
   },
   "source": [
    "# Descarga del dataset"
   ]
  },
  {
   "cell_type": "code",
   "execution_count": 3,
   "id": "4abbc559",
   "metadata": {
    "execution": {
     "iopub.execute_input": "2025-08-29T15:09:14.538478Z",
     "iopub.status.busy": "2025-08-29T15:09:14.538093Z",
     "iopub.status.idle": "2025-08-29T15:09:14.952400Z",
     "shell.execute_reply": "2025-08-29T15:09:14.952081Z"
    },
    "papermill": {
     "duration": 0.424289,
     "end_time": "2025-08-29T15:09:14.952496",
     "exception": false,
     "start_time": "2025-08-29T15:09:14.528207",
     "status": "completed"
    },
    "tags": []
   },
   "outputs": [],
   "source": [
    "import os\n",
    "import kagglehub\n",
    "\n",
    "dataset_path = kagglehub.dataset_download(\"romanniki/food-delivery-cost-and-profitability\")\n",
    "\n",
    "# Mostrar todos los archivos encontrados\n",
    "for root, dirs, files in os.walk(dataset_path):\n",
    "    for file in files:\n",
    "        print(\"Archivo encontrado:\", os.path.join(root, file))"
   ]
  },
  {
   "cell_type": "code",
   "execution_count": 4,
   "id": "4a5ebaea",
   "metadata": {
    "ExecuteTime": {
     "end_time": "2025-07-19T14:33:06.366181Z",
     "start_time": "2025-07-19T14:33:05.839196Z"
    },
    "execution": {
     "iopub.execute_input": "2025-08-29T15:09:14.969331Z",
     "iopub.status.busy": "2025-08-29T15:09:14.968862Z",
     "iopub.status.idle": "2025-08-29T15:09:15.199980Z",
     "shell.execute_reply": "2025-08-29T15:09:15.200381Z"
    },
    "id": "DZiXESZ8UiEb",
    "papermill": {
     "duration": 0.241604,
     "end_time": "2025-08-29T15:09:15.200508",
     "exception": false,
     "start_time": "2025-08-29T15:09:14.958904",
     "status": "completed"
    },
    "tags": []
   },
   "outputs": [],
   "source": [
    "import kagglehub\n",
    "import os\n",
    "\n",
    "# Descarga el dataset (o usa el caché)\n",
    "romanniki_food_delivery_cost_and_profitability_path = kagglehub.dataset_download('romanniki/food-delivery-cost-and-profitability')\n",
    "\n",
    "# Buscar el primer archivo dentro del dataset descargado\n",
    "for root, dirs, files in os.walk(romanniki_food_delivery_cost_and_profitability_path):\n",
    "    for file in files:\n",
    "        path_dataset = os.path.abspath(os.path.join(root, file))\n",
    "        break  # solo el primero\n",
    "    else:\n",
    "        continue\n",
    "    break\n",
    "\n",
    "print('Data source import complete.')\n",
    "print(\"Archivo encontrado en:\", path_dataset)"
   ]
  },
  {
   "cell_type": "markdown",
   "id": "664711c0",
   "metadata": {
    "papermill": {
     "duration": 0.006594,
     "end_time": "2025-08-29T15:09:15.214612",
     "exception": false,
     "start_time": "2025-08-29T15:09:15.208018",
     "status": "completed"
    },
    "tags": []
   },
   "source": [
    "# Librerías necesarias"
   ]
  },
  {
   "cell_type": "code",
   "execution_count": 5,
   "id": "29ccb55a",
   "metadata": {
    "ExecuteTime": {
     "end_time": "2025-07-19T14:33:06.391946Z",
     "start_time": "2025-07-19T14:33:06.388433Z"
    },
    "execution": {
     "iopub.execute_input": "2025-08-29T15:09:15.230734Z",
     "iopub.status.busy": "2025-08-29T15:09:15.230387Z",
     "iopub.status.idle": "2025-08-29T15:09:16.366443Z",
     "shell.execute_reply": "2025-08-29T15:09:16.366108Z"
    },
    "papermill": {
     "duration": 1.145578,
     "end_time": "2025-08-29T15:09:16.366533",
     "exception": false,
     "start_time": "2025-08-29T15:09:15.220955",
     "status": "completed"
    },
    "tags": []
   },
   "outputs": [],
   "source": [
    "import numpy as np\n",
    "import pandas as pd\n",
    "import matplotlib.pyplot as plt\n",
    "import seaborn as sns\n",
    "\n",
    "import warnings\n",
    "warnings.filterwarnings('ignore')"
   ]
  },
  {
   "cell_type": "markdown",
   "id": "c567da77",
   "metadata": {
    "papermill": {
     "duration": 0.005621,
     "end_time": "2025-08-29T15:09:16.378320",
     "exception": false,
     "start_time": "2025-08-29T15:09:16.372699",
     "status": "completed"
    },
    "tags": []
   },
   "source": [
    "# Exploración Inicial (EDA)"
   ]
  },
  {
   "cell_type": "code",
   "execution_count": 6,
   "id": "50c79229",
   "metadata": {
    "ExecuteTime": {
     "end_time": "2025-07-19T14:33:06.440900Z",
     "start_time": "2025-07-19T14:33:06.406096Z"
    },
    "execution": {
     "iopub.execute_input": "2025-08-29T15:09:16.392853Z",
     "iopub.status.busy": "2025-08-29T15:09:16.392531Z",
     "iopub.status.idle": "2025-08-29T15:09:16.418909Z",
     "shell.execute_reply": "2025-08-29T15:09:16.419142Z"
    },
    "papermill": {
     "duration": 0.035142,
     "end_time": "2025-08-29T15:09:16.419232",
     "exception": false,
     "start_time": "2025-08-29T15:09:16.384090",
     "status": "completed"
    },
    "tags": []
   },
   "outputs": [],
   "source": [
    "df = pd.read_csv(path_dataset)\n",
    "df.shape"
   ]
  },
  {
   "cell_type": "code",
   "execution_count": 7,
   "id": "781b4e0c",
   "metadata": {
    "ExecuteTime": {
     "end_time": "2025-07-19T14:33:06.519151Z",
     "start_time": "2025-07-19T14:33:06.456124Z"
    },
    "execution": {
     "iopub.execute_input": "2025-08-29T15:09:16.447107Z",
     "iopub.status.busy": "2025-08-29T15:09:16.446781Z",
     "iopub.status.idle": "2025-08-29T15:09:16.489856Z",
     "shell.execute_reply": "2025-08-29T15:09:16.490115Z"
    },
    "papermill": {
     "duration": 0.064639,
     "end_time": "2025-08-29T15:09:16.490228",
     "exception": false,
     "start_time": "2025-08-29T15:09:16.425589",
     "status": "completed"
    },
    "tags": []
   },
   "outputs": [],
   "source": [
    "\n",
    "# Convertir fechas a tipo datetime\n",
    "df['Order Date and Time'] = pd.to_datetime(df['Order Date and Time'])\n",
    "df['Delivery Date and Time'] = pd.to_datetime(df['Delivery Date and Time'])\n",
    "\n",
    "# Crear columna de tiempo de entrega en minutos\n",
    "df['Delivery Duration (min)'] = (df['Delivery Date and Time'] - df['Order Date and Time']).dt.total_seconds() / 60\n",
    "# Extraer día y hora del pedido\n",
    "df['day_of_week'] = df['Order Date and Time'].dt.day_name()\n",
    "df['hour_of_day'] = df['Order Date and Time'].dt.hour\n",
    "# Marcar si hay descuento o no\n",
    "df['has_discount'] = df['Discounts and Offers'].str.lower() != 'none'\n",
    "\n",
    "# Marcar si fue reembolsado\n",
    "df['refunded'] = df['Refunds/Chargebacks'] > 0\n",
    "df"
   ]
  },
  {
   "cell_type": "code",
   "execution_count": 8,
   "id": "d12cdd8c",
   "metadata": {
    "ExecuteTime": {
     "end_time": "2025-07-19T14:33:06.604977Z",
     "start_time": "2025-07-19T14:33:06.599652Z"
    },
    "execution": {
     "iopub.execute_input": "2025-08-29T15:09:16.509888Z",
     "iopub.status.busy": "2025-08-29T15:09:16.508418Z",
     "iopub.status.idle": "2025-08-29T15:09:16.512961Z",
     "shell.execute_reply": "2025-08-29T15:09:16.512716Z"
    },
    "papermill": {
     "duration": 0.016158,
     "end_time": "2025-08-29T15:09:16.513035",
     "exception": false,
     "start_time": "2025-08-29T15:09:16.496877",
     "status": "completed"
    },
    "tags": []
   },
   "outputs": [],
   "source": [
    "print(df['Discounts and Offers'].value_counts())"
   ]
  },
  {
   "cell_type": "markdown",
   "id": "0a89081c",
   "metadata": {
    "papermill": {
     "duration": 0.00617,
     "end_time": "2025-08-29T15:09:16.525688",
     "exception": false,
     "start_time": "2025-08-29T15:09:16.519518",
     "status": "completed"
    },
    "tags": []
   },
   "source": [
    "### Cálculo del valor del descuento"
   ]
  },
  {
   "cell_type": "code",
   "execution_count": 9,
   "id": "b6a70b78",
   "metadata": {
    "ExecuteTime": {
     "end_time": "2025-07-19T14:33:06.686032Z",
     "start_time": "2025-07-19T14:33:06.658804Z"
    },
    "execution": {
     "iopub.execute_input": "2025-08-29T15:09:16.570098Z",
     "iopub.status.busy": "2025-08-29T15:09:16.569727Z",
     "iopub.status.idle": "2025-08-29T15:09:16.574054Z",
     "shell.execute_reply": "2025-08-29T15:09:16.573427Z"
    },
    "papermill": {
     "duration": 0.042028,
     "end_time": "2025-08-29T15:09:16.574150",
     "exception": false,
     "start_time": "2025-08-29T15:09:16.532122",
     "status": "completed"
    },
    "tags": []
   },
   "outputs": [],
   "source": [
    "def calcular_descuento(row):\n",
    "    valor = str(row['Discounts and Offers']).lower()\n",
    "    pedido = row['Order Value']\n",
    "    \n",
    "    # Si es porcentaje, por ejemplo \"10%\" o \"5% on app\"\n",
    "    if '%' in valor:\n",
    "        try:\n",
    "            porcentaje = float(valor.split('%')[0])\n",
    "            return pedido * (porcentaje / 100)\n",
    "        except:\n",
    "            return 0\n",
    "        \n",
    "    # Si es \"50 off Promo\" u otros con valor fijo\n",
    "    elif 'off' in valor:\n",
    "        for token in valor.split():\n",
    "            try:\n",
    "                return float(token)\n",
    "            except:\n",
    "                continue\n",
    "        return 0\n",
    "\n",
    "    # Si es \"None\" u otra cosa no reconocida\n",
    "    return 0\n",
    "\n",
    "# Aplicar al DataFrame\n",
    "df['Discount Value'] = df.apply(calcular_descuento, axis=1)\n",
    "\n",
    "# Verificar\n",
    "df[['Discounts and Offers', 'Order Value', 'Discount Value']].head(10)"
   ]
  },
  {
   "cell_type": "markdown",
   "id": "820676f7",
   "metadata": {
    "papermill": {
     "duration": 0.008754,
     "end_time": "2025-08-29T15:09:16.590861",
     "exception": false,
     "start_time": "2025-08-29T15:09:16.582107",
     "status": "completed"
    },
    "tags": []
   },
   "source": [
    "### Cálculo del coste total y beneficio"
   ]
  },
  {
   "cell_type": "code",
   "execution_count": 10,
   "id": "2d4ee3f1",
   "metadata": {
    "ExecuteTime": {
     "end_time": "2025-07-19T14:33:06.744183Z",
     "start_time": "2025-07-19T14:33:06.738421Z"
    },
    "execution": {
     "iopub.execute_input": "2025-08-29T15:09:16.609066Z",
     "iopub.status.busy": "2025-08-29T15:09:16.608725Z",
     "iopub.status.idle": "2025-08-29T15:09:16.611226Z",
     "shell.execute_reply": "2025-08-29T15:09:16.610943Z"
    },
    "papermill": {
     "duration": 0.01361,
     "end_time": "2025-08-29T15:09:16.611301",
     "exception": false,
     "start_time": "2025-08-29T15:09:16.597691",
     "status": "completed"
    },
    "tags": []
   },
   "outputs": [],
   "source": [
    "df['Total Cost'] = df['Delivery Fee'] + df['Discount Value'] + df['Payment Processing Fee'] + df['Refunds/Chargebacks']"
   ]
  },
  {
   "cell_type": "code",
   "execution_count": 11,
   "id": "d94fd72f",
   "metadata": {
    "ExecuteTime": {
     "end_time": "2025-07-19T14:33:06.793022Z",
     "start_time": "2025-07-19T14:33:06.784037Z"
    },
    "execution": {
     "iopub.execute_input": "2025-08-29T15:09:16.630549Z",
     "iopub.status.busy": "2025-08-29T15:09:16.629781Z",
     "iopub.status.idle": "2025-08-29T15:09:16.634732Z",
     "shell.execute_reply": "2025-08-29T15:09:16.634966Z"
    },
    "papermill": {
     "duration": 0.01659,
     "end_time": "2025-08-29T15:09:16.635062",
     "exception": false,
     "start_time": "2025-08-29T15:09:16.618472",
     "status": "completed"
    },
    "tags": []
   },
   "outputs": [],
   "source": [
    "df['Profit'] = df['Commission Fee'] - df['Total Cost']\n",
    "\n",
    "# Estadísticas generales\n",
    "print(\"Ganancia media por pedido:\", round(df['Profit'].mean(), 2))\n",
    "print(\"Pedidos con pérdida:\", (df['Profit'] < 0).sum())\n",
    "print(\"Porcentaje con pérdida:\", round((df['Profit'] < 0).mean() * 100, 2), '%')"
   ]
  },
  {
   "cell_type": "markdown",
   "id": "e092532d",
   "metadata": {
    "papermill": {
     "duration": 0.006759,
     "end_time": "2025-08-29T15:09:16.648462",
     "exception": false,
     "start_time": "2025-08-29T15:09:16.641703",
     "status": "completed"
    },
    "tags": []
   },
   "source": [
    "### Análisis de pérdidas"
   ]
  },
  {
   "cell_type": "code",
   "execution_count": 12,
   "id": "f2c35889",
   "metadata": {
    "ExecuteTime": {
     "end_time": "2025-07-19T14:33:06.827019Z",
     "start_time": "2025-07-19T14:33:06.815908Z"
    },
    "execution": {
     "iopub.execute_input": "2025-08-29T15:09:16.665225Z",
     "iopub.status.busy": "2025-08-29T15:09:16.664813Z",
     "iopub.status.idle": "2025-08-29T15:09:16.679799Z",
     "shell.execute_reply": "2025-08-29T15:09:16.680054Z"
    },
    "papermill": {
     "duration": 0.025225,
     "end_time": "2025-08-29T15:09:16.680167",
     "exception": false,
     "start_time": "2025-08-29T15:09:16.654942",
     "status": "completed"
    },
    "tags": []
   },
   "outputs": [],
   "source": [
    "# Mostrar los 10 pedidos con mayores pérdidas (menor Profit)\n",
    "top_losses = df.sort_values(by='Profit').tail(10)\n",
    "\n",
    "# Mostrar solo las columnas clave para el análisis\n",
    "top_losses[[ 'Order Value', 'Commission Fee', 'Total Cost', 'Profit', 'Discounts and Offers']]"
   ]
  },
  {
   "cell_type": "code",
   "execution_count": 13,
   "id": "f413b9d6",
   "metadata": {
    "ExecuteTime": {
     "end_time": "2025-07-19T14:33:06.874830Z",
     "start_time": "2025-07-19T14:33:06.862986Z"
    },
    "execution": {
     "iopub.execute_input": "2025-08-29T15:09:16.714281Z",
     "iopub.status.busy": "2025-08-29T15:09:16.704620Z",
     "iopub.status.idle": "2025-08-29T15:09:16.746061Z",
     "shell.execute_reply": "2025-08-29T15:09:16.745740Z"
    },
    "papermill": {
     "duration": 0.058382,
     "end_time": "2025-08-29T15:09:16.746184",
     "exception": false,
     "start_time": "2025-08-29T15:09:16.687802",
     "status": "completed"
    },
    "tags": []
   },
   "outputs": [],
   "source": [
    "print(df)"
   ]
  },
  {
   "cell_type": "markdown",
   "id": "e0519711",
   "metadata": {
    "papermill": {
     "duration": 0.010995,
     "end_time": "2025-08-29T15:09:16.765417",
     "exception": false,
     "start_time": "2025-08-29T15:09:16.754422",
     "status": "completed"
    },
    "tags": []
   },
   "source": [
    "## Visualización de correlaciones numéricas"
   ]
  },
  {
   "cell_type": "code",
   "execution_count": 14,
   "id": "aee642c4",
   "metadata": {
    "ExecuteTime": {
     "end_time": "2025-07-19T14:33:07.403158Z",
     "start_time": "2025-07-19T14:33:06.925091Z"
    },
    "execution": {
     "iopub.execute_input": "2025-08-29T15:09:16.790403Z",
     "iopub.status.busy": "2025-08-29T15:09:16.790061Z",
     "iopub.status.idle": "2025-08-29T15:09:17.703547Z",
     "shell.execute_reply": "2025-08-29T15:09:17.703868Z"
    },
    "papermill": {
     "duration": 0.931148,
     "end_time": "2025-08-29T15:09:17.704118",
     "exception": false,
     "start_time": "2025-08-29T15:09:16.772970",
     "status": "completed"
    },
    "tags": []
   },
   "outputs": [],
   "source": [
    "plt.figure(figsize=(6,6))\n",
    "sns.heatmap(df.select_dtypes(include=['number']).corr(), annot=True, fmt='.1f')"
   ]
  },
  {
   "cell_type": "code",
   "execution_count": 15,
   "id": "93956860",
   "metadata": {
    "ExecuteTime": {
     "end_time": "2025-07-19T14:33:07.560809Z",
     "start_time": "2025-07-19T14:33:07.423773Z"
    },
    "execution": {
     "iopub.execute_input": "2025-08-29T15:09:17.750032Z",
     "iopub.status.busy": "2025-08-29T15:09:17.738405Z",
     "iopub.status.idle": "2025-08-29T15:09:17.890202Z",
     "shell.execute_reply": "2025-08-29T15:09:17.889839Z"
    },
    "papermill": {
     "duration": 0.17605,
     "end_time": "2025-08-29T15:09:17.890290",
     "exception": false,
     "start_time": "2025-08-29T15:09:17.714240",
     "status": "completed"
    },
    "tags": []
   },
   "outputs": [],
   "source": [
    "import seaborn as sns\n",
    "import matplotlib.pyplot as plt\n",
    "\n",
    "plt.figure(figsize=(10,5))\n",
    "sns.boxplot(data=df, x='day_of_week', y='Delivery Duration (min)', \n",
    "            order=['Monday','Tuesday','Wednesday','Thursday','Friday','Saturday','Sunday'])\n",
    "plt.xticks(rotation=45)\n",
    "plt.title(\"Duración de entrega por día de la semana\")\n",
    "plt.show()"
   ]
  },
  {
   "cell_type": "code",
   "execution_count": 16,
   "id": "fe2c2028",
   "metadata": {
    "ExecuteTime": {
     "end_time": "2025-07-19T14:33:07.763033Z",
     "start_time": "2025-07-19T14:33:07.578110Z"
    },
    "execution": {
     "iopub.execute_input": "2025-08-29T15:09:17.920712Z",
     "iopub.status.busy": "2025-08-29T15:09:17.918192Z",
     "iopub.status.idle": "2025-08-29T15:09:18.075004Z",
     "shell.execute_reply": "2025-08-29T15:09:18.075252Z"
    },
    "papermill": {
     "duration": 0.176435,
     "end_time": "2025-08-29T15:09:18.075380",
     "exception": false,
     "start_time": "2025-08-29T15:09:17.898945",
     "status": "completed"
    },
    "tags": []
   },
   "outputs": [],
   "source": [
    "top_restaurants = df['Restaurant ID'].value_counts().nlargest(10).index\n",
    "\n",
    "plt.figure(figsize=(10,5))\n",
    "sns.boxplot(data=df[df['Restaurant ID'].isin(top_restaurants)],\n",
    "            x='Restaurant ID', y='Delivery Duration (min)')\n",
    "plt.xticks(rotation=45)\n",
    "plt.title(\"Top 10 restaurantes vs duración de entrega\")\n",
    "plt.show()"
   ]
  },
  {
   "cell_type": "code",
   "execution_count": 17,
   "id": "a33fe924",
   "metadata": {
    "ExecuteTime": {
     "end_time": "2025-07-19T14:33:07.849801Z",
     "start_time": "2025-07-19T14:33:07.778800Z"
    },
    "execution": {
     "iopub.execute_input": "2025-08-29T15:09:18.111422Z",
     "iopub.status.busy": "2025-08-29T15:09:18.109922Z",
     "iopub.status.idle": "2025-08-29T15:09:18.172023Z",
     "shell.execute_reply": "2025-08-29T15:09:18.171750Z"
    },
    "papermill": {
     "duration": 0.080534,
     "end_time": "2025-08-29T15:09:18.172111",
     "exception": false,
     "start_time": "2025-08-29T15:09:18.091577",
     "status": "completed"
    },
    "tags": []
   },
   "outputs": [],
   "source": [
    "plt.figure(figsize=(6,4))\n",
    "sns.boxplot(data=df, x='has_discount', y='Delivery Duration (min)')\n",
    "plt.title(\"Duración con/sin descuento\")\n",
    "plt.xlabel(\"¿Tiene descuento?\")\n",
    "plt.ylabel(\"Duración (min)\")\n",
    "plt.show()"
   ]
  },
  {
   "cell_type": "code",
   "execution_count": 18,
   "id": "02f59786",
   "metadata": {
    "ExecuteTime": {
     "end_time": "2025-07-19T14:33:07.954801Z",
     "start_time": "2025-07-19T14:33:07.865268Z"
    },
    "execution": {
     "iopub.execute_input": "2025-08-29T15:09:18.194057Z",
     "iopub.status.busy": "2025-08-29T15:09:18.192229Z",
     "iopub.status.idle": "2025-08-29T15:09:18.276541Z",
     "shell.execute_reply": "2025-08-29T15:09:18.276894Z"
    },
    "papermill": {
     "duration": 0.096257,
     "end_time": "2025-08-29T15:09:18.277056",
     "exception": false,
     "start_time": "2025-08-29T15:09:18.180799",
     "status": "completed"
    },
    "tags": []
   },
   "outputs": [],
   "source": [
    "plt.figure(figsize=(8,4))\n",
    "sns.boxplot(data=df, x='Payment Method', y='Delivery Duration (min)')\n",
    "plt.title(\"Método de pago vs duración de entrega\")\n",
    "plt.xticks(rotation=45)\n",
    "plt.show()"
   ]
  },
  {
   "cell_type": "code",
   "execution_count": 19,
   "id": "2bf12976",
   "metadata": {
    "ExecuteTime": {
     "end_time": "2025-07-19T14:33:08.050806Z",
     "start_time": "2025-07-19T14:33:07.970379Z"
    },
    "execution": {
     "iopub.execute_input": "2025-08-29T15:09:18.301829Z",
     "iopub.status.busy": "2025-08-29T15:09:18.301305Z",
     "iopub.status.idle": "2025-08-29T15:09:18.429990Z",
     "shell.execute_reply": "2025-08-29T15:09:18.429654Z"
    },
    "papermill": {
     "duration": 0.142549,
     "end_time": "2025-08-29T15:09:18.430083",
     "exception": false,
     "start_time": "2025-08-29T15:09:18.287534",
     "status": "completed"
    },
    "tags": []
   },
   "outputs": [],
   "source": [
    "plt.figure(figsize=(6,4))\n",
    "sns.boxplot(data=df, x='refunded', y='Delivery Duration (min)')\n",
    "plt.title(\"Reembolsos vs duración de entrega\")\n",
    "plt.xlabel(\"¿Fue reembolsado?\")\n",
    "plt.ylabel(\"Duración (min)\")\n",
    "plt.show()"
   ]
  },
  {
   "cell_type": "code",
   "execution_count": 20,
   "id": "4e015845",
   "metadata": {
    "ExecuteTime": {
     "end_time": "2025-07-19T14:33:08.332802Z",
     "start_time": "2025-07-19T14:33:08.065785Z"
    },
    "execution": {
     "iopub.execute_input": "2025-08-29T15:09:18.457686Z",
     "iopub.status.busy": "2025-08-29T15:09:18.457292Z",
     "iopub.status.idle": "2025-08-29T15:09:18.722961Z",
     "shell.execute_reply": "2025-08-29T15:09:18.722552Z"
    },
    "papermill": {
     "duration": 0.279867,
     "end_time": "2025-08-29T15:09:18.723073",
     "exception": false,
     "start_time": "2025-08-29T15:09:18.443206",
     "status": "completed"
    },
    "tags": []
   },
   "outputs": [],
   "source": [
    "plt.figure(figsize=(10,4))\n",
    "sns.boxplot(data=df, x='hour_of_day', y='Delivery Duration (min)')\n",
    "plt.title(\"Duración según hora del pedido\")\n",
    "plt.xlabel(\"Hora del día\")\n",
    "plt.ylabel(\"Duración (min)\")\n",
    "plt.show()"
   ]
  },
  {
   "cell_type": "code",
   "execution_count": 21,
   "id": "fade27a2",
   "metadata": {
    "ExecuteTime": {
     "end_time": "2025-07-19T14:33:08.674807Z",
     "start_time": "2025-07-19T14:33:08.531825Z"
    },
    "execution": {
     "iopub.execute_input": "2025-08-29T15:09:18.752534Z",
     "iopub.status.busy": "2025-08-29T15:09:18.750654Z",
     "iopub.status.idle": "2025-08-29T15:09:18.861123Z",
     "shell.execute_reply": "2025-08-29T15:09:18.861490Z"
    },
    "papermill": {
     "duration": 0.129549,
     "end_time": "2025-08-29T15:09:18.861778",
     "exception": false,
     "start_time": "2025-08-29T15:09:18.732229",
     "status": "completed"
    },
    "tags": []
   },
   "outputs": [],
   "source": [
    "import seaborn as sns\n",
    "import matplotlib.pyplot as plt\n",
    "\n",
    "# Asegurarnos de que la columna tenga un nombre limpio (por si no lo hiciste antes)\n",
    "df['Discounts and Offers'] = df['Discounts and Offers'].astype(str)\n",
    "\n",
    "# Agrupar por tipo de descuento y calcular profit promedio\n",
    "profit_por_descuento = df.groupby('Discounts and Offers')['Profit'].mean().sort_values()\n",
    "\n",
    "# Crear gráfico\n",
    "plt.figure(figsize=(10,6))\n",
    "sns.barplot(x=profit_por_descuento.values, y=profit_por_descuento.index, palette='coolwarm')\n",
    "plt.title(\"Ganancia media por tipo de descuento\")\n",
    "plt.xlabel(\"Ganancia media (Profit)\")\n",
    "plt.ylabel(\"Tipo de descuento\")\n",
    "plt.axvline(0, color='gray', linestyle='--')\n",
    "plt.tight_layout()\n",
    "plt.show()"
   ]
  },
  {
   "cell_type": "code",
   "execution_count": 22,
   "id": "18fbefd2",
   "metadata": {
    "ExecuteTime": {
     "end_time": "2025-07-19T14:33:08.795803Z",
     "start_time": "2025-07-19T14:33:08.688932Z"
    },
    "execution": {
     "iopub.execute_input": "2025-08-29T15:09:18.913844Z",
     "iopub.status.busy": "2025-08-29T15:09:18.898299Z",
     "iopub.status.idle": "2025-08-29T15:09:19.002945Z",
     "shell.execute_reply": "2025-08-29T15:09:19.003193Z"
    },
    "papermill": {
     "duration": 0.130775,
     "end_time": "2025-08-29T15:09:19.003312",
     "exception": false,
     "start_time": "2025-08-29T15:09:18.872537",
     "status": "completed"
    },
    "tags": []
   },
   "outputs": [],
   "source": [
    "import seaborn as sns\n",
    "import matplotlib.pyplot as plt\n",
    "\n",
    "# Asegúrate de que la columna de duración esté creada\n",
    "if 'Delivery Duration (min)' not in df.columns:\n",
    "    df['Order Date and Time'] = pd.to_datetime(df['Order Date and Time'])\n",
    "    df['Delivery Date and Time'] = pd.to_datetime(df['Delivery Date and Time'])\n",
    "    df['Delivery Duration (min)'] = (df['Delivery Date and Time'] - df['Order Date and Time']).dt.total_seconds() / 60\n",
    "\n",
    "# Crear columna binaria: ¿Hubo reembolso?\n",
    "df['Refunded'] = df['Refunds/Chargebacks'] > 0\n",
    "\n",
    "# Gráfico de distribución del tiempo de entrega según haya o no reembolso\n",
    "plt.figure(figsize=(10,6))\n",
    "sns.boxplot(x='Refunded', y='Delivery Duration (min)', data=df)\n",
    "plt.xticks([0,1], ['Sin reembolso', 'Con reembolso'])\n",
    "plt.title(\"Tiempo de entrega según presencia de reembolso\")\n",
    "plt.ylabel(\"Duración de entrega (minutos)\")\n",
    "plt.xlabel(\"¿Hubo reembolso?\")\n",
    "plt.tight_layout()\n",
    "plt.show()"
   ]
  },
  {
   "cell_type": "code",
   "execution_count": 23,
   "id": "604017fa",
   "metadata": {
    "ExecuteTime": {
     "end_time": "2025-07-19T14:33:09.210824Z",
     "start_time": "2025-07-19T14:33:09.207015Z"
    },
    "execution": {
     "iopub.execute_input": "2025-08-29T15:09:19.071407Z",
     "iopub.status.busy": "2025-08-29T15:09:19.070999Z",
     "iopub.status.idle": "2025-08-29T15:09:19.077259Z",
     "shell.execute_reply": "2025-08-29T15:09:19.076973Z"
    },
    "papermill": {
     "duration": 0.064156,
     "end_time": "2025-08-29T15:09:19.077356",
     "exception": false,
     "start_time": "2025-08-29T15:09:19.013200",
     "status": "completed"
    },
    "tags": []
   },
   "outputs": [],
   "source": [
    "# Normalizar y deduplicar nombres de columnas en pandas (compatible 1.x/2.x)\n",
    "from collections import defaultdict\n",
    "df.columns = (\n",
    "    df.columns\n",
    "      .map(str)\n",
    "      .str.strip()\n",
    "      .str.lower()\n",
    "      .str.replace(' ', '_', regex=False)\n",
    ")\n",
    "counts = defaultdict(int)\n",
    "new_cols = []\n",
    "for c in df.columns:\n",
    "    if counts[c]:\n",
    "        new_cols.append(f\"{c}.{counts[c]}\")\n",
    "    else:\n",
    "        new_cols.append(c)\n",
    "    counts[c] += 1\n",
    "df.columns = new_cols\n"
   ]
  },
  {
   "cell_type": "code",
   "execution_count": 24,
   "id": "af20c38b",
   "metadata": {
    "ExecuteTime": {
     "end_time": "2025-07-19T14:33:09.235823Z",
     "start_time": "2025-07-19T14:33:09.222952Z"
    },
    "execution": {
     "iopub.execute_input": "2025-08-29T15:09:19.104445Z",
     "iopub.status.busy": "2025-08-29T15:09:19.103689Z",
     "iopub.status.idle": "2025-08-29T15:09:19.113039Z",
     "shell.execute_reply": "2025-08-29T15:09:19.112721Z"
    },
    "papermill": {
     "duration": 0.025673,
     "end_time": "2025-08-29T15:09:19.113120",
     "exception": false,
     "start_time": "2025-08-29T15:09:19.087447",
     "status": "completed"
    },
    "tags": []
   },
   "outputs": [],
   "source": [
    "print (df)"
   ]
  },
  {
   "cell_type": "markdown",
   "id": "a9143581",
   "metadata": {
    "papermill": {
     "duration": 0.009572,
     "end_time": "2025-08-29T15:09:19.132689",
     "exception": false,
     "start_time": "2025-08-29T15:09:19.123117",
     "status": "completed"
    },
    "tags": []
   },
   "source": [
    "# Configuración de Spark y preparación de datos"
   ]
  },
  {
   "cell_type": "code",
   "execution_count": 25,
   "id": "436f33f5",
   "metadata": {
    "ExecuteTime": {
     "end_time": "2025-07-19T14:34:40.666100Z",
     "start_time": "2025-07-19T14:33:09.261662Z"
    },
    "execution": {
     "iopub.execute_input": "2025-08-29T15:09:19.164246Z",
     "iopub.status.busy": "2025-08-29T15:09:19.163005Z",
     "iopub.status.idle": "2025-08-28T18:22:30.469753Z",
     "shell.execute_reply": "2025-08-28T18:22:30.469316Z"
    },
    "papermill": {
     "duration": null,
     "end_time": null,
     "exception": false,
     "start_time": "2025-08-29T15:09:19.142614",
     "status": "running"
    },
    "tags": []
   },
   "outputs": [],
   "source": [
    "from pyspark.sql import SparkSession\n",
    "from pyspark import SparkContext\n",
    "from pyspark.ml.feature import StringIndexer, OneHotEncoder, VectorAssembler\n",
    "from pyspark.ml.regression import GBTRegressor\n",
    "from pyspark.ml import Pipeline\n",
    "from pyspark.ml.evaluation import RegressionEvaluator\n",
    "from pyspark.ml.tuning import ParamGridBuilder, TrainValidationSplit\n",
    "\n",
    "# Cerrar contexto anterior si está activo\n",
    "if SparkContext._active_spark_context:\n",
    "    SparkContext._active_spark_context.stop()\n",
    "\n",
    "# SparkSession apuntando al cluster\n",
    "spark = (\n",
    "    SparkSession.builder.appName(\"Create-model-DeliveryDurationGBT-Tuned-Light\")\n",
    "    .master(\"spark://agile:7077\")\n",
    "    .config(\"spark.driver.bindAddress\", \"0.0.0.0\")\n",
    "    .getOrCreate()\n",
    ")\n",
    "\n",
    "sc = spark.sparkContext\n",
    "sc.setLogLevel(\"ERROR\")\n",
    "\n",
    "# Añadir columnas derivadas en pandas antes de pasar a Spark\n",
    "df[\"es_fin_de_semana\"] = df[\"day_of_week\"].isin([\"Saturday\", \"Sunday\"]).astype(int)\n",
    "df[\"es_hora_punta\"] = df[\"hour_of_day\"].between(13, 15) | df[\"hour_of_day\"].between(20, 22)\n",
    "df[\"es_hora_punta\"] = df[\"es_hora_punta\"].astype(int)\n",
    "\n",
    "# Crear DataFrame en Spark\n",
    "df_spark = spark.createDataFrame(df)\n",
    "\n",
    "# Variables\n",
    "categorical_cols = ['payment_method', 'discounts_and_offers', 'day_of_week', 'hour_of_day']\n",
    "numeric_cols = [\n",
    "    'order_value', 'delivery_fee', 'commission_fee', 'payment_processing_fee',\n",
    "    'refunds/chargebacks', 'discount_value', 'has_discount', 'refunded',\n",
    "    'es_fin_de_semana', 'es_hora_punta'\n",
    "]\n",
    "target = 'delivery_duration_(min)'\n",
    "\n",
    "# Indexado y one-hot\n",
    "indexers = [StringIndexer(inputCol=col, outputCol=col + \"_idx\", handleInvalid=\"keep\") for col in categorical_cols]\n",
    "encoders = [OneHotEncoder(inputCol=col + \"_idx\", outputCol=col + \"_vec\") for col in categorical_cols]\n",
    "\n",
    "# Vector de features\n",
    "assembler = VectorAssembler(\n",
    "    inputCols=numeric_cols + [col + \"_vec\" for col in categorical_cols],\n",
    "    outputCol=\"features\"\n",
    ")\n",
    "\n",
    "# Modelo\n",
    "regressor = GBTRegressor(featuresCol=\"features\", labelCol=target)\n",
    "\n",
    "# Pipeline\n",
    "pipeline = Pipeline(stages=indexers + encoders + [assembler, regressor])\n",
    "\n",
    "# Grid de hiperparámetros ligera\n",
    "paramGrid = ParamGridBuilder() \\\n",
    "    .addGrid(regressor.maxDepth, [5]) \\\n",
    "    .addGrid(regressor.maxIter, [20, 40]) \\\n",
    "    .build()\n",
    "\n",
    "# Train-validation split\n",
    "tvs = TrainValidationSplit(\n",
    "    estimator=pipeline,\n",
    "    estimatorParamMaps=paramGrid,\n",
    "    evaluator=RegressionEvaluator(labelCol=target, predictionCol=\"prediction\", metricName=\"rmse\"),\n",
    "    trainRatio=0.8\n",
    ")\n",
    "\n",
    "# Split de datos\n",
    "train_data, test_data = df_spark.randomSplit([0.8, 0.2], seed=42)\n",
    "\n",
    "# Entrenamiento\n",
    "# tvs_model = tvs.fit(train_data)\n",
    "tvs_model = pipeline.fit(train_data)\n",
    "\n",
    "# Evaluación\n",
    "predictions = tvs_model.transform(test_data)\n",
    "rmse = RegressionEvaluator(labelCol=target, predictionCol=\"prediction\", metricName=\"rmse\").evaluate(predictions)\n",
    "\n",
    "print(\"✅ Modelo mejorado con TrainValidationSplit\")\n",
    "print(f\"📉 RMSE final: {rmse:.2f}\")"
   ]
  },
  {
   "cell_type": "code",
   "execution_count": null,
   "id": "a016f7ac",
   "metadata": {
    "execution": {
     "iopub.execute_input": "2025-08-28T18:22:30.499582Z",
     "iopub.status.busy": "2025-08-28T18:22:30.499165Z",
     "iopub.status.idle": "2025-08-28T18:22:30.506482Z",
     "shell.execute_reply": "2025-08-28T18:22:30.506177Z"
    },
    "papermill": {
     "duration": null,
     "end_time": null,
     "exception": null,
     "start_time": null,
     "status": "pending"
    },
    "tags": []
   },
   "outputs": [],
   "source": [
    "df_spark.printSchema()"
   ]
  },
  {
   "cell_type": "markdown",
   "id": "7259939a",
   "metadata": {
    "papermill": {
     "duration": null,
     "end_time": null,
     "exception": null,
     "start_time": null,
     "status": "pending"
    },
    "tags": []
   },
   "source": [
    "### Evaluación del modelo"
   ]
  },
  {
   "cell_type": "code",
   "execution_count": null,
   "id": "fe748dca",
   "metadata": {
    "ExecuteTime": {
     "end_time": "2025-07-19T14:36:29.489847Z",
     "start_time": "2025-07-19T14:36:26.618289Z"
    },
    "execution": {
     "iopub.execute_input": "2025-08-28T18:22:30.555314Z",
     "iopub.status.busy": "2025-08-28T18:22:30.554929Z",
     "iopub.status.idle": "2025-08-28T18:22:32.171541Z",
     "shell.execute_reply": "2025-08-28T18:22:32.171945Z"
    },
    "papermill": {
     "duration": null,
     "end_time": null,
     "exception": null,
     "start_time": null,
     "status": "pending"
    },
    "tags": []
   },
   "outputs": [],
   "source": [
    "import pandas as pd\n",
    "import matplotlib.pyplot as plt\n",
    "\n",
    "# Convertimos a Pandas para visualización\n",
    "preds_pd = predictions.select(\"delivery_duration_(min)\", \"prediction\").toPandas()\n",
    "\n",
    "# Plot real vs predicho\n",
    "plt.figure(figsize=(6,6))\n",
    "plt.scatter(preds_pd[\"delivery_duration_(min)\"], preds_pd[\"prediction\"], alpha=0.5)\n",
    "plt.plot([0, preds_pd.max().max()], [0, preds_pd.max().max()], 'r--')\n",
    "plt.xlabel(\"Valor real\")\n",
    "plt.ylabel(\"Predicción\")\n",
    "plt.title(\"Predicción vs Real (Duración en minutos)\")\n",
    "plt.grid(True)\n",
    "plt.show()"
   ]
  },
  {
   "cell_type": "code",
   "execution_count": null,
   "id": "4339fac5",
   "metadata": {
    "ExecuteTime": {
     "end_time": "2025-07-19T14:36:30.651045Z",
     "start_time": "2025-07-19T14:36:29.555718Z"
    },
    "execution": {
     "iopub.execute_input": "2025-08-28T18:22:32.214457Z",
     "iopub.status.busy": "2025-08-28T18:22:32.214002Z",
     "iopub.status.idle": "2025-08-28T18:22:33.082140Z",
     "shell.execute_reply": "2025-08-28T18:22:33.082450Z"
    },
    "papermill": {
     "duration": null,
     "end_time": null,
     "exception": null,
     "start_time": null,
     "status": "pending"
    },
    "tags": []
   },
   "outputs": [],
   "source": [
    "# Mostrar predicciones reales vs. predichas\n",
    "predictions.select('delivery_duration_(min)', 'prediction').show(10)"
   ]
  },
  {
   "cell_type": "markdown",
   "id": "20d47d3e",
   "metadata": {
    "papermill": {
     "duration": null,
     "end_time": null,
     "exception": null,
     "start_time": null,
     "status": "pending"
    },
    "tags": []
   },
   "source": [
    "### Guardado del modelo y transformadores"
   ]
  },
  {
   "cell_type": "code",
   "execution_count": null,
   "id": "c1fd0f16",
   "metadata": {
    "execution": {
     "iopub.execute_input": "2025-08-28T18:22:33.134019Z",
     "iopub.status.busy": "2025-08-28T18:22:33.133622Z",
     "iopub.status.idle": "2025-08-28T18:22:56.684448Z",
     "shell.execute_reply": "2025-08-28T18:22:56.684997Z"
    },
    "papermill": {
     "duration": null,
     "end_time": null,
     "exception": null,
     "start_time": null,
     "status": "pending"
    },
    "tags": []
   },
   "outputs": [],
   "source": [
    "import os\n",
    "base_path = \"./models\"\n",
    "os.makedirs(base_path, exist_ok=True)\n",
    "\n",
    "# Guarda el VectorAssembler\n",
    "assembler.write().overwrite().save(f\"{base_path}/vector_assembler.bin\")\n",
    "\n",
    "# Guarda todos los StringIndexer\n",
    "for idx, indexer_model in enumerate(indexers):\n",
    "    indexer_model.write().overwrite().save(f\"{base_path}/string_indexer_{idx}.bin\")\n",
    "\n",
    "# Guarda todos los OneHotEncoder\n",
    "for idx, encoder_model in enumerate(encoders):\n",
    "    encoder_model.write().overwrite().save(f\"{base_path}/one_hot_encoder_{idx}.bin\")\n",
    "\n",
    "# Guarda el modelo entrenado\n",
    "tvs_model.write().overwrite().save(f\"{base_path}/pipeline_model.bin\")"
   ]
  }
 ],
 "metadata": {
  "colab": {
   "name": "Food Delivery: Timing is everything",
   "provenance": []
  },
  "kaggle": {
   "accelerator": "none",
   "dataSources": [
    {
     "datasetId": 5072200,
     "sourceId": 8499662,
     "sourceType": "datasetVersion"
    }
   ],
   "dockerImageVersionId": 30698,
   "isGpuEnabled": false,
   "isInternetEnabled": true,
   "language": "python",
   "sourceType": "notebook"
  },
  "kernelspec": {
   "display_name": "Python 3 (ipykernel)",
   "language": "python",
   "name": "python3"
  },
  "papermill": {
   "default_parameters": {},
   "duration": null,
   "end_time": null,
   "environment_variables": {},
   "exception": null,
   "input_path": "/home/jovyan/Food_delivery/Analysis.ipynb",
   "output_path": "/home/jovyan/Food_delivery/Analysis.ipynb",
   "parameters": {},
   "start_time": "2025-08-29T15:09:05.944428",
   "version": "2.6.0"
  }
 },
 "nbformat": 4,
 "nbformat_minor": 5
}
