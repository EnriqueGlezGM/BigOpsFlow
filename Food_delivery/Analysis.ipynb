{
 "cells": [
  {
   "cell_type": "markdown",
   "id": "7784514e",
   "metadata": {
    "papermill": {
     "duration": 0.009071,
     "end_time": "2025-08-29T16:48:51.079856",
     "exception": false,
     "start_time": "2025-08-29T16:48:51.070785",
     "status": "completed"
    },
    "tags": []
   },
   "source": [
    "# Instalación de dependencias"
   ]
  },
  {
   "cell_type": "code",
   "execution_count": null,
   "id": "f8e18825",
   "metadata": {
    "ExecuteTime": {
     "end_time": "2025-07-19T14:33:05.760043Z",
     "start_time": "2025-07-19T14:33:04.143086Z"
    },
    "execution": {
     "iopub.execute_input": "2025-08-29T16:48:51.104225Z",
     "iopub.status.busy": "2025-08-29T16:48:51.103759Z",
     "iopub.status.idle": "2025-08-29T16:48:53.395711Z",
     "shell.execute_reply": "2025-08-29T16:48:53.392114Z"
    },
    "papermill": {
     "duration": 2.311306,
     "end_time": "2025-08-29T16:48:53.399376",
     "exception": false,
     "start_time": "2025-08-29T16:48:51.088070",
     "status": "completed"
    },
    "tags": []
   },
   "outputs": [],
   "source": [
    "pip install kagglehub"
   ]
  },
  {
   "cell_type": "code",
   "execution_count": null,
   "id": "26274433",
   "metadata": {
    "execution": {
     "iopub.execute_input": "2025-08-29T16:48:53.666254Z",
     "iopub.status.busy": "2025-08-29T16:48:53.661078Z",
     "iopub.status.idle": "2025-08-29T16:49:01.212802Z",
     "shell.execute_reply": "2025-08-29T16:49:01.213432Z"
    },
    "papermill": {
     "duration": 7.760999,
     "end_time": "2025-08-29T16:49:01.213956",
     "exception": false,
     "start_time": "2025-08-29T16:48:53.452957",
     "status": "completed"
    },
    "tags": []
   },
   "outputs": [],
   "source": [
    "pip install --upgrade pandas"
   ]
  },
  {
   "cell_type": "markdown",
   "id": "09b82e54",
   "metadata": {
    "papermill": {
     "duration": 0.009595,
     "end_time": "2025-08-29T16:49:01.235270",
     "exception": false,
     "start_time": "2025-08-29T16:49:01.225675",
     "status": "completed"
    },
    "tags": []
   },
   "source": [
    "# Descarga del dataset"
   ]
  },
  {
   "cell_type": "code",
   "execution_count": null,
   "id": "4abbc559",
   "metadata": {
    "execution": {
     "iopub.execute_input": "2025-08-29T16:49:01.259511Z",
     "iopub.status.busy": "2025-08-29T16:49:01.259112Z",
     "iopub.status.idle": "2025-08-29T16:49:01.780224Z",
     "shell.execute_reply": "2025-08-29T16:49:01.779409Z"
    },
    "papermill": {
     "duration": 0.537971,
     "end_time": "2025-08-29T16:49:01.780376",
     "exception": false,
     "start_time": "2025-08-29T16:49:01.242405",
     "status": "completed"
    },
    "tags": []
   },
   "outputs": [],
   "source": [
    "import os\n",
    "import kagglehub\n",
    "\n",
    "dataset_path = kagglehub.dataset_download(\"romanniki/food-delivery-cost-and-profitability\")\n",
    "\n",
    "# Mostrar todos los archivos encontrados\n",
    "for root, dirs, files in os.walk(dataset_path):\n",
    "    for file in files:\n",
    "        print(\"Archivo encontrado:\", os.path.join(root, file))"
   ]
  },
  {
   "cell_type": "code",
   "execution_count": null,
   "id": "4a5ebaea",
   "metadata": {
    "ExecuteTime": {
     "end_time": "2025-07-19T14:33:06.366181Z",
     "start_time": "2025-07-19T14:33:05.839196Z"
    },
    "execution": {
     "iopub.execute_input": "2025-08-29T16:49:01.807404Z",
     "iopub.status.busy": "2025-08-29T16:49:01.803994Z",
     "iopub.status.idle": "2025-08-29T16:49:02.019950Z",
     "shell.execute_reply": "2025-08-29T16:49:02.019645Z"
    },
    "id": "DZiXESZ8UiEb",
    "papermill": {
     "duration": 0.229866,
     "end_time": "2025-08-29T16:49:02.020056",
     "exception": false,
     "start_time": "2025-08-29T16:49:01.790190",
     "status": "completed"
    },
    "tags": []
   },
   "outputs": [],
   "source": [
    "import kagglehub\n",
    "import os\n",
    "\n",
    "# Descarga el dataset (o usa el caché)\n",
    "romanniki_food_delivery_cost_and_profitability_path = kagglehub.dataset_download('romanniki/food-delivery-cost-and-profitability')\n",
    "\n",
    "# Buscar el primer archivo dentro del dataset descargado\n",
    "for root, dirs, files in os.walk(romanniki_food_delivery_cost_and_profitability_path):\n",
    "    for file in files:\n",
    "        path_dataset = os.path.abspath(os.path.join(root, file))\n",
    "        break  # solo el primero\n",
    "    else:\n",
    "        continue\n",
    "    break\n",
    "\n",
    "print('Data source import complete.')\n",
    "print(\"Archivo encontrado en:\", path_dataset)"
   ]
  },
  {
   "cell_type": "markdown",
   "id": "664711c0",
   "metadata": {
    "papermill": {
     "duration": 0.006068,
     "end_time": "2025-08-29T16:49:02.033557",
     "exception": false,
     "start_time": "2025-08-29T16:49:02.027489",
     "status": "completed"
    },
    "tags": []
   },
   "source": [
    "# Librerías necesarias"
   ]
  },
  {
   "cell_type": "code",
   "execution_count": null,
   "id": "29ccb55a",
   "metadata": {
    "ExecuteTime": {
     "end_time": "2025-07-19T14:33:06.391946Z",
     "start_time": "2025-07-19T14:33:06.388433Z"
    },
    "execution": {
     "iopub.execute_input": "2025-08-29T16:49:02.050238Z",
     "iopub.status.busy": "2025-08-29T16:49:02.049866Z",
     "iopub.status.idle": "2025-08-29T16:49:03.269339Z",
     "shell.execute_reply": "2025-08-29T16:49:03.269613Z"
    },
    "papermill": {
     "duration": 1.229925,
     "end_time": "2025-08-29T16:49:03.269783",
     "exception": false,
     "start_time": "2025-08-29T16:49:02.039858",
     "status": "completed"
    },
    "tags": []
   },
   "outputs": [],
   "source": [
    "import numpy as np\n",
    "import pandas as pd\n",
    "import matplotlib.pyplot as plt\n",
    "import seaborn as sns\n",
    "\n",
    "import warnings\n",
    "warnings.filterwarnings('ignore')"
   ]
  },
  {
   "cell_type": "markdown",
   "id": "c567da77",
   "metadata": {
    "papermill": {
     "duration": 0.005698,
     "end_time": "2025-08-29T16:49:03.281952",
     "exception": false,
     "start_time": "2025-08-29T16:49:03.276254",
     "status": "completed"
    },
    "tags": []
   },
   "source": [
    "# Exploración Inicial (EDA)"
   ]
  },
  {
   "cell_type": "code",
   "execution_count": null,
   "id": "50c79229",
   "metadata": {
    "ExecuteTime": {
     "end_time": "2025-07-19T14:33:06.440900Z",
     "start_time": "2025-07-19T14:33:06.406096Z"
    },
    "execution": {
     "iopub.execute_input": "2025-08-29T16:49:03.296860Z",
     "iopub.status.busy": "2025-08-29T16:49:03.296561Z",
     "iopub.status.idle": "2025-08-29T16:49:03.323201Z",
     "shell.execute_reply": "2025-08-29T16:49:03.323443Z"
    },
    "papermill": {
     "duration": 0.035884,
     "end_time": "2025-08-29T16:49:03.323522",
     "exception": false,
     "start_time": "2025-08-29T16:49:03.287638",
     "status": "completed"
    },
    "tags": []
   },
   "outputs": [],
   "source": [
    "df = pd.read_csv(path_dataset)\n",
    "df.shape"
   ]
  },
  {
   "cell_type": "code",
   "execution_count": null,
   "id": "781b4e0c",
   "metadata": {
    "ExecuteTime": {
     "end_time": "2025-07-19T14:33:06.519151Z",
     "start_time": "2025-07-19T14:33:06.456124Z"
    },
    "execution": {
     "iopub.execute_input": "2025-08-29T16:49:03.360224Z",
     "iopub.status.busy": "2025-08-29T16:49:03.354764Z",
     "iopub.status.idle": "2025-08-29T16:49:03.438770Z",
     "shell.execute_reply": "2025-08-29T16:49:03.439205Z"
    },
    "papermill": {
     "duration": 0.108777,
     "end_time": "2025-08-29T16:49:03.439428",
     "exception": false,
     "start_time": "2025-08-29T16:49:03.330651",
     "status": "completed"
    },
    "tags": []
   },
   "outputs": [],
   "source": [
    "\n",
    "# Convertir fechas a tipo datetime\n",
    "df['Order Date and Time'] = pd.to_datetime(df['Order Date and Time'])\n",
    "df['Delivery Date and Time'] = pd.to_datetime(df['Delivery Date and Time'])\n",
    "\n",
    "# Crear columna de tiempo de entrega en minutos\n",
    "df['Delivery Duration (min)'] = (df['Delivery Date and Time'] - df['Order Date and Time']).dt.total_seconds() / 60\n",
    "# Extraer día y hora del pedido\n",
    "df['day_of_week'] = df['Order Date and Time'].dt.day_name()\n",
    "df['hour_of_day'] = df['Order Date and Time'].dt.hour\n",
    "# Marcar si hay descuento o no\n",
    "df['has_discount'] = df['Discounts and Offers'].str.lower() != 'none'\n",
    "\n",
    "# Marcar si fue reembolsado\n",
    "df['refunded'] = df['Refunds/Chargebacks'] > 0\n",
    "df"
   ]
  },
  {
   "cell_type": "code",
   "execution_count": null,
   "id": "d12cdd8c",
   "metadata": {
    "ExecuteTime": {
     "end_time": "2025-07-19T14:33:06.604977Z",
     "start_time": "2025-07-19T14:33:06.599652Z"
    },
    "execution": {
     "iopub.execute_input": "2025-08-29T16:49:03.487589Z",
     "iopub.status.busy": "2025-08-29T16:49:03.485709Z",
     "iopub.status.idle": "2025-08-29T16:49:03.490622Z",
     "shell.execute_reply": "2025-08-29T16:49:03.490839Z"
    },
    "papermill": {
     "duration": 0.025481,
     "end_time": "2025-08-29T16:49:03.490948",
     "exception": false,
     "start_time": "2025-08-29T16:49:03.465467",
     "status": "completed"
    },
    "tags": []
   },
   "outputs": [],
   "source": [
    "print(df['Discounts and Offers'].value_counts())"
   ]
  },
  {
   "cell_type": "markdown",
   "id": "0a89081c",
   "metadata": {
    "papermill": {
     "duration": 0.006883,
     "end_time": "2025-08-29T16:49:03.504540",
     "exception": false,
     "start_time": "2025-08-29T16:49:03.497657",
     "status": "completed"
    },
    "tags": []
   },
   "source": [
    "### Cálculo del valor del descuento"
   ]
  },
  {
   "cell_type": "code",
   "execution_count": null,
   "id": "b6a70b78",
   "metadata": {
    "ExecuteTime": {
     "end_time": "2025-07-19T14:33:06.686032Z",
     "start_time": "2025-07-19T14:33:06.658804Z"
    },
    "execution": {
     "iopub.execute_input": "2025-08-29T16:49:03.544109Z",
     "iopub.status.busy": "2025-08-29T16:49:03.543713Z",
     "iopub.status.idle": "2025-08-29T16:49:03.548927Z",
     "shell.execute_reply": "2025-08-29T16:49:03.548595Z"
    },
    "papermill": {
     "duration": 0.037893,
     "end_time": "2025-08-29T16:49:03.549025",
     "exception": false,
     "start_time": "2025-08-29T16:49:03.511132",
     "status": "completed"
    },
    "tags": []
   },
   "outputs": [],
   "source": [
    "def calcular_descuento(row):\n",
    "    valor = str(row['Discounts and Offers']).lower()\n",
    "    pedido = row['Order Value']\n",
    "    \n",
    "    # Si es porcentaje, por ejemplo \"10%\" o \"5% on app\"\n",
    "    if '%' in valor:\n",
    "        try:\n",
    "            porcentaje = float(valor.split('%')[0])\n",
    "            return pedido * (porcentaje / 100)\n",
    "        except:\n",
    "            return 0\n",
    "        \n",
    "    # Si es \"50 off Promo\" u otros con valor fijo\n",
    "    elif 'off' in valor:\n",
    "        for token in valor.split():\n",
    "            try:\n",
    "                return float(token)\n",
    "            except:\n",
    "                continue\n",
    "        return 0\n",
    "\n",
    "    # Si es \"None\" u otra cosa no reconocida\n",
    "    return 0\n",
    "\n",
    "# Aplicar al DataFrame\n",
    "df['Discount Value'] = df.apply(calcular_descuento, axis=1)\n",
    "\n",
    "# Verificar\n",
    "df[['Discounts and Offers', 'Order Value', 'Discount Value']].head(10)"
   ]
  },
  {
   "cell_type": "markdown",
   "id": "820676f7",
   "metadata": {
    "papermill": {
     "duration": 0.007164,
     "end_time": "2025-08-29T16:49:03.563183",
     "exception": false,
     "start_time": "2025-08-29T16:49:03.556019",
     "status": "completed"
    },
    "tags": []
   },
   "source": [
    "### Cálculo del coste total y beneficio"
   ]
  },
  {
   "cell_type": "code",
   "execution_count": null,
   "id": "2d4ee3f1",
   "metadata": {
    "ExecuteTime": {
     "end_time": "2025-07-19T14:33:06.744183Z",
     "start_time": "2025-07-19T14:33:06.738421Z"
    },
    "execution": {
     "iopub.execute_input": "2025-08-29T16:49:03.583666Z",
     "iopub.status.busy": "2025-08-29T16:49:03.583346Z",
     "iopub.status.idle": "2025-08-29T16:49:03.585671Z",
     "shell.execute_reply": "2025-08-29T16:49:03.585950Z"
    },
    "papermill": {
     "duration": 0.013746,
     "end_time": "2025-08-29T16:49:03.586103",
     "exception": false,
     "start_time": "2025-08-29T16:49:03.572357",
     "status": "completed"
    },
    "tags": []
   },
   "outputs": [],
   "source": [
    "df['Total Cost'] = df['Delivery Fee'] + df['Discount Value'] + df['Payment Processing Fee'] + df['Refunds/Chargebacks']"
   ]
  },
  {
   "cell_type": "code",
   "execution_count": null,
   "id": "d94fd72f",
   "metadata": {
    "ExecuteTime": {
     "end_time": "2025-07-19T14:33:06.793022Z",
     "start_time": "2025-07-19T14:33:06.784037Z"
    },
    "execution": {
     "iopub.execute_input": "2025-08-29T16:49:03.604630Z",
     "iopub.status.busy": "2025-08-29T16:49:03.604284Z",
     "iopub.status.idle": "2025-08-29T16:49:03.608447Z",
     "shell.execute_reply": "2025-08-29T16:49:03.608693Z"
    },
    "papermill": {
     "duration": 0.015486,
     "end_time": "2025-08-29T16:49:03.608772",
     "exception": false,
     "start_time": "2025-08-29T16:49:03.593286",
     "status": "completed"
    },
    "tags": []
   },
   "outputs": [],
   "source": [
    "df['Profit'] = df['Commission Fee'] - df['Total Cost']\n",
    "\n",
    "# Estadísticas generales\n",
    "print(\"Ganancia media por pedido:\", round(df['Profit'].mean(), 2))\n",
    "print(\"Pedidos con pérdida:\", (df['Profit'] < 0).sum())\n",
    "print(\"Porcentaje con pérdida:\", round((df['Profit'] < 0).mean() * 100, 2), '%')"
   ]
  },
  {
   "cell_type": "markdown",
   "id": "e092532d",
   "metadata": {
    "papermill": {
     "duration": 0.006834,
     "end_time": "2025-08-29T16:49:03.621916",
     "exception": false,
     "start_time": "2025-08-29T16:49:03.615082",
     "status": "completed"
    },
    "tags": []
   },
   "source": [
    "### Análisis de pérdidas"
   ]
  },
  {
   "cell_type": "code",
   "execution_count": null,
   "id": "f2c35889",
   "metadata": {
    "ExecuteTime": {
     "end_time": "2025-07-19T14:33:06.827019Z",
     "start_time": "2025-07-19T14:33:06.815908Z"
    },
    "execution": {
     "iopub.execute_input": "2025-08-29T16:49:03.638725Z",
     "iopub.status.busy": "2025-08-29T16:49:03.638395Z",
     "iopub.status.idle": "2025-08-29T16:49:03.646558Z",
     "shell.execute_reply": "2025-08-29T16:49:03.646268Z"
    },
    "papermill": {
     "duration": 0.017839,
     "end_time": "2025-08-29T16:49:03.646623",
     "exception": false,
     "start_time": "2025-08-29T16:49:03.628784",
     "status": "completed"
    },
    "tags": []
   },
   "outputs": [],
   "source": [
    "# Mostrar los 10 pedidos con mayores pérdidas (menor Profit)\n",
    "top_losses = df.sort_values(by='Profit').tail(10)\n",
    "\n",
    "# Mostrar solo las columnas clave para el análisis\n",
    "top_losses[[ 'Order Value', 'Commission Fee', 'Total Cost', 'Profit', 'Discounts and Offers']]"
   ]
  },
  {
   "cell_type": "code",
   "execution_count": null,
   "id": "f413b9d6",
   "metadata": {
    "ExecuteTime": {
     "end_time": "2025-07-19T14:33:06.874830Z",
     "start_time": "2025-07-19T14:33:06.862986Z"
    },
    "execution": {
     "iopub.execute_input": "2025-08-29T16:49:03.667387Z",
     "iopub.status.busy": "2025-08-29T16:49:03.667052Z",
     "iopub.status.idle": "2025-08-29T16:49:03.669672Z",
     "shell.execute_reply": "2025-08-29T16:49:03.669345Z"
    },
    "papermill": {
     "duration": 0.01637,
     "end_time": "2025-08-29T16:49:03.669748",
     "exception": false,
     "start_time": "2025-08-29T16:49:03.653378",
     "status": "completed"
    },
    "tags": []
   },
   "outputs": [],
   "source": [
    "print(df)"
   ]
  },
  {
   "cell_type": "markdown",
   "id": "e0519711",
   "metadata": {
    "papermill": {
     "duration": 0.00642,
     "end_time": "2025-08-29T16:49:03.683555",
     "exception": false,
     "start_time": "2025-08-29T16:49:03.677135",
     "status": "completed"
    },
    "tags": []
   },
   "source": [
    "## Visualización de correlaciones numéricas"
   ]
  },
  {
   "cell_type": "code",
   "execution_count": null,
   "id": "aee642c4",
   "metadata": {
    "ExecuteTime": {
     "end_time": "2025-07-19T14:33:07.403158Z",
     "start_time": "2025-07-19T14:33:06.925091Z"
    },
    "execution": {
     "iopub.execute_input": "2025-08-29T16:49:03.706389Z",
     "iopub.status.busy": "2025-08-29T16:49:03.706081Z",
     "iopub.status.idle": "2025-08-29T16:49:04.287943Z",
     "shell.execute_reply": "2025-08-29T16:49:04.288242Z"
    },
    "papermill": {
     "duration": 0.598091,
     "end_time": "2025-08-29T16:49:04.288361",
     "exception": false,
     "start_time": "2025-08-29T16:49:03.690270",
     "status": "completed"
    },
    "tags": []
   },
   "outputs": [],
   "source": [
    "plt.figure(figsize=(6,6))\n",
    "sns.heatmap(df.select_dtypes(include=['number']).corr(), annot=True, fmt='.1f')"
   ]
  },
  {
   "cell_type": "code",
   "execution_count": null,
   "id": "93956860",
   "metadata": {
    "ExecuteTime": {
     "end_time": "2025-07-19T14:33:07.560809Z",
     "start_time": "2025-07-19T14:33:07.423773Z"
    },
    "execution": {
     "iopub.execute_input": "2025-08-29T16:49:04.313213Z",
     "iopub.status.busy": "2025-08-29T16:49:04.311727Z",
     "iopub.status.idle": "2025-08-29T16:49:04.439970Z",
     "shell.execute_reply": "2025-08-29T16:49:04.439629Z"
    },
    "papermill": {
     "duration": 0.143452,
     "end_time": "2025-08-29T16:49:04.440063",
     "exception": false,
     "start_time": "2025-08-29T16:49:04.296611",
     "status": "completed"
    },
    "tags": []
   },
   "outputs": [],
   "source": [
    "import seaborn as sns\n",
    "import matplotlib.pyplot as plt\n",
    "\n",
    "plt.figure(figsize=(10,5))\n",
    "sns.boxplot(data=df, x='day_of_week', y='Delivery Duration (min)', \n",
    "            order=['Monday','Tuesday','Wednesday','Thursday','Friday','Saturday','Sunday'])\n",
    "plt.xticks(rotation=45)\n",
    "plt.title(\"Duración de entrega por día de la semana\")\n",
    "plt.show()"
   ]
  },
  {
   "cell_type": "code",
   "execution_count": null,
   "id": "fe2c2028",
   "metadata": {
    "ExecuteTime": {
     "end_time": "2025-07-19T14:33:07.763033Z",
     "start_time": "2025-07-19T14:33:07.578110Z"
    },
    "execution": {
     "iopub.execute_input": "2025-08-29T16:49:04.469535Z",
     "iopub.status.busy": "2025-08-29T16:49:04.469185Z",
     "iopub.status.idle": "2025-08-29T16:49:04.626535Z",
     "shell.execute_reply": "2025-08-29T16:49:04.625853Z"
    },
    "papermill": {
     "duration": 0.171146,
     "end_time": "2025-08-29T16:49:04.626679",
     "exception": false,
     "start_time": "2025-08-29T16:49:04.455533",
     "status": "completed"
    },
    "tags": []
   },
   "outputs": [],
   "source": [
    "top_restaurants = df['Restaurant ID'].value_counts().nlargest(10).index\n",
    "\n",
    "plt.figure(figsize=(10,5))\n",
    "sns.boxplot(data=df[df['Restaurant ID'].isin(top_restaurants)],\n",
    "            x='Restaurant ID', y='Delivery Duration (min)')\n",
    "plt.xticks(rotation=45)\n",
    "plt.title(\"Top 10 restaurantes vs duración de entrega\")\n",
    "plt.show()"
   ]
  },
  {
   "cell_type": "code",
   "execution_count": null,
   "id": "a33fe924",
   "metadata": {
    "ExecuteTime": {
     "end_time": "2025-07-19T14:33:07.849801Z",
     "start_time": "2025-07-19T14:33:07.778800Z"
    },
    "execution": {
     "iopub.execute_input": "2025-08-29T16:49:04.649306Z",
     "iopub.status.busy": "2025-08-29T16:49:04.648608Z",
     "iopub.status.idle": "2025-08-29T16:49:04.706725Z",
     "shell.execute_reply": "2025-08-29T16:49:04.706464Z"
    },
    "papermill": {
     "duration": 0.071417,
     "end_time": "2025-08-29T16:49:04.706799",
     "exception": false,
     "start_time": "2025-08-29T16:49:04.635382",
     "status": "completed"
    },
    "tags": []
   },
   "outputs": [],
   "source": [
    "plt.figure(figsize=(6,4))\n",
    "sns.boxplot(data=df, x='has_discount', y='Delivery Duration (min)')\n",
    "plt.title(\"Duración con/sin descuento\")\n",
    "plt.xlabel(\"¿Tiene descuento?\")\n",
    "plt.ylabel(\"Duración (min)\")\n",
    "plt.show()"
   ]
  },
  {
   "cell_type": "code",
   "execution_count": null,
   "id": "02f59786",
   "metadata": {
    "ExecuteTime": {
     "end_time": "2025-07-19T14:33:07.954801Z",
     "start_time": "2025-07-19T14:33:07.865268Z"
    },
    "execution": {
     "iopub.execute_input": "2025-08-29T16:49:04.730349Z",
     "iopub.status.busy": "2025-08-29T16:49:04.730028Z",
     "iopub.status.idle": "2025-08-29T16:49:04.839426Z",
     "shell.execute_reply": "2025-08-29T16:49:04.839175Z"
    },
    "papermill": {
     "duration": 0.127176,
     "end_time": "2025-08-29T16:49:04.839504",
     "exception": false,
     "start_time": "2025-08-29T16:49:04.712328",
     "status": "completed"
    },
    "tags": []
   },
   "outputs": [],
   "source": [
    "plt.figure(figsize=(8,4))\n",
    "sns.boxplot(data=df, x='Payment Method', y='Delivery Duration (min)')\n",
    "plt.title(\"Método de pago vs duración de entrega\")\n",
    "plt.xticks(rotation=45)\n",
    "plt.show()"
   ]
  },
  {
   "cell_type": "code",
   "execution_count": null,
   "id": "2bf12976",
   "metadata": {
    "ExecuteTime": {
     "end_time": "2025-07-19T14:33:08.050806Z",
     "start_time": "2025-07-19T14:33:07.970379Z"
    },
    "execution": {
     "iopub.execute_input": "2025-08-29T16:49:04.863419Z",
     "iopub.status.busy": "2025-08-29T16:49:04.862161Z",
     "iopub.status.idle": "2025-08-29T16:49:04.984607Z",
     "shell.execute_reply": "2025-08-29T16:49:04.984341Z"
    },
    "papermill": {
     "duration": 0.136559,
     "end_time": "2025-08-29T16:49:04.984714",
     "exception": false,
     "start_time": "2025-08-29T16:49:04.848155",
     "status": "completed"
    },
    "tags": []
   },
   "outputs": [],
   "source": [
    "plt.figure(figsize=(6,4))\n",
    "sns.boxplot(data=df, x='refunded', y='Delivery Duration (min)')\n",
    "plt.title(\"Reembolsos vs duración de entrega\")\n",
    "plt.xlabel(\"¿Fue reembolsado?\")\n",
    "plt.ylabel(\"Duración (min)\")\n",
    "plt.show()"
   ]
  },
  {
   "cell_type": "code",
   "execution_count": null,
   "id": "4e015845",
   "metadata": {
    "ExecuteTime": {
     "end_time": "2025-07-19T14:33:08.332802Z",
     "start_time": "2025-07-19T14:33:08.065785Z"
    },
    "execution": {
     "iopub.execute_input": "2025-08-29T16:49:05.011753Z",
     "iopub.status.busy": "2025-08-29T16:49:05.011368Z",
     "iopub.status.idle": "2025-08-29T16:49:05.253666Z",
     "shell.execute_reply": "2025-08-29T16:49:05.253359Z"
    },
    "papermill": {
     "duration": 0.260073,
     "end_time": "2025-08-29T16:49:05.253760",
     "exception": false,
     "start_time": "2025-08-29T16:49:04.993687",
     "status": "completed"
    },
    "tags": []
   },
   "outputs": [],
   "source": [
    "plt.figure(figsize=(10,4))\n",
    "sns.boxplot(data=df, x='hour_of_day', y='Delivery Duration (min)')\n",
    "plt.title(\"Duración según hora del pedido\")\n",
    "plt.xlabel(\"Hora del día\")\n",
    "plt.ylabel(\"Duración (min)\")\n",
    "plt.show()"
   ]
  },
  {
   "cell_type": "code",
   "execution_count": null,
   "id": "fade27a2",
   "metadata": {
    "ExecuteTime": {
     "end_time": "2025-07-19T14:33:08.674807Z",
     "start_time": "2025-07-19T14:33:08.531825Z"
    },
    "execution": {
     "iopub.execute_input": "2025-08-29T16:49:05.290454Z",
     "iopub.status.busy": "2025-08-29T16:49:05.281236Z",
     "iopub.status.idle": "2025-08-29T16:49:05.388725Z",
     "shell.execute_reply": "2025-08-29T16:49:05.388445Z"
    },
    "papermill": {
     "duration": 0.126149,
     "end_time": "2025-08-29T16:49:05.388808",
     "exception": false,
     "start_time": "2025-08-29T16:49:05.262659",
     "status": "completed"
    },
    "tags": []
   },
   "outputs": [],
   "source": [
    "import seaborn as sns\n",
    "import matplotlib.pyplot as plt\n",
    "\n",
    "# Asegurarnos de que la columna tenga un nombre limpio (por si no lo hiciste antes)\n",
    "df['Discounts and Offers'] = df['Discounts and Offers'].astype(str)\n",
    "\n",
    "# Agrupar por tipo de descuento y calcular profit promedio\n",
    "profit_por_descuento = df.groupby('Discounts and Offers')['Profit'].mean().sort_values()\n",
    "\n",
    "# Crear gráfico\n",
    "plt.figure(figsize=(10,6))\n",
    "sns.barplot(x=profit_por_descuento.values, y=profit_por_descuento.index, palette='coolwarm')\n",
    "plt.title(\"Ganancia media por tipo de descuento\")\n",
    "plt.xlabel(\"Ganancia media (Profit)\")\n",
    "plt.ylabel(\"Tipo de descuento\")\n",
    "plt.axvline(0, color='gray', linestyle='--')\n",
    "plt.tight_layout()\n",
    "plt.show()"
   ]
  },
  {
   "cell_type": "code",
   "execution_count": null,
   "id": "18fbefd2",
   "metadata": {
    "ExecuteTime": {
     "end_time": "2025-07-19T14:33:08.795803Z",
     "start_time": "2025-07-19T14:33:08.688932Z"
    },
    "execution": {
     "iopub.execute_input": "2025-08-29T16:49:05.417486Z",
     "iopub.status.busy": "2025-08-29T16:49:05.416605Z",
     "iopub.status.idle": "2025-08-29T16:49:05.544213Z",
     "shell.execute_reply": "2025-08-29T16:49:05.544543Z"
    },
    "papermill": {
     "duration": 0.146944,
     "end_time": "2025-08-29T16:49:05.544661",
     "exception": false,
     "start_time": "2025-08-29T16:49:05.397717",
     "status": "completed"
    },
    "tags": []
   },
   "outputs": [],
   "source": [
    "import seaborn as sns\n",
    "import matplotlib.pyplot as plt\n",
    "\n",
    "# Asegúrate de que la columna de duración esté creada\n",
    "if 'Delivery Duration (min)' not in df.columns:\n",
    "    df['Order Date and Time'] = pd.to_datetime(df['Order Date and Time'])\n",
    "    df['Delivery Date and Time'] = pd.to_datetime(df['Delivery Date and Time'])\n",
    "    df['Delivery Duration (min)'] = (df['Delivery Date and Time'] - df['Order Date and Time']).dt.total_seconds() / 60\n",
    "\n",
    "# Crear columna binaria: ¿Hubo reembolso?\n",
    "df['Refunded'] = df['Refunds/Chargebacks'] > 0\n",
    "\n",
    "# Gráfico de distribución del tiempo de entrega según haya o no reembolso\n",
    "plt.figure(figsize=(10,6))\n",
    "sns.boxplot(x='Refunded', y='Delivery Duration (min)', data=df)\n",
    "plt.xticks([0,1], ['Sin reembolso', 'Con reembolso'])\n",
    "plt.title(\"Tiempo de entrega según presencia de reembolso\")\n",
    "plt.ylabel(\"Duración de entrega (minutos)\")\n",
    "plt.xlabel(\"¿Hubo reembolso?\")\n",
    "plt.tight_layout()\n",
    "plt.show()"
   ]
  },
  {
   "cell_type": "code",
   "execution_count": null,
   "id": "604017fa",
   "metadata": {
    "ExecuteTime": {
     "end_time": "2025-07-19T14:33:09.210824Z",
     "start_time": "2025-07-19T14:33:09.207015Z"
    },
    "execution": {
     "iopub.execute_input": "2025-08-29T16:49:05.575455Z",
     "iopub.status.busy": "2025-08-29T16:49:05.575049Z",
     "iopub.status.idle": "2025-08-29T16:49:05.578854Z",
     "shell.execute_reply": "2025-08-29T16:49:05.578202Z"
    },
    "papermill": {
     "duration": 0.020673,
     "end_time": "2025-08-29T16:49:05.578956",
     "exception": false,
     "start_time": "2025-08-29T16:49:05.558283",
     "status": "completed"
    },
    "tags": []
   },
   "outputs": [],
   "source": [
    "# Normalizar y deduplicar nombres de columnas en pandas (compatible 1.x/2.x)\n",
    "from collections import defaultdict\n",
    "df.columns = (\n",
    "    df.columns\n",
    "      .map(str)\n",
    "      .str.strip()\n",
    "      .str.lower()\n",
    "      .str.replace(' ', '_', regex=False)\n",
    ")\n",
    "counts = defaultdict(int)\n",
    "new_cols = []\n",
    "for c in df.columns:\n",
    "    if counts[c]:\n",
    "        new_cols.append(f\"{c}.{counts[c]}\")\n",
    "    else:\n",
    "        new_cols.append(c)\n",
    "    counts[c] += 1\n",
    "df.columns = new_cols\n"
   ]
  },
  {
   "cell_type": "code",
   "execution_count": null,
   "id": "af20c38b",
   "metadata": {
    "ExecuteTime": {
     "end_time": "2025-07-19T14:33:09.235823Z",
     "start_time": "2025-07-19T14:33:09.222952Z"
    },
    "execution": {
     "iopub.execute_input": "2025-08-29T16:49:05.610039Z",
     "iopub.status.busy": "2025-08-29T16:49:05.608781Z",
     "iopub.status.idle": "2025-08-29T16:49:05.621915Z",
     "shell.execute_reply": "2025-08-29T16:49:05.621616Z"
    },
    "papermill": {
     "duration": 0.03238,
     "end_time": "2025-08-29T16:49:05.622053",
     "exception": false,
     "start_time": "2025-08-29T16:49:05.589673",
     "status": "completed"
    },
    "tags": []
   },
   "outputs": [],
   "source": [
    "print (df)"
   ]
  },
  {
   "cell_type": "markdown",
   "id": "a9143581",
   "metadata": {
    "papermill": {
     "duration": 0.009444,
     "end_time": "2025-08-29T16:49:05.643700",
     "exception": false,
     "start_time": "2025-08-29T16:49:05.634256",
     "status": "completed"
    },
    "tags": []
   },
   "source": [
    "# Configuración de Spark y preparación de datos"
   ]
  },
  {
   "cell_type": "code",
   "execution_count": null,
   "id": "436f33f5",
   "metadata": {
    "ExecuteTime": {
     "end_time": "2025-07-19T14:34:40.666100Z",
     "start_time": "2025-07-19T14:33:09.261662Z"
    },
    "execution": {
     "iopub.execute_input": "2025-08-29T16:49:05.677806Z",
     "iopub.status.busy": "2025-08-29T16:49:05.676589Z",
     "iopub.status.idle": "2025-08-29T16:50:05.202863Z",
     "shell.execute_reply": "2025-08-29T16:50:05.203362Z"
    },
    "papermill": {
     "duration": 59.546182,
     "end_time": "2025-08-29T16:50:05.203738",
     "exception": false,
     "start_time": "2025-08-29T16:49:05.657556",
     "status": "completed"
    },
    "tags": []
   },
   "outputs": [],
   "source": [
    "from pyspark.sql import SparkSession\n",
    "from pyspark import SparkContext\n",
    "from pyspark.ml.feature import StringIndexer, OneHotEncoder, VectorAssembler\n",
    "from pyspark.ml.regression import GBTRegressor\n",
    "from pyspark.ml import Pipeline\n",
    "from pyspark.ml.evaluation import RegressionEvaluator\n",
    "from pyspark.ml.tuning import ParamGridBuilder, TrainValidationSplit\n",
    "\n",
    "# Cerrar contexto anterior si está activo\n",
    "if SparkContext._active_spark_context:\n",
    "    SparkContext._active_spark_context.stop()\n",
    "\n",
    "# SparkSession apuntando al cluster\n",
    "spark = (\n",
    "    SparkSession.builder.appName(\"Create-model-DeliveryDurationGBT-Tuned-Light\")\n",
    "    .master(\"spark://agile:7077\")\n",
    "    .config(\"spark.driver.bindAddress\", \"0.0.0.0\")\n",
    "    .getOrCreate()\n",
    ")\n",
    "\n",
    "sc = spark.sparkContext\n",
    "sc.setLogLevel(\"ERROR\")\n",
    "\n",
    "# Añadir columnas derivadas en pandas antes de pasar a Spark\n",
    "df[\"es_fin_de_semana\"] = df[\"day_of_week\"].isin([\"Saturday\", \"Sunday\"]).astype(int)\n",
    "df[\"es_hora_punta\"] = df[\"hour_of_day\"].between(13, 15) | df[\"hour_of_day\"].between(20, 22)\n",
    "df[\"es_hora_punta\"] = df[\"es_hora_punta\"].astype(int)\n",
    "\n",
    "# Crear DataFrame en Spark\n",
    "df_spark = spark.createDataFrame(df)\n",
    "\n",
    "# Variables\n",
    "categorical_cols = ['payment_method', 'discounts_and_offers', 'day_of_week', 'hour_of_day']\n",
    "numeric_cols = [\n",
    "    'order_value', 'delivery_fee', 'commission_fee', 'payment_processing_fee',\n",
    "    'refunds/chargebacks', 'discount_value', 'has_discount', 'refunded',\n",
    "    'es_fin_de_semana', 'es_hora_punta'\n",
    "]\n",
    "target = 'delivery_duration_(min)'\n",
    "\n",
    "# Indexado y one-hot\n",
    "indexers = [StringIndexer(inputCol=col, outputCol=col + \"_idx\", handleInvalid=\"keep\") for col in categorical_cols]\n",
    "encoders = [OneHotEncoder(inputCol=col + \"_idx\", outputCol=col + \"_vec\") for col in categorical_cols]\n",
    "\n",
    "# Vector de features\n",
    "assembler = VectorAssembler(\n",
    "    inputCols=numeric_cols + [col + \"_vec\" for col in categorical_cols],\n",
    "    outputCol=\"features\"\n",
    ")\n",
    "\n",
    "# Modelo\n",
    "regressor = GBTRegressor(featuresCol=\"features\", labelCol=target)\n",
    "\n",
    "# Pipeline\n",
    "pipeline = Pipeline(stages=indexers + encoders + [assembler, regressor])\n",
    "\n",
    "# Grid de hiperparámetros ligera\n",
    "paramGrid = ParamGridBuilder() \\\n",
    "    .addGrid(regressor.maxDepth, [5]) \\\n",
    "    .addGrid(regressor.maxIter, [20, 40]) \\\n",
    "    .build()\n",
    "\n",
    "# Train-validation split\n",
    "tvs = TrainValidationSplit(\n",
    "    estimator=pipeline,\n",
    "    estimatorParamMaps=paramGrid,\n",
    "    evaluator=RegressionEvaluator(labelCol=target, predictionCol=\"prediction\", metricName=\"rmse\"),\n",
    "    trainRatio=0.8\n",
    ")\n",
    "\n",
    "# Split de datos\n",
    "train_data, test_data = df_spark.randomSplit([0.8, 0.2], seed=42)\n",
    "\n",
    "# Entrenamiento\n",
    "# tvs_model = tvs.fit(train_data)\n",
    "tvs_model = pipeline.fit(train_data)\n",
    "\n",
    "# Evaluación\n",
    "predictions = tvs_model.transform(test_data)\n",
    "rmse = RegressionEvaluator(labelCol=target, predictionCol=\"prediction\", metricName=\"rmse\").evaluate(predictions)\n",
    "\n",
    "print(\"✅ Modelo mejorado con TrainValidationSplit\")\n",
    "print(f\"📉 RMSE final: {rmse:.2f}\")"
   ]
  },
  {
   "cell_type": "code",
   "execution_count": null,
   "id": "a016f7ac",
   "metadata": {
    "execution": {
     "iopub.execute_input": "2025-08-29T16:50:05.245940Z",
     "iopub.status.busy": "2025-08-29T16:50:05.245554Z",
     "iopub.status.idle": "2025-08-29T16:50:05.255584Z",
     "shell.execute_reply": "2025-08-29T16:50:05.255298Z"
    },
    "papermill": {
     "duration": 0.036415,
     "end_time": "2025-08-29T16:50:05.255654",
     "exception": false,
     "start_time": "2025-08-29T16:50:05.219239",
     "status": "completed"
    },
    "tags": []
   },
   "outputs": [],
   "source": [
    "df_spark.printSchema()"
   ]
  },
  {
   "cell_type": "markdown",
   "id": "7259939a",
   "metadata": {
    "papermill": {
     "duration": 0.010666,
     "end_time": "2025-08-29T16:50:05.277071",
     "exception": false,
     "start_time": "2025-08-29T16:50:05.266405",
     "status": "completed"
    },
    "tags": []
   },
   "source": [
    "### Evaluación del modelo"
   ]
  },
  {
   "cell_type": "code",
   "execution_count": null,
   "id": "fe748dca",
   "metadata": {
    "ExecuteTime": {
     "end_time": "2025-07-19T14:36:29.489847Z",
     "start_time": "2025-07-19T14:36:26.618289Z"
    },
    "execution": {
     "iopub.execute_input": "2025-08-29T16:50:05.304240Z",
     "iopub.status.busy": "2025-08-29T16:50:05.303851Z",
     "iopub.status.idle": "2025-08-29T16:50:06.329837Z",
     "shell.execute_reply": "2025-08-29T16:50:06.330079Z"
    },
    "papermill": {
     "duration": 1.040611,
     "end_time": "2025-08-29T16:50:06.330197",
     "exception": false,
     "start_time": "2025-08-29T16:50:05.289586",
     "status": "completed"
    },
    "tags": []
   },
   "outputs": [],
   "source": [
    "import pandas as pd\n",
    "import matplotlib.pyplot as plt\n",
    "\n",
    "# Convertimos a Pandas para visualización\n",
    "preds_pd = predictions.select(\"delivery_duration_(min)\", \"prediction\").toPandas()\n",
    "\n",
    "# Plot real vs predicho\n",
    "plt.figure(figsize=(6,6))\n",
    "plt.scatter(preds_pd[\"delivery_duration_(min)\"], preds_pd[\"prediction\"], alpha=0.5)\n",
    "plt.plot([0, preds_pd.max().max()], [0, preds_pd.max().max()], 'r--')\n",
    "plt.xlabel(\"Valor real\")\n",
    "plt.ylabel(\"Predicción\")\n",
    "plt.title(\"Predicción vs Real (Duración en minutos)\")\n",
    "plt.grid(True)\n",
    "plt.show()"
   ]
  },
  {
   "cell_type": "code",
   "execution_count": null,
   "id": "4339fac5",
   "metadata": {
    "ExecuteTime": {
     "end_time": "2025-07-19T14:36:30.651045Z",
     "start_time": "2025-07-19T14:36:29.555718Z"
    },
    "execution": {
     "iopub.execute_input": "2025-08-29T16:50:06.401426Z",
     "iopub.status.busy": "2025-08-29T16:50:06.400262Z",
     "iopub.status.idle": "2025-08-29T16:50:06.942022Z",
     "shell.execute_reply": "2025-08-29T16:50:06.941664Z"
    },
    "papermill": {
     "duration": 0.591131,
     "end_time": "2025-08-29T16:50:06.942143",
     "exception": false,
     "start_time": "2025-08-29T16:50:06.351012",
     "status": "completed"
    },
    "tags": []
   },
   "outputs": [],
   "source": [
    "# Mostrar predicciones reales vs. predichas\n",
    "predictions.select('delivery_duration_(min)', 'prediction').show(10)"
   ]
  },
  {
   "cell_type": "markdown",
   "id": "20d47d3e",
   "metadata": {
    "papermill": {
     "duration": 0.010136,
     "end_time": "2025-08-29T16:50:06.963898",
     "exception": false,
     "start_time": "2025-08-29T16:50:06.953762",
     "status": "completed"
    },
    "tags": []
   },
   "source": [
    "### Guardado del modelo y transformadores"
   ]
  },
  {
   "cell_type": "code",
   "execution_count": null,
   "id": "c1fd0f16",
   "metadata": {
    "execution": {
     "iopub.execute_input": "2025-08-29T16:50:06.991404Z",
     "iopub.status.busy": "2025-08-29T16:50:06.991031Z",
     "iopub.status.idle": "2025-08-29T16:50:29.246115Z",
     "shell.execute_reply": "2025-08-29T16:50:29.246524Z"
    },
    "papermill": {
     "duration": 22.272523,
     "end_time": "2025-08-29T16:50:29.246982",
     "exception": false,
     "start_time": "2025-08-29T16:50:06.974459",
     "status": "completed"
    },
    "tags": []
   },
   "outputs": [],
   "source": [
    "import os\n",
    "base_path = \"./models\"\n",
    "os.makedirs(base_path, exist_ok=True)\n",
    "\n",
    "# Guarda el VectorAssembler\n",
    "assembler.write().overwrite().save(f\"{base_path}/vector_assembler.bin\")\n",
    "\n",
    "# Guarda todos los StringIndexer\n",
    "for idx, indexer_model in enumerate(indexers):\n",
    "    indexer_model.write().overwrite().save(f\"{base_path}/string_indexer_{idx}.bin\")\n",
    "\n",
    "# Guarda todos los OneHotEncoder\n",
    "for idx, encoder_model in enumerate(encoders):\n",
    "    encoder_model.write().overwrite().save(f\"{base_path}/one_hot_encoder_{idx}.bin\")\n",
    "\n",
    "# Guarda el modelo entrenado\n",
    "tvs_model.write().overwrite().save(f\"{base_path}/pipeline_model.bin\")"
   ]
  }
 ],
 "metadata": {
  "colab": {
   "name": "Food Delivery: Timing is everything",
   "provenance": []
  },
  "kaggle": {
   "accelerator": "none",
   "dataSources": [
    {
     "datasetId": 5072200,
     "sourceId": 8499662,
     "sourceType": "datasetVersion"
    }
   ],
   "dockerImageVersionId": 30698,
   "isGpuEnabled": false,
   "isInternetEnabled": true,
   "language": "python",
   "sourceType": "notebook"
  },
  "kernelspec": {
   "display_name": "Python 3 (ipykernel)",
   "language": "python",
   "name": "python3"
  },
  "language_info": {
   "codemirror_mode": {
    "name": "ipython",
    "version": 3
   },
   "file_extension": ".py",
   "mimetype": "text/x-python",
   "name": "python",
   "nbconvert_exporter": "python",
   "pygments_lexer": "ipython3",
   "version": "3.9.7"
  },
  "papermill": {
   "default_parameters": {},
   "duration": 100.901429,
   "end_time": "2025-08-29T16:50:29.909366",
   "environment_variables": {},
   "exception": null,
   "input_path": "/home/jovyan/Food_delivery/Analysis.ipynb",
   "output_path": "/home/jovyan/Food_delivery/Analysis.ipynb",
   "parameters": {},
   "start_time": "2025-08-29T16:48:49.007937",
   "version": "2.6.0"
  }
 },
 "nbformat": 4,
 "nbformat_minor": 5
}
