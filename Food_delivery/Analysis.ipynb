{
 "cells": [
  {
   "cell_type": "markdown",
   "id": "7784514e",
   "metadata": {
    "papermill": {
     "duration": 0.016838,
     "end_time": "2025-08-28T18:09:46.009512",
     "exception": false,
     "start_time": "2025-08-28T18:09:45.992674",
     "status": "completed"
    },
    "tags": []
   },
   "source": [
    "# Instalación de dependencias"
   ]
  },
  {
   "cell_type": "code",
   "execution_count": 1,
   "id": "f8e18825",
   "metadata": {
    "ExecuteTime": {
     "end_time": "2025-07-19T14:33:05.760043Z",
     "start_time": "2025-07-19T14:33:04.143086Z"
    },
    "execution": {
     "iopub.execute_input": "2025-08-28T18:09:46.032417Z",
     "iopub.status.busy": "2025-08-28T18:09:46.032076Z",
     "iopub.status.idle": "2025-08-28T18:09:47.856783Z",
     "shell.execute_reply": "2025-08-28T18:09:47.857269Z"
    },
    "papermill": {
     "duration": 1.837734,
     "end_time": "2025-08-28T18:09:47.858349",
     "exception": false,
     "start_time": "2025-08-28T18:09:46.020615",
     "status": "completed"
    },
    "tags": []
   },
   "outputs": [
    {
     "name": "stdout",
     "output_type": "stream",
     "text": [
      "Collecting kagglehub\r\n",
      "  Using cached kagglehub-0.3.13-py3-none-any.whl (68 kB)\r\n"
     ]
    },
    {
     "name": "stdout",
     "output_type": "stream",
     "text": [
      "Requirement already satisfied: packaging in /opt/conda/lib/python3.9/site-packages (from kagglehub) (21.0)\r\n",
      "Requirement already satisfied: requests in /opt/conda/lib/python3.9/site-packages (from kagglehub) (2.26.0)\r\n",
      "Requirement already satisfied: tqdm in /opt/conda/lib/python3.9/site-packages (from kagglehub) (4.62.3)\r\n",
      "Requirement already satisfied: pyyaml in /opt/conda/lib/python3.9/site-packages (from kagglehub) (6.0)\r\n",
      "Requirement already satisfied: pyparsing>=2.0.2 in /opt/conda/lib/python3.9/site-packages (from packaging->kagglehub) (3.0.1)\r\n",
      "Requirement already satisfied: idna<4,>=2.5 in /opt/conda/lib/python3.9/site-packages (from requests->kagglehub) (3.3)\r\n",
      "Requirement already satisfied: urllib3<1.27,>=1.21.1 in /opt/conda/lib/python3.9/site-packages (from requests->kagglehub) (1.26.7)\r\n",
      "Requirement already satisfied: certifi>=2017.4.17 in /opt/conda/lib/python3.9/site-packages (from requests->kagglehub) (2021.10.8)\r\n",
      "Requirement already satisfied: charset-normalizer~=2.0.0 in /opt/conda/lib/python3.9/site-packages (from requests->kagglehub) (2.0.7)\r\n"
     ]
    },
    {
     "name": "stdout",
     "output_type": "stream",
     "text": [
      "Installing collected packages: kagglehub\r\n"
     ]
    },
    {
     "name": "stdout",
     "output_type": "stream",
     "text": [
      "Successfully installed kagglehub-0.3.13\r\n",
      "\u001b[33mWARNING: Running pip as the 'root' user can result in broken permissions and conflicting behaviour with the system package manager. It is recommended to use a virtual environment instead: https://pip.pypa.io/warnings/venv\u001b[0m\r\n"
     ]
    },
    {
     "name": "stdout",
     "output_type": "stream",
     "text": [
      "Note: you may need to restart the kernel to use updated packages.\n"
     ]
    }
   ],
   "source": [
    "pip install kagglehub"
   ]
  },
  {
   "cell_type": "code",
   "execution_count": 2,
   "id": "26274433",
   "metadata": {
    "execution": {
     "iopub.execute_input": "2025-08-28T18:09:47.901857Z",
     "iopub.status.busy": "2025-08-28T18:09:47.899753Z",
     "iopub.status.idle": "2025-08-28T18:09:53.575805Z",
     "shell.execute_reply": "2025-08-28T18:09:53.576204Z"
    },
    "papermill": {
     "duration": 5.707994,
     "end_time": "2025-08-28T18:09:53.576489",
     "exception": false,
     "start_time": "2025-08-28T18:09:47.868495",
     "status": "completed"
    },
    "tags": []
   },
   "outputs": [
    {
     "name": "stdout",
     "output_type": "stream",
     "text": [
      "Requirement already satisfied: pandas in /opt/conda/lib/python3.9/site-packages (1.1.5)\r\n"
     ]
    },
    {
     "name": "stdout",
     "output_type": "stream",
     "text": [
      "Collecting pandas\r\n"
     ]
    },
    {
     "name": "stdout",
     "output_type": "stream",
     "text": [
      "  Using cached pandas-2.3.2-cp39-cp39-manylinux_2_17_x86_64.manylinux2014_x86_64.whl (12.4 MB)\r\n"
     ]
    },
    {
     "name": "stdout",
     "output_type": "stream",
     "text": [
      "Requirement already satisfied: python-dateutil>=2.8.2 in /opt/conda/lib/python3.9/site-packages (from pandas) (2.8.2)\r\n",
      "Requirement already satisfied: pytz>=2020.1 in /opt/conda/lib/python3.9/site-packages (from pandas) (2021.3)\r\n",
      "Requirement already satisfied: numpy>=1.22.4 in /opt/conda/lib/python3.9/site-packages (from pandas) (1.26.4)\r\n"
     ]
    },
    {
     "name": "stdout",
     "output_type": "stream",
     "text": [
      "Collecting tzdata>=2022.7\r\n",
      "  Using cached tzdata-2025.2-py2.py3-none-any.whl (347 kB)\r\n",
      "Requirement already satisfied: six>=1.5 in /opt/conda/lib/python3.9/site-packages (from python-dateutil>=2.8.2->pandas) (1.16.0)\r\n"
     ]
    },
    {
     "name": "stdout",
     "output_type": "stream",
     "text": [
      "Installing collected packages: tzdata, pandas\r\n"
     ]
    },
    {
     "name": "stdout",
     "output_type": "stream",
     "text": [
      "  Attempting uninstall: pandas\r\n",
      "    Found existing installation: pandas 1.1.5\r\n"
     ]
    },
    {
     "name": "stdout",
     "output_type": "stream",
     "text": [
      "    Uninstalling pandas-1.1.5:\r\n"
     ]
    },
    {
     "name": "stdout",
     "output_type": "stream",
     "text": [
      "      Successfully uninstalled pandas-1.1.5\r\n"
     ]
    },
    {
     "name": "stdout",
     "output_type": "stream",
     "text": [
      "Successfully installed pandas-2.3.2 tzdata-2025.2\r\n",
      "\u001b[33mWARNING: Running pip as the 'root' user can result in broken permissions and conflicting behaviour with the system package manager. It is recommended to use a virtual environment instead: https://pip.pypa.io/warnings/venv\u001b[0m\r\n"
     ]
    },
    {
     "name": "stdout",
     "output_type": "stream",
     "text": [
      "Note: you may need to restart the kernel to use updated packages.\n"
     ]
    }
   ],
   "source": [
    "pip install --upgrade pandas"
   ]
  },
  {
   "cell_type": "markdown",
   "id": "09b82e54",
   "metadata": {
    "papermill": {
     "duration": 0.008994,
     "end_time": "2025-08-28T18:09:53.595389",
     "exception": false,
     "start_time": "2025-08-28T18:09:53.586395",
     "status": "completed"
    },
    "tags": []
   },
   "source": [
    "# Descarga del dataset"
   ]
  },
  {
   "cell_type": "code",
   "execution_count": 3,
   "id": "4abbc559",
   "metadata": {
    "execution": {
     "iopub.execute_input": "2025-08-28T18:09:53.641102Z",
     "iopub.status.busy": "2025-08-28T18:09:53.640517Z",
     "iopub.status.idle": "2025-08-28T18:09:54.218312Z",
     "shell.execute_reply": "2025-08-28T18:09:54.218647Z"
    },
    "papermill": {
     "duration": 0.610403,
     "end_time": "2025-08-28T18:09:54.218803",
     "exception": false,
     "start_time": "2025-08-28T18:09:53.608400",
     "status": "completed"
    },
    "tags": []
   },
   "outputs": [
    {
     "name": "stdout",
     "output_type": "stream",
     "text": [
      "Archivo encontrado: /home/jovyan/.cache/kagglehub/datasets/romanniki/food-delivery-cost-and-profitability/versions/1/food_orders_new_delhi (1).csv\n"
     ]
    }
   ],
   "source": [
    "import os\n",
    "import kagglehub\n",
    "\n",
    "dataset_path = kagglehub.dataset_download(\"romanniki/food-delivery-cost-and-profitability\")\n",
    "\n",
    "# Mostrar todos los archivos encontrados\n",
    "for root, dirs, files in os.walk(dataset_path):\n",
    "    for file in files:\n",
    "        print(\"Archivo encontrado:\", os.path.join(root, file))"
   ]
  },
  {
   "cell_type": "code",
   "execution_count": 4,
   "id": "4a5ebaea",
   "metadata": {
    "ExecuteTime": {
     "end_time": "2025-07-19T14:33:06.366181Z",
     "start_time": "2025-07-19T14:33:05.839196Z"
    },
    "execution": {
     "iopub.execute_input": "2025-08-28T18:09:54.240698Z",
     "iopub.status.busy": "2025-08-28T18:09:54.240108Z",
     "iopub.status.idle": "2025-08-28T18:09:54.517280Z",
     "shell.execute_reply": "2025-08-28T18:09:54.518307Z"
    },
    "id": "DZiXESZ8UiEb",
    "papermill": {
     "duration": 0.29127,
     "end_time": "2025-08-28T18:09:54.518450",
     "exception": false,
     "start_time": "2025-08-28T18:09:54.227180",
     "status": "completed"
    },
    "tags": []
   },
   "outputs": [
    {
     "name": "stdout",
     "output_type": "stream",
     "text": [
      "Data source import complete.\n",
      "Archivo encontrado en: /home/jovyan/.cache/kagglehub/datasets/romanniki/food-delivery-cost-and-profitability/versions/1/food_orders_new_delhi (1).csv\n"
     ]
    }
   ],
   "source": [
    "import kagglehub\n",
    "import os\n",
    "\n",
    "# Descarga el dataset (o usa el caché)\n",
    "romanniki_food_delivery_cost_and_profitability_path = kagglehub.dataset_download('romanniki/food-delivery-cost-and-profitability')\n",
    "\n",
    "# Buscar el primer archivo dentro del dataset descargado\n",
    "for root, dirs, files in os.walk(romanniki_food_delivery_cost_and_profitability_path):\n",
    "    for file in files:\n",
    "        path_dataset = os.path.abspath(os.path.join(root, file))\n",
    "        break  # solo el primero\n",
    "    else:\n",
    "        continue\n",
    "    break\n",
    "\n",
    "print('Data source import complete.')\n",
    "print(\"Archivo encontrado en:\", path_dataset)"
   ]
  },
  {
   "cell_type": "markdown",
   "id": "664711c0",
   "metadata": {
    "papermill": {
     "duration": 0.014803,
     "end_time": "2025-08-28T18:09:54.540307",
     "exception": false,
     "start_time": "2025-08-28T18:09:54.525504",
     "status": "completed"
    },
    "tags": []
   },
   "source": [
    "# Librerías necesarias"
   ]
  },
  {
   "cell_type": "code",
   "execution_count": 5,
   "id": "29ccb55a",
   "metadata": {
    "ExecuteTime": {
     "end_time": "2025-07-19T14:33:06.391946Z",
     "start_time": "2025-07-19T14:33:06.388433Z"
    },
    "execution": {
     "iopub.execute_input": "2025-08-28T18:09:54.558187Z",
     "iopub.status.busy": "2025-08-28T18:09:54.557734Z",
     "iopub.status.idle": "2025-08-28T18:09:55.727758Z",
     "shell.execute_reply": "2025-08-28T18:09:55.728068Z"
    },
    "papermill": {
     "duration": 1.181876,
     "end_time": "2025-08-28T18:09:55.728287",
     "exception": false,
     "start_time": "2025-08-28T18:09:54.546411",
     "status": "completed"
    },
    "tags": []
   },
   "outputs": [
    {
     "name": "stderr",
     "output_type": "stream",
     "text": [
      "/opt/conda/lib/python3.9/site-packages/pandas/core/computation/expressions.py:21: UserWarning: Pandas requires version '2.8.4' or newer of 'numexpr' (version '2.7.3' currently installed).\n",
      "  from pandas.core.computation.check import NUMEXPR_INSTALLED\n",
      "/opt/conda/lib/python3.9/site-packages/pandas/core/arrays/masked.py:61: UserWarning: Pandas requires version '1.3.6' or newer of 'bottleneck' (version '1.3.2' currently installed).\n",
      "  from pandas.core import (\n"
     ]
    },
    {
     "name": "stderr",
     "output_type": "stream",
     "text": [
      "/opt/conda/lib/python3.9/site-packages/scipy/__init__.py:146: UserWarning: A NumPy version >=1.16.5 and <1.23.0 is required for this version of SciPy (detected version 1.26.4\n",
      "  warnings.warn(f\"A NumPy version >={np_minversion} and <{np_maxversion}\"\n"
     ]
    }
   ],
   "source": [
    "import numpy as np\n",
    "import pandas as pd\n",
    "import matplotlib.pyplot as plt\n",
    "import seaborn as sns\n",
    "\n",
    "import warnings\n",
    "warnings.filterwarnings('ignore')"
   ]
  },
  {
   "cell_type": "markdown",
   "id": "c567da77",
   "metadata": {
    "papermill": {
     "duration": 0.006563,
     "end_time": "2025-08-28T18:09:55.741716",
     "exception": false,
     "start_time": "2025-08-28T18:09:55.735153",
     "status": "completed"
    },
    "tags": []
   },
   "source": [
    "# Exploración Inicial (EDA)"
   ]
  },
  {
   "cell_type": "code",
   "execution_count": 6,
   "id": "50c79229",
   "metadata": {
    "ExecuteTime": {
     "end_time": "2025-07-19T14:33:06.440900Z",
     "start_time": "2025-07-19T14:33:06.406096Z"
    },
    "execution": {
     "iopub.execute_input": "2025-08-28T18:09:55.757855Z",
     "iopub.status.busy": "2025-08-28T18:09:55.757503Z",
     "iopub.status.idle": "2025-08-28T18:09:55.785398Z",
     "shell.execute_reply": "2025-08-28T18:09:55.785133Z"
    },
    "papermill": {
     "duration": 0.037684,
     "end_time": "2025-08-28T18:09:55.785466",
     "exception": false,
     "start_time": "2025-08-28T18:09:55.747782",
     "status": "completed"
    },
    "tags": []
   },
   "outputs": [
    {
     "data": {
      "text/plain": [
       "(1000, 12)"
      ]
     },
     "execution_count": 6,
     "metadata": {},
     "output_type": "execute_result"
    }
   ],
   "source": [
    "df = pd.read_csv(path_dataset)\n",
    "df.shape"
   ]
  },
  {
   "cell_type": "code",
   "execution_count": 7,
   "id": "781b4e0c",
   "metadata": {
    "ExecuteTime": {
     "end_time": "2025-07-19T14:33:06.519151Z",
     "start_time": "2025-07-19T14:33:06.456124Z"
    },
    "execution": {
     "iopub.execute_input": "2025-08-28T18:09:55.818002Z",
     "iopub.status.busy": "2025-08-28T18:09:55.815607Z",
     "iopub.status.idle": "2025-08-28T18:09:55.872058Z",
     "shell.execute_reply": "2025-08-28T18:09:55.872345Z"
    },
    "papermill": {
     "duration": 0.081195,
     "end_time": "2025-08-28T18:09:55.872465",
     "exception": false,
     "start_time": "2025-08-28T18:09:55.791270",
     "status": "completed"
    },
    "tags": []
   },
   "outputs": [
    {
     "data": {
      "text/html": [
       "<div>\n",
       "<style scoped>\n",
       "    .dataframe tbody tr th:only-of-type {\n",
       "        vertical-align: middle;\n",
       "    }\n",
       "\n",
       "    .dataframe tbody tr th {\n",
       "        vertical-align: top;\n",
       "    }\n",
       "\n",
       "    .dataframe thead th {\n",
       "        text-align: right;\n",
       "    }\n",
       "</style>\n",
       "<table border=\"1\" class=\"dataframe\">\n",
       "  <thead>\n",
       "    <tr style=\"text-align: right;\">\n",
       "      <th></th>\n",
       "      <th>Order ID</th>\n",
       "      <th>Customer ID</th>\n",
       "      <th>Restaurant ID</th>\n",
       "      <th>Order Date and Time</th>\n",
       "      <th>Delivery Date and Time</th>\n",
       "      <th>Order Value</th>\n",
       "      <th>Delivery Fee</th>\n",
       "      <th>Payment Method</th>\n",
       "      <th>Discounts and Offers</th>\n",
       "      <th>Commission Fee</th>\n",
       "      <th>Payment Processing Fee</th>\n",
       "      <th>Refunds/Chargebacks</th>\n",
       "      <th>Delivery Duration (min)</th>\n",
       "      <th>day_of_week</th>\n",
       "      <th>hour_of_day</th>\n",
       "      <th>has_discount</th>\n",
       "      <th>refunded</th>\n",
       "    </tr>\n",
       "  </thead>\n",
       "  <tbody>\n",
       "    <tr>\n",
       "      <th>0</th>\n",
       "      <td>1</td>\n",
       "      <td>C8270</td>\n",
       "      <td>R2924</td>\n",
       "      <td>2024-02-01 01:11:52</td>\n",
       "      <td>2024-02-01 02:39:52</td>\n",
       "      <td>1914</td>\n",
       "      <td>0</td>\n",
       "      <td>Credit Card</td>\n",
       "      <td>5% on App</td>\n",
       "      <td>150</td>\n",
       "      <td>47</td>\n",
       "      <td>0</td>\n",
       "      <td>88.0</td>\n",
       "      <td>Thursday</td>\n",
       "      <td>1</td>\n",
       "      <td>True</td>\n",
       "      <td>False</td>\n",
       "    </tr>\n",
       "    <tr>\n",
       "      <th>1</th>\n",
       "      <td>2</td>\n",
       "      <td>C1860</td>\n",
       "      <td>R2054</td>\n",
       "      <td>2024-02-02 22:11:04</td>\n",
       "      <td>2024-02-02 22:46:04</td>\n",
       "      <td>986</td>\n",
       "      <td>40</td>\n",
       "      <td>Digital Wallet</td>\n",
       "      <td>10%</td>\n",
       "      <td>198</td>\n",
       "      <td>23</td>\n",
       "      <td>0</td>\n",
       "      <td>35.0</td>\n",
       "      <td>Friday</td>\n",
       "      <td>22</td>\n",
       "      <td>True</td>\n",
       "      <td>False</td>\n",
       "    </tr>\n",
       "    <tr>\n",
       "      <th>2</th>\n",
       "      <td>3</td>\n",
       "      <td>C6390</td>\n",
       "      <td>R2870</td>\n",
       "      <td>2024-01-31 05:54:35</td>\n",
       "      <td>2024-01-31 06:52:35</td>\n",
       "      <td>937</td>\n",
       "      <td>30</td>\n",
       "      <td>Cash on Delivery</td>\n",
       "      <td>15% New User</td>\n",
       "      <td>195</td>\n",
       "      <td>45</td>\n",
       "      <td>0</td>\n",
       "      <td>58.0</td>\n",
       "      <td>Wednesday</td>\n",
       "      <td>5</td>\n",
       "      <td>True</td>\n",
       "      <td>False</td>\n",
       "    </tr>\n",
       "    <tr>\n",
       "      <th>3</th>\n",
       "      <td>4</td>\n",
       "      <td>C6191</td>\n",
       "      <td>R2642</td>\n",
       "      <td>2024-01-16 22:52:49</td>\n",
       "      <td>2024-01-16 23:38:49</td>\n",
       "      <td>1463</td>\n",
       "      <td>50</td>\n",
       "      <td>Cash on Delivery</td>\n",
       "      <td>NaN</td>\n",
       "      <td>146</td>\n",
       "      <td>27</td>\n",
       "      <td>0</td>\n",
       "      <td>46.0</td>\n",
       "      <td>Tuesday</td>\n",
       "      <td>22</td>\n",
       "      <td>True</td>\n",
       "      <td>False</td>\n",
       "    </tr>\n",
       "    <tr>\n",
       "      <th>4</th>\n",
       "      <td>5</td>\n",
       "      <td>C6734</td>\n",
       "      <td>R2799</td>\n",
       "      <td>2024-01-29 01:19:30</td>\n",
       "      <td>2024-01-29 02:48:30</td>\n",
       "      <td>1992</td>\n",
       "      <td>30</td>\n",
       "      <td>Cash on Delivery</td>\n",
       "      <td>50 off Promo</td>\n",
       "      <td>130</td>\n",
       "      <td>50</td>\n",
       "      <td>0</td>\n",
       "      <td>89.0</td>\n",
       "      <td>Monday</td>\n",
       "      <td>1</td>\n",
       "      <td>True</td>\n",
       "      <td>False</td>\n",
       "    </tr>\n",
       "    <tr>\n",
       "      <th>...</th>\n",
       "      <td>...</td>\n",
       "      <td>...</td>\n",
       "      <td>...</td>\n",
       "      <td>...</td>\n",
       "      <td>...</td>\n",
       "      <td>...</td>\n",
       "      <td>...</td>\n",
       "      <td>...</td>\n",
       "      <td>...</td>\n",
       "      <td>...</td>\n",
       "      <td>...</td>\n",
       "      <td>...</td>\n",
       "      <td>...</td>\n",
       "      <td>...</td>\n",
       "      <td>...</td>\n",
       "      <td>...</td>\n",
       "      <td>...</td>\n",
       "    </tr>\n",
       "    <tr>\n",
       "      <th>995</th>\n",
       "      <td>996</td>\n",
       "      <td>C6232</td>\n",
       "      <td>R2129</td>\n",
       "      <td>2024-01-14 05:57:00</td>\n",
       "      <td>2024-01-14 06:39:00</td>\n",
       "      <td>825</td>\n",
       "      <td>0</td>\n",
       "      <td>Digital Wallet</td>\n",
       "      <td>5% on App</td>\n",
       "      <td>165</td>\n",
       "      <td>47</td>\n",
       "      <td>50</td>\n",
       "      <td>42.0</td>\n",
       "      <td>Sunday</td>\n",
       "      <td>5</td>\n",
       "      <td>True</td>\n",
       "      <td>True</td>\n",
       "    </tr>\n",
       "    <tr>\n",
       "      <th>996</th>\n",
       "      <td>997</td>\n",
       "      <td>C6797</td>\n",
       "      <td>R2742</td>\n",
       "      <td>2024-01-28 08:50:43</td>\n",
       "      <td>2024-01-28 10:10:43</td>\n",
       "      <td>1627</td>\n",
       "      <td>50</td>\n",
       "      <td>Cash on Delivery</td>\n",
       "      <td>NaN</td>\n",
       "      <td>110</td>\n",
       "      <td>42</td>\n",
       "      <td>0</td>\n",
       "      <td>80.0</td>\n",
       "      <td>Sunday</td>\n",
       "      <td>8</td>\n",
       "      <td>True</td>\n",
       "      <td>False</td>\n",
       "    </tr>\n",
       "    <tr>\n",
       "      <th>997</th>\n",
       "      <td>998</td>\n",
       "      <td>C5926</td>\n",
       "      <td>R2837</td>\n",
       "      <td>2024-01-21 09:43:19</td>\n",
       "      <td>2024-01-21 10:44:19</td>\n",
       "      <td>553</td>\n",
       "      <td>20</td>\n",
       "      <td>Cash on Delivery</td>\n",
       "      <td>NaN</td>\n",
       "      <td>64</td>\n",
       "      <td>31</td>\n",
       "      <td>0</td>\n",
       "      <td>61.0</td>\n",
       "      <td>Sunday</td>\n",
       "      <td>9</td>\n",
       "      <td>True</td>\n",
       "      <td>False</td>\n",
       "    </tr>\n",
       "    <tr>\n",
       "      <th>998</th>\n",
       "      <td>999</td>\n",
       "      <td>C7016</td>\n",
       "      <td>R2144</td>\n",
       "      <td>2024-01-30 22:23:38</td>\n",
       "      <td>2024-01-31 00:07:38</td>\n",
       "      <td>1414</td>\n",
       "      <td>0</td>\n",
       "      <td>Cash on Delivery</td>\n",
       "      <td>15% New User</td>\n",
       "      <td>199</td>\n",
       "      <td>34</td>\n",
       "      <td>0</td>\n",
       "      <td>104.0</td>\n",
       "      <td>Tuesday</td>\n",
       "      <td>22</td>\n",
       "      <td>True</td>\n",
       "      <td>False</td>\n",
       "    </tr>\n",
       "    <tr>\n",
       "      <th>999</th>\n",
       "      <td>1000</td>\n",
       "      <td>C4335</td>\n",
       "      <td>R2890</td>\n",
       "      <td>2024-01-08 14:46:43</td>\n",
       "      <td>2024-01-08 15:39:43</td>\n",
       "      <td>1657</td>\n",
       "      <td>20</td>\n",
       "      <td>Digital Wallet</td>\n",
       "      <td>15% New User</td>\n",
       "      <td>180</td>\n",
       "      <td>27</td>\n",
       "      <td>100</td>\n",
       "      <td>53.0</td>\n",
       "      <td>Monday</td>\n",
       "      <td>14</td>\n",
       "      <td>True</td>\n",
       "      <td>True</td>\n",
       "    </tr>\n",
       "  </tbody>\n",
       "</table>\n",
       "<p>1000 rows × 17 columns</p>\n",
       "</div>"
      ],
      "text/plain": [
       "     Order ID Customer ID Restaurant ID Order Date and Time  \\\n",
       "0           1       C8270         R2924 2024-02-01 01:11:52   \n",
       "1           2       C1860         R2054 2024-02-02 22:11:04   \n",
       "2           3       C6390         R2870 2024-01-31 05:54:35   \n",
       "3           4       C6191         R2642 2024-01-16 22:52:49   \n",
       "4           5       C6734         R2799 2024-01-29 01:19:30   \n",
       "..        ...         ...           ...                 ...   \n",
       "995       996       C6232         R2129 2024-01-14 05:57:00   \n",
       "996       997       C6797         R2742 2024-01-28 08:50:43   \n",
       "997       998       C5926         R2837 2024-01-21 09:43:19   \n",
       "998       999       C7016         R2144 2024-01-30 22:23:38   \n",
       "999      1000       C4335         R2890 2024-01-08 14:46:43   \n",
       "\n",
       "    Delivery Date and Time  Order Value  Delivery Fee    Payment Method  \\\n",
       "0      2024-02-01 02:39:52         1914             0       Credit Card   \n",
       "1      2024-02-02 22:46:04          986            40    Digital Wallet   \n",
       "2      2024-01-31 06:52:35          937            30  Cash on Delivery   \n",
       "3      2024-01-16 23:38:49         1463            50  Cash on Delivery   \n",
       "4      2024-01-29 02:48:30         1992            30  Cash on Delivery   \n",
       "..                     ...          ...           ...               ...   \n",
       "995    2024-01-14 06:39:00          825             0    Digital Wallet   \n",
       "996    2024-01-28 10:10:43         1627            50  Cash on Delivery   \n",
       "997    2024-01-21 10:44:19          553            20  Cash on Delivery   \n",
       "998    2024-01-31 00:07:38         1414             0  Cash on Delivery   \n",
       "999    2024-01-08 15:39:43         1657            20    Digital Wallet   \n",
       "\n",
       "    Discounts and Offers  Commission Fee  Payment Processing Fee  \\\n",
       "0              5% on App             150                      47   \n",
       "1                    10%             198                      23   \n",
       "2           15% New User             195                      45   \n",
       "3                    NaN             146                      27   \n",
       "4           50 off Promo             130                      50   \n",
       "..                   ...             ...                     ...   \n",
       "995            5% on App             165                      47   \n",
       "996                  NaN             110                      42   \n",
       "997                  NaN              64                      31   \n",
       "998         15% New User             199                      34   \n",
       "999         15% New User             180                      27   \n",
       "\n",
       "     Refunds/Chargebacks  Delivery Duration (min) day_of_week  hour_of_day  \\\n",
       "0                      0                     88.0    Thursday            1   \n",
       "1                      0                     35.0      Friday           22   \n",
       "2                      0                     58.0   Wednesday            5   \n",
       "3                      0                     46.0     Tuesday           22   \n",
       "4                      0                     89.0      Monday            1   \n",
       "..                   ...                      ...         ...          ...   \n",
       "995                   50                     42.0      Sunday            5   \n",
       "996                    0                     80.0      Sunday            8   \n",
       "997                    0                     61.0      Sunday            9   \n",
       "998                    0                    104.0     Tuesday           22   \n",
       "999                  100                     53.0      Monday           14   \n",
       "\n",
       "     has_discount  refunded  \n",
       "0            True     False  \n",
       "1            True     False  \n",
       "2            True     False  \n",
       "3            True     False  \n",
       "4            True     False  \n",
       "..            ...       ...  \n",
       "995          True      True  \n",
       "996          True     False  \n",
       "997          True     False  \n",
       "998          True     False  \n",
       "999          True      True  \n",
       "\n",
       "[1000 rows x 17 columns]"
      ]
     },
     "execution_count": 7,
     "metadata": {},
     "output_type": "execute_result"
    }
   ],
   "source": [
    "\n",
    "# Convertir fechas a tipo datetime\n",
    "df['Order Date and Time'] = pd.to_datetime(df['Order Date and Time'])\n",
    "df['Delivery Date and Time'] = pd.to_datetime(df['Delivery Date and Time'])\n",
    "\n",
    "# Crear columna de tiempo de entrega en minutos\n",
    "df['Delivery Duration (min)'] = (df['Delivery Date and Time'] - df['Order Date and Time']).dt.total_seconds() / 60\n",
    "# Extraer día y hora del pedido\n",
    "df['day_of_week'] = df['Order Date and Time'].dt.day_name()\n",
    "df['hour_of_day'] = df['Order Date and Time'].dt.hour\n",
    "# Marcar si hay descuento o no\n",
    "df['has_discount'] = df['Discounts and Offers'].str.lower() != 'none'\n",
    "\n",
    "# Marcar si fue reembolsado\n",
    "df['refunded'] = df['Refunds/Chargebacks'] > 0\n",
    "df"
   ]
  },
  {
   "cell_type": "code",
   "execution_count": 8,
   "id": "d12cdd8c",
   "metadata": {
    "ExecuteTime": {
     "end_time": "2025-07-19T14:33:06.604977Z",
     "start_time": "2025-07-19T14:33:06.599652Z"
    },
    "execution": {
     "iopub.execute_input": "2025-08-28T18:09:55.894284Z",
     "iopub.status.busy": "2025-08-28T18:09:55.888163Z",
     "iopub.status.idle": "2025-08-28T18:09:55.896317Z",
     "shell.execute_reply": "2025-08-28T18:09:55.896011Z"
    },
    "papermill": {
     "duration": 0.016961,
     "end_time": "2025-08-28T18:09:55.896395",
     "exception": false,
     "start_time": "2025-08-28T18:09:55.879434",
     "status": "completed"
    },
    "tags": []
   },
   "outputs": [
    {
     "name": "stdout",
     "output_type": "stream",
     "text": [
      "Discounts and Offers\n",
      "10%             233\n",
      "50 off Promo    201\n",
      "15% New User    198\n",
      "5% on App       183\n",
      "Name: count, dtype: int64\n"
     ]
    }
   ],
   "source": [
    "print(df['Discounts and Offers'].value_counts())"
   ]
  },
  {
   "cell_type": "markdown",
   "id": "0a89081c",
   "metadata": {
    "papermill": {
     "duration": 0.006508,
     "end_time": "2025-08-28T18:09:55.909587",
     "exception": false,
     "start_time": "2025-08-28T18:09:55.903079",
     "status": "completed"
    },
    "tags": []
   },
   "source": [
    "### Cálculo del valor del descuento"
   ]
  },
  {
   "cell_type": "code",
   "execution_count": 9,
   "id": "b6a70b78",
   "metadata": {
    "ExecuteTime": {
     "end_time": "2025-07-19T14:33:06.686032Z",
     "start_time": "2025-07-19T14:33:06.658804Z"
    },
    "execution": {
     "iopub.execute_input": "2025-08-28T18:09:55.939932Z",
     "iopub.status.busy": "2025-08-28T18:09:55.928627Z",
     "iopub.status.idle": "2025-08-28T18:09:55.953608Z",
     "shell.execute_reply": "2025-08-28T18:09:55.953988Z"
    },
    "papermill": {
     "duration": 0.038127,
     "end_time": "2025-08-28T18:09:55.954102",
     "exception": false,
     "start_time": "2025-08-28T18:09:55.915975",
     "status": "completed"
    },
    "tags": []
   },
   "outputs": [
    {
     "data": {
      "text/html": [
       "<div>\n",
       "<style scoped>\n",
       "    .dataframe tbody tr th:only-of-type {\n",
       "        vertical-align: middle;\n",
       "    }\n",
       "\n",
       "    .dataframe tbody tr th {\n",
       "        vertical-align: top;\n",
       "    }\n",
       "\n",
       "    .dataframe thead th {\n",
       "        text-align: right;\n",
       "    }\n",
       "</style>\n",
       "<table border=\"1\" class=\"dataframe\">\n",
       "  <thead>\n",
       "    <tr style=\"text-align: right;\">\n",
       "      <th></th>\n",
       "      <th>Discounts and Offers</th>\n",
       "      <th>Order Value</th>\n",
       "      <th>Discount Value</th>\n",
       "    </tr>\n",
       "  </thead>\n",
       "  <tbody>\n",
       "    <tr>\n",
       "      <th>0</th>\n",
       "      <td>5% on App</td>\n",
       "      <td>1914</td>\n",
       "      <td>95.70</td>\n",
       "    </tr>\n",
       "    <tr>\n",
       "      <th>1</th>\n",
       "      <td>10%</td>\n",
       "      <td>986</td>\n",
       "      <td>98.60</td>\n",
       "    </tr>\n",
       "    <tr>\n",
       "      <th>2</th>\n",
       "      <td>15% New User</td>\n",
       "      <td>937</td>\n",
       "      <td>140.55</td>\n",
       "    </tr>\n",
       "    <tr>\n",
       "      <th>3</th>\n",
       "      <td>NaN</td>\n",
       "      <td>1463</td>\n",
       "      <td>0.00</td>\n",
       "    </tr>\n",
       "    <tr>\n",
       "      <th>4</th>\n",
       "      <td>50 off Promo</td>\n",
       "      <td>1992</td>\n",
       "      <td>50.00</td>\n",
       "    </tr>\n",
       "    <tr>\n",
       "      <th>5</th>\n",
       "      <td>10%</td>\n",
       "      <td>439</td>\n",
       "      <td>43.90</td>\n",
       "    </tr>\n",
       "    <tr>\n",
       "      <th>6</th>\n",
       "      <td>5% on App</td>\n",
       "      <td>303</td>\n",
       "      <td>15.15</td>\n",
       "    </tr>\n",
       "    <tr>\n",
       "      <th>7</th>\n",
       "      <td>10%</td>\n",
       "      <td>260</td>\n",
       "      <td>26.00</td>\n",
       "    </tr>\n",
       "    <tr>\n",
       "      <th>8</th>\n",
       "      <td>5% on App</td>\n",
       "      <td>1663</td>\n",
       "      <td>83.15</td>\n",
       "    </tr>\n",
       "    <tr>\n",
       "      <th>9</th>\n",
       "      <td>10%</td>\n",
       "      <td>491</td>\n",
       "      <td>49.10</td>\n",
       "    </tr>\n",
       "  </tbody>\n",
       "</table>\n",
       "</div>"
      ],
      "text/plain": [
       "  Discounts and Offers  Order Value  Discount Value\n",
       "0            5% on App         1914           95.70\n",
       "1                  10%          986           98.60\n",
       "2         15% New User          937          140.55\n",
       "3                  NaN         1463            0.00\n",
       "4         50 off Promo         1992           50.00\n",
       "5                  10%          439           43.90\n",
       "6            5% on App          303           15.15\n",
       "7                  10%          260           26.00\n",
       "8            5% on App         1663           83.15\n",
       "9                  10%          491           49.10"
      ]
     },
     "execution_count": 9,
     "metadata": {},
     "output_type": "execute_result"
    }
   ],
   "source": [
    "def calcular_descuento(row):\n",
    "    valor = str(row['Discounts and Offers']).lower()\n",
    "    pedido = row['Order Value']\n",
    "    \n",
    "    # Si es porcentaje, por ejemplo \"10%\" o \"5% on app\"\n",
    "    if '%' in valor:\n",
    "        try:\n",
    "            porcentaje = float(valor.split('%')[0])\n",
    "            return pedido * (porcentaje / 100)\n",
    "        except:\n",
    "            return 0\n",
    "        \n",
    "    # Si es \"50 off Promo\" u otros con valor fijo\n",
    "    elif 'off' in valor:\n",
    "        for token in valor.split():\n",
    "            try:\n",
    "                return float(token)\n",
    "            except:\n",
    "                continue\n",
    "        return 0\n",
    "\n",
    "    # Si es \"None\" u otra cosa no reconocida\n",
    "    return 0\n",
    "\n",
    "# Aplicar al DataFrame\n",
    "df['Discount Value'] = df.apply(calcular_descuento, axis=1)\n",
    "\n",
    "# Verificar\n",
    "df[['Discounts and Offers', 'Order Value', 'Discount Value']].head(10)"
   ]
  },
  {
   "cell_type": "markdown",
   "id": "820676f7",
   "metadata": {
    "papermill": {
     "duration": 0.010829,
     "end_time": "2025-08-28T18:09:55.971955",
     "exception": false,
     "start_time": "2025-08-28T18:09:55.961126",
     "status": "completed"
    },
    "tags": []
   },
   "source": [
    "### Cálculo del coste total y beneficio"
   ]
  },
  {
   "cell_type": "code",
   "execution_count": 10,
   "id": "2d4ee3f1",
   "metadata": {
    "ExecuteTime": {
     "end_time": "2025-07-19T14:33:06.744183Z",
     "start_time": "2025-07-19T14:33:06.738421Z"
    },
    "execution": {
     "iopub.execute_input": "2025-08-28T18:09:55.991987Z",
     "iopub.status.busy": "2025-08-28T18:09:55.991615Z",
     "iopub.status.idle": "2025-08-28T18:09:55.994667Z",
     "shell.execute_reply": "2025-08-28T18:09:55.994357Z"
    },
    "papermill": {
     "duration": 0.015009,
     "end_time": "2025-08-28T18:09:55.994744",
     "exception": false,
     "start_time": "2025-08-28T18:09:55.979735",
     "status": "completed"
    },
    "tags": []
   },
   "outputs": [],
   "source": [
    "df['Total Cost'] = df['Delivery Fee'] + df['Discount Value'] + df['Payment Processing Fee'] + df['Refunds/Chargebacks']"
   ]
  },
  {
   "cell_type": "code",
   "execution_count": 11,
   "id": "d94fd72f",
   "metadata": {
    "ExecuteTime": {
     "end_time": "2025-07-19T14:33:06.793022Z",
     "start_time": "2025-07-19T14:33:06.784037Z"
    },
    "execution": {
     "iopub.execute_input": "2025-08-28T18:09:56.013860Z",
     "iopub.status.busy": "2025-08-28T18:09:56.011469Z",
     "iopub.status.idle": "2025-08-28T18:09:56.016441Z",
     "shell.execute_reply": "2025-08-28T18:09:56.016167Z"
    },
    "papermill": {
     "duration": 0.015203,
     "end_time": "2025-08-28T18:09:56.016518",
     "exception": false,
     "start_time": "2025-08-28T18:09:56.001315",
     "status": "completed"
    },
    "tags": []
   },
   "outputs": [
    {
     "name": "stdout",
     "output_type": "stream",
     "text": [
      "Ganancia media por pedido: -34.05\n",
      "Pedidos con pérdida: 579\n",
      "Porcentaje con pérdida: 57.9 %\n"
     ]
    }
   ],
   "source": [
    "df['Profit'] = df['Commission Fee'] - df['Total Cost']\n",
    "\n",
    "# Estadísticas generales\n",
    "print(\"Ganancia media por pedido:\", round(df['Profit'].mean(), 2))\n",
    "print(\"Pedidos con pérdida:\", (df['Profit'] < 0).sum())\n",
    "print(\"Porcentaje con pérdida:\", round((df['Profit'] < 0).mean() * 100, 2), '%')"
   ]
  },
  {
   "cell_type": "markdown",
   "id": "e092532d",
   "metadata": {
    "papermill": {
     "duration": 0.006506,
     "end_time": "2025-08-28T18:09:56.029244",
     "exception": false,
     "start_time": "2025-08-28T18:09:56.022738",
     "status": "completed"
    },
    "tags": []
   },
   "source": [
    "### Análisis de pérdidas"
   ]
  },
  {
   "cell_type": "code",
   "execution_count": 12,
   "id": "f2c35889",
   "metadata": {
    "ExecuteTime": {
     "end_time": "2025-07-19T14:33:06.827019Z",
     "start_time": "2025-07-19T14:33:06.815908Z"
    },
    "execution": {
     "iopub.execute_input": "2025-08-28T18:09:56.045886Z",
     "iopub.status.busy": "2025-08-28T18:09:56.045514Z",
     "iopub.status.idle": "2025-08-28T18:09:56.054490Z",
     "shell.execute_reply": "2025-08-28T18:09:56.054159Z"
    },
    "papermill": {
     "duration": 0.018846,
     "end_time": "2025-08-28T18:09:56.054576",
     "exception": false,
     "start_time": "2025-08-28T18:09:56.035730",
     "status": "completed"
    },
    "tags": []
   },
   "outputs": [
    {
     "data": {
      "text/html": [
       "<div>\n",
       "<style scoped>\n",
       "    .dataframe tbody tr th:only-of-type {\n",
       "        vertical-align: middle;\n",
       "    }\n",
       "\n",
       "    .dataframe tbody tr th {\n",
       "        vertical-align: top;\n",
       "    }\n",
       "\n",
       "    .dataframe thead th {\n",
       "        text-align: right;\n",
       "    }\n",
       "</style>\n",
       "<table border=\"1\" class=\"dataframe\">\n",
       "  <thead>\n",
       "    <tr style=\"text-align: right;\">\n",
       "      <th></th>\n",
       "      <th>Order Value</th>\n",
       "      <th>Commission Fee</th>\n",
       "      <th>Total Cost</th>\n",
       "      <th>Profit</th>\n",
       "      <th>Discounts and Offers</th>\n",
       "    </tr>\n",
       "  </thead>\n",
       "  <tbody>\n",
       "    <tr>\n",
       "      <th>151</th>\n",
       "      <td>956</td>\n",
       "      <td>188</td>\n",
       "      <td>54.00</td>\n",
       "      <td>134.00</td>\n",
       "      <td>NaN</td>\n",
       "    </tr>\n",
       "    <tr>\n",
       "      <th>780</th>\n",
       "      <td>990</td>\n",
       "      <td>198</td>\n",
       "      <td>64.00</td>\n",
       "      <td>134.00</td>\n",
       "      <td>50 off Promo</td>\n",
       "    </tr>\n",
       "    <tr>\n",
       "      <th>596</th>\n",
       "      <td>203</td>\n",
       "      <td>198</td>\n",
       "      <td>63.00</td>\n",
       "      <td>135.00</td>\n",
       "      <td>NaN</td>\n",
       "    </tr>\n",
       "    <tr>\n",
       "      <th>742</th>\n",
       "      <td>1786</td>\n",
       "      <td>197</td>\n",
       "      <td>61.00</td>\n",
       "      <td>136.00</td>\n",
       "      <td>NaN</td>\n",
       "    </tr>\n",
       "    <tr>\n",
       "      <th>480</th>\n",
       "      <td>1402</td>\n",
       "      <td>198</td>\n",
       "      <td>60.00</td>\n",
       "      <td>138.00</td>\n",
       "      <td>NaN</td>\n",
       "    </tr>\n",
       "    <tr>\n",
       "      <th>857</th>\n",
       "      <td>125</td>\n",
       "      <td>193</td>\n",
       "      <td>52.25</td>\n",
       "      <td>140.75</td>\n",
       "      <td>5% on App</td>\n",
       "    </tr>\n",
       "    <tr>\n",
       "      <th>684</th>\n",
       "      <td>204</td>\n",
       "      <td>195</td>\n",
       "      <td>51.00</td>\n",
       "      <td>144.00</td>\n",
       "      <td>NaN</td>\n",
       "    </tr>\n",
       "    <tr>\n",
       "      <th>898</th>\n",
       "      <td>1173</td>\n",
       "      <td>198</td>\n",
       "      <td>42.00</td>\n",
       "      <td>156.00</td>\n",
       "      <td>NaN</td>\n",
       "    </tr>\n",
       "    <tr>\n",
       "      <th>248</th>\n",
       "      <td>1857</td>\n",
       "      <td>190</td>\n",
       "      <td>33.00</td>\n",
       "      <td>157.00</td>\n",
       "      <td>NaN</td>\n",
       "    </tr>\n",
       "    <tr>\n",
       "      <th>14</th>\n",
       "      <td>1193</td>\n",
       "      <td>192</td>\n",
       "      <td>16.00</td>\n",
       "      <td>176.00</td>\n",
       "      <td>NaN</td>\n",
       "    </tr>\n",
       "  </tbody>\n",
       "</table>\n",
       "</div>"
      ],
      "text/plain": [
       "     Order Value  Commission Fee  Total Cost  Profit Discounts and Offers\n",
       "151          956             188       54.00  134.00                  NaN\n",
       "780          990             198       64.00  134.00         50 off Promo\n",
       "596          203             198       63.00  135.00                  NaN\n",
       "742         1786             197       61.00  136.00                  NaN\n",
       "480         1402             198       60.00  138.00                  NaN\n",
       "857          125             193       52.25  140.75            5% on App\n",
       "684          204             195       51.00  144.00                  NaN\n",
       "898         1173             198       42.00  156.00                  NaN\n",
       "248         1857             190       33.00  157.00                  NaN\n",
       "14          1193             192       16.00  176.00                  NaN"
      ]
     },
     "execution_count": 12,
     "metadata": {},
     "output_type": "execute_result"
    }
   ],
   "source": [
    "# Mostrar los 10 pedidos con mayores pérdidas (menor Profit)\n",
    "top_losses = df.sort_values(by='Profit').tail(10)\n",
    "\n",
    "# Mostrar solo las columnas clave para el análisis\n",
    "top_losses[[ 'Order Value', 'Commission Fee', 'Total Cost', 'Profit', 'Discounts and Offers']]"
   ]
  },
  {
   "cell_type": "code",
   "execution_count": 13,
   "id": "f413b9d6",
   "metadata": {
    "ExecuteTime": {
     "end_time": "2025-07-19T14:33:06.874830Z",
     "start_time": "2025-07-19T14:33:06.862986Z"
    },
    "execution": {
     "iopub.execute_input": "2025-08-28T18:09:56.075710Z",
     "iopub.status.busy": "2025-08-28T18:09:56.075370Z",
     "iopub.status.idle": "2025-08-28T18:09:56.078368Z",
     "shell.execute_reply": "2025-08-28T18:09:56.078044Z"
    },
    "papermill": {
     "duration": 0.016796,
     "end_time": "2025-08-28T18:09:56.078446",
     "exception": false,
     "start_time": "2025-08-28T18:09:56.061650",
     "status": "completed"
    },
    "tags": []
   },
   "outputs": [
    {
     "name": "stdout",
     "output_type": "stream",
     "text": [
      "     Order ID Customer ID Restaurant ID Order Date and Time  \\\n",
      "0           1       C8270         R2924 2024-02-01 01:11:52   \n",
      "1           2       C1860         R2054 2024-02-02 22:11:04   \n",
      "2           3       C6390         R2870 2024-01-31 05:54:35   \n",
      "3           4       C6191         R2642 2024-01-16 22:52:49   \n",
      "4           5       C6734         R2799 2024-01-29 01:19:30   \n",
      "..        ...         ...           ...                 ...   \n",
      "995       996       C6232         R2129 2024-01-14 05:57:00   \n",
      "996       997       C6797         R2742 2024-01-28 08:50:43   \n",
      "997       998       C5926         R2837 2024-01-21 09:43:19   \n",
      "998       999       C7016         R2144 2024-01-30 22:23:38   \n",
      "999      1000       C4335         R2890 2024-01-08 14:46:43   \n",
      "\n",
      "    Delivery Date and Time  Order Value  Delivery Fee    Payment Method  \\\n",
      "0      2024-02-01 02:39:52         1914             0       Credit Card   \n",
      "1      2024-02-02 22:46:04          986            40    Digital Wallet   \n",
      "2      2024-01-31 06:52:35          937            30  Cash on Delivery   \n",
      "3      2024-01-16 23:38:49         1463            50  Cash on Delivery   \n",
      "4      2024-01-29 02:48:30         1992            30  Cash on Delivery   \n",
      "..                     ...          ...           ...               ...   \n",
      "995    2024-01-14 06:39:00          825             0    Digital Wallet   \n",
      "996    2024-01-28 10:10:43         1627            50  Cash on Delivery   \n",
      "997    2024-01-21 10:44:19          553            20  Cash on Delivery   \n",
      "998    2024-01-31 00:07:38         1414             0  Cash on Delivery   \n",
      "999    2024-01-08 15:39:43         1657            20    Digital Wallet   \n",
      "\n",
      "    Discounts and Offers  Commission Fee  Payment Processing Fee  \\\n",
      "0              5% on App             150                      47   \n",
      "1                    10%             198                      23   \n",
      "2           15% New User             195                      45   \n",
      "3                    NaN             146                      27   \n",
      "4           50 off Promo             130                      50   \n",
      "..                   ...             ...                     ...   \n",
      "995            5% on App             165                      47   \n",
      "996                  NaN             110                      42   \n",
      "997                  NaN              64                      31   \n",
      "998         15% New User             199                      34   \n",
      "999         15% New User             180                      27   \n",
      "\n",
      "     Refunds/Chargebacks  Delivery Duration (min) day_of_week  hour_of_day  \\\n",
      "0                      0                     88.0    Thursday            1   \n",
      "1                      0                     35.0      Friday           22   \n",
      "2                      0                     58.0   Wednesday            5   \n",
      "3                      0                     46.0     Tuesday           22   \n",
      "4                      0                     89.0      Monday            1   \n",
      "..                   ...                      ...         ...          ...   \n",
      "995                   50                     42.0      Sunday            5   \n",
      "996                    0                     80.0      Sunday            8   \n",
      "997                    0                     61.0      Sunday            9   \n",
      "998                    0                    104.0     Tuesday           22   \n",
      "999                  100                     53.0      Monday           14   \n",
      "\n",
      "     has_discount  refunded  Discount Value  Total Cost  Profit  \n",
      "0            True     False           95.70      142.70    7.30  \n",
      "1            True     False           98.60      161.60   36.40  \n",
      "2            True     False          140.55      215.55  -20.55  \n",
      "3            True     False            0.00       77.00   69.00  \n",
      "4            True     False           50.00      130.00    0.00  \n",
      "..            ...       ...             ...         ...     ...  \n",
      "995          True      True           41.25      138.25   26.75  \n",
      "996          True     False            0.00       92.00   18.00  \n",
      "997          True     False            0.00       51.00   13.00  \n",
      "998          True     False          212.10      246.10  -47.10  \n",
      "999          True      True          248.55      395.55 -215.55  \n",
      "\n",
      "[1000 rows x 20 columns]\n"
     ]
    }
   ],
   "source": [
    "print(df)"
   ]
  },
  {
   "cell_type": "markdown",
   "id": "e0519711",
   "metadata": {
    "papermill": {
     "duration": 0.007723,
     "end_time": "2025-08-28T18:09:56.093621",
     "exception": false,
     "start_time": "2025-08-28T18:09:56.085898",
     "status": "completed"
    },
    "tags": []
   },
   "source": [
    "## Visualización de correlaciones numéricas"
   ]
  },
  {
   "cell_type": "code",
   "execution_count": 14,
   "id": "aee642c4",
   "metadata": {
    "ExecuteTime": {
     "end_time": "2025-07-19T14:33:07.403158Z",
     "start_time": "2025-07-19T14:33:06.925091Z"
    },
    "execution": {
     "iopub.execute_input": "2025-08-28T18:09:56.118943Z",
     "iopub.status.busy": "2025-08-28T18:09:56.118570Z",
     "iopub.status.idle": "2025-08-28T18:09:56.732810Z",
     "shell.execute_reply": "2025-08-28T18:09:56.732248Z"
    },
    "papermill": {
     "duration": 0.63188,
     "end_time": "2025-08-28T18:09:56.733035",
     "exception": false,
     "start_time": "2025-08-28T18:09:56.101155",
     "status": "completed"
    },
    "tags": []
   },
   "outputs": [
    {
     "data": {
      "text/plain": [
       "<AxesSubplot:>"
      ]
     },
     "execution_count": 14,
     "metadata": {},
     "output_type": "execute_result"
    },
    {
     "data": {
      "image/png": "[encoded data removed]",
      "text/plain": [
       "<Figure size 432x432 with 2 Axes>"
      ]
     },
     "metadata": {
      "needs_background": "light"
     },
     "output_type": "display_data"
    }
   ],
   "source": [
    "plt.figure(figsize=(6,6))\n",
    "sns.heatmap(df.select_dtypes(include=['number']).corr(), annot=True, fmt='.1f')"
   ]
  },
  {
   "cell_type": "code",
   "execution_count": 15,
   "id": "93956860",
   "metadata": {
    "ExecuteTime": {
     "end_time": "2025-07-19T14:33:07.560809Z",
     "start_time": "2025-07-19T14:33:07.423773Z"
    },
    "execution": {
     "iopub.execute_input": "2025-08-28T18:09:56.763697Z",
     "iopub.status.busy": "2025-08-28T18:09:56.763346Z",
     "iopub.status.idle": "2025-08-28T18:09:56.893807Z",
     "shell.execute_reply": "2025-08-28T18:09:56.893489Z"
    },
    "papermill": {
     "duration": 0.14838,
     "end_time": "2025-08-28T18:09:56.893894",
     "exception": false,
     "start_time": "2025-08-28T18:09:56.745514",
     "status": "completed"
    },
    "tags": []
   },
   "outputs": [
    {
     "data": {
      "image/png": "[encoded data removed]",
      "text/plain": [
       "<Figure size 720x360 with 1 Axes>"
      ]
     },
     "metadata": {
      "needs_background": "light"
     },
     "output_type": "display_data"
    }
   ],
   "source": [
    "import seaborn as sns\n",
    "import matplotlib.pyplot as plt\n",
    "\n",
    "plt.figure(figsize=(10,5))\n",
    "sns.boxplot(data=df, x='day_of_week', y='Delivery Duration (min)', \n",
    "            order=['Monday','Tuesday','Wednesday','Thursday','Friday','Saturday','Sunday'])\n",
    "plt.xticks(rotation=45)\n",
    "plt.title(\"Duración de entrega por día de la semana\")\n",
    "plt.show()"
   ]
  },
  {
   "cell_type": "code",
   "execution_count": 16,
   "id": "fe2c2028",
   "metadata": {
    "ExecuteTime": {
     "end_time": "2025-07-19T14:33:07.763033Z",
     "start_time": "2025-07-19T14:33:07.578110Z"
    },
    "execution": {
     "iopub.execute_input": "2025-08-28T18:09:56.916607Z",
     "iopub.status.busy": "2025-08-28T18:09:56.916272Z",
     "iopub.status.idle": "2025-08-28T18:09:57.064835Z",
     "shell.execute_reply": "2025-08-28T18:09:57.065104Z"
    },
    "papermill": {
     "duration": 0.162821,
     "end_time": "2025-08-28T18:09:57.065214",
     "exception": false,
     "start_time": "2025-08-28T18:09:56.902393",
     "status": "completed"
    },
    "tags": []
   },
   "outputs": [
    {
     "data": {
      "image/png": "[encoded data removed]",
      "text/plain": [
       "<Figure size 720x360 with 1 Axes>"
      ]
     },
     "metadata": {
      "needs_background": "light"
     },
     "output_type": "display_data"
    }
   ],
   "source": [
    "top_restaurants = df['Restaurant ID'].value_counts().nlargest(10).index\n",
    "\n",
    "plt.figure(figsize=(10,5))\n",
    "sns.boxplot(data=df[df['Restaurant ID'].isin(top_restaurants)],\n",
    "            x='Restaurant ID', y='Delivery Duration (min)')\n",
    "plt.xticks(rotation=45)\n",
    "plt.title(\"Top 10 restaurantes vs duración de entrega\")\n",
    "plt.show()"
   ]
  },
  {
   "cell_type": "code",
   "execution_count": 17,
   "id": "a33fe924",
   "metadata": {
    "ExecuteTime": {
     "end_time": "2025-07-19T14:33:07.849801Z",
     "start_time": "2025-07-19T14:33:07.778800Z"
    },
    "execution": {
     "iopub.execute_input": "2025-08-28T18:09:57.088116Z",
     "iopub.status.busy": "2025-08-28T18:09:57.086767Z",
     "iopub.status.idle": "2025-08-28T18:09:57.147924Z",
     "shell.execute_reply": "2025-08-28T18:09:57.147562Z"
    },
    "papermill": {
     "duration": 0.074249,
     "end_time": "2025-08-28T18:09:57.148001",
     "exception": false,
     "start_time": "2025-08-28T18:09:57.073752",
     "status": "completed"
    },
    "tags": []
   },
   "outputs": [
    {
     "data": {
      "image/png": "[encoded data removed]",
      "text/plain": [
       "<Figure size 432x288 with 1 Axes>"
      ]
     },
     "metadata": {
      "needs_background": "light"
     },
     "output_type": "display_data"
    }
   ],
   "source": [
    "plt.figure(figsize=(6,4))\n",
    "sns.boxplot(data=df, x='has_discount', y='Delivery Duration (min)')\n",
    "plt.title(\"Duración con/sin descuento\")\n",
    "plt.xlabel(\"¿Tiene descuento?\")\n",
    "plt.ylabel(\"Duración (min)\")\n",
    "plt.show()"
   ]
  },
  {
   "cell_type": "code",
   "execution_count": 18,
   "id": "02f59786",
   "metadata": {
    "ExecuteTime": {
     "end_time": "2025-07-19T14:33:07.954801Z",
     "start_time": "2025-07-19T14:33:07.865268Z"
    },
    "execution": {
     "iopub.execute_input": "2025-08-28T18:09:57.170213Z",
     "iopub.status.busy": "2025-08-28T18:09:57.169862Z",
     "iopub.status.idle": "2025-08-28T18:09:57.254931Z",
     "shell.execute_reply": "2025-08-28T18:09:57.254625Z"
    },
    "papermill": {
     "duration": 0.098221,
     "end_time": "2025-08-28T18:09:57.255028",
     "exception": false,
     "start_time": "2025-08-28T18:09:57.156807",
     "status": "completed"
    },
    "tags": []
   },
   "outputs": [
    {
     "data": {
      "image/png": "[encoded data removed]",
      "text/plain": [
       "<Figure size 576x288 with 1 Axes>"
      ]
     },
     "metadata": {
      "needs_background": "light"
     },
     "output_type": "display_data"
    }
   ],
   "source": [
    "plt.figure(figsize=(8,4))\n",
    "sns.boxplot(data=df, x='Payment Method', y='Delivery Duration (min)')\n",
    "plt.title(\"Método de pago vs duración de entrega\")\n",
    "plt.xticks(rotation=45)\n",
    "plt.show()"
   ]
  },
  {
   "cell_type": "code",
   "execution_count": 19,
   "id": "2bf12976",
   "metadata": {
    "ExecuteTime": {
     "end_time": "2025-07-19T14:33:08.050806Z",
     "start_time": "2025-07-19T14:33:07.970379Z"
    },
    "execution": {
     "iopub.execute_input": "2025-08-28T18:09:57.281063Z",
     "iopub.status.busy": "2025-08-28T18:09:57.280468Z",
     "iopub.status.idle": "2025-08-28T18:09:57.419841Z",
     "shell.execute_reply": "2025-08-28T18:09:57.419466Z"
    },
    "papermill": {
     "duration": 0.156236,
     "end_time": "2025-08-28T18:09:57.419934",
     "exception": false,
     "start_time": "2025-08-28T18:09:57.263698",
     "status": "completed"
    },
    "tags": []
   },
   "outputs": [
    {
     "data": {
      "image/png": "[encoded data removed]",
      "text/plain": [
       "<Figure size 432x288 with 1 Axes>"
      ]
     },
     "metadata": {
      "needs_background": "light"
     },
     "output_type": "display_data"
    }
   ],
   "source": [
    "plt.figure(figsize=(6,4))\n",
    "sns.boxplot(data=df, x='refunded', y='Delivery Duration (min)')\n",
    "plt.title(\"Reembolsos vs duración de entrega\")\n",
    "plt.xlabel(\"¿Fue reembolsado?\")\n",
    "plt.ylabel(\"Duración (min)\")\n",
    "plt.show()"
   ]
  },
  {
   "cell_type": "code",
   "execution_count": 20,
   "id": "4e015845",
   "metadata": {
    "ExecuteTime": {
     "end_time": "2025-07-19T14:33:08.332802Z",
     "start_time": "2025-07-19T14:33:08.065785Z"
    },
    "execution": {
     "iopub.execute_input": "2025-08-28T18:09:57.443659Z",
     "iopub.status.busy": "2025-08-28T18:09:57.443351Z",
     "iopub.status.idle": "2025-08-28T18:09:57.712113Z",
     "shell.execute_reply": "2025-08-28T18:09:57.711765Z"
    },
    "papermill": {
     "duration": 0.283222,
     "end_time": "2025-08-28T18:09:57.712204",
     "exception": false,
     "start_time": "2025-08-28T18:09:57.428982",
     "status": "completed"
    },
    "tags": []
   },
   "outputs": [
    {
     "data": {
      "image/png": "[encoded data removed]",
      "text/plain": [
       "<Figure size 720x288 with 1 Axes>"
      ]
     },
     "metadata": {
      "needs_background": "light"
     },
     "output_type": "display_data"
    }
   ],
   "source": [
    "plt.figure(figsize=(10,4))\n",
    "sns.boxplot(data=df, x='hour_of_day', y='Delivery Duration (min)')\n",
    "plt.title(\"Duración según hora del pedido\")\n",
    "plt.xlabel(\"Hora del día\")\n",
    "plt.ylabel(\"Duración (min)\")\n",
    "plt.show()"
   ]
  },
  {
   "cell_type": "code",
   "execution_count": 21,
   "id": "fade27a2",
   "metadata": {
    "ExecuteTime": {
     "end_time": "2025-07-19T14:33:08.674807Z",
     "start_time": "2025-07-19T14:33:08.531825Z"
    },
    "execution": {
     "iopub.execute_input": "2025-08-28T18:09:57.738967Z",
     "iopub.status.busy": "2025-08-28T18:09:57.735265Z",
     "iopub.status.idle": "2025-08-28T18:09:57.844170Z",
     "shell.execute_reply": "2025-08-28T18:09:57.844405Z"
    },
    "papermill": {
     "duration": 0.123374,
     "end_time": "2025-08-28T18:09:57.844509",
     "exception": false,
     "start_time": "2025-08-28T18:09:57.721135",
     "status": "completed"
    },
    "tags": []
   },
   "outputs": [
    {
     "data": {
      "image/png": "[encoded data removed]",
      "text/plain": [
       "<Figure size 720x432 with 1 Axes>"
      ]
     },
     "metadata": {
      "needs_background": "light"
     },
     "output_type": "display_data"
    }
   ],
   "source": [
    "import seaborn as sns\n",
    "import matplotlib.pyplot as plt\n",
    "\n",
    "# Asegurarnos de que la columna tenga un nombre limpio (por si no lo hiciste antes)\n",
    "df['Discounts and Offers'] = df['Discounts and Offers'].astype(str)\n",
    "\n",
    "# Agrupar por tipo de descuento y calcular profit promedio\n",
    "profit_por_descuento = df.groupby('Discounts and Offers')['Profit'].mean().sort_values()\n",
    "\n",
    "# Crear gráfico\n",
    "plt.figure(figsize=(10,6))\n",
    "sns.barplot(x=profit_por_descuento.values, y=profit_por_descuento.index, palette='coolwarm')\n",
    "plt.title(\"Ganancia media por tipo de descuento\")\n",
    "plt.xlabel(\"Ganancia media (Profit)\")\n",
    "plt.ylabel(\"Tipo de descuento\")\n",
    "plt.axvline(0, color='gray', linestyle='--')\n",
    "plt.tight_layout()\n",
    "plt.show()"
   ]
  },
  {
   "cell_type": "code",
   "execution_count": 22,
   "id": "18fbefd2",
   "metadata": {
    "ExecuteTime": {
     "end_time": "2025-07-19T14:33:08.795803Z",
     "start_time": "2025-07-19T14:33:08.688932Z"
    },
    "execution": {
     "iopub.execute_input": "2025-08-28T18:09:57.880775Z",
     "iopub.status.busy": "2025-08-28T18:09:57.880363Z",
     "iopub.status.idle": "2025-08-28T18:09:57.969191Z",
     "shell.execute_reply": "2025-08-28T18:09:57.969442Z"
    },
    "papermill": {
     "duration": 0.115606,
     "end_time": "2025-08-28T18:09:57.969543",
     "exception": false,
     "start_time": "2025-08-28T18:09:57.853937",
     "status": "completed"
    },
    "tags": []
   },
   "outputs": [
    {
     "data": {
      "image/png": "[encoded data removed]",
      "text/plain": [
       "<Figure size 720x432 with 1 Axes>"
      ]
     },
     "metadata": {
      "needs_background": "light"
     },
     "output_type": "display_data"
    }
   ],
   "source": [
    "import seaborn as sns\n",
    "import matplotlib.pyplot as plt\n",
    "\n",
    "# Asegúrate de que la columna de duración esté creada\n",
    "if 'Delivery Duration (min)' not in df.columns:\n",
    "    df['Order Date and Time'] = pd.to_datetime(df['Order Date and Time'])\n",
    "    df['Delivery Date and Time'] = pd.to_datetime(df['Delivery Date and Time'])\n",
    "    df['Delivery Duration (min)'] = (df['Delivery Date and Time'] - df['Order Date and Time']).dt.total_seconds() / 60\n",
    "\n",
    "# Crear columna binaria: ¿Hubo reembolso?\n",
    "df['Refunded'] = df['Refunds/Chargebacks'] > 0\n",
    "\n",
    "# Gráfico de distribución del tiempo de entrega según haya o no reembolso\n",
    "plt.figure(figsize=(10,6))\n",
    "sns.boxplot(x='Refunded', y='Delivery Duration (min)', data=df)\n",
    "plt.xticks([0,1], ['Sin reembolso', 'Con reembolso'])\n",
    "plt.title(\"Tiempo de entrega según presencia de reembolso\")\n",
    "plt.ylabel(\"Duración de entrega (minutos)\")\n",
    "plt.xlabel(\"¿Hubo reembolso?\")\n",
    "plt.tight_layout()\n",
    "plt.show()"
   ]
  },
  {
   "cell_type": "code",
   "execution_count": 23,
   "id": "604017fa",
   "metadata": {
    "ExecuteTime": {
     "end_time": "2025-07-19T14:33:09.210824Z",
     "start_time": "2025-07-19T14:33:09.207015Z"
    },
    "execution": {
     "iopub.execute_input": "2025-08-28T18:09:57.994305Z",
     "iopub.status.busy": "2025-08-28T18:09:57.993837Z",
     "iopub.status.idle": "2025-08-28T18:09:57.996529Z",
     "shell.execute_reply": "2025-08-28T18:09:57.996153Z"
    },
    "papermill": {
     "duration": 0.017634,
     "end_time": "2025-08-28T18:09:57.996887",
     "exception": false,
     "start_time": "2025-08-28T18:09:57.979253",
     "status": "completed"
    },
    "tags": []
   },
   "outputs": [],
   "source": [
    "# Normalizar y deduplicar nombres de columnas en pandas (compatible 1.x/2.x)\n",
    "from collections import defaultdict\n",
    "df.columns = (\n",
    "    df.columns\n",
    "      .map(str)\n",
    "      .str.strip()\n",
    "      .str.lower()\n",
    "      .str.replace(' ', '_', regex=False)\n",
    ")\n",
    "counts = defaultdict(int)\n",
    "new_cols = []\n",
    "for c in df.columns:\n",
    "    if counts[c]:\n",
    "        new_cols.append(f\"{c}.{counts[c]}\")\n",
    "    else:\n",
    "        new_cols.append(c)\n",
    "    counts[c] += 1\n",
    "df.columns = new_cols\n"
   ]
  },
  {
   "cell_type": "code",
   "execution_count": 24,
   "id": "af20c38b",
   "metadata": {
    "ExecuteTime": {
     "end_time": "2025-07-19T14:33:09.235823Z",
     "start_time": "2025-07-19T14:33:09.222952Z"
    },
    "execution": {
     "iopub.execute_input": "2025-08-28T18:09:58.024309Z",
     "iopub.status.busy": "2025-08-28T18:09:58.021941Z",
     "iopub.status.idle": "2025-08-28T18:09:58.035419Z",
     "shell.execute_reply": "2025-08-28T18:09:58.035159Z"
    },
    "papermill": {
     "duration": 0.028241,
     "end_time": "2025-08-28T18:09:58.035493",
     "exception": false,
     "start_time": "2025-08-28T18:09:58.007252",
     "status": "completed"
    },
    "tags": []
   },
   "outputs": [
    {
     "name": "stdout",
     "output_type": "stream",
     "text": [
      "     order_id customer_id restaurant_id order_date_and_time  \\\n",
      "0           1       C8270         R2924 2024-02-01 01:11:52   \n",
      "1           2       C1860         R2054 2024-02-02 22:11:04   \n",
      "2           3       C6390         R2870 2024-01-31 05:54:35   \n",
      "3           4       C6191         R2642 2024-01-16 22:52:49   \n",
      "4           5       C6734         R2799 2024-01-29 01:19:30   \n",
      "..        ...         ...           ...                 ...   \n",
      "995       996       C6232         R2129 2024-01-14 05:57:00   \n",
      "996       997       C6797         R2742 2024-01-28 08:50:43   \n",
      "997       998       C5926         R2837 2024-01-21 09:43:19   \n",
      "998       999       C7016         R2144 2024-01-30 22:23:38   \n",
      "999      1000       C4335         R2890 2024-01-08 14:46:43   \n",
      "\n",
      "    delivery_date_and_time  order_value  delivery_fee    payment_method  \\\n",
      "0      2024-02-01 02:39:52         1914             0       Credit Card   \n",
      "1      2024-02-02 22:46:04          986            40    Digital Wallet   \n",
      "2      2024-01-31 06:52:35          937            30  Cash on Delivery   \n",
      "3      2024-01-16 23:38:49         1463            50  Cash on Delivery   \n",
      "4      2024-01-29 02:48:30         1992            30  Cash on Delivery   \n",
      "..                     ...          ...           ...               ...   \n",
      "995    2024-01-14 06:39:00          825             0    Digital Wallet   \n",
      "996    2024-01-28 10:10:43         1627            50  Cash on Delivery   \n",
      "997    2024-01-21 10:44:19          553            20  Cash on Delivery   \n",
      "998    2024-01-31 00:07:38         1414             0  Cash on Delivery   \n",
      "999    2024-01-08 15:39:43         1657            20    Digital Wallet   \n",
      "\n",
      "    discounts_and_offers  commission_fee  ...  refunds/chargebacks  \\\n",
      "0              5% on App             150  ...                    0   \n",
      "1                    10%             198  ...                    0   \n",
      "2           15% New User             195  ...                    0   \n",
      "3                    nan             146  ...                    0   \n",
      "4           50 off Promo             130  ...                    0   \n",
      "..                   ...             ...  ...                  ...   \n",
      "995            5% on App             165  ...                   50   \n",
      "996                  nan             110  ...                    0   \n",
      "997                  nan              64  ...                    0   \n",
      "998         15% New User             199  ...                    0   \n",
      "999         15% New User             180  ...                  100   \n",
      "\n",
      "     delivery_duration_(min)  day_of_week hour_of_day  has_discount  refunded  \\\n",
      "0                       88.0     Thursday           1          True     False   \n",
      "1                       35.0       Friday          22          True     False   \n",
      "2                       58.0    Wednesday           5          True     False   \n",
      "3                       46.0      Tuesday          22          True     False   \n",
      "4                       89.0       Monday           1          True     False   \n",
      "..                       ...          ...         ...           ...       ...   \n",
      "995                     42.0       Sunday           5          True      True   \n",
      "996                     80.0       Sunday           8          True     False   \n",
      "997                     61.0       Sunday           9          True     False   \n",
      "998                    104.0      Tuesday          22          True     False   \n",
      "999                     53.0       Monday          14          True      True   \n",
      "\n",
      "     discount_value  total_cost  profit  refunded.1  \n",
      "0             95.70      142.70    7.30       False  \n",
      "1             98.60      161.60   36.40       False  \n",
      "2            140.55      215.55  -20.55       False  \n",
      "3              0.00       77.00   69.00       False  \n",
      "4             50.00      130.00    0.00       False  \n",
      "..              ...         ...     ...         ...  \n",
      "995           41.25      138.25   26.75        True  \n",
      "996            0.00       92.00   18.00       False  \n",
      "997            0.00       51.00   13.00       False  \n",
      "998          212.10      246.10  -47.10       False  \n",
      "999          248.55      395.55 -215.55        True  \n",
      "\n",
      "[1000 rows x 21 columns]\n"
     ]
    }
   ],
   "source": [
    "print (df)"
   ]
  },
  {
   "cell_type": "markdown",
   "id": "a9143581",
   "metadata": {
    "papermill": {
     "duration": 0.00921,
     "end_time": "2025-08-28T18:09:58.054444",
     "exception": false,
     "start_time": "2025-08-28T18:09:58.045234",
     "status": "completed"
    },
    "tags": []
   },
   "source": [
    "# Configuración de Spark y preparación de datos"
   ]
  },
  {
   "cell_type": "code",
   "execution_count": 25,
   "id": "436f33f5",
   "metadata": {
    "ExecuteTime": {
     "end_time": "2025-07-19T14:34:40.666100Z",
     "start_time": "2025-07-19T14:33:09.261662Z"
    },
    "execution": {
     "iopub.execute_input": "2025-08-28T18:09:58.083972Z",
     "iopub.status.busy": "2025-08-28T18:09:58.082617Z",
     "iopub.status.idle": "2025-08-28T18:10:58.674353Z",
     "shell.execute_reply": "2025-08-28T18:10:58.674883Z"
    },
    "papermill": {
     "duration": 60.611272,
     "end_time": "2025-08-28T18:10:58.675313",
     "exception": false,
     "start_time": "2025-08-28T18:09:58.064041",
     "status": "completed"
    },
    "tags": []
   },
   "outputs": [
    {
     "name": "stdout",
     "output_type": "stream",
     "text": [
      ":: loading settings :: url = jar:file:/usr/local/spark-3.5.6-bin-hadoop3/jars/ivy-2.5.1.jar!/org/apache/ivy/core/settings/ivysettings.xml\n"
     ]
    },
    {
     "name": "stderr",
     "output_type": "stream",
     "text": [
      "Ivy Default Cache set to: /root/.ivy2/cache\n",
      "The jars for the packages stored in: /root/.ivy2/jars\n",
      "org.apache.spark#spark-sql-kafka-0-10_2.12 added as a dependency\n",
      ":: resolving dependencies :: org.apache.spark#spark-submit-parent-c7749c00-76ac-4346-8075-7019f5ccbe81;1.0\n",
      "\tconfs: [default]\n"
     ]
    },
    {
     "name": "stderr",
     "output_type": "stream",
     "text": [
      "\tfound org.apache.spark#spark-sql-kafka-0-10_2.12;3.5.6 in central\n"
     ]
    },
    {
     "name": "stderr",
     "output_type": "stream",
     "text": [
      "\tfound org.apache.spark#spark-token-provider-kafka-0-10_2.12;3.5.6 in central\n",
      "\tfound org.apache.kafka#kafka-clients;3.4.1 in central\n",
      "\tfound org.lz4#lz4-java;1.8.0 in central\n"
     ]
    },
    {
     "name": "stderr",
     "output_type": "stream",
     "text": [
      "\tfound org.xerial.snappy#snappy-java;1.1.10.5 in central\n"
     ]
    },
    {
     "name": "stderr",
     "output_type": "stream",
     "text": [
      "\tfound org.slf4j#slf4j-api;2.0.7 in central\n"
     ]
    },
    {
     "name": "stderr",
     "output_type": "stream",
     "text": [
      "\tfound org.apache.hadoop#hadoop-client-runtime;3.3.4 in central\n",
      "\tfound org.apache.hadoop#hadoop-client-api;3.3.4 in central\n"
     ]
    },
    {
     "name": "stderr",
     "output_type": "stream",
     "text": [
      "\tfound commons-logging#commons-logging;1.1.3 in central\n",
      "\tfound com.google.code.findbugs#jsr305;3.0.0 in central\n"
     ]
    },
    {
     "name": "stderr",
     "output_type": "stream",
     "text": [
      "\tfound org.apache.commons#commons-pool2;2.11.1 in central\n",
      "downloading https://repo1.maven.org/maven2/org/apache/spark/spark-sql-kafka-0-10_2.12/3.5.6/spark-sql-kafka-0-10_2.12-3.5.6.jar ...\n",
      "\t[SUCCESSFUL ] org.apache.spark#spark-sql-kafka-0-10_2.12;3.5.6!spark-sql-kafka-0-10_2.12.jar (27ms)\n",
      "downloading https://repo1.maven.org/maven2/org/apache/spark/spark-token-provider-kafka-0-10_2.12/3.5.6/spark-token-provider-kafka-0-10_2.12-3.5.6.jar ...\n",
      "\t[SUCCESSFUL ] org.apache.spark#spark-token-provider-kafka-0-10_2.12;3.5.6!spark-token-provider-kafka-0-10_2.12.jar (17ms)\n",
      "downloading https://repo1.maven.org/maven2/org/apache/kafka/kafka-clients/3.4.1/kafka-clients-3.4.1.jar ...\n",
      "\t[SUCCESSFUL ] org.apache.kafka#kafka-clients;3.4.1!kafka-clients.jar (99ms)\n",
      "downloading https://repo1.maven.org/maven2/com/google/code/findbugs/jsr305/3.0.0/jsr305-3.0.0.jar ...\n",
      "\t[SUCCESSFUL ] com.google.code.findbugs#jsr305;3.0.0!jsr305.jar (16ms)\n"
     ]
    },
    {
     "name": "stderr",
     "output_type": "stream",
     "text": [
      "downloading https://repo1.maven.org/maven2/org/apache/commons/commons-pool2/2.11.1/commons-pool2-2.11.1.jar ...\n",
      "\t[SUCCESSFUL ] org.apache.commons#commons-pool2;2.11.1!commons-pool2.jar (17ms)\n",
      "downloading https://repo1.maven.org/maven2/org/apache/hadoop/hadoop-client-runtime/3.3.4/hadoop-client-runtime-3.3.4.jar ...\n"
     ]
    },
    {
     "name": "stderr",
     "output_type": "stream",
     "text": [
      "\t[SUCCESSFUL ] org.apache.hadoop#hadoop-client-runtime;3.3.4!hadoop-client-runtime.jar (338ms)\n",
      "downloading https://repo1.maven.org/maven2/org/lz4/lz4-java/1.8.0/lz4-java-1.8.0.jar ...\n",
      "\t[SUCCESSFUL ] org.lz4#lz4-java;1.8.0!lz4-java.jar (26ms)\n",
      "downloading https://repo1.maven.org/maven2/org/xerial/snappy/snappy-java/1.1.10.5/snappy-java-1.1.10.5.jar ...\n",
      "\t[SUCCESSFUL ] org.xerial.snappy#snappy-java;1.1.10.5!snappy-java.jar(bundle) (41ms)\n",
      "downloading https://repo1.maven.org/maven2/org/slf4j/slf4j-api/2.0.7/slf4j-api-2.0.7.jar ...\n",
      "\t[SUCCESSFUL ] org.slf4j#slf4j-api;2.0.7!slf4j-api.jar (16ms)\n",
      "downloading https://repo1.maven.org/maven2/org/apache/hadoop/hadoop-client-api/3.3.4/hadoop-client-api-3.3.4.jar ...\n"
     ]
    },
    {
     "name": "stderr",
     "output_type": "stream",
     "text": [
      "\t[SUCCESSFUL ] org.apache.hadoop#hadoop-client-api;3.3.4!hadoop-client-api.jar (228ms)\n",
      "downloading https://repo1.maven.org/maven2/commons-logging/commons-logging/1.1.3/commons-logging-1.1.3.jar ...\n",
      "\t[SUCCESSFUL ] commons-logging#commons-logging;1.1.3!commons-logging.jar (16ms)\n",
      ":: resolution report :: resolve 8013ms :: artifacts dl 869ms\n",
      "\t:: modules in use:\n",
      "\tcom.google.code.findbugs#jsr305;3.0.0 from central in [default]\n",
      "\tcommons-logging#commons-logging;1.1.3 from central in [default]\n",
      "\torg.apache.commons#commons-pool2;2.11.1 from central in [default]\n",
      "\torg.apache.hadoop#hadoop-client-api;3.3.4 from central in [default]\n",
      "\torg.apache.hadoop#hadoop-client-runtime;3.3.4 from central in [default]\n",
      "\torg.apache.kafka#kafka-clients;3.4.1 from central in [default]\n",
      "\torg.apache.spark#spark-sql-kafka-0-10_2.12;3.5.6 from central in [default]\n",
      "\torg.apache.spark#spark-token-provider-kafka-0-10_2.12;3.5.6 from central in [default]\n",
      "\torg.lz4#lz4-java;1.8.0 from central in [default]\n",
      "\torg.slf4j#slf4j-api;2.0.7 from central in [default]\n",
      "\torg.xerial.snappy#snappy-java;1.1.10.5 from central in [default]\n",
      "\t---------------------------------------------------------------------\n",
      "\t|                  |            modules            ||   artifacts   |\n",
      "\t|       conf       | number| search|dwnlded|evicted|| number|dwnlded|\n",
      "\t---------------------------------------------------------------------\n",
      "\t|      default     |   11  |   11  |   11  |   0   ||   11  |   11  |\n",
      "\t---------------------------------------------------------------------\n",
      ":: retrieving :: org.apache.spark#spark-submit-parent-c7749c00-76ac-4346-8075-7019f5ccbe81\n",
      "\tconfs: [default]\n",
      "\t11 artifacts copied, 0 already retrieved (57002kB/139ms)\n"
     ]
    },
    {
     "name": "stderr",
     "output_type": "stream",
     "text": [
      "25/08/28 18:10:10 WARN NativeCodeLoader: Unable to load native-hadoop library for your platform... using builtin-java classes where applicable\n"
     ]
    },
    {
     "name": "stderr",
     "output_type": "stream",
     "text": [
      "Setting default log level to \"WARN\".\n",
      "To adjust logging level use sc.setLogLevel(newLevel). For SparkR, use setLogLevel(newLevel).\n"
     ]
    },
    {
     "name": "stderr",
     "output_type": "stream",
     "text": [
      "\r",
      "[Stage 0:>                                                          (0 + 0) / 2]\r"
     ]
    },
    {
     "name": "stderr",
     "output_type": "stream",
     "text": [
      "\r",
      "[Stage 0:>                                                          (0 + 2) / 2]\r"
     ]
    },
    {
     "name": "stderr",
     "output_type": "stream",
     "text": [
      "\r",
      "[Stage 2:>                                                          (0 + 1) / 1]\r"
     ]
    },
    {
     "name": "stderr",
     "output_type": "stream",
     "text": [
      "\r",
      "                                                                                \r"
     ]
    },
    {
     "name": "stderr",
     "output_type": "stream",
     "text": [
      "\r",
      "[Stage 3:>                                                          (0 + 2) / 2]\r",
      "\r",
      "[Stage 3:=============================>                             (1 + 1) / 2]\r"
     ]
    },
    {
     "name": "stderr",
     "output_type": "stream",
     "text": [
      "\r",
      "                                                                                \r"
     ]
    },
    {
     "name": "stderr",
     "output_type": "stream",
     "text": [
      "\r",
      "[Stage 12:>                                                         (0 + 1) / 1]\r"
     ]
    },
    {
     "name": "stderr",
     "output_type": "stream",
     "text": [
      "\r",
      "                                                                                \r"
     ]
    },
    {
     "name": "stderr",
     "output_type": "stream",
     "text": [
      "\r",
      "[Stage 13:=============================>                            (1 + 1) / 2]\r"
     ]
    },
    {
     "name": "stderr",
     "output_type": "stream",
     "text": [
      "\r",
      "                                                                                \r"
     ]
    },
    {
     "name": "stderr",
     "output_type": "stream",
     "text": [
      "\r",
      "[Stage 216:>                                                        (0 + 2) / 2]\r"
     ]
    },
    {
     "name": "stdout",
     "output_type": "stream",
     "text": [
      "✅ Modelo mejorado con TrainValidationSplit\n",
      "📉 RMSE final: 33.01\n"
     ]
    },
    {
     "name": "stderr",
     "output_type": "stream",
     "text": [
      "\r",
      "                                                                                \r"
     ]
    }
   ],
   "source": [
    "from pyspark.sql import SparkSession\n",
    "from pyspark import SparkContext\n",
    "from pyspark.ml.feature import StringIndexer, OneHotEncoder, VectorAssembler\n",
    "from pyspark.ml.regression import GBTRegressor\n",
    "from pyspark.ml import Pipeline\n",
    "from pyspark.ml.evaluation import RegressionEvaluator\n",
    "from pyspark.ml.tuning import ParamGridBuilder, TrainValidationSplit\n",
    "\n",
    "# Cerrar contexto anterior si está activo\n",
    "if SparkContext._active_spark_context:\n",
    "    SparkContext._active_spark_context.stop()\n",
    "\n",
    "# SparkSession apuntando al cluster\n",
    "spark = (\n",
    "    SparkSession.builder.appName(\"DeliveryDurationGBT-Tuned-Light\")\n",
    "    .master(\"spark://agile:7077\")\n",
    "    .config(\"spark.driver.bindAddress\", \"0.0.0.0\")\n",
    "    .getOrCreate()\n",
    ")\n",
    "\n",
    "sc = spark.sparkContext\n",
    "sc.setLogLevel(\"ERROR\")\n",
    "\n",
    "# Añadir columnas derivadas en pandas antes de pasar a Spark\n",
    "df[\"es_fin_de_semana\"] = df[\"day_of_week\"].isin([\"Saturday\", \"Sunday\"]).astype(int)\n",
    "df[\"es_hora_punta\"] = df[\"hour_of_day\"].between(13, 15) | df[\"hour_of_day\"].between(20, 22)\n",
    "df[\"es_hora_punta\"] = df[\"es_hora_punta\"].astype(int)\n",
    "\n",
    "# Crear DataFrame en Spark\n",
    "df_spark = spark.createDataFrame(df)\n",
    "\n",
    "# Variables\n",
    "categorical_cols = ['payment_method', 'discounts_and_offers', 'day_of_week', 'hour_of_day']\n",
    "numeric_cols = [\n",
    "    'order_value', 'delivery_fee', 'commission_fee', 'payment_processing_fee',\n",
    "    'refunds/chargebacks', 'discount_value', 'has_discount', 'refunded',\n",
    "    'es_fin_de_semana', 'es_hora_punta'\n",
    "]\n",
    "target = 'delivery_duration_(min)'\n",
    "\n",
    "# Indexado y one-hot\n",
    "indexers = [StringIndexer(inputCol=col, outputCol=col + \"_idx\", handleInvalid=\"keep\") for col in categorical_cols]\n",
    "encoders = [OneHotEncoder(inputCol=col + \"_idx\", outputCol=col + \"_vec\") for col in categorical_cols]\n",
    "\n",
    "# Vector de features\n",
    "assembler = VectorAssembler(\n",
    "    inputCols=numeric_cols + [col + \"_vec\" for col in categorical_cols],\n",
    "    outputCol=\"features\"\n",
    ")\n",
    "\n",
    "# Modelo\n",
    "regressor = GBTRegressor(featuresCol=\"features\", labelCol=target)\n",
    "\n",
    "# Pipeline\n",
    "pipeline = Pipeline(stages=indexers + encoders + [assembler, regressor])\n",
    "\n",
    "# Grid de hiperparámetros ligera\n",
    "paramGrid = ParamGridBuilder() \\\n",
    "    .addGrid(regressor.maxDepth, [5]) \\\n",
    "    .addGrid(regressor.maxIter, [20, 40]) \\\n",
    "    .build()\n",
    "\n",
    "# Train-validation split\n",
    "tvs = TrainValidationSplit(\n",
    "    estimator=pipeline,\n",
    "    estimatorParamMaps=paramGrid,\n",
    "    evaluator=RegressionEvaluator(labelCol=target, predictionCol=\"prediction\", metricName=\"rmse\"),\n",
    "    trainRatio=0.8\n",
    ")\n",
    "\n",
    "# Split de datos\n",
    "train_data, test_data = df_spark.randomSplit([0.8, 0.2], seed=42)\n",
    "\n",
    "# Entrenamiento\n",
    "# tvs_model = tvs.fit(train_data)\n",
    "tvs_model = pipeline.fit(train_data)\n",
    "\n",
    "# Evaluación\n",
    "predictions = tvs_model.transform(test_data)\n",
    "rmse = RegressionEvaluator(labelCol=target, predictionCol=\"prediction\", metricName=\"rmse\").evaluate(predictions)\n",
    "\n",
    "print(\"✅ Modelo mejorado con TrainValidationSplit\")\n",
    "print(f\"📉 RMSE final: {rmse:.2f}\")"
   ]
  },
  {
   "cell_type": "code",
   "execution_count": 26,
   "id": "a016f7ac",
   "metadata": {
    "execution": {
     "iopub.execute_input": "2025-08-28T18:10:58.717503Z",
     "iopub.status.busy": "2025-08-28T18:10:58.717051Z",
     "iopub.status.idle": "2025-08-28T18:10:58.724627Z",
     "shell.execute_reply": "2025-08-28T18:10:58.724300Z"
    },
    "papermill": {
     "duration": 0.025685,
     "end_time": "2025-08-28T18:10:58.724707",
     "exception": false,
     "start_time": "2025-08-28T18:10:58.699022",
     "status": "completed"
    },
    "tags": []
   },
   "outputs": [
    {
     "name": "stdout",
     "output_type": "stream",
     "text": [
      "root\n",
      " |-- order_id: long (nullable = true)\n",
      " |-- customer_id: string (nullable = true)\n",
      " |-- restaurant_id: string (nullable = true)\n",
      " |-- order_date_and_time: timestamp (nullable = true)\n",
      " |-- delivery_date_and_time: timestamp (nullable = true)\n",
      " |-- order_value: long (nullable = true)\n",
      " |-- delivery_fee: long (nullable = true)\n",
      " |-- payment_method: string (nullable = true)\n",
      " |-- discounts_and_offers: string (nullable = true)\n",
      " |-- commission_fee: long (nullable = true)\n",
      " |-- payment_processing_fee: long (nullable = true)\n",
      " |-- refunds/chargebacks: long (nullable = true)\n",
      " |-- delivery_duration_(min): double (nullable = true)\n",
      " |-- day_of_week: string (nullable = true)\n",
      " |-- hour_of_day: long (nullable = true)\n",
      " |-- has_discount: boolean (nullable = true)\n",
      " |-- refunded: boolean (nullable = true)\n",
      " |-- discount_value: double (nullable = true)\n",
      " |-- total_cost: double (nullable = true)\n",
      " |-- profit: double (nullable = true)\n",
      " |-- refunded.1: boolean (nullable = true)\n",
      " |-- es_fin_de_semana: long (nullable = true)\n",
      " |-- es_hora_punta: long (nullable = true)\n",
      "\n"
     ]
    }
   ],
   "source": [
    "df_spark.printSchema()"
   ]
  },
  {
   "cell_type": "markdown",
   "id": "7259939a",
   "metadata": {
    "papermill": {
     "duration": 0.010602,
     "end_time": "2025-08-28T18:10:58.746371",
     "exception": false,
     "start_time": "2025-08-28T18:10:58.735769",
     "status": "completed"
    },
    "tags": []
   },
   "source": [
    "### Evaluación del modelo"
   ]
  },
  {
   "cell_type": "code",
   "execution_count": 27,
   "id": "fe748dca",
   "metadata": {
    "ExecuteTime": {
     "end_time": "2025-07-19T14:36:29.489847Z",
     "start_time": "2025-07-19T14:36:26.618289Z"
    },
    "execution": {
     "iopub.execute_input": "2025-08-28T18:10:58.772077Z",
     "iopub.status.busy": "2025-08-28T18:10:58.771647Z",
     "iopub.status.idle": "2025-08-28T18:10:59.886229Z",
     "shell.execute_reply": "2025-08-28T18:10:59.886917Z"
    },
    "papermill": {
     "duration": 1.130822,
     "end_time": "2025-08-28T18:10:59.887169",
     "exception": false,
     "start_time": "2025-08-28T18:10:58.756347",
     "status": "completed"
    },
    "tags": []
   },
   "outputs": [
    {
     "data": {
      "image/png": "[encoded data removed]",
      "text/plain": [
       "<Figure size 432x432 with 1 Axes>"
      ]
     },
     "metadata": {
      "needs_background": "light"
     },
     "output_type": "display_data"
    }
   ],
   "source": [
    "import pandas as pd\n",
    "import matplotlib.pyplot as plt\n",
    "\n",
    "# Convertimos a Pandas para visualización\n",
    "preds_pd = predictions.select(\"delivery_duration_(min)\", \"prediction\").toPandas()\n",
    "\n",
    "# Plot real vs predicho\n",
    "plt.figure(figsize=(6,6))\n",
    "plt.scatter(preds_pd[\"delivery_duration_(min)\"], preds_pd[\"prediction\"], alpha=0.5)\n",
    "plt.plot([0, preds_pd.max().max()], [0, preds_pd.max().max()], 'r--')\n",
    "plt.xlabel(\"Valor real\")\n",
    "plt.ylabel(\"Predicción\")\n",
    "plt.title(\"Predicción vs Real (Duración en minutos)\")\n",
    "plt.grid(True)\n",
    "plt.show()"
   ]
  },
  {
   "cell_type": "code",
   "execution_count": 28,
   "id": "4339fac5",
   "metadata": {
    "ExecuteTime": {
     "end_time": "2025-07-19T14:36:30.651045Z",
     "start_time": "2025-07-19T14:36:29.555718Z"
    },
    "execution": {
     "iopub.execute_input": "2025-08-28T18:10:59.941060Z",
     "iopub.status.busy": "2025-08-28T18:10:59.940549Z",
     "iopub.status.idle": "2025-08-28T18:11:00.887186Z",
     "shell.execute_reply": "2025-08-28T18:11:00.887480Z"
    },
    "papermill": {
     "duration": 0.983563,
     "end_time": "2025-08-28T18:11:00.887676",
     "exception": false,
     "start_time": "2025-08-28T18:10:59.904113",
     "status": "completed"
    },
    "tags": []
   },
   "outputs": [
    {
     "name": "stdout",
     "output_type": "stream",
     "text": [
      "+-----------------------+-----------------+\n",
      "|delivery_duration_(min)|       prediction|\n",
      "+-----------------------+-----------------+\n",
      "|                   58.0|59.76082828530326|\n",
      "|                   53.0|65.53867440988391|\n",
      "|                  114.0| 74.9488632985992|\n",
      "|                  100.0|66.88452785590404|\n",
      "|                   50.0|101.1379954650942|\n",
      "|                   98.0|69.67426253032023|\n",
      "|                   66.0| 76.4174852018139|\n",
      "|                   33.0|81.19250306420832|\n",
      "|                   66.0|76.62536639154867|\n",
      "|                   86.0|66.71454503266844|\n",
      "+-----------------------+-----------------+\n",
      "only showing top 10 rows\n",
      "\n"
     ]
    }
   ],
   "source": [
    "# Mostrar predicciones reales vs. predichas\n",
    "predictions.select('delivery_duration_(min)', 'prediction').show(10)"
   ]
  },
  {
   "cell_type": "markdown",
   "id": "20d47d3e",
   "metadata": {
    "papermill": {
     "duration": 0.011756,
     "end_time": "2025-08-28T18:11:00.912503",
     "exception": false,
     "start_time": "2025-08-28T18:11:00.900747",
     "status": "completed"
    },
    "tags": []
   },
   "source": [
    "### Guardado del modelo y transformadores"
   ]
  },
  {
   "cell_type": "code",
   "execution_count": 29,
   "id": "c1fd0f16",
   "metadata": {
    "execution": {
     "iopub.execute_input": "2025-08-28T18:11:00.939092Z",
     "iopub.status.busy": "2025-08-28T18:11:00.938707Z",
     "iopub.status.idle": "2025-08-28T18:11:25.728204Z",
     "shell.execute_reply": "2025-08-28T18:11:25.728964Z"
    },
    "papermill": {
     "duration": 24.806671,
     "end_time": "2025-08-28T18:11:25.729656",
     "exception": false,
     "start_time": "2025-08-28T18:11:00.922985",
     "status": "completed"
    },
    "tags": []
   },
   "outputs": [
    {
     "name": "stderr",
     "output_type": "stream",
     "text": [
      "\r",
      "[Stage 219:>                                                        (0 + 1) / 1]\r",
      "\r",
      "                                                                                \r"
     ]
    },
    {
     "name": "stderr",
     "output_type": "stream",
     "text": [
      "\r",
      "[Stage 232:>                                                        (0 + 1) / 1]\r"
     ]
    },
    {
     "name": "stderr",
     "output_type": "stream",
     "text": [
      "\r",
      "                                                                                \r"
     ]
    },
    {
     "name": "stderr",
     "output_type": "stream",
     "text": [
      "\r",
      "[Stage 240:>                                                        (0 + 1) / 1]\r"
     ]
    },
    {
     "name": "stderr",
     "output_type": "stream",
     "text": [
      "\r",
      "                                                                                \r"
     ]
    },
    {
     "name": "stderr",
     "output_type": "stream",
     "text": [
      "\r",
      "[Stage 266:>                                                      (0 + 20) / 20]\r",
      "\r",
      "[Stage 266:========================>                              (9 + 11) / 20]\r"
     ]
    },
    {
     "name": "stderr",
     "output_type": "stream",
     "text": [
      "\r",
      "[Stage 266:===========================>                          (10 + 10) / 20]\r"
     ]
    },
    {
     "name": "stderr",
     "output_type": "stream",
     "text": [
      "\r",
      "[Stage 268:>                                                        (0 + 1) / 1]\r",
      "\r",
      "                                                                                \r"
     ]
    }
   ],
   "source": [
    "import os\n",
    "base_path = \"./models\"\n",
    "os.makedirs(base_path, exist_ok=True)\n",
    "\n",
    "# Guarda el VectorAssembler\n",
    "assembler.write().overwrite().save(f\"{base_path}/vector_assembler.bin\")\n",
    "\n",
    "# Guarda todos los StringIndexer\n",
    "for idx, indexer_model in enumerate(indexers):\n",
    "    indexer_model.write().overwrite().save(f\"{base_path}/string_indexer_{idx}.bin\")\n",
    "\n",
    "# Guarda todos los OneHotEncoder\n",
    "for idx, encoder_model in enumerate(encoders):\n",
    "    encoder_model.write().overwrite().save(f\"{base_path}/one_hot_encoder_{idx}.bin\")\n",
    "\n",
    "# Guarda el modelo entrenado\n",
    "tvs_model.write().overwrite().save(f\"{base_path}/pipeline_model.bin\")"
   ]
  }
 ],
 "metadata": {
  "colab": {
   "name": "Food Delivery: Timing is everything",
   "provenance": []
  },
  "kaggle": {
   "accelerator": "none",
   "dataSources": [
    {
     "datasetId": 5072200,
     "sourceId": 8499662,
     "sourceType": "datasetVersion"
    }
   ],
   "dockerImageVersionId": 30698,
   "isGpuEnabled": false,
   "isInternetEnabled": true,
   "language": "python",
   "sourceType": "notebook"
  },
  "kernelspec": {
   "display_name": "Python 3 (ipykernel)",
   "language": "python",
   "name": "python3"
  },
  "language_info": {
   "codemirror_mode": {
    "name": "ipython",
    "version": 3
   },
   "file_extension": ".py",
   "mimetype": "text/x-python",
   "name": "python",
   "nbconvert_exporter": "python",
   "pygments_lexer": "ipython3",
   "version": "3.9.7"
  },
  "papermill": {
   "default_parameters": {},
   "duration": 102.138978,
   "end_time": "2025-08-28T18:11:26.492865",
   "environment_variables": {},
   "exception": null,
   "input_path": "/home/jovyan/Food_delivery/Analysis.ipynb",
   "output_path": "/home/jovyan/Food_delivery/Analysis.ipynb",
   "parameters": {},
   "start_time": "2025-08-28T18:09:44.353887",
   "version": "2.6.0"
  }
 },
 "nbformat": 4,
 "nbformat_minor": 5
}