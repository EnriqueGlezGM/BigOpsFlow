{
 "cells": [
  {
   "cell_type": "code",
   "metadata": {
    "ExecuteTime": {
     "end_time": "2025-07-17T15:46:52.790948Z",
     "start_time": "2025-07-17T15:46:51.739272Z"
    }
   },
   "source": [
    "pip install kagglehub"
   ],
   "outputs": [
    {
     "name": "stdout",
     "output_type": "stream",
     "text": [
      "Collecting kagglehub\r\n",
      "  Downloading kagglehub-0.3.12-py3-none-any.whl.metadata (38 kB)\r\n",
      "Requirement already satisfied: packaging in /Users/enriqueglezgm/Desktop/BigOpsFlow/.venv/lib/python3.11/site-packages (from kagglehub) (25.0)\r\n",
      "Requirement already satisfied: pyyaml in /Users/enriqueglezgm/Desktop/BigOpsFlow/.venv/lib/python3.11/site-packages (from kagglehub) (6.0.2)\r\n",
      "Requirement already satisfied: requests in /Users/enriqueglezgm/Desktop/BigOpsFlow/.venv/lib/python3.11/site-packages (from kagglehub) (2.32.4)\r\n",
      "Collecting tqdm (from kagglehub)\r\n",
      "  Downloading tqdm-4.67.1-py3-none-any.whl.metadata (57 kB)\r\n",
      "Requirement already satisfied: charset_normalizer<4,>=2 in /Users/enriqueglezgm/Desktop/BigOpsFlow/.venv/lib/python3.11/site-packages (from requests->kagglehub) (3.4.2)\r\n",
      "Requirement already satisfied: idna<4,>=2.5 in /Users/enriqueglezgm/Desktop/BigOpsFlow/.venv/lib/python3.11/site-packages (from requests->kagglehub) (3.10)\r\n",
      "Requirement already satisfied: urllib3<3,>=1.21.1 in /Users/enriqueglezgm/Desktop/BigOpsFlow/.venv/lib/python3.11/site-packages (from requests->kagglehub) (2.5.0)\r\n",
      "Requirement already satisfied: certifi>=2017.4.17 in /Users/enriqueglezgm/Desktop/BigOpsFlow/.venv/lib/python3.11/site-packages (from requests->kagglehub) (2025.6.15)\r\n",
      "Downloading kagglehub-0.3.12-py3-none-any.whl (67 kB)\r\n",
      "Downloading tqdm-4.67.1-py3-none-any.whl (78 kB)\r\n",
      "Installing collected packages: tqdm, kagglehub\r\n",
      "\u001B[2K   \u001B[90m━━━━━━━━━━━━━━━━━━━━━━━━━━━━━━━━━━━━━━━━\u001B[0m \u001B[32m2/2\u001B[0m [kagglehub]\r\n",
      "\u001B[1A\u001B[2KSuccessfully installed kagglehub-0.3.12 tqdm-4.67.1\r\n",
      "Note: you may need to restart the kernel to use updated packages.\n"
     ]
    }
   ],
   "execution_count": 1
  },
  {
   "cell_type": "code",
   "metadata": {
    "id": "DZiXESZ8UiEb",
    "ExecuteTime": {
     "end_time": "2025-07-17T15:47:01.011212Z",
     "start_time": "2025-07-17T15:46:59.948329Z"
    }
   },
   "source": [
    "import kagglehub\n",
    "import os\n",
    "\n",
    "# Descarga el dataset (o usa el caché)\n",
    "romanniki_food_delivery_cost_and_profitability_path = kagglehub.dataset_download('romanniki/food-delivery-cost-and-profitability')\n",
    "\n",
    "# Buscar el primer archivo dentro del dataset descargado\n",
    "for root, dirs, files in os.walk(romanniki_food_delivery_cost_and_profitability_path):\n",
    "    for file in files:\n",
    "        path_dataset = os.path.abspath(os.path.join(root, file))\n",
    "        break  # solo el primero\n",
    "    else:\n",
    "        continue\n",
    "    break\n",
    "\n",
    "print('Data source import complete.')\n",
    "print(\"Archivo encontrado en:\", path_dataset)"
   ],
   "outputs": [
    {
     "name": "stderr",
     "output_type": "stream",
     "text": [
      "/Users/enriqueglezgm/Desktop/BigOpsFlow/.venv/lib/python3.11/site-packages/tqdm/auto.py:21: TqdmWarning: IProgress not found. Please update jupyter and ipywidgets. See https://ipywidgets.readthedocs.io/en/stable/user_install.html\n",
      "  from .autonotebook import tqdm as notebook_tqdm\n"
     ]
    },
    {
     "name": "stdout",
     "output_type": "stream",
     "text": [
      "Downloading from https://www.kaggle.com/api/v1/datasets/download/romanniki/food-delivery-cost-and-profitability?dataset_version_number=1...\n"
     ]
    },
    {
     "name": "stderr",
     "output_type": "stream",
     "text": [
      "100%|██████████| 28.0k/28.0k [00:00<00:00, 31.3MB/s]"
     ]
    },
    {
     "name": "stdout",
     "output_type": "stream",
     "text": [
      "Extracting files...\n",
      "Data source import complete.\n",
      "Archivo encontrado en: /Users/enriqueglezgm/.cache/kagglehub/datasets/romanniki/food-delivery-cost-and-profitability/versions/1/food_orders_new_delhi (1).csv\n"
     ]
    },
    {
     "name": "stderr",
     "output_type": "stream",
     "text": [
      "\n"
     ]
    }
   ],
   "execution_count": 2
  },
  {
   "cell_type": "markdown",
   "metadata": {
    "id": "BGTazBLDUiEd"
   },
   "source": [
    "# Overview\n",
    "\n",
    "This analysis aims to provide insights into the timing of orders placed on an online food delivery platform. By understanding the seasonality effects, effects of weekends and weekdays, and effects of different times of the day on order values and profits, we can guide the vouchers and discounts team to distribute vouchers at better timings, ultimately improving customer engagement and boosting sales.This analysis"
   ]
  },
  {
   "cell_type": "markdown",
   "metadata": {
    "id": "egfYqOQ1UiEd"
   },
   "source": [
    "# 1. Import packages and data"
   ]
  },
  {
   "cell_type": "code",
   "metadata": {
    "id": "d_WeJ-6YUiEe",
    "tags": [],
    "ExecuteTime": {
     "end_time": "2025-07-17T15:48:12.960477Z",
     "start_time": "2025-07-17T15:48:12.881633Z"
    }
   },
   "source": [
    "import numpy as np\n",
    "import pandas as pd\n",
    "import matplotlib.pyplot as plt\n",
    "import seaborn as sns\n",
    "\n",
    "import warnings\n",
    "warnings.filterwarnings('ignore')"
   ],
   "outputs": [],
   "execution_count": 8
  },
  {
   "cell_type": "code",
   "metadata": {
    "id": "7EXgZgL3UiEe",
    "tags": [],
    "ExecuteTime": {
     "end_time": "2025-07-17T15:48:14.807480Z",
     "start_time": "2025-07-17T15:48:14.794463Z"
    }
   },
   "source": [
    "df = pd.read_csv(path_dataset)\n",
    "df.shape"
   ],
   "outputs": [
    {
     "data": {
      "text/plain": [
       "(1000, 12)"
      ]
     },
     "execution_count": 9,
     "metadata": {},
     "output_type": "execute_result"
    }
   ],
   "execution_count": 9
  },
  {
   "cell_type": "code",
   "metadata": {
    "id": "zZrVtbeSUiEe",
    "tags": [],
    "ExecuteTime": {
     "end_time": "2025-07-17T15:48:16.636013Z",
     "start_time": "2025-07-17T15:48:16.627802Z"
    }
   },
   "source": [
    "df.head()"
   ],
   "outputs": [
    {
     "data": {
      "text/plain": [
       "   Order ID Customer ID Restaurant ID  Order Date and Time  \\\n",
       "0         1       C8270         R2924  2024-02-01 01:11:52   \n",
       "1         2       C1860         R2054  2024-02-02 22:11:04   \n",
       "2         3       C6390         R2870  2024-01-31 05:54:35   \n",
       "3         4       C6191         R2642  2024-01-16 22:52:49   \n",
       "4         5       C6734         R2799  2024-01-29 01:19:30   \n",
       "\n",
       "  Delivery Date and Time  Order Value  Delivery Fee    Payment Method  \\\n",
       "0    2024-02-01 02:39:52         1914             0       Credit Card   \n",
       "1    2024-02-02 22:46:04          986            40    Digital Wallet   \n",
       "2    2024-01-31 06:52:35          937            30  Cash on Delivery   \n",
       "3    2024-01-16 23:38:49         1463            50  Cash on Delivery   \n",
       "4    2024-01-29 02:48:30         1992            30  Cash on Delivery   \n",
       "\n",
       "  Discounts and Offers  Commission Fee  Payment Processing Fee  \\\n",
       "0            5% on App             150                      47   \n",
       "1                  10%             198                      23   \n",
       "2         15% New User             195                      45   \n",
       "3                  NaN             146                      27   \n",
       "4         50 off Promo             130                      50   \n",
       "\n",
       "   Refunds/Chargebacks  \n",
       "0                    0  \n",
       "1                    0  \n",
       "2                    0  \n",
       "3                    0  \n",
       "4                    0  "
      ],
      "text/html": [
       "<div>\n",
       "<style scoped>\n",
       "    .dataframe tbody tr th:only-of-type {\n",
       "        vertical-align: middle;\n",
       "    }\n",
       "\n",
       "    .dataframe tbody tr th {\n",
       "        vertical-align: top;\n",
       "    }\n",
       "\n",
       "    .dataframe thead th {\n",
       "        text-align: right;\n",
       "    }\n",
       "</style>\n",
       "<table border=\"1\" class=\"dataframe\">\n",
       "  <thead>\n",
       "    <tr style=\"text-align: right;\">\n",
       "      <th></th>\n",
       "      <th>Order ID</th>\n",
       "      <th>Customer ID</th>\n",
       "      <th>Restaurant ID</th>\n",
       "      <th>Order Date and Time</th>\n",
       "      <th>Delivery Date and Time</th>\n",
       "      <th>Order Value</th>\n",
       "      <th>Delivery Fee</th>\n",
       "      <th>Payment Method</th>\n",
       "      <th>Discounts and Offers</th>\n",
       "      <th>Commission Fee</th>\n",
       "      <th>Payment Processing Fee</th>\n",
       "      <th>Refunds/Chargebacks</th>\n",
       "    </tr>\n",
       "  </thead>\n",
       "  <tbody>\n",
       "    <tr>\n",
       "      <th>0</th>\n",
       "      <td>1</td>\n",
       "      <td>C8270</td>\n",
       "      <td>R2924</td>\n",
       "      <td>2024-02-01 01:11:52</td>\n",
       "      <td>2024-02-01 02:39:52</td>\n",
       "      <td>1914</td>\n",
       "      <td>0</td>\n",
       "      <td>Credit Card</td>\n",
       "      <td>5% on App</td>\n",
       "      <td>150</td>\n",
       "      <td>47</td>\n",
       "      <td>0</td>\n",
       "    </tr>\n",
       "    <tr>\n",
       "      <th>1</th>\n",
       "      <td>2</td>\n",
       "      <td>C1860</td>\n",
       "      <td>R2054</td>\n",
       "      <td>2024-02-02 22:11:04</td>\n",
       "      <td>2024-02-02 22:46:04</td>\n",
       "      <td>986</td>\n",
       "      <td>40</td>\n",
       "      <td>Digital Wallet</td>\n",
       "      <td>10%</td>\n",
       "      <td>198</td>\n",
       "      <td>23</td>\n",
       "      <td>0</td>\n",
       "    </tr>\n",
       "    <tr>\n",
       "      <th>2</th>\n",
       "      <td>3</td>\n",
       "      <td>C6390</td>\n",
       "      <td>R2870</td>\n",
       "      <td>2024-01-31 05:54:35</td>\n",
       "      <td>2024-01-31 06:52:35</td>\n",
       "      <td>937</td>\n",
       "      <td>30</td>\n",
       "      <td>Cash on Delivery</td>\n",
       "      <td>15% New User</td>\n",
       "      <td>195</td>\n",
       "      <td>45</td>\n",
       "      <td>0</td>\n",
       "    </tr>\n",
       "    <tr>\n",
       "      <th>3</th>\n",
       "      <td>4</td>\n",
       "      <td>C6191</td>\n",
       "      <td>R2642</td>\n",
       "      <td>2024-01-16 22:52:49</td>\n",
       "      <td>2024-01-16 23:38:49</td>\n",
       "      <td>1463</td>\n",
       "      <td>50</td>\n",
       "      <td>Cash on Delivery</td>\n",
       "      <td>NaN</td>\n",
       "      <td>146</td>\n",
       "      <td>27</td>\n",
       "      <td>0</td>\n",
       "    </tr>\n",
       "    <tr>\n",
       "      <th>4</th>\n",
       "      <td>5</td>\n",
       "      <td>C6734</td>\n",
       "      <td>R2799</td>\n",
       "      <td>2024-01-29 01:19:30</td>\n",
       "      <td>2024-01-29 02:48:30</td>\n",
       "      <td>1992</td>\n",
       "      <td>30</td>\n",
       "      <td>Cash on Delivery</td>\n",
       "      <td>50 off Promo</td>\n",
       "      <td>130</td>\n",
       "      <td>50</td>\n",
       "      <td>0</td>\n",
       "    </tr>\n",
       "  </tbody>\n",
       "</table>\n",
       "</div>"
      ]
     },
     "execution_count": 10,
     "metadata": {},
     "output_type": "execute_result"
    }
   ],
   "execution_count": 10
  },
  {
   "cell_type": "code",
   "execution_count": 11,
   "metadata": {
    "id": "EACCGJi7UiEe",
    "tags": []
   },
   "outputs": [
    {
     "name": "stdout",
     "output_type": "stream",
     "text": [
      "<class 'pandas.core.frame.DataFrame'>\n",
      "RangeIndex: 1000 entries, 0 to 999\n",
      "Data columns (total 12 columns):\n",
      " #   Column                  Non-Null Count  Dtype \n",
      "---  ------                  --------------  ----- \n",
      " 0   Order ID                1000 non-null   int64 \n",
      " 1   Customer ID             1000 non-null   object\n",
      " 2   Restaurant ID           1000 non-null   object\n",
      " 3   Order Date and Time     1000 non-null   object\n",
      " 4   Delivery Date and Time  1000 non-null   object\n",
      " 5   Order Value             1000 non-null   int64 \n",
      " 6   Delivery Fee            1000 non-null   int64 \n",
      " 7   Payment Method          1000 non-null   object\n",
      " 8   Discounts and Offers    1000 non-null   object\n",
      " 9   Commission Fee          1000 non-null   int64 \n",
      " 10  Payment Processing Fee  1000 non-null   int64 \n",
      " 11  Refunds/Chargebacks     1000 non-null   int64 \n",
      "dtypes: int64(6), object(6)\n",
      "memory usage: 93.9+ KB\n"
     ]
    }
   ],
   "source": [
    "df.info()"
   ]
  },
  {
   "cell_type": "markdown",
   "metadata": {
    "id": "uG5wxxBRUiEe"
   },
   "source": [
    "Missing values in Discounts and Offers column, which is ok because not every order uses a discount. In fact, 815/1000 is a high discount usage rate."
   ]
  },
  {
   "cell_type": "code",
   "execution_count": 12,
   "metadata": {
    "id": "sR3zlr6jUiEe",
    "tags": []
   },
   "outputs": [
    {
     "data": {
      "application/vnd.microsoft.datawrangler.viewer.v0+json": {
       "columns": [
        {
         "name": "index",
         "rawType": "object",
         "type": "string"
        },
        {
         "name": "Order ID",
         "rawType": "float64",
         "type": "float"
        },
        {
         "name": "Order Value",
         "rawType": "float64",
         "type": "float"
        },
        {
         "name": "Delivery Fee",
         "rawType": "float64",
         "type": "float"
        },
        {
         "name": "Commission Fee",
         "rawType": "float64",
         "type": "float"
        },
        {
         "name": "Payment Processing Fee",
         "rawType": "float64",
         "type": "float"
        },
        {
         "name": "Refunds/Chargebacks",
         "rawType": "float64",
         "type": "float"
        }
       ],
       "ref": "3fd40811-a56f-4406-9972-1ce3a85f944a",
       "rows": [
        [
         "count",
         "1000.0",
         "1000.0",
         "1000.0",
         "1000.0",
         "1000.0",
         "1000.0"
        ],
        [
         "mean",
         "500.5",
         "1053.969",
         "28.62",
         "126.99",
         "29.832",
         "28.3"
        ],
        [
         "std",
         "288.8194360957494",
         "530.975339210636",
         "16.958277718659556",
         "43.06405011622119",
         "11.627165044281728",
         "49.614227511587366"
        ],
        [
         "min",
         "1.0",
         "104.0",
         "0.0",
         "50.0",
         "10.0",
         "0.0"
        ],
        [
         "25%",
         "250.75",
         "597.75",
         "20.0",
         "90.0",
         "20.0",
         "0.0"
        ],
        [
         "50%",
         "500.5",
         "1038.5",
         "30.0",
         "127.0",
         "30.0",
         "0.0"
        ],
        [
         "75%",
         "750.25",
         "1494.0",
         "40.0",
         "164.0",
         "40.0",
         "50.0"
        ],
        [
         "max",
         "1000.0",
         "1995.0",
         "50.0",
         "200.0",
         "50.0",
         "150.0"
        ]
       ],
       "shape": {
        "columns": 6,
        "rows": 8
       }
      },
      "text/html": [
       "<div>\n",
       "<style scoped>\n",
       "    .dataframe tbody tr th:only-of-type {\n",
       "        vertical-align: middle;\n",
       "    }\n",
       "\n",
       "    .dataframe tbody tr th {\n",
       "        vertical-align: top;\n",
       "    }\n",
       "\n",
       "    .dataframe thead th {\n",
       "        text-align: right;\n",
       "    }\n",
       "</style>\n",
       "<table border=\"1\" class=\"dataframe\">\n",
       "  <thead>\n",
       "    <tr style=\"text-align: right;\">\n",
       "      <th></th>\n",
       "      <th>Order ID</th>\n",
       "      <th>Order Value</th>\n",
       "      <th>Delivery Fee</th>\n",
       "      <th>Commission Fee</th>\n",
       "      <th>Payment Processing Fee</th>\n",
       "      <th>Refunds/Chargebacks</th>\n",
       "    </tr>\n",
       "  </thead>\n",
       "  <tbody>\n",
       "    <tr>\n",
       "      <th>count</th>\n",
       "      <td>1000.000000</td>\n",
       "      <td>1000.000000</td>\n",
       "      <td>1000.000000</td>\n",
       "      <td>1000.00000</td>\n",
       "      <td>1000.000000</td>\n",
       "      <td>1000.000000</td>\n",
       "    </tr>\n",
       "    <tr>\n",
       "      <th>mean</th>\n",
       "      <td>500.500000</td>\n",
       "      <td>1053.969000</td>\n",
       "      <td>28.620000</td>\n",
       "      <td>126.99000</td>\n",
       "      <td>29.832000</td>\n",
       "      <td>28.300000</td>\n",
       "    </tr>\n",
       "    <tr>\n",
       "      <th>std</th>\n",
       "      <td>288.819436</td>\n",
       "      <td>530.975339</td>\n",
       "      <td>16.958278</td>\n",
       "      <td>43.06405</td>\n",
       "      <td>11.627165</td>\n",
       "      <td>49.614228</td>\n",
       "    </tr>\n",
       "    <tr>\n",
       "      <th>min</th>\n",
       "      <td>1.000000</td>\n",
       "      <td>104.000000</td>\n",
       "      <td>0.000000</td>\n",
       "      <td>50.00000</td>\n",
       "      <td>10.000000</td>\n",
       "      <td>0.000000</td>\n",
       "    </tr>\n",
       "    <tr>\n",
       "      <th>25%</th>\n",
       "      <td>250.750000</td>\n",
       "      <td>597.750000</td>\n",
       "      <td>20.000000</td>\n",
       "      <td>90.00000</td>\n",
       "      <td>20.000000</td>\n",
       "      <td>0.000000</td>\n",
       "    </tr>\n",
       "    <tr>\n",
       "      <th>50%</th>\n",
       "      <td>500.500000</td>\n",
       "      <td>1038.500000</td>\n",
       "      <td>30.000000</td>\n",
       "      <td>127.00000</td>\n",
       "      <td>30.000000</td>\n",
       "      <td>0.000000</td>\n",
       "    </tr>\n",
       "    <tr>\n",
       "      <th>75%</th>\n",
       "      <td>750.250000</td>\n",
       "      <td>1494.000000</td>\n",
       "      <td>40.000000</td>\n",
       "      <td>164.00000</td>\n",
       "      <td>40.000000</td>\n",
       "      <td>50.000000</td>\n",
       "    </tr>\n",
       "    <tr>\n",
       "      <th>max</th>\n",
       "      <td>1000.000000</td>\n",
       "      <td>1995.000000</td>\n",
       "      <td>50.000000</td>\n",
       "      <td>200.00000</td>\n",
       "      <td>50.000000</td>\n",
       "      <td>150.000000</td>\n",
       "    </tr>\n",
       "  </tbody>\n",
       "</table>\n",
       "</div>"
      ],
      "text/plain": [
       "          Order ID  Order Value  Delivery Fee  Commission Fee  \\\n",
       "count  1000.000000  1000.000000   1000.000000      1000.00000   \n",
       "mean    500.500000  1053.969000     28.620000       126.99000   \n",
       "std     288.819436   530.975339     16.958278        43.06405   \n",
       "min       1.000000   104.000000      0.000000        50.00000   \n",
       "25%     250.750000   597.750000     20.000000        90.00000   \n",
       "50%     500.500000  1038.500000     30.000000       127.00000   \n",
       "75%     750.250000  1494.000000     40.000000       164.00000   \n",
       "max    1000.000000  1995.000000     50.000000       200.00000   \n",
       "\n",
       "       Payment Processing Fee  Refunds/Chargebacks  \n",
       "count             1000.000000          1000.000000  \n",
       "mean                29.832000            28.300000  \n",
       "std                 11.627165            49.614228  \n",
       "min                 10.000000             0.000000  \n",
       "25%                 20.000000             0.000000  \n",
       "50%                 30.000000             0.000000  \n",
       "75%                 40.000000            50.000000  \n",
       "max                 50.000000           150.000000  "
      ]
     },
     "execution_count": 12,
     "metadata": {},
     "output_type": "execute_result"
    }
   ],
   "source": [
    "df.describe()"
   ]
  },
  {
   "cell_type": "markdown",
   "metadata": {
    "id": "SxPk4GkZUiEf"
   },
   "source": [
    "Commission fee seems to be around 10% of order value"
   ]
  },
  {
   "cell_type": "code",
   "execution_count": 13,
   "metadata": {
    "id": "ihdCdI5kUiEf",
    "tags": []
   },
   "outputs": [
    {
     "data": {
      "text/plain": [
       "Index(['order_id', 'customer_id', 'restaurant_id', 'order_date_and_time',\n",
       "       'delivery_date_and_time', 'order_value', 'delivery_fee',\n",
       "       'payment_method', 'discounts_and_offers', 'commission_fee',\n",
       "       'payment_processing_fee', 'refunds/chargebacks'],\n",
       "      dtype='object')"
      ]
     },
     "execution_count": 13,
     "metadata": {},
     "output_type": "execute_result"
    }
   ],
   "source": [
    "# standardize column names\n",
    "df.columns = df.columns.str.lower().str.replace(' ','_')\n",
    "df.columns"
   ]
  },
  {
   "cell_type": "markdown",
   "metadata": {
    "id": "RtixfruhUiEf"
   },
   "source": [
    "# 2. Data preprocessing"
   ]
  },
  {
   "cell_type": "code",
   "execution_count": 14,
   "metadata": {
    "id": "zjLOCb1_UiEf",
    "tags": []
   },
   "outputs": [],
   "source": [
    "# convert [Order Date and Time] and [Delivery Date and Time] to datetime\n",
    "df['order_date_and_time'] = pd.to_datetime(df['order_date_and_time'])\n",
    "df['delivery_date_and_time'] = pd.to_datetime(df['delivery_date_and_time'])"
   ]
  },
  {
   "cell_type": "code",
   "execution_count": 15,
   "metadata": {
    "id": "SHSiTLw2UiEf",
    "tags": []
   },
   "outputs": [
    {
     "data": {
      "application/vnd.microsoft.datawrangler.viewer.v0+json": {
       "columns": [
        {
         "name": "index",
         "rawType": "object",
         "type": "string"
        },
        {
         "name": "0",
         "rawType": "object",
         "type": "string"
        }
       ],
       "ref": "acf7d71a-75ff-47e2-95d7-52ec1b580854",
       "rows": [
        [
         "order_id",
         "int64"
        ],
        [
         "customer_id",
         "object"
        ],
        [
         "restaurant_id",
         "object"
        ],
        [
         "order_date_and_time",
         "datetime64[ns]"
        ],
        [
         "delivery_date_and_time",
         "datetime64[ns]"
        ],
        [
         "order_value",
         "int64"
        ],
        [
         "delivery_fee",
         "int64"
        ],
        [
         "payment_method",
         "object"
        ],
        [
         "discounts_and_offers",
         "object"
        ],
        [
         "commission_fee",
         "int64"
        ],
        [
         "payment_processing_fee",
         "int64"
        ],
        [
         "refunds/chargebacks",
         "int64"
        ]
       ],
       "shape": {
        "columns": 1,
        "rows": 12
       }
      },
      "text/plain": [
       "order_id                           int64\n",
       "customer_id                       object\n",
       "restaurant_id                     object\n",
       "order_date_and_time       datetime64[ns]\n",
       "delivery_date_and_time    datetime64[ns]\n",
       "order_value                        int64\n",
       "delivery_fee                       int64\n",
       "payment_method                    object\n",
       "discounts_and_offers              object\n",
       "commission_fee                     int64\n",
       "payment_processing_fee             int64\n",
       "refunds/chargebacks                int64\n",
       "dtype: object"
      ]
     },
     "execution_count": 15,
     "metadata": {},
     "output_type": "execute_result"
    }
   ],
   "source": [
    "df.dtypes"
   ]
  },
  {
   "cell_type": "markdown",
   "metadata": {
    "execution": {
     "iopub.execute_input": "2024-05-25T03:21:39.44609Z",
     "iopub.status.busy": "2024-05-25T03:21:39.445691Z",
     "iopub.status.idle": "2024-05-25T03:21:39.453376Z",
     "shell.execute_reply": "2024-05-25T03:21:39.451774Z",
     "shell.execute_reply.started": "2024-05-25T03:21:39.446062Z"
    },
    "id": "Uz6pqRS5UiEf"
   },
   "source": [
    "Calculate Profits = Revenue - Cost"
   ]
  },
  {
   "cell_type": "code",
   "execution_count": null,
   "metadata": {
    "execution": {
     "iopub.execute_input": "2024-05-25T06:19:40.53935Z",
     "iopub.status.busy": "2024-05-25T06:19:40.538949Z",
     "iopub.status.idle": "2024-05-25T06:19:40.550001Z",
     "shell.execute_reply": "2024-05-25T06:19:40.548767Z",
     "shell.execute_reply.started": "2024-05-25T06:19:40.539319Z"
    },
    "id": "BdHcYygCUiEf"
   },
   "outputs": [
    {
     "data": {
      "application/vnd.microsoft.datawrangler.viewer.v0+json": {
       "columns": [
        {
         "name": "index",
         "rawType": "object",
         "type": "string"
        },
        {
         "name": "discounts_and_offers",
         "rawType": "int64",
         "type": "integer"
        }
       ],
       "ref": "2ebedb96-7685-41c7-83cc-3042bc5c6f72",
       "rows": [
        [
         "10%",
         "233"
        ],
        [
         "50 off Promo",
         "201"
        ],
        [
         "15% New User",
         "198"
        ],
        [
         "None",
         "185"
        ],
        [
         "5% on App",
         "183"
        ]
       ],
       "shape": {
        "columns": 1,
        "rows": 5
       }
      },
      "text/plain": [
       "10%             233\n",
       "50 off Promo    201\n",
       "15% New User    198\n",
       "None            185\n",
       "5% on App       183\n",
       "Name: discounts_and_offers, dtype: int64"
      ]
     },
     "execution_count": 16,
     "metadata": {},
     "output_type": "execute_result"
    }
   ],
   "source": [
    "# Costs = Delivery Fee + Payment Processing Fee + Discount Amount, where total discount includes ['discounts and offers'] & ['refunds/chargebacks']\n",
    "\n",
    "# Check ['discounts and offer'] column\n",
    "df['discounts_and_offers'].value_counts()"
   ]
  },
  {
   "cell_type": "code",
   "execution_count": 17,
   "metadata": {
    "execution": {
     "iopub.execute_input": "2024-05-25T06:19:40.574982Z",
     "iopub.status.busy": "2024-05-25T06:19:40.57367Z",
     "iopub.status.idle": "2024-05-25T06:19:40.59709Z",
     "shell.execute_reply": "2024-05-25T06:19:40.595614Z",
     "shell.execute_reply.started": "2024-05-25T06:19:40.574941Z"
    },
    "id": "8NSsJ1QCUiEf"
   },
   "outputs": [
    {
     "data": {
      "application/vnd.microsoft.datawrangler.viewer.v0+json": {
       "columns": [
        {
         "name": "index",
         "rawType": "int64",
         "type": "integer"
        },
        {
         "name": "discount_pct",
         "rawType": "int64",
         "type": "integer"
        },
        {
         "name": "discount_cash",
         "rawType": "int64",
         "type": "integer"
        }
       ],
       "ref": "bb1ac295-f51e-4017-be09-dfaceaa2595d",
       "rows": [
        [
         "0",
         "5",
         "0"
        ],
        [
         "1",
         "10",
         "0"
        ],
        [
         "2",
         "15",
         "0"
        ],
        [
         "3",
         "0",
         "0"
        ],
        [
         "4",
         "0",
         "50"
        ],
        [
         "5",
         "10",
         "0"
        ],
        [
         "6",
         "5",
         "0"
        ],
        [
         "7",
         "10",
         "0"
        ],
        [
         "8",
         "5",
         "0"
        ],
        [
         "9",
         "10",
         "0"
        ],
        [
         "10",
         "5",
         "0"
        ],
        [
         "11",
         "15",
         "0"
        ],
        [
         "12",
         "0",
         "0"
        ],
        [
         "13",
         "15",
         "0"
        ],
        [
         "14",
         "0",
         "0"
        ],
        [
         "15",
         "15",
         "0"
        ],
        [
         "16",
         "15",
         "0"
        ],
        [
         "17",
         "10",
         "0"
        ],
        [
         "18",
         "0",
         "50"
        ],
        [
         "19",
         "5",
         "0"
        ],
        [
         "20",
         "5",
         "0"
        ],
        [
         "21",
         "5",
         "0"
        ],
        [
         "22",
         "0",
         "0"
        ],
        [
         "23",
         "5",
         "0"
        ],
        [
         "24",
         "5",
         "0"
        ],
        [
         "25",
         "10",
         "0"
        ],
        [
         "26",
         "15",
         "0"
        ],
        [
         "27",
         "5",
         "0"
        ],
        [
         "28",
         "0",
         "50"
        ],
        [
         "29",
         "5",
         "0"
        ],
        [
         "30",
         "0",
         "0"
        ],
        [
         "31",
         "0",
         "0"
        ],
        [
         "32",
         "0",
         "0"
        ],
        [
         "33",
         "5",
         "0"
        ],
        [
         "34",
         "10",
         "0"
        ],
        [
         "35",
         "0",
         "50"
        ],
        [
         "36",
         "5",
         "0"
        ],
        [
         "37",
         "10",
         "0"
        ],
        [
         "38",
         "10",
         "0"
        ],
        [
         "39",
         "5",
         "0"
        ],
        [
         "40",
         "5",
         "0"
        ],
        [
         "41",
         "10",
         "0"
        ],
        [
         "42",
         "10",
         "0"
        ],
        [
         "43",
         "10",
         "0"
        ],
        [
         "44",
         "5",
         "0"
        ],
        [
         "45",
         "10",
         "0"
        ],
        [
         "46",
         "0",
         "0"
        ],
        [
         "47",
         "5",
         "0"
        ],
        [
         "48",
         "0",
         "0"
        ],
        [
         "49",
         "15",
         "0"
        ]
       ],
       "shape": {
        "columns": 2,
        "rows": 1000
       }
      },
      "text/html": [
       "<div>\n",
       "<style scoped>\n",
       "    .dataframe tbody tr th:only-of-type {\n",
       "        vertical-align: middle;\n",
       "    }\n",
       "\n",
       "    .dataframe tbody tr th {\n",
       "        vertical-align: top;\n",
       "    }\n",
       "\n",
       "    .dataframe thead th {\n",
       "        text-align: right;\n",
       "    }\n",
       "</style>\n",
       "<table border=\"1\" class=\"dataframe\">\n",
       "  <thead>\n",
       "    <tr style=\"text-align: right;\">\n",
       "      <th></th>\n",
       "      <th>discount_pct</th>\n",
       "      <th>discount_cash</th>\n",
       "    </tr>\n",
       "  </thead>\n",
       "  <tbody>\n",
       "    <tr>\n",
       "      <th>0</th>\n",
       "      <td>5</td>\n",
       "      <td>0</td>\n",
       "    </tr>\n",
       "    <tr>\n",
       "      <th>1</th>\n",
       "      <td>10</td>\n",
       "      <td>0</td>\n",
       "    </tr>\n",
       "    <tr>\n",
       "      <th>2</th>\n",
       "      <td>15</td>\n",
       "      <td>0</td>\n",
       "    </tr>\n",
       "    <tr>\n",
       "      <th>3</th>\n",
       "      <td>0</td>\n",
       "      <td>0</td>\n",
       "    </tr>\n",
       "    <tr>\n",
       "      <th>4</th>\n",
       "      <td>0</td>\n",
       "      <td>50</td>\n",
       "    </tr>\n",
       "    <tr>\n",
       "      <th>...</th>\n",
       "      <td>...</td>\n",
       "      <td>...</td>\n",
       "    </tr>\n",
       "    <tr>\n",
       "      <th>995</th>\n",
       "      <td>5</td>\n",
       "      <td>0</td>\n",
       "    </tr>\n",
       "    <tr>\n",
       "      <th>996</th>\n",
       "      <td>0</td>\n",
       "      <td>0</td>\n",
       "    </tr>\n",
       "    <tr>\n",
       "      <th>997</th>\n",
       "      <td>0</td>\n",
       "      <td>0</td>\n",
       "    </tr>\n",
       "    <tr>\n",
       "      <th>998</th>\n",
       "      <td>15</td>\n",
       "      <td>0</td>\n",
       "    </tr>\n",
       "    <tr>\n",
       "      <th>999</th>\n",
       "      <td>15</td>\n",
       "      <td>0</td>\n",
       "    </tr>\n",
       "  </tbody>\n",
       "</table>\n",
       "<p>1000 rows × 2 columns</p>\n",
       "</div>"
      ],
      "text/plain": [
       "     discount_pct  discount_cash\n",
       "0               5              0\n",
       "1              10              0\n",
       "2              15              0\n",
       "3               0              0\n",
       "4               0             50\n",
       "..            ...            ...\n",
       "995             5              0\n",
       "996             0              0\n",
       "997             0              0\n",
       "998            15              0\n",
       "999            15              0\n",
       "\n",
       "[1000 rows x 2 columns]"
      ]
     },
     "execution_count": 17,
     "metadata": {},
     "output_type": "execute_result"
    }
   ],
   "source": [
    "# extract percentage discounts\n",
    "def extract_percentage(offer):\n",
    "    offer = str(offer)\n",
    "    if '%' in offer:\n",
    "        return int(str(offer).split('%')[0])\n",
    "    return 0\n",
    "\n",
    "# extract cash discounts\n",
    "def extract_cash(offer):\n",
    "    offer = str(offer)\n",
    "    words = offer.split()\n",
    "    for word in words:\n",
    "        if word.isdigit():\n",
    "            return int(word)\n",
    "    return 0\n",
    "\n",
    "# Create new columns\n",
    "df['discount_pct'] = df['discounts_and_offers'].apply(extract_percentage)\n",
    "df['discount_cash'] = df['discounts_and_offers'].apply(extract_cash)\n",
    "\n",
    "df[['discount_pct', 'discount_cash']]"
   ]
  },
  {
   "cell_type": "code",
   "execution_count": 18,
   "metadata": {
    "execution": {
     "iopub.execute_input": "2024-05-25T06:19:40.61043Z",
     "iopub.status.busy": "2024-05-25T06:19:40.609947Z",
     "iopub.status.idle": "2024-05-25T06:19:40.936081Z",
     "shell.execute_reply": "2024-05-25T06:19:40.934736Z",
     "shell.execute_reply.started": "2024-05-25T06:19:40.610394Z"
    },
    "id": "oj-zxjT9UiEf"
   },
   "outputs": [
    {
     "data": {
      "text/plain": [
       "<matplotlib.legend.Legend at 0x7fff5dab1910>"
      ]
     },
     "execution_count": 18,
     "metadata": {},
     "output_type": "execute_result"
    },
    {
     "data": {
      "image/png": "[encoded data removed]",
      "text/plain": [
       "<Figure size 432x288 with 1 Axes>"
      ]
     },
     "metadata": {
      "needs_background": "light"
     },
     "output_type": "display_data"
    }
   ],
   "source": [
    "plt.figure(figsize=(6,4))\n",
    "sns.histplot(df['delivery_fee'], kde=False, color='blue', label='Delivery Fee', alpha=0.5, element=\"step\")\n",
    "sns.histplot(df['payment_processing_fee'], kde=False, color='red', label='Payment Processing Fee', alpha=0.5, element=\"step\")\n",
    "\n",
    "plt.legend(loc='upper left', bbox_to_anchor=(1,1))"
   ]
  },
  {
   "cell_type": "code",
   "execution_count": 19,
   "metadata": {
    "execution": {
     "iopub.execute_input": "2024-05-25T06:42:49.125908Z",
     "iopub.status.busy": "2024-05-25T06:42:49.125438Z",
     "iopub.status.idle": "2024-05-25T06:42:49.153187Z",
     "shell.execute_reply": "2024-05-25T06:42:49.151723Z",
     "shell.execute_reply.started": "2024-05-25T06:42:49.125858Z"
    },
    "id": "7jEPTE1aUiEf"
   },
   "outputs": [
    {
     "data": {
      "application/vnd.microsoft.datawrangler.viewer.v0+json": {
       "columns": [
        {
         "name": "index",
         "rawType": "int64",
         "type": "integer"
        },
        {
         "name": "order_id",
         "rawType": "int64",
         "type": "integer"
        },
        {
         "name": "customer_id",
         "rawType": "object",
         "type": "string"
        },
        {
         "name": "restaurant_id",
         "rawType": "object",
         "type": "string"
        },
        {
         "name": "order_date_and_time",
         "rawType": "datetime64[ns]",
         "type": "datetime"
        },
        {
         "name": "delivery_date_and_time",
         "rawType": "datetime64[ns]",
         "type": "datetime"
        },
        {
         "name": "order_value",
         "rawType": "int64",
         "type": "integer"
        },
        {
         "name": "delivery_fee",
         "rawType": "int64",
         "type": "integer"
        },
        {
         "name": "payment_method",
         "rawType": "object",
         "type": "string"
        },
        {
         "name": "discounts_and_offers",
         "rawType": "object",
         "type": "string"
        },
        {
         "name": "commission_fee",
         "rawType": "int64",
         "type": "integer"
        },
        {
         "name": "payment_processing_fee",
         "rawType": "int64",
         "type": "integer"
        },
        {
         "name": "refunds/chargebacks",
         "rawType": "int64",
         "type": "integer"
        },
        {
         "name": "discount_pct",
         "rawType": "int64",
         "type": "integer"
        },
        {
         "name": "discount_cash",
         "rawType": "int64",
         "type": "integer"
        },
        {
         "name": "cost",
         "rawType": "float64",
         "type": "float"
        }
       ],
       "ref": "08985015-9188-4d7e-964c-bf9e0fc835f0",
       "rows": [
        [
         "0",
         "1",
         "C8270",
         "R2924",
         "2024-02-01 01:11:52",
         "2024-02-01 02:39:52",
         "1914",
         "0",
         "Credit Card",
         "5% on App",
         "150",
         "47",
         "0",
         "5",
         "0",
         "49.35"
        ],
        [
         "1",
         "2",
         "C1860",
         "R2054",
         "2024-02-02 22:11:04",
         "2024-02-02 22:46:04",
         "986",
         "40",
         "Digital Wallet",
         "10%",
         "198",
         "23",
         "0",
         "10",
         "0",
         "69.3"
        ],
        [
         "2",
         "3",
         "C6390",
         "R2870",
         "2024-01-31 05:54:35",
         "2024-01-31 06:52:35",
         "937",
         "30",
         "Cash on Delivery",
         "15% New User",
         "195",
         "45",
         "0",
         "15",
         "0",
         "86.25"
        ],
        [
         "3",
         "4",
         "C6191",
         "R2642",
         "2024-01-16 22:52:49",
         "2024-01-16 23:38:49",
         "1463",
         "50",
         "Cash on Delivery",
         "None",
         "146",
         "27",
         "0",
         "0",
         "0",
         "77.0"
        ],
        [
         "4",
         "5",
         "C6734",
         "R2799",
         "2024-01-29 01:19:30",
         "2024-01-29 02:48:30",
         "1992",
         "30",
         "Cash on Delivery",
         "50 off Promo",
         "130",
         "50",
         "0",
         "0",
         "50",
         "130.0"
        ]
       ],
       "shape": {
        "columns": 15,
        "rows": 5
       }
      },
      "text/html": [
       "<div>\n",
       "<style scoped>\n",
       "    .dataframe tbody tr th:only-of-type {\n",
       "        vertical-align: middle;\n",
       "    }\n",
       "\n",
       "    .dataframe tbody tr th {\n",
       "        vertical-align: top;\n",
       "    }\n",
       "\n",
       "    .dataframe thead th {\n",
       "        text-align: right;\n",
       "    }\n",
       "</style>\n",
       "<table border=\"1\" class=\"dataframe\">\n",
       "  <thead>\n",
       "    <tr style=\"text-align: right;\">\n",
       "      <th></th>\n",
       "      <th>order_id</th>\n",
       "      <th>customer_id</th>\n",
       "      <th>restaurant_id</th>\n",
       "      <th>order_date_and_time</th>\n",
       "      <th>delivery_date_and_time</th>\n",
       "      <th>order_value</th>\n",
       "      <th>delivery_fee</th>\n",
       "      <th>payment_method</th>\n",
       "      <th>discounts_and_offers</th>\n",
       "      <th>commission_fee</th>\n",
       "      <th>payment_processing_fee</th>\n",
       "      <th>refunds/chargebacks</th>\n",
       "      <th>discount_pct</th>\n",
       "      <th>discount_cash</th>\n",
       "      <th>cost</th>\n",
       "    </tr>\n",
       "  </thead>\n",
       "  <tbody>\n",
       "    <tr>\n",
       "      <th>0</th>\n",
       "      <td>1</td>\n",
       "      <td>C8270</td>\n",
       "      <td>R2924</td>\n",
       "      <td>2024-02-01 01:11:52</td>\n",
       "      <td>2024-02-01 02:39:52</td>\n",
       "      <td>1914</td>\n",
       "      <td>0</td>\n",
       "      <td>Credit Card</td>\n",
       "      <td>5% on App</td>\n",
       "      <td>150</td>\n",
       "      <td>47</td>\n",
       "      <td>0</td>\n",
       "      <td>5</td>\n",
       "      <td>0</td>\n",
       "      <td>49.35</td>\n",
       "    </tr>\n",
       "    <tr>\n",
       "      <th>1</th>\n",
       "      <td>2</td>\n",
       "      <td>C1860</td>\n",
       "      <td>R2054</td>\n",
       "      <td>2024-02-02 22:11:04</td>\n",
       "      <td>2024-02-02 22:46:04</td>\n",
       "      <td>986</td>\n",
       "      <td>40</td>\n",
       "      <td>Digital Wallet</td>\n",
       "      <td>10%</td>\n",
       "      <td>198</td>\n",
       "      <td>23</td>\n",
       "      <td>0</td>\n",
       "      <td>10</td>\n",
       "      <td>0</td>\n",
       "      <td>69.30</td>\n",
       "    </tr>\n",
       "    <tr>\n",
       "      <th>2</th>\n",
       "      <td>3</td>\n",
       "      <td>C6390</td>\n",
       "      <td>R2870</td>\n",
       "      <td>2024-01-31 05:54:35</td>\n",
       "      <td>2024-01-31 06:52:35</td>\n",
       "      <td>937</td>\n",
       "      <td>30</td>\n",
       "      <td>Cash on Delivery</td>\n",
       "      <td>15% New User</td>\n",
       "      <td>195</td>\n",
       "      <td>45</td>\n",
       "      <td>0</td>\n",
       "      <td>15</td>\n",
       "      <td>0</td>\n",
       "      <td>86.25</td>\n",
       "    </tr>\n",
       "    <tr>\n",
       "      <th>3</th>\n",
       "      <td>4</td>\n",
       "      <td>C6191</td>\n",
       "      <td>R2642</td>\n",
       "      <td>2024-01-16 22:52:49</td>\n",
       "      <td>2024-01-16 23:38:49</td>\n",
       "      <td>1463</td>\n",
       "      <td>50</td>\n",
       "      <td>Cash on Delivery</td>\n",
       "      <td>None</td>\n",
       "      <td>146</td>\n",
       "      <td>27</td>\n",
       "      <td>0</td>\n",
       "      <td>0</td>\n",
       "      <td>0</td>\n",
       "      <td>77.00</td>\n",
       "    </tr>\n",
       "    <tr>\n",
       "      <th>4</th>\n",
       "      <td>5</td>\n",
       "      <td>C6734</td>\n",
       "      <td>R2799</td>\n",
       "      <td>2024-01-29 01:19:30</td>\n",
       "      <td>2024-01-29 02:48:30</td>\n",
       "      <td>1992</td>\n",
       "      <td>30</td>\n",
       "      <td>Cash on Delivery</td>\n",
       "      <td>50 off Promo</td>\n",
       "      <td>130</td>\n",
       "      <td>50</td>\n",
       "      <td>0</td>\n",
       "      <td>0</td>\n",
       "      <td>50</td>\n",
       "      <td>130.00</td>\n",
       "    </tr>\n",
       "  </tbody>\n",
       "</table>\n",
       "</div>"
      ],
      "text/plain": [
       "   order_id customer_id restaurant_id order_date_and_time  \\\n",
       "0         1       C8270         R2924 2024-02-01 01:11:52   \n",
       "1         2       C1860         R2054 2024-02-02 22:11:04   \n",
       "2         3       C6390         R2870 2024-01-31 05:54:35   \n",
       "3         4       C6191         R2642 2024-01-16 22:52:49   \n",
       "4         5       C6734         R2799 2024-01-29 01:19:30   \n",
       "\n",
       "  delivery_date_and_time  order_value  delivery_fee    payment_method  \\\n",
       "0    2024-02-01 02:39:52         1914             0       Credit Card   \n",
       "1    2024-02-02 22:46:04          986            40    Digital Wallet   \n",
       "2    2024-01-31 06:52:35          937            30  Cash on Delivery   \n",
       "3    2024-01-16 23:38:49         1463            50  Cash on Delivery   \n",
       "4    2024-01-29 02:48:30         1992            30  Cash on Delivery   \n",
       "\n",
       "  discounts_and_offers  commission_fee  payment_processing_fee  \\\n",
       "0            5% on App             150                      47   \n",
       "1                  10%             198                      23   \n",
       "2         15% New User             195                      45   \n",
       "3                 None             146                      27   \n",
       "4         50 off Promo             130                      50   \n",
       "\n",
       "   refunds/chargebacks  discount_pct  discount_cash    cost  \n",
       "0                    0             5              0   49.35  \n",
       "1                    0            10              0   69.30  \n",
       "2                    0            15              0   86.25  \n",
       "3                    0             0              0   77.00  \n",
       "4                    0             0             50  130.00  "
      ]
     },
     "execution_count": 19,
     "metadata": {},
     "output_type": "execute_result"
    }
   ],
   "source": [
    "# cost = (delivery fee + payment processing fee + discounts_cash) * (discounts_pct)\n",
    "df['cost'] = (df['delivery_fee'] + df['payment_processing_fee'] + df['discount_cash']) * (100 + df['discount_pct']) / 100\n",
    "df.head()"
   ]
  },
  {
   "cell_type": "code",
   "execution_count": 20,
   "metadata": {
    "execution": {
     "iopub.execute_input": "2024-05-25T06:42:49.941253Z",
     "iopub.status.busy": "2024-05-25T06:42:49.940844Z",
     "iopub.status.idle": "2024-05-25T06:42:49.967686Z",
     "shell.execute_reply": "2024-05-25T06:42:49.966346Z",
     "shell.execute_reply.started": "2024-05-25T06:42:49.941219Z"
    },
    "id": "Arfr6zyiUiEf"
   },
   "outputs": [
    {
     "data": {
      "application/vnd.microsoft.datawrangler.viewer.v0+json": {
       "columns": [
        {
         "name": "index",
         "rawType": "int64",
         "type": "integer"
        },
        {
         "name": "order_id",
         "rawType": "int64",
         "type": "integer"
        },
        {
         "name": "customer_id",
         "rawType": "object",
         "type": "string"
        },
        {
         "name": "restaurant_id",
         "rawType": "object",
         "type": "string"
        },
        {
         "name": "order_date_and_time",
         "rawType": "datetime64[ns]",
         "type": "datetime"
        },
        {
         "name": "delivery_date_and_time",
         "rawType": "datetime64[ns]",
         "type": "datetime"
        },
        {
         "name": "order_value",
         "rawType": "int64",
         "type": "integer"
        },
        {
         "name": "delivery_fee",
         "rawType": "int64",
         "type": "integer"
        },
        {
         "name": "payment_method",
         "rawType": "object",
         "type": "string"
        },
        {
         "name": "discounts_and_offers",
         "rawType": "object",
         "type": "string"
        },
        {
         "name": "commission_fee",
         "rawType": "int64",
         "type": "integer"
        },
        {
         "name": "payment_processing_fee",
         "rawType": "int64",
         "type": "integer"
        },
        {
         "name": "refunds/chargebacks",
         "rawType": "int64",
         "type": "integer"
        },
        {
         "name": "discount_pct",
         "rawType": "int64",
         "type": "integer"
        },
        {
         "name": "discount_cash",
         "rawType": "int64",
         "type": "integer"
        },
        {
         "name": "cost",
         "rawType": "float64",
         "type": "float"
        },
        {
         "name": "revenue",
         "rawType": "int64",
         "type": "integer"
        },
        {
         "name": "profits",
         "rawType": "float64",
         "type": "float"
        },
        {
         "name": "have_profits",
         "rawType": "int64",
         "type": "integer"
        }
       ],
       "ref": "addeb52d-bd0e-486a-83f6-fdb50baf59a0",
       "rows": [
        [
         "0",
         "1",
         "C8270",
         "R2924",
         "2024-02-01 01:11:52",
         "2024-02-01 02:39:52",
         "1914",
         "0",
         "Credit Card",
         "5% on App",
         "150",
         "47",
         "0",
         "5",
         "0",
         "49.35",
         "150",
         "100.65",
         "1"
        ],
        [
         "1",
         "2",
         "C1860",
         "R2054",
         "2024-02-02 22:11:04",
         "2024-02-02 22:46:04",
         "986",
         "40",
         "Digital Wallet",
         "10%",
         "198",
         "23",
         "0",
         "10",
         "0",
         "69.3",
         "198",
         "128.7",
         "1"
        ],
        [
         "2",
         "3",
         "C6390",
         "R2870",
         "2024-01-31 05:54:35",
         "2024-01-31 06:52:35",
         "937",
         "30",
         "Cash on Delivery",
         "15% New User",
         "195",
         "45",
         "0",
         "15",
         "0",
         "86.25",
         "195",
         "108.75",
         "1"
        ],
        [
         "3",
         "4",
         "C6191",
         "R2642",
         "2024-01-16 22:52:49",
         "2024-01-16 23:38:49",
         "1463",
         "50",
         "Cash on Delivery",
         "None",
         "146",
         "27",
         "0",
         "0",
         "0",
         "77.0",
         "146",
         "69.0",
         "1"
        ],
        [
         "4",
         "5",
         "C6734",
         "R2799",
         "2024-01-29 01:19:30",
         "2024-01-29 02:48:30",
         "1992",
         "30",
         "Cash on Delivery",
         "50 off Promo",
         "130",
         "50",
         "0",
         "0",
         "50",
         "130.0",
         "130",
         "0.0",
         "0"
        ]
       ],
       "shape": {
        "columns": 18,
        "rows": 5
       }
      },
      "text/html": [
       "<div>\n",
       "<style scoped>\n",
       "    .dataframe tbody tr th:only-of-type {\n",
       "        vertical-align: middle;\n",
       "    }\n",
       "\n",
       "    .dataframe tbody tr th {\n",
       "        vertical-align: top;\n",
       "    }\n",
       "\n",
       "    .dataframe thead th {\n",
       "        text-align: right;\n",
       "    }\n",
       "</style>\n",
       "<table border=\"1\" class=\"dataframe\">\n",
       "  <thead>\n",
       "    <tr style=\"text-align: right;\">\n",
       "      <th></th>\n",
       "      <th>order_id</th>\n",
       "      <th>customer_id</th>\n",
       "      <th>restaurant_id</th>\n",
       "      <th>order_date_and_time</th>\n",
       "      <th>delivery_date_and_time</th>\n",
       "      <th>order_value</th>\n",
       "      <th>delivery_fee</th>\n",
       "      <th>payment_method</th>\n",
       "      <th>discounts_and_offers</th>\n",
       "      <th>commission_fee</th>\n",
       "      <th>payment_processing_fee</th>\n",
       "      <th>refunds/chargebacks</th>\n",
       "      <th>discount_pct</th>\n",
       "      <th>discount_cash</th>\n",
       "      <th>cost</th>\n",
       "      <th>revenue</th>\n",
       "      <th>profits</th>\n",
       "      <th>have_profits</th>\n",
       "    </tr>\n",
       "  </thead>\n",
       "  <tbody>\n",
       "    <tr>\n",
       "      <th>0</th>\n",
       "      <td>1</td>\n",
       "      <td>C8270</td>\n",
       "      <td>R2924</td>\n",
       "      <td>2024-02-01 01:11:52</td>\n",
       "      <td>2024-02-01 02:39:52</td>\n",
       "      <td>1914</td>\n",
       "      <td>0</td>\n",
       "      <td>Credit Card</td>\n",
       "      <td>5% on App</td>\n",
       "      <td>150</td>\n",
       "      <td>47</td>\n",
       "      <td>0</td>\n",
       "      <td>5</td>\n",
       "      <td>0</td>\n",
       "      <td>49.35</td>\n",
       "      <td>150</td>\n",
       "      <td>100.65</td>\n",
       "      <td>1</td>\n",
       "    </tr>\n",
       "    <tr>\n",
       "      <th>1</th>\n",
       "      <td>2</td>\n",
       "      <td>C1860</td>\n",
       "      <td>R2054</td>\n",
       "      <td>2024-02-02 22:11:04</td>\n",
       "      <td>2024-02-02 22:46:04</td>\n",
       "      <td>986</td>\n",
       "      <td>40</td>\n",
       "      <td>Digital Wallet</td>\n",
       "      <td>10%</td>\n",
       "      <td>198</td>\n",
       "      <td>23</td>\n",
       "      <td>0</td>\n",
       "      <td>10</td>\n",
       "      <td>0</td>\n",
       "      <td>69.30</td>\n",
       "      <td>198</td>\n",
       "      <td>128.70</td>\n",
       "      <td>1</td>\n",
       "    </tr>\n",
       "    <tr>\n",
       "      <th>2</th>\n",
       "      <td>3</td>\n",
       "      <td>C6390</td>\n",
       "      <td>R2870</td>\n",
       "      <td>2024-01-31 05:54:35</td>\n",
       "      <td>2024-01-31 06:52:35</td>\n",
       "      <td>937</td>\n",
       "      <td>30</td>\n",
       "      <td>Cash on Delivery</td>\n",
       "      <td>15% New User</td>\n",
       "      <td>195</td>\n",
       "      <td>45</td>\n",
       "      <td>0</td>\n",
       "      <td>15</td>\n",
       "      <td>0</td>\n",
       "      <td>86.25</td>\n",
       "      <td>195</td>\n",
       "      <td>108.75</td>\n",
       "      <td>1</td>\n",
       "    </tr>\n",
       "    <tr>\n",
       "      <th>3</th>\n",
       "      <td>4</td>\n",
       "      <td>C6191</td>\n",
       "      <td>R2642</td>\n",
       "      <td>2024-01-16 22:52:49</td>\n",
       "      <td>2024-01-16 23:38:49</td>\n",
       "      <td>1463</td>\n",
       "      <td>50</td>\n",
       "      <td>Cash on Delivery</td>\n",
       "      <td>None</td>\n",
       "      <td>146</td>\n",
       "      <td>27</td>\n",
       "      <td>0</td>\n",
       "      <td>0</td>\n",
       "      <td>0</td>\n",
       "      <td>77.00</td>\n",
       "      <td>146</td>\n",
       "      <td>69.00</td>\n",
       "      <td>1</td>\n",
       "    </tr>\n",
       "    <tr>\n",
       "      <th>4</th>\n",
       "      <td>5</td>\n",
       "      <td>C6734</td>\n",
       "      <td>R2799</td>\n",
       "      <td>2024-01-29 01:19:30</td>\n",
       "      <td>2024-01-29 02:48:30</td>\n",
       "      <td>1992</td>\n",
       "      <td>30</td>\n",
       "      <td>Cash on Delivery</td>\n",
       "      <td>50 off Promo</td>\n",
       "      <td>130</td>\n",
       "      <td>50</td>\n",
       "      <td>0</td>\n",
       "      <td>0</td>\n",
       "      <td>50</td>\n",
       "      <td>130.00</td>\n",
       "      <td>130</td>\n",
       "      <td>0.00</td>\n",
       "      <td>0</td>\n",
       "    </tr>\n",
       "  </tbody>\n",
       "</table>\n",
       "</div>"
      ],
      "text/plain": [
       "   order_id customer_id restaurant_id order_date_and_time  \\\n",
       "0         1       C8270         R2924 2024-02-01 01:11:52   \n",
       "1         2       C1860         R2054 2024-02-02 22:11:04   \n",
       "2         3       C6390         R2870 2024-01-31 05:54:35   \n",
       "3         4       C6191         R2642 2024-01-16 22:52:49   \n",
       "4         5       C6734         R2799 2024-01-29 01:19:30   \n",
       "\n",
       "  delivery_date_and_time  order_value  delivery_fee    payment_method  \\\n",
       "0    2024-02-01 02:39:52         1914             0       Credit Card   \n",
       "1    2024-02-02 22:46:04          986            40    Digital Wallet   \n",
       "2    2024-01-31 06:52:35          937            30  Cash on Delivery   \n",
       "3    2024-01-16 23:38:49         1463            50  Cash on Delivery   \n",
       "4    2024-01-29 02:48:30         1992            30  Cash on Delivery   \n",
       "\n",
       "  discounts_and_offers  commission_fee  payment_processing_fee  \\\n",
       "0            5% on App             150                      47   \n",
       "1                  10%             198                      23   \n",
       "2         15% New User             195                      45   \n",
       "3                 None             146                      27   \n",
       "4         50 off Promo             130                      50   \n",
       "\n",
       "   refunds/chargebacks  discount_pct  discount_cash    cost  revenue  profits  \\\n",
       "0                    0             5              0   49.35      150   100.65   \n",
       "1                    0            10              0   69.30      198   128.70   \n",
       "2                    0            15              0   86.25      195   108.75   \n",
       "3                    0             0              0   77.00      146    69.00   \n",
       "4                    0             0             50  130.00      130     0.00   \n",
       "\n",
       "   have_profits  \n",
       "0             1  \n",
       "1             1  \n",
       "2             1  \n",
       "3             1  \n",
       "4             0  "
      ]
     },
     "execution_count": 20,
     "metadata": {},
     "output_type": "execute_result"
    }
   ],
   "source": [
    "# revenue = commission fee\n",
    "df['revenue'] = df['commission_fee']\n",
    "\n",
    "# profits\n",
    "df['profits'] = df['revenue'] - df['cost']\n",
    "df['have_profits'] = df['profits'].apply(lambda x: 1 if x > 0 else 0)\n",
    "\n",
    "df.head()"
   ]
  },
  {
   "cell_type": "markdown",
   "metadata": {
    "id": "YiP9ZvM0UiEf"
   },
   "source": [
    "# 3. Exploratory data analysis"
   ]
  },
  {
   "cell_type": "markdown",
   "metadata": {
    "id": "lGVDMXH-UiEf"
   },
   "source": [
    "### Correlation matrix"
   ]
  },
  {
   "cell_type": "code",
   "execution_count": 21,
   "metadata": {
    "execution": {
     "iopub.execute_input": "2024-05-25T06:42:50.786562Z",
     "iopub.status.busy": "2024-05-25T06:42:50.785764Z",
     "iopub.status.idle": "2024-05-25T06:42:51.753712Z",
     "shell.execute_reply": "2024-05-25T06:42:51.752438Z",
     "shell.execute_reply.started": "2024-05-25T06:42:50.786525Z"
    },
    "id": "05UI3f3tUiEf"
   },
   "outputs": [
    {
     "data": {
      "text/plain": [
       "<AxesSubplot:>"
      ]
     },
     "execution_count": 21,
     "metadata": {},
     "output_type": "execute_result"
    },
    {
     "data": {
      "image/png": "[encoded data removed]",
      "text/plain": [
       "<Figure size 432x432 with 2 Axes>"
      ]
     },
     "metadata": {
      "needs_background": "light"
     },
     "output_type": "display_data"
    }
   ],
   "source": [
    "plt.figure(figsize=(6,6))\n",
    "sns.heatmap(df.select_dtypes(include=['number']).corr(), annot=True, fmt='.1f')"
   ]
  },
  {
   "cell_type": "markdown",
   "metadata": {
    "id": "CWq4bQJCUiEg"
   },
   "source": [
    "### Cost Analysis"
   ]
  },
  {
   "cell_type": "code",
   "execution_count": 22,
   "metadata": {
    "execution": {
     "iopub.execute_input": "2024-05-25T06:42:51.756347Z",
     "iopub.status.busy": "2024-05-25T06:42:51.755977Z",
     "iopub.status.idle": "2024-05-25T06:42:51.771401Z",
     "shell.execute_reply": "2024-05-25T06:42:51.770157Z",
     "shell.execute_reply.started": "2024-05-25T06:42:51.756315Z"
    },
    "id": "9TrOOJXhUiEg"
   },
   "outputs": [
    {
     "data": {
      "application/vnd.microsoft.datawrangler.viewer.v0+json": {
       "columns": [
        {
         "name": "index",
         "rawType": "int64",
         "type": "integer"
        },
        {
         "name": "cost",
         "rawType": "float64",
         "type": "float"
        },
        {
         "name": "discounts_and_offers",
         "rawType": "object",
         "type": "string"
        },
        {
         "name": "profits",
         "rawType": "float64",
         "type": "float"
        }
       ],
       "ref": "81db6870-7db3-4428-8669-799a5e38b8ae",
       "rows": [
        [
         "0",
         "49.35",
         "5% on App",
         "100.65"
        ],
        [
         "1",
         "69.3",
         "10%",
         "128.7"
        ],
        [
         "2",
         "86.25",
         "15% New User",
         "108.75"
        ],
        [
         "3",
         "77.0",
         "None",
         "69.0"
        ],
        [
         "4",
         "130.0",
         "50 off Promo",
         "0.0"
        ]
       ],
       "shape": {
        "columns": 3,
        "rows": 5
       }
      },
      "text/html": [
       "<div>\n",
       "<style scoped>\n",
       "    .dataframe tbody tr th:only-of-type {\n",
       "        vertical-align: middle;\n",
       "    }\n",
       "\n",
       "    .dataframe tbody tr th {\n",
       "        vertical-align: top;\n",
       "    }\n",
       "\n",
       "    .dataframe thead th {\n",
       "        text-align: right;\n",
       "    }\n",
       "</style>\n",
       "<table border=\"1\" class=\"dataframe\">\n",
       "  <thead>\n",
       "    <tr style=\"text-align: right;\">\n",
       "      <th></th>\n",
       "      <th>cost</th>\n",
       "      <th>discounts_and_offers</th>\n",
       "      <th>profits</th>\n",
       "    </tr>\n",
       "  </thead>\n",
       "  <tbody>\n",
       "    <tr>\n",
       "      <th>0</th>\n",
       "      <td>49.35</td>\n",
       "      <td>5% on App</td>\n",
       "      <td>100.65</td>\n",
       "    </tr>\n",
       "    <tr>\n",
       "      <th>1</th>\n",
       "      <td>69.30</td>\n",
       "      <td>10%</td>\n",
       "      <td>128.70</td>\n",
       "    </tr>\n",
       "    <tr>\n",
       "      <th>2</th>\n",
       "      <td>86.25</td>\n",
       "      <td>15% New User</td>\n",
       "      <td>108.75</td>\n",
       "    </tr>\n",
       "    <tr>\n",
       "      <th>3</th>\n",
       "      <td>77.00</td>\n",
       "      <td>None</td>\n",
       "      <td>69.00</td>\n",
       "    </tr>\n",
       "    <tr>\n",
       "      <th>4</th>\n",
       "      <td>130.00</td>\n",
       "      <td>50 off Promo</td>\n",
       "      <td>0.00</td>\n",
       "    </tr>\n",
       "  </tbody>\n",
       "</table>\n",
       "</div>"
      ],
      "text/plain": [
       "     cost discounts_and_offers  profits\n",
       "0   49.35            5% on App   100.65\n",
       "1   69.30                  10%   128.70\n",
       "2   86.25         15% New User   108.75\n",
       "3   77.00                 None    69.00\n",
       "4  130.00         50 off Promo     0.00"
      ]
     },
     "execution_count": 22,
     "metadata": {},
     "output_type": "execute_result"
    }
   ],
   "source": [
    "# offers vs cost and profit\n",
    "df[['cost', 'discounts_and_offers', 'profits']].head()"
   ]
  },
  {
   "cell_type": "code",
   "execution_count": 23,
   "metadata": {
    "execution": {
     "iopub.execute_input": "2024-05-25T06:43:01.609197Z",
     "iopub.status.busy": "2024-05-25T06:43:01.608705Z",
     "iopub.status.idle": "2024-05-25T06:43:01.635259Z",
     "shell.execute_reply": "2024-05-25T06:43:01.633606Z",
     "shell.execute_reply.started": "2024-05-25T06:43:01.609162Z"
    },
    "id": "6X7j1L5jUiEg"
   },
   "outputs": [
    {
     "data": {
      "application/vnd.microsoft.datawrangler.viewer.v0+json": {
       "columns": [
        {
         "name": "index",
         "rawType": "int64",
         "type": "integer"
        },
        {
         "name": "order_id",
         "rawType": "int64",
         "type": "integer"
        },
        {
         "name": "customer_id",
         "rawType": "object",
         "type": "string"
        },
        {
         "name": "restaurant_id",
         "rawType": "object",
         "type": "string"
        },
        {
         "name": "order_date_and_time",
         "rawType": "datetime64[ns]",
         "type": "datetime"
        },
        {
         "name": "delivery_date_and_time",
         "rawType": "datetime64[ns]",
         "type": "datetime"
        },
        {
         "name": "order_value",
         "rawType": "int64",
         "type": "integer"
        },
        {
         "name": "delivery_fee",
         "rawType": "int64",
         "type": "integer"
        },
        {
         "name": "payment_method",
         "rawType": "object",
         "type": "string"
        },
        {
         "name": "discounts_and_offers",
         "rawType": "object",
         "type": "string"
        },
        {
         "name": "commission_fee",
         "rawType": "int64",
         "type": "integer"
        },
        {
         "name": "payment_processing_fee",
         "rawType": "int64",
         "type": "integer"
        },
        {
         "name": "refunds/chargebacks",
         "rawType": "int64",
         "type": "integer"
        },
        {
         "name": "discount_pct",
         "rawType": "int64",
         "type": "integer"
        },
        {
         "name": "discount_cash",
         "rawType": "int64",
         "type": "integer"
        },
        {
         "name": "cost",
         "rawType": "float64",
         "type": "float"
        },
        {
         "name": "revenue",
         "rawType": "int64",
         "type": "integer"
        },
        {
         "name": "profits",
         "rawType": "float64",
         "type": "float"
        },
        {
         "name": "have_profits",
         "rawType": "int64",
         "type": "integer"
        },
        {
         "name": "cost_from_offers",
         "rawType": "float64",
         "type": "float"
        }
       ],
       "ref": "0420f655-b0f9-468a-911d-3dc609b268ef",
       "rows": [
        [
         "0",
         "1",
         "C8270",
         "R2924",
         "2024-02-01 01:11:52",
         "2024-02-01 02:39:52",
         "1914",
         "0",
         "Credit Card",
         "5% on App",
         "150",
         "47",
         "0",
         "5",
         "0",
         "49.35",
         "150",
         "100.65",
         "1",
         "2.3500000000000014"
        ],
        [
         "1",
         "2",
         "C1860",
         "R2054",
         "2024-02-02 22:11:04",
         "2024-02-02 22:46:04",
         "986",
         "40",
         "Digital Wallet",
         "10%",
         "198",
         "23",
         "0",
         "10",
         "0",
         "69.3",
         "198",
         "128.7",
         "1",
         "6.299999999999997"
        ],
        [
         "2",
         "3",
         "C6390",
         "R2870",
         "2024-01-31 05:54:35",
         "2024-01-31 06:52:35",
         "937",
         "30",
         "Cash on Delivery",
         "15% New User",
         "195",
         "45",
         "0",
         "15",
         "0",
         "86.25",
         "195",
         "108.75",
         "1",
         "11.25"
        ],
        [
         "3",
         "4",
         "C6191",
         "R2642",
         "2024-01-16 22:52:49",
         "2024-01-16 23:38:49",
         "1463",
         "50",
         "Cash on Delivery",
         "None",
         "146",
         "27",
         "0",
         "0",
         "0",
         "77.0",
         "146",
         "69.0",
         "1",
         "0.0"
        ],
        [
         "4",
         "5",
         "C6734",
         "R2799",
         "2024-01-29 01:19:30",
         "2024-01-29 02:48:30",
         "1992",
         "30",
         "Cash on Delivery",
         "50 off Promo",
         "130",
         "50",
         "0",
         "0",
         "50",
         "130.0",
         "130",
         "0.0",
         "0",
         "50.0"
        ]
       ],
       "shape": {
        "columns": 19,
        "rows": 5
       }
      },
      "text/html": [
       "<div>\n",
       "<style scoped>\n",
       "    .dataframe tbody tr th:only-of-type {\n",
       "        vertical-align: middle;\n",
       "    }\n",
       "\n",
       "    .dataframe tbody tr th {\n",
       "        vertical-align: top;\n",
       "    }\n",
       "\n",
       "    .dataframe thead th {\n",
       "        text-align: right;\n",
       "    }\n",
       "</style>\n",
       "<table border=\"1\" class=\"dataframe\">\n",
       "  <thead>\n",
       "    <tr style=\"text-align: right;\">\n",
       "      <th></th>\n",
       "      <th>order_id</th>\n",
       "      <th>customer_id</th>\n",
       "      <th>restaurant_id</th>\n",
       "      <th>order_date_and_time</th>\n",
       "      <th>delivery_date_and_time</th>\n",
       "      <th>order_value</th>\n",
       "      <th>delivery_fee</th>\n",
       "      <th>payment_method</th>\n",
       "      <th>discounts_and_offers</th>\n",
       "      <th>commission_fee</th>\n",
       "      <th>payment_processing_fee</th>\n",
       "      <th>refunds/chargebacks</th>\n",
       "      <th>discount_pct</th>\n",
       "      <th>discount_cash</th>\n",
       "      <th>cost</th>\n",
       "      <th>revenue</th>\n",
       "      <th>profits</th>\n",
       "      <th>have_profits</th>\n",
       "      <th>cost_from_offers</th>\n",
       "    </tr>\n",
       "  </thead>\n",
       "  <tbody>\n",
       "    <tr>\n",
       "      <th>0</th>\n",
       "      <td>1</td>\n",
       "      <td>C8270</td>\n",
       "      <td>R2924</td>\n",
       "      <td>2024-02-01 01:11:52</td>\n",
       "      <td>2024-02-01 02:39:52</td>\n",
       "      <td>1914</td>\n",
       "      <td>0</td>\n",
       "      <td>Credit Card</td>\n",
       "      <td>5% on App</td>\n",
       "      <td>150</td>\n",
       "      <td>47</td>\n",
       "      <td>0</td>\n",
       "      <td>5</td>\n",
       "      <td>0</td>\n",
       "      <td>49.35</td>\n",
       "      <td>150</td>\n",
       "      <td>100.65</td>\n",
       "      <td>1</td>\n",
       "      <td>2.35</td>\n",
       "    </tr>\n",
       "    <tr>\n",
       "      <th>1</th>\n",
       "      <td>2</td>\n",
       "      <td>C1860</td>\n",
       "      <td>R2054</td>\n",
       "      <td>2024-02-02 22:11:04</td>\n",
       "      <td>2024-02-02 22:46:04</td>\n",
       "      <td>986</td>\n",
       "      <td>40</td>\n",
       "      <td>Digital Wallet</td>\n",
       "      <td>10%</td>\n",
       "      <td>198</td>\n",
       "      <td>23</td>\n",
       "      <td>0</td>\n",
       "      <td>10</td>\n",
       "      <td>0</td>\n",
       "      <td>69.30</td>\n",
       "      <td>198</td>\n",
       "      <td>128.70</td>\n",
       "      <td>1</td>\n",
       "      <td>6.30</td>\n",
       "    </tr>\n",
       "    <tr>\n",
       "      <th>2</th>\n",
       "      <td>3</td>\n",
       "      <td>C6390</td>\n",
       "      <td>R2870</td>\n",
       "      <td>2024-01-31 05:54:35</td>\n",
       "      <td>2024-01-31 06:52:35</td>\n",
       "      <td>937</td>\n",
       "      <td>30</td>\n",
       "      <td>Cash on Delivery</td>\n",
       "      <td>15% New User</td>\n",
       "      <td>195</td>\n",
       "      <td>45</td>\n",
       "      <td>0</td>\n",
       "      <td>15</td>\n",
       "      <td>0</td>\n",
       "      <td>86.25</td>\n",
       "      <td>195</td>\n",
       "      <td>108.75</td>\n",
       "      <td>1</td>\n",
       "      <td>11.25</td>\n",
       "    </tr>\n",
       "    <tr>\n",
       "      <th>3</th>\n",
       "      <td>4</td>\n",
       "      <td>C6191</td>\n",
       "      <td>R2642</td>\n",
       "      <td>2024-01-16 22:52:49</td>\n",
       "      <td>2024-01-16 23:38:49</td>\n",
       "      <td>1463</td>\n",
       "      <td>50</td>\n",
       "      <td>Cash on Delivery</td>\n",
       "      <td>None</td>\n",
       "      <td>146</td>\n",
       "      <td>27</td>\n",
       "      <td>0</td>\n",
       "      <td>0</td>\n",
       "      <td>0</td>\n",
       "      <td>77.00</td>\n",
       "      <td>146</td>\n",
       "      <td>69.00</td>\n",
       "      <td>1</td>\n",
       "      <td>0.00</td>\n",
       "    </tr>\n",
       "    <tr>\n",
       "      <th>4</th>\n",
       "      <td>5</td>\n",
       "      <td>C6734</td>\n",
       "      <td>R2799</td>\n",
       "      <td>2024-01-29 01:19:30</td>\n",
       "      <td>2024-01-29 02:48:30</td>\n",
       "      <td>1992</td>\n",
       "      <td>30</td>\n",
       "      <td>Cash on Delivery</td>\n",
       "      <td>50 off Promo</td>\n",
       "      <td>130</td>\n",
       "      <td>50</td>\n",
       "      <td>0</td>\n",
       "      <td>0</td>\n",
       "      <td>50</td>\n",
       "      <td>130.00</td>\n",
       "      <td>130</td>\n",
       "      <td>0.00</td>\n",
       "      <td>0</td>\n",
       "      <td>50.00</td>\n",
       "    </tr>\n",
       "  </tbody>\n",
       "</table>\n",
       "</div>"
      ],
      "text/plain": [
       "   order_id customer_id restaurant_id order_date_and_time  \\\n",
       "0         1       C8270         R2924 2024-02-01 01:11:52   \n",
       "1         2       C1860         R2054 2024-02-02 22:11:04   \n",
       "2         3       C6390         R2870 2024-01-31 05:54:35   \n",
       "3         4       C6191         R2642 2024-01-16 22:52:49   \n",
       "4         5       C6734         R2799 2024-01-29 01:19:30   \n",
       "\n",
       "  delivery_date_and_time  order_value  delivery_fee    payment_method  \\\n",
       "0    2024-02-01 02:39:52         1914             0       Credit Card   \n",
       "1    2024-02-02 22:46:04          986            40    Digital Wallet   \n",
       "2    2024-01-31 06:52:35          937            30  Cash on Delivery   \n",
       "3    2024-01-16 23:38:49         1463            50  Cash on Delivery   \n",
       "4    2024-01-29 02:48:30         1992            30  Cash on Delivery   \n",
       "\n",
       "  discounts_and_offers  commission_fee  payment_processing_fee  \\\n",
       "0            5% on App             150                      47   \n",
       "1                  10%             198                      23   \n",
       "2         15% New User             195                      45   \n",
       "3                 None             146                      27   \n",
       "4         50 off Promo             130                      50   \n",
       "\n",
       "   refunds/chargebacks  discount_pct  discount_cash    cost  revenue  profits  \\\n",
       "0                    0             5              0   49.35      150   100.65   \n",
       "1                    0            10              0   69.30      198   128.70   \n",
       "2                    0            15              0   86.25      195   108.75   \n",
       "3                    0             0              0   77.00      146    69.00   \n",
       "4                    0             0             50  130.00      130     0.00   \n",
       "\n",
       "   have_profits  cost_from_offers  \n",
       "0             1              2.35  \n",
       "1             1              6.30  \n",
       "2             1             11.25  \n",
       "3             1              0.00  \n",
       "4             0             50.00  "
      ]
     },
     "execution_count": 23,
     "metadata": {},
     "output_type": "execute_result"
    }
   ],
   "source": [
    "df['cost_from_offers'] = df['cost'] - df['payment_processing_fee'] - df['delivery_fee']\n",
    "df.head()"
   ]
  },
  {
   "cell_type": "code",
   "execution_count": 24,
   "metadata": {
    "execution": {
     "iopub.execute_input": "2024-05-25T06:44:06.591438Z",
     "iopub.status.busy": "2024-05-25T06:44:06.59103Z",
     "iopub.status.idle": "2024-05-25T06:44:06.840015Z",
     "shell.execute_reply": "2024-05-25T06:44:06.838601Z",
     "shell.execute_reply.started": "2024-05-25T06:44:06.591405Z"
    },
    "id": "4SpzCKqWUiEg"
   },
   "outputs": [
    {
     "data": {
      "text/plain": [
       "<AxesSubplot:xlabel='discounts_and_offers'>"
      ]
     },
     "execution_count": 24,
     "metadata": {},
     "output_type": "execute_result"
    },
    {
     "data": {
      "image/png": "[encoded data removed]",
      "text/plain": [
       "<Figure size 864x216 with 1 Axes>"
      ]
     },
     "metadata": {
      "needs_background": "light"
     },
     "output_type": "display_data"
    }
   ],
   "source": [
    "df['discounts_and_offers'] = df['discounts_and_offers'].fillna('No Offer')\n",
    "\n",
    "plt.figure(figsize=(12, 3))\n",
    "\n",
    "# avg cost per offer\n",
    "avg_cost = df.groupby('discounts_and_offers')['cost_from_offers'].mean().sort_values()\n",
    "sns.barplot(x=avg_cost.index, y=avg_cost.values)"
   ]
  },
  {
   "cell_type": "markdown",
   "metadata": {
    "id": "Hf9nkrgrUiEg"
   },
   "source": [
    "Cash discount is the most expensive but we have to include profits to complete the story"
   ]
  },
  {
   "cell_type": "code",
   "execution_count": 25,
   "metadata": {
    "execution": {
     "iopub.execute_input": "2024-05-25T06:46:25.899978Z",
     "iopub.status.busy": "2024-05-25T06:46:25.899558Z",
     "iopub.status.idle": "2024-05-25T06:46:26.201276Z",
     "shell.execute_reply": "2024-05-25T06:46:26.199943Z",
     "shell.execute_reply.started": "2024-05-25T06:46:25.899946Z"
    },
    "id": "swFtCzEkUiEg"
   },
   "outputs": [
    {
     "data": {
      "text/plain": [
       "(array([0, 1, 2, 3, 4]),\n",
       " [Text(0, 0, '50 off Promo'),\n",
       "  Text(1, 0, '15% New User'),\n",
       "  Text(2, 0, '10%'),\n",
       "  Text(3, 0, '5% on App'),\n",
       "  Text(4, 0, 'None')])"
      ]
     },
     "execution_count": 25,
     "metadata": {},
     "output_type": "execute_result"
    },
    {
     "data": {
      "text/plain": [
       "<Figure size 864x216 with 0 Axes>"
      ]
     },
     "metadata": {},
     "output_type": "display_data"
    },
    {
     "data": {
      "image/png": "[encoded data removed]",
      "text/plain": [
       "<Figure size 864x288 with 1 Axes>"
      ]
     },
     "metadata": {
      "needs_background": "light"
     },
     "output_type": "display_data"
    }
   ],
   "source": [
    "plt.figure(figsize=(12, 3))\n",
    "\n",
    "profit_counts = df.groupby('discounts_and_offers')['have_profits'].sum()\n",
    "total_counts = df['discounts_and_offers'].value_counts()\n",
    "profit_percentage = (profit_counts / total_counts * 100).sort_values()\n",
    "\n",
    "# Plot the percentage of profitable offers\n",
    "plt.figure(figsize=(12, 4))\n",
    "sns.barplot(x=profit_percentage.index, y=profit_percentage.values)\n",
    "plt.xticks(rotation=45)"
   ]
  },
  {
   "cell_type": "markdown",
   "metadata": {
    "id": "26nKILKKUiEg"
   },
   "source": [
    "Percentage of Profitable orders is the lowest for cash discounts as well"
   ]
  },
  {
   "cell_type": "code",
   "execution_count": 26,
   "metadata": {
    "execution": {
     "iopub.execute_input": "2024-05-25T06:47:01.758925Z",
     "iopub.status.busy": "2024-05-25T06:47:01.758039Z",
     "iopub.status.idle": "2024-05-25T06:47:01.774529Z",
     "shell.execute_reply": "2024-05-25T06:47:01.773168Z",
     "shell.execute_reply.started": "2024-05-25T06:47:01.758875Z"
    },
    "id": "Sw79bHq0UiEg"
   },
   "outputs": [
    {
     "data": {
      "application/vnd.microsoft.datawrangler.viewer.v0+json": {
       "columns": [
        {
         "name": "index",
         "rawType": "object",
         "type": "string"
        },
        {
         "name": "customer_id",
         "rawType": "int64",
         "type": "integer"
        }
       ],
       "ref": "3b457407-fadf-43cf-91a4-f83a337567bb",
       "rows": [
        [
         "C7949",
         "3"
        ],
        [
         "C7938",
         "3"
        ],
        [
         "C7941",
         "2"
        ],
        [
         "C5555",
         "2"
        ],
        [
         "C6232",
         "2"
        ],
        [
         "C2460",
         "2"
        ],
        [
         "C2062",
         "2"
        ],
        [
         "C8266",
         "2"
        ],
        [
         "C8041",
         "2"
        ],
        [
         "C7287",
         "2"
        ],
        [
         "C5777",
         "2"
        ],
        [
         "C4072",
         "2"
        ],
        [
         "C6977",
         "2"
        ],
        [
         "C2365",
         "2"
        ],
        [
         "C3327",
         "2"
        ],
        [
         "C4636",
         "2"
        ],
        [
         "C4486",
         "2"
        ],
        [
         "C9666",
         "2"
        ],
        [
         "C1698",
         "2"
        ],
        [
         "C8560",
         "2"
        ],
        [
         "C4177",
         "2"
        ],
        [
         "C5000",
         "2"
        ],
        [
         "C6124",
         "2"
        ],
        [
         "C7190",
         "2"
        ],
        [
         "C4170",
         "2"
        ],
        [
         "C3048",
         "2"
        ],
        [
         "C6486",
         "2"
        ],
        [
         "C3832",
         "2"
        ],
        [
         "C6592",
         "2"
        ],
        [
         "C5146",
         "2"
        ],
        [
         "C1009",
         "2"
        ],
        [
         "C8400",
         "2"
        ],
        [
         "C1876",
         "2"
        ],
        [
         "C9702",
         "2"
        ],
        [
         "C5380",
         "2"
        ],
        [
         "C6588",
         "2"
        ],
        [
         "C4719",
         "2"
        ],
        [
         "C6732",
         "2"
        ],
        [
         "C5780",
         "2"
        ],
        [
         "C4627",
         "2"
        ],
        [
         "C7371",
         "2"
        ],
        [
         "C8392",
         "2"
        ],
        [
         "C9120",
         "2"
        ],
        [
         "C2184",
         "2"
        ],
        [
         "C2906",
         "2"
        ],
        [
         "C2531",
         "2"
        ],
        [
         "C9905",
         "2"
        ],
        [
         "C2693",
         "2"
        ],
        [
         "C7316",
         "2"
        ],
        [
         "C1728",
         "2"
        ]
       ],
       "shape": {
        "columns": 1,
        "rows": 947
       }
      },
      "text/plain": [
       "C7949    3\n",
       "C7938    3\n",
       "C7941    2\n",
       "C5555    2\n",
       "C6232    2\n",
       "        ..\n",
       "C9007    1\n",
       "C7614    1\n",
       "C1224    1\n",
       "C3143    1\n",
       "C7042    1\n",
       "Name: customer_id, Length: 947, dtype: int64"
      ]
     },
     "execution_count": 26,
     "metadata": {},
     "output_type": "execute_result"
    }
   ],
   "source": [
    "df.customer_id.value_counts()"
   ]
  },
  {
   "cell_type": "code",
   "execution_count": 27,
   "metadata": {
    "execution": {
     "iopub.execute_input": "2024-05-25T06:52:26.79405Z",
     "iopub.status.busy": "2024-05-25T06:52:26.793609Z",
     "iopub.status.idle": "2024-05-25T06:52:27.433206Z",
     "shell.execute_reply": "2024-05-25T06:52:27.43194Z",
     "shell.execute_reply.started": "2024-05-25T06:52:26.794016Z"
    },
    "id": "clU0udBzUiEg"
   },
   "outputs": [
    {
     "data": {
      "image/png": "[encoded data removed]",
      "text/plain": [
       "<Figure size 864x288 with 2 Axes>"
      ]
     },
     "metadata": {
      "needs_background": "light"
     },
     "output_type": "display_data"
    }
   ],
   "source": [
    "profits_orders = df.groupby('discounts_and_offers').agg({'profits': 'sum', 'cost': 'count'}).reset_index()\n",
    "profits_orders.rename(columns={'cost': 'total_orders'}, inplace=True)\n",
    "\n",
    "plt.figure(figsize=(12, 4))\n",
    "\n",
    "ax1 = sns.barplot(x='discounts_and_offers', y='profits', data=profits_orders, color='blue', alpha=0.7, label='Total Profits')\n",
    "ax2 = ax1.twinx()\n",
    "sns.lineplot(x='discounts_and_offers', y='total_orders', data=profits_orders, color='red', marker='o', markersize=8, ax=ax2, label='Total Orders')\n",
    "\n",
    "ax1.set_title('Total Profits and Total Orders by Discount Offer')\n",
    "ax1.set_xlabel('Discount Offer')\n",
    "ax1.set_ylabel('Total Profits')\n",
    "ax2.set_ylabel('Total Orders')\n",
    "plt.xticks(rotation=45)\n",
    "plt.legend(loc='upper left')\n",
    "plt.tight_layout()\n",
    "plt.show()"
   ]
  },
  {
   "cell_type": "markdown",
   "metadata": {
    "id": "J-Lq9bfOUiEg"
   },
   "source": [
    "From here we can see the profits and orders that each discount created"
   ]
  },
  {
   "cell_type": "markdown",
   "metadata": {
    "id": "id9IFMVBUiEg"
   },
   "source": [
    "### Time series analysis\n",
    "Let's explore a few time series analyses: (a) seasonality effects, (b) weekends/weekdays trends, (c) effects of different times of day - breakfast, lunch, dinner, supper. This would help guide our dynamic pricing decision and discount/voucher drops"
   ]
  },
  {
   "cell_type": "code",
   "execution_count": 28,
   "metadata": {
    "execution": {
     "iopub.execute_input": "2024-05-25T06:53:00.273161Z",
     "iopub.status.busy": "2024-05-25T06:53:00.272147Z",
     "iopub.status.idle": "2024-05-25T06:53:00.29806Z",
     "shell.execute_reply": "2024-05-25T06:53:00.296502Z",
     "shell.execute_reply.started": "2024-05-25T06:53:00.273115Z"
    },
    "id": "7-rfmtPUUiEg"
   },
   "outputs": [
    {
     "data": {
      "application/vnd.microsoft.datawrangler.viewer.v0+json": {
       "columns": [
        {
         "name": "index",
         "rawType": "int64",
         "type": "integer"
        },
        {
         "name": "order_id",
         "rawType": "int64",
         "type": "integer"
        },
        {
         "name": "customer_id",
         "rawType": "object",
         "type": "string"
        },
        {
         "name": "restaurant_id",
         "rawType": "object",
         "type": "string"
        },
        {
         "name": "order_date_and_time",
         "rawType": "datetime64[ns]",
         "type": "datetime"
        },
        {
         "name": "delivery_date_and_time",
         "rawType": "datetime64[ns]",
         "type": "datetime"
        },
        {
         "name": "order_value",
         "rawType": "int64",
         "type": "integer"
        },
        {
         "name": "delivery_fee",
         "rawType": "int64",
         "type": "integer"
        },
        {
         "name": "payment_method",
         "rawType": "object",
         "type": "string"
        },
        {
         "name": "discounts_and_offers",
         "rawType": "object",
         "type": "string"
        },
        {
         "name": "commission_fee",
         "rawType": "int64",
         "type": "integer"
        },
        {
         "name": "payment_processing_fee",
         "rawType": "int64",
         "type": "integer"
        },
        {
         "name": "refunds/chargebacks",
         "rawType": "int64",
         "type": "integer"
        },
        {
         "name": "discount_pct",
         "rawType": "int64",
         "type": "integer"
        },
        {
         "name": "discount_cash",
         "rawType": "int64",
         "type": "integer"
        },
        {
         "name": "cost",
         "rawType": "float64",
         "type": "float"
        },
        {
         "name": "revenue",
         "rawType": "int64",
         "type": "integer"
        },
        {
         "name": "profits",
         "rawType": "float64",
         "type": "float"
        },
        {
         "name": "have_profits",
         "rawType": "int64",
         "type": "integer"
        },
        {
         "name": "cost_from_offers",
         "rawType": "float64",
         "type": "float"
        }
       ],
       "ref": "446b9cba-8fa0-45cf-a3cd-4bd2cefd216e",
       "rows": [
        [
         "0",
         "1",
         "C8270",
         "R2924",
         "2024-02-01 01:11:52",
         "2024-02-01 02:39:52",
         "1914",
         "0",
         "Credit Card",
         "5% on App",
         "150",
         "47",
         "0",
         "5",
         "0",
         "49.35",
         "150",
         "100.65",
         "1",
         "2.3500000000000014"
        ],
        [
         "1",
         "2",
         "C1860",
         "R2054",
         "2024-02-02 22:11:04",
         "2024-02-02 22:46:04",
         "986",
         "40",
         "Digital Wallet",
         "10%",
         "198",
         "23",
         "0",
         "10",
         "0",
         "69.3",
         "198",
         "128.7",
         "1",
         "6.299999999999997"
        ],
        [
         "2",
         "3",
         "C6390",
         "R2870",
         "2024-01-31 05:54:35",
         "2024-01-31 06:52:35",
         "937",
         "30",
         "Cash on Delivery",
         "15% New User",
         "195",
         "45",
         "0",
         "15",
         "0",
         "86.25",
         "195",
         "108.75",
         "1",
         "11.25"
        ],
        [
         "3",
         "4",
         "C6191",
         "R2642",
         "2024-01-16 22:52:49",
         "2024-01-16 23:38:49",
         "1463",
         "50",
         "Cash on Delivery",
         "None",
         "146",
         "27",
         "0",
         "0",
         "0",
         "77.0",
         "146",
         "69.0",
         "1",
         "0.0"
        ],
        [
         "4",
         "5",
         "C6734",
         "R2799",
         "2024-01-29 01:19:30",
         "2024-01-29 02:48:30",
         "1992",
         "30",
         "Cash on Delivery",
         "50 off Promo",
         "130",
         "50",
         "0",
         "0",
         "50",
         "130.0",
         "130",
         "0.0",
         "0",
         "50.0"
        ]
       ],
       "shape": {
        "columns": 19,
        "rows": 5
       }
      },
      "text/html": [
       "<div>\n",
       "<style scoped>\n",
       "    .dataframe tbody tr th:only-of-type {\n",
       "        vertical-align: middle;\n",
       "    }\n",
       "\n",
       "    .dataframe tbody tr th {\n",
       "        vertical-align: top;\n",
       "    }\n",
       "\n",
       "    .dataframe thead th {\n",
       "        text-align: right;\n",
       "    }\n",
       "</style>\n",
       "<table border=\"1\" class=\"dataframe\">\n",
       "  <thead>\n",
       "    <tr style=\"text-align: right;\">\n",
       "      <th></th>\n",
       "      <th>order_id</th>\n",
       "      <th>customer_id</th>\n",
       "      <th>restaurant_id</th>\n",
       "      <th>order_date_and_time</th>\n",
       "      <th>delivery_date_and_time</th>\n",
       "      <th>order_value</th>\n",
       "      <th>delivery_fee</th>\n",
       "      <th>payment_method</th>\n",
       "      <th>discounts_and_offers</th>\n",
       "      <th>commission_fee</th>\n",
       "      <th>payment_processing_fee</th>\n",
       "      <th>refunds/chargebacks</th>\n",
       "      <th>discount_pct</th>\n",
       "      <th>discount_cash</th>\n",
       "      <th>cost</th>\n",
       "      <th>revenue</th>\n",
       "      <th>profits</th>\n",
       "      <th>have_profits</th>\n",
       "      <th>cost_from_offers</th>\n",
       "    </tr>\n",
       "  </thead>\n",
       "  <tbody>\n",
       "    <tr>\n",
       "      <th>0</th>\n",
       "      <td>1</td>\n",
       "      <td>C8270</td>\n",
       "      <td>R2924</td>\n",
       "      <td>2024-02-01 01:11:52</td>\n",
       "      <td>2024-02-01 02:39:52</td>\n",
       "      <td>1914</td>\n",
       "      <td>0</td>\n",
       "      <td>Credit Card</td>\n",
       "      <td>5% on App</td>\n",
       "      <td>150</td>\n",
       "      <td>47</td>\n",
       "      <td>0</td>\n",
       "      <td>5</td>\n",
       "      <td>0</td>\n",
       "      <td>49.35</td>\n",
       "      <td>150</td>\n",
       "      <td>100.65</td>\n",
       "      <td>1</td>\n",
       "      <td>2.35</td>\n",
       "    </tr>\n",
       "    <tr>\n",
       "      <th>1</th>\n",
       "      <td>2</td>\n",
       "      <td>C1860</td>\n",
       "      <td>R2054</td>\n",
       "      <td>2024-02-02 22:11:04</td>\n",
       "      <td>2024-02-02 22:46:04</td>\n",
       "      <td>986</td>\n",
       "      <td>40</td>\n",
       "      <td>Digital Wallet</td>\n",
       "      <td>10%</td>\n",
       "      <td>198</td>\n",
       "      <td>23</td>\n",
       "      <td>0</td>\n",
       "      <td>10</td>\n",
       "      <td>0</td>\n",
       "      <td>69.30</td>\n",
       "      <td>198</td>\n",
       "      <td>128.70</td>\n",
       "      <td>1</td>\n",
       "      <td>6.30</td>\n",
       "    </tr>\n",
       "    <tr>\n",
       "      <th>2</th>\n",
       "      <td>3</td>\n",
       "      <td>C6390</td>\n",
       "      <td>R2870</td>\n",
       "      <td>2024-01-31 05:54:35</td>\n",
       "      <td>2024-01-31 06:52:35</td>\n",
       "      <td>937</td>\n",
       "      <td>30</td>\n",
       "      <td>Cash on Delivery</td>\n",
       "      <td>15% New User</td>\n",
       "      <td>195</td>\n",
       "      <td>45</td>\n",
       "      <td>0</td>\n",
       "      <td>15</td>\n",
       "      <td>0</td>\n",
       "      <td>86.25</td>\n",
       "      <td>195</td>\n",
       "      <td>108.75</td>\n",
       "      <td>1</td>\n",
       "      <td>11.25</td>\n",
       "    </tr>\n",
       "    <tr>\n",
       "      <th>3</th>\n",
       "      <td>4</td>\n",
       "      <td>C6191</td>\n",
       "      <td>R2642</td>\n",
       "      <td>2024-01-16 22:52:49</td>\n",
       "      <td>2024-01-16 23:38:49</td>\n",
       "      <td>1463</td>\n",
       "      <td>50</td>\n",
       "      <td>Cash on Delivery</td>\n",
       "      <td>None</td>\n",
       "      <td>146</td>\n",
       "      <td>27</td>\n",
       "      <td>0</td>\n",
       "      <td>0</td>\n",
       "      <td>0</td>\n",
       "      <td>77.00</td>\n",
       "      <td>146</td>\n",
       "      <td>69.00</td>\n",
       "      <td>1</td>\n",
       "      <td>0.00</td>\n",
       "    </tr>\n",
       "    <tr>\n",
       "      <th>4</th>\n",
       "      <td>5</td>\n",
       "      <td>C6734</td>\n",
       "      <td>R2799</td>\n",
       "      <td>2024-01-29 01:19:30</td>\n",
       "      <td>2024-01-29 02:48:30</td>\n",
       "      <td>1992</td>\n",
       "      <td>30</td>\n",
       "      <td>Cash on Delivery</td>\n",
       "      <td>50 off Promo</td>\n",
       "      <td>130</td>\n",
       "      <td>50</td>\n",
       "      <td>0</td>\n",
       "      <td>0</td>\n",
       "      <td>50</td>\n",
       "      <td>130.00</td>\n",
       "      <td>130</td>\n",
       "      <td>0.00</td>\n",
       "      <td>0</td>\n",
       "      <td>50.00</td>\n",
       "    </tr>\n",
       "  </tbody>\n",
       "</table>\n",
       "</div>"
      ],
      "text/plain": [
       "   order_id customer_id restaurant_id order_date_and_time  \\\n",
       "0         1       C8270         R2924 2024-02-01 01:11:52   \n",
       "1         2       C1860         R2054 2024-02-02 22:11:04   \n",
       "2         3       C6390         R2870 2024-01-31 05:54:35   \n",
       "3         4       C6191         R2642 2024-01-16 22:52:49   \n",
       "4         5       C6734         R2799 2024-01-29 01:19:30   \n",
       "\n",
       "  delivery_date_and_time  order_value  delivery_fee    payment_method  \\\n",
       "0    2024-02-01 02:39:52         1914             0       Credit Card   \n",
       "1    2024-02-02 22:46:04          986            40    Digital Wallet   \n",
       "2    2024-01-31 06:52:35          937            30  Cash on Delivery   \n",
       "3    2024-01-16 23:38:49         1463            50  Cash on Delivery   \n",
       "4    2024-01-29 02:48:30         1992            30  Cash on Delivery   \n",
       "\n",
       "  discounts_and_offers  commission_fee  payment_processing_fee  \\\n",
       "0            5% on App             150                      47   \n",
       "1                  10%             198                      23   \n",
       "2         15% New User             195                      45   \n",
       "3                 None             146                      27   \n",
       "4         50 off Promo             130                      50   \n",
       "\n",
       "   refunds/chargebacks  discount_pct  discount_cash    cost  revenue  profits  \\\n",
       "0                    0             5              0   49.35      150   100.65   \n",
       "1                    0            10              0   69.30      198   128.70   \n",
       "2                    0            15              0   86.25      195   108.75   \n",
       "3                    0             0              0   77.00      146    69.00   \n",
       "4                    0             0             50  130.00      130     0.00   \n",
       "\n",
       "   have_profits  cost_from_offers  \n",
       "0             1              2.35  \n",
       "1             1              6.30  \n",
       "2             1             11.25  \n",
       "3             1              0.00  \n",
       "4             0             50.00  "
      ]
     },
     "execution_count": 28,
     "metadata": {},
     "output_type": "execute_result"
    }
   ],
   "source": [
    "df.head()"
   ]
  },
  {
   "cell_type": "code",
   "execution_count": 29,
   "metadata": {
    "execution": {
     "iopub.execute_input": "2024-05-25T06:55:50.529056Z",
     "iopub.status.busy": "2024-05-25T06:55:50.528653Z",
     "iopub.status.idle": "2024-05-25T06:55:50.544479Z",
     "shell.execute_reply": "2024-05-25T06:55:50.543245Z",
     "shell.execute_reply.started": "2024-05-25T06:55:50.529025Z"
    },
    "id": "dfNNqY0HUiEg"
   },
   "outputs": [],
   "source": [
    "df['order_date'] = df['order_date_and_time'].dt.date\n",
    "df['order_time'] = df['order_date_and_time'].dt.time\n",
    "df['delivery_date'] = df['delivery_date_and_time'].dt.date\n",
    "df['delivery_time'] = df['delivery_date_and_time'].dt.time\n",
    "\n",
    "df.set_index('order_date', inplace=True) # set order date as index for TSA\n",
    "df.index = pd.to_datetime(df.index)"
   ]
  },
  {
   "cell_type": "markdown",
   "metadata": {
    "id": "P1-MY_raUiEg"
   },
   "source": [
    "#### 1. Seasonality"
   ]
  },
  {
   "cell_type": "code",
   "execution_count": 30,
   "metadata": {
    "execution": {
     "iopub.execute_input": "2024-05-25T06:56:02.271341Z",
     "iopub.status.busy": "2024-05-25T06:56:02.27092Z",
     "iopub.status.idle": "2024-05-25T06:56:02.536973Z",
     "shell.execute_reply": "2024-05-25T06:56:02.53559Z",
     "shell.execute_reply.started": "2024-05-25T06:56:02.271303Z"
    },
    "id": "WUcaFz8jUiEg"
   },
   "outputs": [
    {
     "data": {
      "image/png": "[encoded data removed]",
      "text/plain": [
       "<Figure size 720x288 with 1 Axes>"
      ]
     },
     "metadata": {
      "needs_background": "light"
     },
     "output_type": "display_data"
    }
   ],
   "source": [
    "# 1. seasonality effects\n",
    "plt.figure(figsize=(10,4))\n",
    "df['order_value'].resample('M').sum().plot(marker='o', linestyle='-')\n",
    "plt.title('Monthly Order Value')\n",
    "plt.xlabel('Month')\n",
    "plt.ylabel('Total Order Value')\n",
    "plt.show()"
   ]
  },
  {
   "cell_type": "code",
   "execution_count": 31,
   "metadata": {
    "execution": {
     "iopub.execute_input": "2024-05-25T07:00:06.784959Z",
     "iopub.status.busy": "2024-05-25T07:00:06.784499Z",
     "iopub.status.idle": "2024-05-25T07:00:07.116132Z",
     "shell.execute_reply": "2024-05-25T07:00:07.114686Z",
     "shell.execute_reply.started": "2024-05-25T07:00:06.784924Z"
    },
    "id": "zza5RC7RUiEg"
   },
   "outputs": [
    {
     "data": {
      "text/plain": [
       "Text(0, 0.5, 'Number of Orders')"
      ]
     },
     "execution_count": 31,
     "metadata": {},
     "output_type": "execute_result"
    },
    {
     "data": {
      "image/png": "[encoded data removed]",
      "text/plain": [
       "<Figure size 432x288 with 1 Axes>"
      ]
     },
     "metadata": {
      "needs_background": "light"
     },
     "output_type": "display_data"
    }
   ],
   "source": [
    "orders_per_month = df.resample('M').size()\n",
    "orders_per_month.plot(marker='o', linestyle='-')\n",
    "plt.title('Number of Orders per Month')\n",
    "plt.xlabel('Month')\n",
    "plt.ylabel('Number of Orders')"
   ]
  },
  {
   "cell_type": "markdown",
   "metadata": {
    "id": "8JAlrW_lUiEj"
   },
   "source": [
    "#### 2. Effects of weekends and weekdays"
   ]
  },
  {
   "cell_type": "code",
   "execution_count": 32,
   "metadata": {
    "execution": {
     "iopub.execute_input": "2024-05-25T06:56:17.874309Z",
     "iopub.status.busy": "2024-05-25T06:56:17.873908Z",
     "iopub.status.idle": "2024-05-25T06:56:18.245644Z",
     "shell.execute_reply": "2024-05-25T06:56:18.244087Z",
     "shell.execute_reply.started": "2024-05-25T06:56:17.87428Z"
    },
    "id": "ENVJ-wqIUiEj"
   },
   "outputs": [
    {
     "data": {
      "image/png": "[encoded data removed]",
      "text/plain": [
       "<Figure size 864x432 with 1 Axes>"
      ]
     },
     "metadata": {
      "needs_background": "light"
     },
     "output_type": "display_data"
    }
   ],
   "source": [
    "# 2. effects of weekends and weekdays\n",
    "plt.figure(figsize=(12, 6))\n",
    "df['weekday'] = df.index.dayofweek  # Monday=0, Sunday=6\n",
    "sns.boxplot(x='weekday', y='order_value', data=df)\n",
    "plt.title('Order Value by Weekday')\n",
    "plt.xlabel('Weekday')\n",
    "plt.ylabel('Order Value')\n",
    "plt.xticks(ticks=range(7), labels=['Mon', 'Tue', 'Wed', 'Thu', 'Fri', 'Sat', 'Sun'])\n",
    "plt.show()"
   ]
  },
  {
   "cell_type": "code",
   "execution_count": 33,
   "metadata": {
    "execution": {
     "iopub.execute_input": "2024-05-25T07:00:44.024975Z",
     "iopub.status.busy": "2024-05-25T07:00:44.024511Z",
     "iopub.status.idle": "2024-05-25T07:00:44.343838Z",
     "shell.execute_reply": "2024-05-25T07:00:44.342335Z",
     "shell.execute_reply.started": "2024-05-25T07:00:44.024939Z"
    },
    "id": "WFLQVkxzUiEj"
   },
   "outputs": [
    {
     "data": {
      "text/plain": [
       "([<matplotlib.axis.XTick at 0x7ffff03d8eb0>,\n",
       "  <matplotlib.axis.XTick at 0x7ffff03d8e80>,\n",
       "  <matplotlib.axis.XTick at 0x7ffff03d8d00>,\n",
       "  <matplotlib.axis.XTick at 0x7ffff03a3eb0>,\n",
       "  <matplotlib.axis.XTick at 0x7ffff03b0640>,\n",
       "  <matplotlib.axis.XTick at 0x7ffff03b0d90>,\n",
       "  <matplotlib.axis.XTick at 0x7ffff03b5520>],\n",
       " [Text(0, 0, 'Mon'),\n",
       "  Text(1, 0, 'Tue'),\n",
       "  Text(2, 0, 'Wed'),\n",
       "  Text(3, 0, 'Thu'),\n",
       "  Text(4, 0, 'Fri'),\n",
       "  Text(5, 0, 'Sat'),\n",
       "  Text(6, 0, 'Sun')])"
      ]
     },
     "execution_count": 33,
     "metadata": {},
     "output_type": "execute_result"
    },
    {
     "data": {
      "image/png": "[encoded data removed]",
      "text/plain": [
       "<Figure size 432x288 with 1 Axes>"
      ]
     },
     "metadata": {
      "needs_background": "light"
     },
     "output_type": "display_data"
    }
   ],
   "source": [
    "orders_per_weekday = df.groupby(df.index.dayofweek).size()\n",
    "sns.barplot(x=orders_per_weekday.index, y=orders_per_weekday.values)\n",
    "plt.xticks(range(7), ['Mon', 'Tue', 'Wed', 'Thu', 'Fri', 'Sat', 'Sun'])"
   ]
  },
  {
   "cell_type": "code",
   "execution_count": 34,
   "metadata": {
    "execution": {
     "iopub.execute_input": "2024-05-25T06:56:27.591161Z",
     "iopub.status.busy": "2024-05-25T06:56:27.590713Z",
     "iopub.status.idle": "2024-05-25T06:56:28.290857Z",
     "shell.execute_reply": "2024-05-25T06:56:28.289545Z",
     "shell.execute_reply.started": "2024-05-25T06:56:27.591127Z"
    },
    "id": "aPAIMmR_UiEk"
   },
   "outputs": [
    {
     "data": {
      "image/png": "[encoded data removed]",
      "text/plain": [
       "<Figure size 864x432 with 1 Axes>"
      ]
     },
     "metadata": {
      "needs_background": "light"
     },
     "output_type": "display_data"
    }
   ],
   "source": [
    "# 3. effects of different times of the day\n",
    "plt.figure(figsize=(12, 6))\n",
    "df['order_hour'] = df['order_date_and_time'].dt.hour\n",
    "sns.boxplot(x='order_hour', y='order_value', data=df)\n",
    "plt.title('Order Value by Hour of the Day')\n",
    "plt.xlabel('Hour of the Day')\n",
    "plt.ylabel('Order Value')\n",
    "plt.show()"
   ]
  },
  {
   "cell_type": "code",
   "execution_count": 35,
   "metadata": {
    "execution": {
     "iopub.execute_input": "2024-05-25T06:57:10.100244Z",
     "iopub.status.busy": "2024-05-25T06:57:10.099779Z",
     "iopub.status.idle": "2024-05-25T06:57:10.110154Z",
     "shell.execute_reply": "2024-05-25T06:57:10.108587Z",
     "shell.execute_reply.started": "2024-05-25T06:57:10.100207Z"
    },
    "id": "nHLNAaQ3UiEk"
   },
   "outputs": [],
   "source": [
    "breakfast_range = (5, 11)  # 5 AM to 11 AM\n",
    "lunch_range = (11, 15)     # 11 AM to 3 PM\n",
    "dinner_range = (15, 20)    # 3 PM to 8 PM\n",
    "supper_range = (20, 5)     # 8 PM to 5 AM (next day)\n",
    "\n",
    "# map time of the day\n",
    "def categorize_time(hour):\n",
    "    if breakfast_range[0] <= hour < breakfast_range[1]:\n",
    "        return 'Breakfast'\n",
    "    elif lunch_range[0] <= hour < lunch_range[1]:\n",
    "        return 'Lunch'\n",
    "    elif dinner_range[0] <= hour < dinner_range[1]:\n",
    "        return 'Dinner'\n",
    "    else:\n",
    "        return 'Supper'"
   ]
  },
  {
   "cell_type": "code",
   "execution_count": 36,
   "metadata": {
    "execution": {
     "iopub.execute_input": "2024-05-25T06:57:59.731695Z",
     "iopub.status.busy": "2024-05-25T06:57:59.731273Z",
     "iopub.status.idle": "2024-05-25T06:58:00.111126Z",
     "shell.execute_reply": "2024-05-25T06:58:00.109745Z",
     "shell.execute_reply.started": "2024-05-25T06:57:59.731659Z"
    },
    "id": "6RC73XniUiEk"
   },
   "outputs": [
    {
     "data": {
      "image/png": "[encoded data removed]",
      "text/plain": [
       "<Figure size 432x216 with 1 Axes>"
      ]
     },
     "metadata": {
      "needs_background": "light"
     },
     "output_type": "display_data"
    }
   ],
   "source": [
    "df['time_category'] = df['order_date_and_time'].dt.hour.apply(categorize_time)\n",
    "avg_values = df.groupby('time_category').agg({'order_value': 'mean', 'profits': 'mean'}).reset_index()\n",
    "\n",
    "plt.figure(figsize=(6,3))\n",
    "sns.barplot(x='time_category', y='order_value', data=avg_values, color='skyblue', label='Avg Order Value')\n",
    "sns.barplot(x='time_category', y='profits', data=avg_values, color='orange', label='Avg Profits')\n",
    "plt.title('Average Order Value and Profits by Time Category')\n",
    "plt.ylabel('Amount')\n",
    "plt.legend()\n",
    "plt.show()"
   ]
  },
  {
   "cell_type": "code",
   "execution_count": 37,
   "metadata": {
    "execution": {
     "iopub.execute_input": "2024-05-25T07:00:58.658116Z",
     "iopub.status.busy": "2024-05-25T07:00:58.657367Z",
     "iopub.status.idle": "2024-05-25T07:00:58.942318Z",
     "shell.execute_reply": "2024-05-25T07:00:58.941092Z",
     "shell.execute_reply.started": "2024-05-25T07:00:58.658076Z"
    },
    "id": "R3j4isl6UiEk"
   },
   "outputs": [
    {
     "data": {
      "text/plain": [
       "<AxesSubplot:>"
      ]
     },
     "execution_count": 37,
     "metadata": {},
     "output_type": "execute_result"
    },
    {
     "data": {
      "image/png": "[encoded data removed]",
      "text/plain": [
       "<Figure size 432x288 with 1 Axes>"
      ]
     },
     "metadata": {
      "needs_background": "light"
     },
     "output_type": "display_data"
    }
   ],
   "source": [
    "orders_per_time_category = df['time_category'].value_counts()\n",
    "sns.barplot(x=orders_per_time_category.index, y=orders_per_time_category.values)\n"
   ]
  },
  {
   "cell_type": "markdown",
   "metadata": {
    "id": "CwOCL2_UUiEk"
   },
   "source": [
    "These findings guide commercial teams to distribute vouchers and discounts at optimal timings to maximize a chosen performance metric."
   ]
  }
 ],
 "metadata": {
  "colab": {
   "name": "Food Delivery: Timing is everything",
   "provenance": []
  },
  "kaggle": {
   "accelerator": "none",
   "dataSources": [
    {
     "datasetId": 5072200,
     "sourceId": 8499662,
     "sourceType": "datasetVersion"
    }
   ],
   "dockerImageVersionId": 30698,
   "isGpuEnabled": false,
   "isInternetEnabled": true,
   "language": "python",
   "sourceType": "notebook"
  },
  "kernelspec": {
   "display_name": "Python 3 (ipykernel)",
   "language": "python",
   "name": "python3"
  },
  "language_info": {
   "codemirror_mode": {
    "name": "ipython",
    "version": 3
   },
   "file_extension": ".py",
   "mimetype": "text/x-python",
   "name": "python",
   "nbconvert_exporter": "python",
   "pygments_lexer": "ipython3",
   "version": "3.9.7"
  }
 },
 "nbformat": 4,
 "nbformat_minor": 4
}
